{
  "cells": [
    {
      "cell_type": "code",
      "execution_count": null,
      "id": "d6b0edec-4f1d-4a83-a3e1-418c863dc18c",
      "metadata": {
        "id": "d6b0edec-4f1d-4a83-a3e1-418c863dc18c"
      },
      "outputs": [],
      "source": [
        "import pandas as pd\n",
        "import numpy as np\n",
        "from sklearn.feature_extraction.text import CountVectorizer\n",
        "import os\n",
        "from natsort import natsorted\n",
        "from gensim.utils import simple_preprocess\n",
        "from gensim.parsing.preprocessing import remove_stopwords\n",
        "from gensim.parsing.preprocessing import STOPWORDS\n",
        "from nltk.stem import WordNetLemmatizer\n",
        "from gensim.models import Word2Vec\n",
        "from sklearn.feature_extraction.text import TfidfVectorizer\n",
        "from sklearn.model_selection import GridSearchCV\n",
        "import string\n",
        "from nltk.tokenize import word_tokenize\n",
        "from nltk.util import ngrams\n",
        "import numpy as np\n",
        "from nltk.corpus import stopwords\n",
        "from sklearn.decomposition import PCA\n",
        "from sklearn.manifold import TSNE\n",
        "import matplotlib.pyplot as plt\n",
        "from gensim.models import FastText\n",
        "import matplotlib.pyplot as plt\n",
        "import os\n",
        "\n",
        "os.environ[\"DGLBACKEND\"] = \"pytorch\"\n",
        "import dgl\n",
        "import dgl.data\n",
        "import torch\n",
        "import torch.nn as nn\n",
        "import torch.nn.functional as F\n",
        "import torch_geometric\n",
        "import numpy as np\n",
        "import random\n",
        "from sklearn.linear_model import LogisticRegression\n",
        "from sklearn.model_selection import train_test_split\n",
        "from sklearn.metrics import accuracy_score\n",
        "import numpy as np\n",
        "from sklearn.metrics import mean_squared_error\n",
        "from keras.models import Sequential\n",
        "from keras.layers import LSTM, Dropout, Dense,Bidirectional\n",
        "from tensorflow.keras.regularizers import l2\n",
        "import torch\n",
        "import torch.nn as nn\n",
        "import torch.nn.functional as F\n",
        "import torch_geometric\n",
        "import numpy as np\n",
        "from numpy.linalg import norm\n",
        "from dgl.nn import GraphConv\n",
        "from IPython.display import FileLink\n"
      ]
    },
    {
      "cell_type": "code",
      "source": [
        "!pip install torch==2.2.0"
      ],
      "metadata": {
        "colab": {
          "base_uri": "https://localhost:8080/"
        },
        "collapsed": true,
        "id": "C12gXGKhfZH0",
        "outputId": "4d90d592-bea8-43e3-df6d-cc330dcb9384"
      },
      "id": "C12gXGKhfZH0",
      "execution_count": null,
      "outputs": [
        {
          "output_type": "stream",
          "name": "stdout",
          "text": [
            "Collecting torch==2.2.0\n",
            "  Downloading torch-2.2.0-cp310-cp310-manylinux1_x86_64.whl (755.5 MB)\n",
            "\u001b[2K     \u001b[90m━━━━━━━━━━━━━━━━━━━━━━━━━━━━━━━━━━━━━━━━\u001b[0m \u001b[32m755.5/755.5 MB\u001b[0m \u001b[31m1.5 MB/s\u001b[0m eta \u001b[36m0:00:00\u001b[0m\n",
            "\u001b[?25hRequirement already satisfied: filelock in /usr/local/lib/python3.10/dist-packages (from torch==2.2.0) (3.14.0)\n",
            "Requirement already satisfied: typing-extensions>=4.8.0 in /usr/local/lib/python3.10/dist-packages (from torch==2.2.0) (4.12.1)\n",
            "Requirement already satisfied: sympy in /usr/local/lib/python3.10/dist-packages (from torch==2.2.0) (1.12.1)\n",
            "Requirement already satisfied: networkx in /usr/local/lib/python3.10/dist-packages (from torch==2.2.0) (3.3)\n",
            "Requirement already satisfied: jinja2 in /usr/local/lib/python3.10/dist-packages (from torch==2.2.0) (3.1.4)\n",
            "Requirement already satisfied: fsspec in /usr/local/lib/python3.10/dist-packages (from torch==2.2.0) (2023.6.0)\n",
            "Requirement already satisfied: nvidia-cuda-nvrtc-cu12==12.1.105 in /usr/local/lib/python3.10/dist-packages (from torch==2.2.0) (12.1.105)\n",
            "Requirement already satisfied: nvidia-cuda-runtime-cu12==12.1.105 in /usr/local/lib/python3.10/dist-packages (from torch==2.2.0) (12.1.105)\n",
            "Requirement already satisfied: nvidia-cuda-cupti-cu12==12.1.105 in /usr/local/lib/python3.10/dist-packages (from torch==2.2.0) (12.1.105)\n",
            "Requirement already satisfied: nvidia-cudnn-cu12==8.9.2.26 in /usr/local/lib/python3.10/dist-packages (from torch==2.2.0) (8.9.2.26)\n",
            "Requirement already satisfied: nvidia-cublas-cu12==12.1.3.1 in /usr/local/lib/python3.10/dist-packages (from torch==2.2.0) (12.1.3.1)\n",
            "Requirement already satisfied: nvidia-cufft-cu12==11.0.2.54 in /usr/local/lib/python3.10/dist-packages (from torch==2.2.0) (11.0.2.54)\n",
            "Requirement already satisfied: nvidia-curand-cu12==10.3.2.106 in /usr/local/lib/python3.10/dist-packages (from torch==2.2.0) (10.3.2.106)\n",
            "Requirement already satisfied: nvidia-cusolver-cu12==11.4.5.107 in /usr/local/lib/python3.10/dist-packages (from torch==2.2.0) (11.4.5.107)\n",
            "Requirement already satisfied: nvidia-cusparse-cu12==12.1.0.106 in /usr/local/lib/python3.10/dist-packages (from torch==2.2.0) (12.1.0.106)\n",
            "Collecting nvidia-nccl-cu12==2.19.3 (from torch==2.2.0)\n",
            "  Downloading nvidia_nccl_cu12-2.19.3-py3-none-manylinux1_x86_64.whl (166.0 MB)\n",
            "\u001b[2K     \u001b[90m━━━━━━━━━━━━━━━━━━━━━━━━━━━━━━━━━━━━━━━━\u001b[0m \u001b[32m166.0/166.0 MB\u001b[0m \u001b[31m2.5 MB/s\u001b[0m eta \u001b[36m0:00:00\u001b[0m\n",
            "\u001b[?25hRequirement already satisfied: nvidia-nvtx-cu12==12.1.105 in /usr/local/lib/python3.10/dist-packages (from torch==2.2.0) (12.1.105)\n",
            "Collecting triton==2.2.0 (from torch==2.2.0)\n",
            "  Downloading triton-2.2.0-cp310-cp310-manylinux_2_17_x86_64.manylinux2014_x86_64.whl (167.9 MB)\n",
            "\u001b[2K     \u001b[90m━━━━━━━━━━━━━━━━━━━━━━━━━━━━━━━━━━━━━━━━\u001b[0m \u001b[32m167.9/167.9 MB\u001b[0m \u001b[31m5.9 MB/s\u001b[0m eta \u001b[36m0:00:00\u001b[0m\n",
            "\u001b[?25hRequirement already satisfied: nvidia-nvjitlink-cu12 in /usr/local/lib/python3.10/dist-packages (from nvidia-cusolver-cu12==11.4.5.107->torch==2.2.0) (12.5.40)\n",
            "Requirement already satisfied: MarkupSafe>=2.0 in /usr/local/lib/python3.10/dist-packages (from jinja2->torch==2.2.0) (2.1.5)\n",
            "Requirement already satisfied: mpmath<1.4.0,>=1.1.0 in /usr/local/lib/python3.10/dist-packages (from sympy->torch==2.2.0) (1.3.0)\n",
            "Installing collected packages: triton, nvidia-nccl-cu12, torch\n",
            "  Attempting uninstall: triton\n",
            "    Found existing installation: triton 2.3.0\n",
            "    Uninstalling triton-2.3.0:\n",
            "      Successfully uninstalled triton-2.3.0\n",
            "  Attempting uninstall: nvidia-nccl-cu12\n",
            "    Found existing installation: nvidia-nccl-cu12 2.20.5\n",
            "    Uninstalling nvidia-nccl-cu12-2.20.5:\n",
            "      Successfully uninstalled nvidia-nccl-cu12-2.20.5\n",
            "  Attempting uninstall: torch\n",
            "    Found existing installation: torch 2.3.0+cu121\n",
            "    Uninstalling torch-2.3.0+cu121:\n",
            "      Successfully uninstalled torch-2.3.0+cu121\n",
            "\u001b[31mERROR: pip's dependency resolver does not currently take into account all the packages that are installed. This behaviour is the source of the following dependency conflicts.\n",
            "torchaudio 2.3.0+cu121 requires torch==2.3.0, but you have torch 2.2.0 which is incompatible.\n",
            "torchtext 0.18.0 requires torch>=2.3.0, but you have torch 2.2.0 which is incompatible.\n",
            "torchvision 0.18.0+cu121 requires torch==2.3.0, but you have torch 2.2.0 which is incompatible.\u001b[0m\u001b[31m\n",
            "\u001b[0mSuccessfully installed nvidia-nccl-cu12-2.19.3 torch-2.2.0 triton-2.2.0\n"
          ]
        }
      ]
    },
    {
      "cell_type": "code",
      "source": [
        "!pip install dgl torch_geometric tensorflow"
      ],
      "metadata": {
        "id": "yOd8xS9zuuJz",
        "outputId": "a6fc2752-d065-4350-cb02-c5f0926d7f9c",
        "colab": {
          "base_uri": "https://localhost:8080/"
        },
        "collapsed": true
      },
      "id": "yOd8xS9zuuJz",
      "execution_count": null,
      "outputs": [
        {
          "output_type": "stream",
          "name": "stdout",
          "text": [
            "Collecting dgl\n",
            "  Downloading dgl-2.1.0-cp310-cp310-manylinux1_x86_64.whl (8.5 MB)\n",
            "\u001b[2K     \u001b[90m━━━━━━━━━━━━━━━━━━━━━━━━━━━━━━━━━━━━━━━━\u001b[0m \u001b[32m8.5/8.5 MB\u001b[0m \u001b[31m18.0 MB/s\u001b[0m eta \u001b[36m0:00:00\u001b[0m\n",
            "\u001b[?25hCollecting torch_geometric\n",
            "  Downloading torch_geometric-2.5.3-py3-none-any.whl (1.1 MB)\n",
            "\u001b[2K     \u001b[90m━━━━━━━━━━━━━━━━━━━━━━━━━━━━━━━━━━━━━━━━\u001b[0m \u001b[32m1.1/1.1 MB\u001b[0m \u001b[31m22.9 MB/s\u001b[0m eta \u001b[36m0:00:00\u001b[0m\n",
            "\u001b[?25hRequirement already satisfied: tensorflow in /usr/local/lib/python3.10/dist-packages (2.15.0)\n",
            "Requirement already satisfied: numpy>=1.14.0 in /usr/local/lib/python3.10/dist-packages (from dgl) (1.25.2)\n",
            "Requirement already satisfied: scipy>=1.1.0 in /usr/local/lib/python3.10/dist-packages (from dgl) (1.11.4)\n",
            "Requirement already satisfied: networkx>=2.1 in /usr/local/lib/python3.10/dist-packages (from dgl) (3.3)\n",
            "Requirement already satisfied: requests>=2.19.0 in /usr/local/lib/python3.10/dist-packages (from dgl) (2.31.0)\n",
            "Requirement already satisfied: tqdm in /usr/local/lib/python3.10/dist-packages (from dgl) (4.66.4)\n",
            "Requirement already satisfied: psutil>=5.8.0 in /usr/local/lib/python3.10/dist-packages (from dgl) (5.9.5)\n",
            "Collecting torchdata>=0.5.0 (from dgl)\n",
            "  Downloading torchdata-0.7.1-cp310-cp310-manylinux_2_17_x86_64.manylinux2014_x86_64.whl (4.7 MB)\n",
            "\u001b[2K     \u001b[90m━━━━━━━━━━━━━━━━━━━━━━━━━━━━━━━━━━━━━━━━\u001b[0m \u001b[32m4.7/4.7 MB\u001b[0m \u001b[31m28.3 MB/s\u001b[0m eta \u001b[36m0:00:00\u001b[0m\n",
            "\u001b[?25hRequirement already satisfied: fsspec in /usr/local/lib/python3.10/dist-packages (from torch_geometric) (2023.6.0)\n",
            "Requirement already satisfied: jinja2 in /usr/local/lib/python3.10/dist-packages (from torch_geometric) (3.1.4)\n",
            "Requirement already satisfied: aiohttp in /usr/local/lib/python3.10/dist-packages (from torch_geometric) (3.9.5)\n",
            "Requirement already satisfied: pyparsing in /usr/local/lib/python3.10/dist-packages (from torch_geometric) (3.1.2)\n",
            "Requirement already satisfied: scikit-learn in /usr/local/lib/python3.10/dist-packages (from torch_geometric) (1.2.2)\n",
            "Requirement already satisfied: absl-py>=1.0.0 in /usr/local/lib/python3.10/dist-packages (from tensorflow) (1.4.0)\n",
            "Requirement already satisfied: astunparse>=1.6.0 in /usr/local/lib/python3.10/dist-packages (from tensorflow) (1.6.3)\n",
            "Requirement already satisfied: flatbuffers>=23.5.26 in /usr/local/lib/python3.10/dist-packages (from tensorflow) (24.3.25)\n",
            "Requirement already satisfied: gast!=0.5.0,!=0.5.1,!=0.5.2,>=0.2.1 in /usr/local/lib/python3.10/dist-packages (from tensorflow) (0.5.4)\n",
            "Requirement already satisfied: google-pasta>=0.1.1 in /usr/local/lib/python3.10/dist-packages (from tensorflow) (0.2.0)\n",
            "Requirement already satisfied: h5py>=2.9.0 in /usr/local/lib/python3.10/dist-packages (from tensorflow) (3.9.0)\n",
            "Requirement already satisfied: libclang>=13.0.0 in /usr/local/lib/python3.10/dist-packages (from tensorflow) (18.1.1)\n",
            "Requirement already satisfied: ml-dtypes~=0.2.0 in /usr/local/lib/python3.10/dist-packages (from tensorflow) (0.2.0)\n",
            "Requirement already satisfied: opt-einsum>=2.3.2 in /usr/local/lib/python3.10/dist-packages (from tensorflow) (3.3.0)\n",
            "Requirement already satisfied: packaging in /usr/local/lib/python3.10/dist-packages (from tensorflow) (24.0)\n",
            "Requirement already satisfied: protobuf!=4.21.0,!=4.21.1,!=4.21.2,!=4.21.3,!=4.21.4,!=4.21.5,<5.0.0dev,>=3.20.3 in /usr/local/lib/python3.10/dist-packages (from tensorflow) (3.20.3)\n",
            "Requirement already satisfied: setuptools in /usr/local/lib/python3.10/dist-packages (from tensorflow) (67.7.2)\n",
            "Requirement already satisfied: six>=1.12.0 in /usr/local/lib/python3.10/dist-packages (from tensorflow) (1.16.0)\n",
            "Requirement already satisfied: termcolor>=1.1.0 in /usr/local/lib/python3.10/dist-packages (from tensorflow) (2.4.0)\n",
            "Requirement already satisfied: typing-extensions>=3.6.6 in /usr/local/lib/python3.10/dist-packages (from tensorflow) (4.12.1)\n",
            "Requirement already satisfied: wrapt<1.15,>=1.11.0 in /usr/local/lib/python3.10/dist-packages (from tensorflow) (1.14.1)\n",
            "Requirement already satisfied: tensorflow-io-gcs-filesystem>=0.23.1 in /usr/local/lib/python3.10/dist-packages (from tensorflow) (0.37.0)\n",
            "Requirement already satisfied: grpcio<2.0,>=1.24.3 in /usr/local/lib/python3.10/dist-packages (from tensorflow) (1.64.1)\n",
            "Requirement already satisfied: tensorboard<2.16,>=2.15 in /usr/local/lib/python3.10/dist-packages (from tensorflow) (2.15.2)\n",
            "Requirement already satisfied: tensorflow-estimator<2.16,>=2.15.0 in /usr/local/lib/python3.10/dist-packages (from tensorflow) (2.15.0)\n",
            "Requirement already satisfied: keras<2.16,>=2.15.0 in /usr/local/lib/python3.10/dist-packages (from tensorflow) (2.15.0)\n",
            "Requirement already satisfied: wheel<1.0,>=0.23.0 in /usr/local/lib/python3.10/dist-packages (from astunparse>=1.6.0->tensorflow) (0.43.0)\n",
            "Requirement already satisfied: charset-normalizer<4,>=2 in /usr/local/lib/python3.10/dist-packages (from requests>=2.19.0->dgl) (3.3.2)\n",
            "Requirement already satisfied: idna<4,>=2.5 in /usr/local/lib/python3.10/dist-packages (from requests>=2.19.0->dgl) (3.7)\n",
            "Requirement already satisfied: urllib3<3,>=1.21.1 in /usr/local/lib/python3.10/dist-packages (from requests>=2.19.0->dgl) (2.0.7)\n",
            "Requirement already satisfied: certifi>=2017.4.17 in /usr/local/lib/python3.10/dist-packages (from requests>=2.19.0->dgl) (2024.6.2)\n",
            "Requirement already satisfied: google-auth<3,>=1.6.3 in /usr/local/lib/python3.10/dist-packages (from tensorboard<2.16,>=2.15->tensorflow) (2.27.0)\n",
            "Requirement already satisfied: google-auth-oauthlib<2,>=0.5 in /usr/local/lib/python3.10/dist-packages (from tensorboard<2.16,>=2.15->tensorflow) (1.2.0)\n",
            "Requirement already satisfied: markdown>=2.6.8 in /usr/local/lib/python3.10/dist-packages (from tensorboard<2.16,>=2.15->tensorflow) (3.6)\n",
            "Requirement already satisfied: tensorboard-data-server<0.8.0,>=0.7.0 in /usr/local/lib/python3.10/dist-packages (from tensorboard<2.16,>=2.15->tensorflow) (0.7.2)\n",
            "Requirement already satisfied: werkzeug>=1.0.1 in /usr/local/lib/python3.10/dist-packages (from tensorboard<2.16,>=2.15->tensorflow) (3.0.3)\n",
            "Requirement already satisfied: torch>=2 in /usr/local/lib/python3.10/dist-packages (from torchdata>=0.5.0->dgl) (2.3.0+cu121)\n",
            "Requirement already satisfied: aiosignal>=1.1.2 in /usr/local/lib/python3.10/dist-packages (from aiohttp->torch_geometric) (1.3.1)\n",
            "Requirement already satisfied: attrs>=17.3.0 in /usr/local/lib/python3.10/dist-packages (from aiohttp->torch_geometric) (23.2.0)\n",
            "Requirement already satisfied: frozenlist>=1.1.1 in /usr/local/lib/python3.10/dist-packages (from aiohttp->torch_geometric) (1.4.1)\n",
            "Requirement already satisfied: multidict<7.0,>=4.5 in /usr/local/lib/python3.10/dist-packages (from aiohttp->torch_geometric) (6.0.5)\n",
            "Requirement already satisfied: yarl<2.0,>=1.0 in /usr/local/lib/python3.10/dist-packages (from aiohttp->torch_geometric) (1.9.4)\n",
            "Requirement already satisfied: async-timeout<5.0,>=4.0 in /usr/local/lib/python3.10/dist-packages (from aiohttp->torch_geometric) (4.0.3)\n",
            "Requirement already satisfied: MarkupSafe>=2.0 in /usr/local/lib/python3.10/dist-packages (from jinja2->torch_geometric) (2.1.5)\n",
            "Requirement already satisfied: joblib>=1.1.1 in /usr/local/lib/python3.10/dist-packages (from scikit-learn->torch_geometric) (1.4.2)\n",
            "Requirement already satisfied: threadpoolctl>=2.0.0 in /usr/local/lib/python3.10/dist-packages (from scikit-learn->torch_geometric) (3.5.0)\n",
            "Requirement already satisfied: cachetools<6.0,>=2.0.0 in /usr/local/lib/python3.10/dist-packages (from google-auth<3,>=1.6.3->tensorboard<2.16,>=2.15->tensorflow) (5.3.3)\n",
            "Requirement already satisfied: pyasn1-modules>=0.2.1 in /usr/local/lib/python3.10/dist-packages (from google-auth<3,>=1.6.3->tensorboard<2.16,>=2.15->tensorflow) (0.4.0)\n",
            "Requirement already satisfied: rsa<5,>=3.1.4 in /usr/local/lib/python3.10/dist-packages (from google-auth<3,>=1.6.3->tensorboard<2.16,>=2.15->tensorflow) (4.9)\n",
            "Requirement already satisfied: requests-oauthlib>=0.7.0 in /usr/local/lib/python3.10/dist-packages (from google-auth-oauthlib<2,>=0.5->tensorboard<2.16,>=2.15->tensorflow) (1.3.1)\n",
            "Requirement already satisfied: filelock in /usr/local/lib/python3.10/dist-packages (from torch>=2->torchdata>=0.5.0->dgl) (3.14.0)\n",
            "Requirement already satisfied: sympy in /usr/local/lib/python3.10/dist-packages (from torch>=2->torchdata>=0.5.0->dgl) (1.12.1)\n",
            "Collecting nvidia-cuda-nvrtc-cu12==12.1.105 (from torch>=2->torchdata>=0.5.0->dgl)\n",
            "  Using cached nvidia_cuda_nvrtc_cu12-12.1.105-py3-none-manylinux1_x86_64.whl (23.7 MB)\n",
            "Collecting nvidia-cuda-runtime-cu12==12.1.105 (from torch>=2->torchdata>=0.5.0->dgl)\n",
            "  Using cached nvidia_cuda_runtime_cu12-12.1.105-py3-none-manylinux1_x86_64.whl (823 kB)\n",
            "Collecting nvidia-cuda-cupti-cu12==12.1.105 (from torch>=2->torchdata>=0.5.0->dgl)\n",
            "  Using cached nvidia_cuda_cupti_cu12-12.1.105-py3-none-manylinux1_x86_64.whl (14.1 MB)\n",
            "Collecting nvidia-cudnn-cu12==8.9.2.26 (from torch>=2->torchdata>=0.5.0->dgl)\n",
            "  Using cached nvidia_cudnn_cu12-8.9.2.26-py3-none-manylinux1_x86_64.whl (731.7 MB)\n",
            "Collecting nvidia-cublas-cu12==12.1.3.1 (from torch>=2->torchdata>=0.5.0->dgl)\n",
            "  Using cached nvidia_cublas_cu12-12.1.3.1-py3-none-manylinux1_x86_64.whl (410.6 MB)\n",
            "Collecting nvidia-cufft-cu12==11.0.2.54 (from torch>=2->torchdata>=0.5.0->dgl)\n",
            "  Using cached nvidia_cufft_cu12-11.0.2.54-py3-none-manylinux1_x86_64.whl (121.6 MB)\n",
            "Collecting nvidia-curand-cu12==10.3.2.106 (from torch>=2->torchdata>=0.5.0->dgl)\n",
            "  Using cached nvidia_curand_cu12-10.3.2.106-py3-none-manylinux1_x86_64.whl (56.5 MB)\n",
            "Collecting nvidia-cusolver-cu12==11.4.5.107 (from torch>=2->torchdata>=0.5.0->dgl)\n",
            "  Using cached nvidia_cusolver_cu12-11.4.5.107-py3-none-manylinux1_x86_64.whl (124.2 MB)\n",
            "Collecting nvidia-cusparse-cu12==12.1.0.106 (from torch>=2->torchdata>=0.5.0->dgl)\n",
            "  Using cached nvidia_cusparse_cu12-12.1.0.106-py3-none-manylinux1_x86_64.whl (196.0 MB)\n",
            "Collecting nvidia-nccl-cu12==2.20.5 (from torch>=2->torchdata>=0.5.0->dgl)\n",
            "  Using cached nvidia_nccl_cu12-2.20.5-py3-none-manylinux2014_x86_64.whl (176.2 MB)\n",
            "Collecting nvidia-nvtx-cu12==12.1.105 (from torch>=2->torchdata>=0.5.0->dgl)\n",
            "  Using cached nvidia_nvtx_cu12-12.1.105-py3-none-manylinux1_x86_64.whl (99 kB)\n",
            "Requirement already satisfied: triton==2.3.0 in /usr/local/lib/python3.10/dist-packages (from torch>=2->torchdata>=0.5.0->dgl) (2.3.0)\n",
            "Collecting nvidia-nvjitlink-cu12 (from nvidia-cusolver-cu12==11.4.5.107->torch>=2->torchdata>=0.5.0->dgl)\n",
            "  Downloading nvidia_nvjitlink_cu12-12.5.40-py3-none-manylinux2014_x86_64.whl (21.3 MB)\n",
            "\u001b[2K     \u001b[90m━━━━━━━━━━━━━━━━━━━━━━━━━━━━━━━━━━━━━━━━\u001b[0m \u001b[32m21.3/21.3 MB\u001b[0m \u001b[31m31.8 MB/s\u001b[0m eta \u001b[36m0:00:00\u001b[0m\n",
            "\u001b[?25hRequirement already satisfied: pyasn1<0.7.0,>=0.4.6 in /usr/local/lib/python3.10/dist-packages (from pyasn1-modules>=0.2.1->google-auth<3,>=1.6.3->tensorboard<2.16,>=2.15->tensorflow) (0.6.0)\n",
            "Requirement already satisfied: oauthlib>=3.0.0 in /usr/local/lib/python3.10/dist-packages (from requests-oauthlib>=0.7.0->google-auth-oauthlib<2,>=0.5->tensorboard<2.16,>=2.15->tensorflow) (3.2.2)\n",
            "Requirement already satisfied: mpmath<1.4.0,>=1.1.0 in /usr/local/lib/python3.10/dist-packages (from sympy->torch>=2->torchdata>=0.5.0->dgl) (1.3.0)\n",
            "Installing collected packages: nvidia-nvtx-cu12, nvidia-nvjitlink-cu12, nvidia-nccl-cu12, nvidia-curand-cu12, nvidia-cufft-cu12, nvidia-cuda-runtime-cu12, nvidia-cuda-nvrtc-cu12, nvidia-cuda-cupti-cu12, nvidia-cublas-cu12, nvidia-cusparse-cu12, nvidia-cudnn-cu12, torch_geometric, nvidia-cusolver-cu12, torchdata, dgl\n",
            "Successfully installed dgl-2.1.0 nvidia-cublas-cu12-12.1.3.1 nvidia-cuda-cupti-cu12-12.1.105 nvidia-cuda-nvrtc-cu12-12.1.105 nvidia-cuda-runtime-cu12-12.1.105 nvidia-cudnn-cu12-8.9.2.26 nvidia-cufft-cu12-11.0.2.54 nvidia-curand-cu12-10.3.2.106 nvidia-cusolver-cu12-11.4.5.107 nvidia-cusparse-cu12-12.1.0.106 nvidia-nccl-cu12-2.20.5 nvidia-nvjitlink-cu12-12.5.40 nvidia-nvtx-cu12-12.1.105 torch_geometric-2.5.3 torchdata-0.7.1\n"
          ]
        }
      ]
    },
    {
      "cell_type": "code",
      "execution_count": null,
      "id": "7f9cc503-d869-486a-bde1-b0872d692955",
      "metadata": {
        "id": "7f9cc503-d869-486a-bde1-b0872d692955"
      },
      "outputs": [],
      "source": [
        "image_features=pd.read_csv('/content/Image_features_Resenet .csv')\n",
        "\n",
        "image_features.drop(['Unnamed: 0'],axis=1,inplace=True)"
      ]
    },
    {
      "cell_type": "code",
      "execution_count": null,
      "id": "a12d5c34-df37-460e-aea4-c4918baec35f",
      "metadata": {
        "id": "a12d5c34-df37-460e-aea4-c4918baec35f"
      },
      "outputs": [],
      "source": [
        "text_features=pd.read_csv('/content/Text_features_TFIDF.csv')\n",
        "\n",
        "text_features.drop(['Unnamed: 0','index'],axis=1,inplace=True)"
      ]
    },
    {
      "cell_type": "code",
      "execution_count": null,
      "id": "ada2a103-3061-49c3-8620-a84a0e1f7af5",
      "metadata": {
        "id": "ada2a103-3061-49c3-8620-a84a0e1f7af5",
        "outputId": "d15f4036-0712-49ac-d1f0-2bac6ca729df",
        "colab": {
          "base_uri": "https://localhost:8080/",
          "height": 444
        }
      },
      "outputs": [
        {
          "output_type": "execute_result",
          "data": {
            "text/plain": [
              "            0    1         2    3    4    5    6         7    8    9  ...  \\\n",
              "0    0.000000  0.0  0.000000  0.0  0.0  0.0  0.0  0.174921  0.0  0.0  ...   \n",
              "1    0.106144  0.0  0.000000  0.0  0.0  0.0  0.0  0.000000  0.0  0.0  ...   \n",
              "2    0.000000  0.0  0.000000  0.0  0.0  0.0  0.0  0.000000  0.0  0.0  ...   \n",
              "3    0.000000  0.0  0.000000  0.0  0.0  0.0  0.0  0.000000  0.0  0.0  ...   \n",
              "4    0.000000  0.0  0.000000  0.0  0.0  0.0  0.0  0.000000  0.0  0.0  ...   \n",
              "..        ...  ...       ...  ...  ...  ...  ...       ...  ...  ...  ...   \n",
              "101  0.000000  0.0  0.000000  0.0  0.0  0.0  0.0  0.000000  0.0  0.0  ...   \n",
              "102  0.000000  0.0  0.000000  0.0  0.0  0.0  0.0  0.000000  0.0  0.0  ...   \n",
              "103  0.000000  0.0  0.000000  0.0  0.0  0.0  0.0  0.000000  0.0  0.0  ...   \n",
              "104  0.000000  0.0  0.000000  0.0  0.0  0.0  0.0  0.000000  0.0  0.0  ...   \n",
              "105  0.000000  0.0  0.136018  0.0  0.0  0.0  0.0  0.000000  0.0  0.0  ...   \n",
              "\n",
              "     1502  1503  1504      1505      1506  1507  1508  1509      1510  1511  \n",
              "0     0.0   0.0   0.0  0.000000  0.000000   0.0   0.0   0.0  0.000000   0.0  \n",
              "1     0.0   0.0   0.0  0.106144  0.000000   0.0   0.0   0.0  0.083384   0.0  \n",
              "2     0.0   0.0   0.0  0.000000  0.000000   0.0   0.0   0.0  0.000000   0.0  \n",
              "3     0.0   0.0   0.0  0.000000  0.000000   0.0   0.0   0.0  0.000000   0.0  \n",
              "4     0.0   0.0   0.0  0.000000  0.000000   0.0   0.0   0.0  0.000000   0.0  \n",
              "..    ...   ...   ...       ...       ...   ...   ...   ...       ...   ...  \n",
              "101   0.0   0.0   0.0  0.000000  0.112708   0.0   0.0   0.0  0.000000   0.0  \n",
              "102   0.0   0.0   0.0  0.000000  0.000000   0.0   0.0   0.0  0.000000   0.0  \n",
              "103   0.0   0.0   0.0  0.000000  0.000000   0.0   0.0   0.0  0.000000   0.0  \n",
              "104   0.0   0.0   0.0  0.000000  0.000000   0.0   0.0   0.0  0.000000   0.0  \n",
              "105   0.0   0.0   0.0  0.000000  0.000000   0.0   0.0   0.0  0.000000   0.0  \n",
              "\n",
              "[106 rows x 1512 columns]"
            ],
            "text/html": [
              "\n",
              "  <div id=\"df-6e8d2073-eb1e-46f6-8de4-74a6ed069f8d\" class=\"colab-df-container\">\n",
              "    <div>\n",
              "<style scoped>\n",
              "    .dataframe tbody tr th:only-of-type {\n",
              "        vertical-align: middle;\n",
              "    }\n",
              "\n",
              "    .dataframe tbody tr th {\n",
              "        vertical-align: top;\n",
              "    }\n",
              "\n",
              "    .dataframe thead th {\n",
              "        text-align: right;\n",
              "    }\n",
              "</style>\n",
              "<table border=\"1\" class=\"dataframe\">\n",
              "  <thead>\n",
              "    <tr style=\"text-align: right;\">\n",
              "      <th></th>\n",
              "      <th>0</th>\n",
              "      <th>1</th>\n",
              "      <th>2</th>\n",
              "      <th>3</th>\n",
              "      <th>4</th>\n",
              "      <th>5</th>\n",
              "      <th>6</th>\n",
              "      <th>7</th>\n",
              "      <th>8</th>\n",
              "      <th>9</th>\n",
              "      <th>...</th>\n",
              "      <th>1502</th>\n",
              "      <th>1503</th>\n",
              "      <th>1504</th>\n",
              "      <th>1505</th>\n",
              "      <th>1506</th>\n",
              "      <th>1507</th>\n",
              "      <th>1508</th>\n",
              "      <th>1509</th>\n",
              "      <th>1510</th>\n",
              "      <th>1511</th>\n",
              "    </tr>\n",
              "  </thead>\n",
              "  <tbody>\n",
              "    <tr>\n",
              "      <th>0</th>\n",
              "      <td>0.000000</td>\n",
              "      <td>0.0</td>\n",
              "      <td>0.000000</td>\n",
              "      <td>0.0</td>\n",
              "      <td>0.0</td>\n",
              "      <td>0.0</td>\n",
              "      <td>0.0</td>\n",
              "      <td>0.174921</td>\n",
              "      <td>0.0</td>\n",
              "      <td>0.0</td>\n",
              "      <td>...</td>\n",
              "      <td>0.0</td>\n",
              "      <td>0.0</td>\n",
              "      <td>0.0</td>\n",
              "      <td>0.000000</td>\n",
              "      <td>0.000000</td>\n",
              "      <td>0.0</td>\n",
              "      <td>0.0</td>\n",
              "      <td>0.0</td>\n",
              "      <td>0.000000</td>\n",
              "      <td>0.0</td>\n",
              "    </tr>\n",
              "    <tr>\n",
              "      <th>1</th>\n",
              "      <td>0.106144</td>\n",
              "      <td>0.0</td>\n",
              "      <td>0.000000</td>\n",
              "      <td>0.0</td>\n",
              "      <td>0.0</td>\n",
              "      <td>0.0</td>\n",
              "      <td>0.0</td>\n",
              "      <td>0.000000</td>\n",
              "      <td>0.0</td>\n",
              "      <td>0.0</td>\n",
              "      <td>...</td>\n",
              "      <td>0.0</td>\n",
              "      <td>0.0</td>\n",
              "      <td>0.0</td>\n",
              "      <td>0.106144</td>\n",
              "      <td>0.000000</td>\n",
              "      <td>0.0</td>\n",
              "      <td>0.0</td>\n",
              "      <td>0.0</td>\n",
              "      <td>0.083384</td>\n",
              "      <td>0.0</td>\n",
              "    </tr>\n",
              "    <tr>\n",
              "      <th>2</th>\n",
              "      <td>0.000000</td>\n",
              "      <td>0.0</td>\n",
              "      <td>0.000000</td>\n",
              "      <td>0.0</td>\n",
              "      <td>0.0</td>\n",
              "      <td>0.0</td>\n",
              "      <td>0.0</td>\n",
              "      <td>0.000000</td>\n",
              "      <td>0.0</td>\n",
              "      <td>0.0</td>\n",
              "      <td>...</td>\n",
              "      <td>0.0</td>\n",
              "      <td>0.0</td>\n",
              "      <td>0.0</td>\n",
              "      <td>0.000000</td>\n",
              "      <td>0.000000</td>\n",
              "      <td>0.0</td>\n",
              "      <td>0.0</td>\n",
              "      <td>0.0</td>\n",
              "      <td>0.000000</td>\n",
              "      <td>0.0</td>\n",
              "    </tr>\n",
              "    <tr>\n",
              "      <th>3</th>\n",
              "      <td>0.000000</td>\n",
              "      <td>0.0</td>\n",
              "      <td>0.000000</td>\n",
              "      <td>0.0</td>\n",
              "      <td>0.0</td>\n",
              "      <td>0.0</td>\n",
              "      <td>0.0</td>\n",
              "      <td>0.000000</td>\n",
              "      <td>0.0</td>\n",
              "      <td>0.0</td>\n",
              "      <td>...</td>\n",
              "      <td>0.0</td>\n",
              "      <td>0.0</td>\n",
              "      <td>0.0</td>\n",
              "      <td>0.000000</td>\n",
              "      <td>0.000000</td>\n",
              "      <td>0.0</td>\n",
              "      <td>0.0</td>\n",
              "      <td>0.0</td>\n",
              "      <td>0.000000</td>\n",
              "      <td>0.0</td>\n",
              "    </tr>\n",
              "    <tr>\n",
              "      <th>4</th>\n",
              "      <td>0.000000</td>\n",
              "      <td>0.0</td>\n",
              "      <td>0.000000</td>\n",
              "      <td>0.0</td>\n",
              "      <td>0.0</td>\n",
              "      <td>0.0</td>\n",
              "      <td>0.0</td>\n",
              "      <td>0.000000</td>\n",
              "      <td>0.0</td>\n",
              "      <td>0.0</td>\n",
              "      <td>...</td>\n",
              "      <td>0.0</td>\n",
              "      <td>0.0</td>\n",
              "      <td>0.0</td>\n",
              "      <td>0.000000</td>\n",
              "      <td>0.000000</td>\n",
              "      <td>0.0</td>\n",
              "      <td>0.0</td>\n",
              "      <td>0.0</td>\n",
              "      <td>0.000000</td>\n",
              "      <td>0.0</td>\n",
              "    </tr>\n",
              "    <tr>\n",
              "      <th>...</th>\n",
              "      <td>...</td>\n",
              "      <td>...</td>\n",
              "      <td>...</td>\n",
              "      <td>...</td>\n",
              "      <td>...</td>\n",
              "      <td>...</td>\n",
              "      <td>...</td>\n",
              "      <td>...</td>\n",
              "      <td>...</td>\n",
              "      <td>...</td>\n",
              "      <td>...</td>\n",
              "      <td>...</td>\n",
              "      <td>...</td>\n",
              "      <td>...</td>\n",
              "      <td>...</td>\n",
              "      <td>...</td>\n",
              "      <td>...</td>\n",
              "      <td>...</td>\n",
              "      <td>...</td>\n",
              "      <td>...</td>\n",
              "      <td>...</td>\n",
              "    </tr>\n",
              "    <tr>\n",
              "      <th>101</th>\n",
              "      <td>0.000000</td>\n",
              "      <td>0.0</td>\n",
              "      <td>0.000000</td>\n",
              "      <td>0.0</td>\n",
              "      <td>0.0</td>\n",
              "      <td>0.0</td>\n",
              "      <td>0.0</td>\n",
              "      <td>0.000000</td>\n",
              "      <td>0.0</td>\n",
              "      <td>0.0</td>\n",
              "      <td>...</td>\n",
              "      <td>0.0</td>\n",
              "      <td>0.0</td>\n",
              "      <td>0.0</td>\n",
              "      <td>0.000000</td>\n",
              "      <td>0.112708</td>\n",
              "      <td>0.0</td>\n",
              "      <td>0.0</td>\n",
              "      <td>0.0</td>\n",
              "      <td>0.000000</td>\n",
              "      <td>0.0</td>\n",
              "    </tr>\n",
              "    <tr>\n",
              "      <th>102</th>\n",
              "      <td>0.000000</td>\n",
              "      <td>0.0</td>\n",
              "      <td>0.000000</td>\n",
              "      <td>0.0</td>\n",
              "      <td>0.0</td>\n",
              "      <td>0.0</td>\n",
              "      <td>0.0</td>\n",
              "      <td>0.000000</td>\n",
              "      <td>0.0</td>\n",
              "      <td>0.0</td>\n",
              "      <td>...</td>\n",
              "      <td>0.0</td>\n",
              "      <td>0.0</td>\n",
              "      <td>0.0</td>\n",
              "      <td>0.000000</td>\n",
              "      <td>0.000000</td>\n",
              "      <td>0.0</td>\n",
              "      <td>0.0</td>\n",
              "      <td>0.0</td>\n",
              "      <td>0.000000</td>\n",
              "      <td>0.0</td>\n",
              "    </tr>\n",
              "    <tr>\n",
              "      <th>103</th>\n",
              "      <td>0.000000</td>\n",
              "      <td>0.0</td>\n",
              "      <td>0.000000</td>\n",
              "      <td>0.0</td>\n",
              "      <td>0.0</td>\n",
              "      <td>0.0</td>\n",
              "      <td>0.0</td>\n",
              "      <td>0.000000</td>\n",
              "      <td>0.0</td>\n",
              "      <td>0.0</td>\n",
              "      <td>...</td>\n",
              "      <td>0.0</td>\n",
              "      <td>0.0</td>\n",
              "      <td>0.0</td>\n",
              "      <td>0.000000</td>\n",
              "      <td>0.000000</td>\n",
              "      <td>0.0</td>\n",
              "      <td>0.0</td>\n",
              "      <td>0.0</td>\n",
              "      <td>0.000000</td>\n",
              "      <td>0.0</td>\n",
              "    </tr>\n",
              "    <tr>\n",
              "      <th>104</th>\n",
              "      <td>0.000000</td>\n",
              "      <td>0.0</td>\n",
              "      <td>0.000000</td>\n",
              "      <td>0.0</td>\n",
              "      <td>0.0</td>\n",
              "      <td>0.0</td>\n",
              "      <td>0.0</td>\n",
              "      <td>0.000000</td>\n",
              "      <td>0.0</td>\n",
              "      <td>0.0</td>\n",
              "      <td>...</td>\n",
              "      <td>0.0</td>\n",
              "      <td>0.0</td>\n",
              "      <td>0.0</td>\n",
              "      <td>0.000000</td>\n",
              "      <td>0.000000</td>\n",
              "      <td>0.0</td>\n",
              "      <td>0.0</td>\n",
              "      <td>0.0</td>\n",
              "      <td>0.000000</td>\n",
              "      <td>0.0</td>\n",
              "    </tr>\n",
              "    <tr>\n",
              "      <th>105</th>\n",
              "      <td>0.000000</td>\n",
              "      <td>0.0</td>\n",
              "      <td>0.136018</td>\n",
              "      <td>0.0</td>\n",
              "      <td>0.0</td>\n",
              "      <td>0.0</td>\n",
              "      <td>0.0</td>\n",
              "      <td>0.000000</td>\n",
              "      <td>0.0</td>\n",
              "      <td>0.0</td>\n",
              "      <td>...</td>\n",
              "      <td>0.0</td>\n",
              "      <td>0.0</td>\n",
              "      <td>0.0</td>\n",
              "      <td>0.000000</td>\n",
              "      <td>0.000000</td>\n",
              "      <td>0.0</td>\n",
              "      <td>0.0</td>\n",
              "      <td>0.0</td>\n",
              "      <td>0.000000</td>\n",
              "      <td>0.0</td>\n",
              "    </tr>\n",
              "  </tbody>\n",
              "</table>\n",
              "<p>106 rows × 1512 columns</p>\n",
              "</div>\n",
              "    <div class=\"colab-df-buttons\">\n",
              "\n",
              "  <div class=\"colab-df-container\">\n",
              "    <button class=\"colab-df-convert\" onclick=\"convertToInteractive('df-6e8d2073-eb1e-46f6-8de4-74a6ed069f8d')\"\n",
              "            title=\"Convert this dataframe to an interactive table.\"\n",
              "            style=\"display:none;\">\n",
              "\n",
              "  <svg xmlns=\"http://www.w3.org/2000/svg\" height=\"24px\" viewBox=\"0 -960 960 960\">\n",
              "    <path d=\"M120-120v-720h720v720H120Zm60-500h600v-160H180v160Zm220 220h160v-160H400v160Zm0 220h160v-160H400v160ZM180-400h160v-160H180v160Zm440 0h160v-160H620v160ZM180-180h160v-160H180v160Zm440 0h160v-160H620v160Z\"/>\n",
              "  </svg>\n",
              "    </button>\n",
              "\n",
              "  <style>\n",
              "    .colab-df-container {\n",
              "      display:flex;\n",
              "      gap: 12px;\n",
              "    }\n",
              "\n",
              "    .colab-df-convert {\n",
              "      background-color: #E8F0FE;\n",
              "      border: none;\n",
              "      border-radius: 50%;\n",
              "      cursor: pointer;\n",
              "      display: none;\n",
              "      fill: #1967D2;\n",
              "      height: 32px;\n",
              "      padding: 0 0 0 0;\n",
              "      width: 32px;\n",
              "    }\n",
              "\n",
              "    .colab-df-convert:hover {\n",
              "      background-color: #E2EBFA;\n",
              "      box-shadow: 0px 1px 2px rgba(60, 64, 67, 0.3), 0px 1px 3px 1px rgba(60, 64, 67, 0.15);\n",
              "      fill: #174EA6;\n",
              "    }\n",
              "\n",
              "    .colab-df-buttons div {\n",
              "      margin-bottom: 4px;\n",
              "    }\n",
              "\n",
              "    [theme=dark] .colab-df-convert {\n",
              "      background-color: #3B4455;\n",
              "      fill: #D2E3FC;\n",
              "    }\n",
              "\n",
              "    [theme=dark] .colab-df-convert:hover {\n",
              "      background-color: #434B5C;\n",
              "      box-shadow: 0px 1px 3px 1px rgba(0, 0, 0, 0.15);\n",
              "      filter: drop-shadow(0px 1px 2px rgba(0, 0, 0, 0.3));\n",
              "      fill: #FFFFFF;\n",
              "    }\n",
              "  </style>\n",
              "\n",
              "    <script>\n",
              "      const buttonEl =\n",
              "        document.querySelector('#df-6e8d2073-eb1e-46f6-8de4-74a6ed069f8d button.colab-df-convert');\n",
              "      buttonEl.style.display =\n",
              "        google.colab.kernel.accessAllowed ? 'block' : 'none';\n",
              "\n",
              "      async function convertToInteractive(key) {\n",
              "        const element = document.querySelector('#df-6e8d2073-eb1e-46f6-8de4-74a6ed069f8d');\n",
              "        const dataTable =\n",
              "          await google.colab.kernel.invokeFunction('convertToInteractive',\n",
              "                                                    [key], {});\n",
              "        if (!dataTable) return;\n",
              "\n",
              "        const docLinkHtml = 'Like what you see? Visit the ' +\n",
              "          '<a target=\"_blank\" href=https://colab.research.google.com/notebooks/data_table.ipynb>data table notebook</a>'\n",
              "          + ' to learn more about interactive tables.';\n",
              "        element.innerHTML = '';\n",
              "        dataTable['output_type'] = 'display_data';\n",
              "        await google.colab.output.renderOutput(dataTable, element);\n",
              "        const docLink = document.createElement('div');\n",
              "        docLink.innerHTML = docLinkHtml;\n",
              "        element.appendChild(docLink);\n",
              "      }\n",
              "    </script>\n",
              "  </div>\n",
              "\n",
              "\n",
              "<div id=\"df-1074f3ee-1bf7-49fe-bb01-28c0f72dfbd0\">\n",
              "  <button class=\"colab-df-quickchart\" onclick=\"quickchart('df-1074f3ee-1bf7-49fe-bb01-28c0f72dfbd0')\"\n",
              "            title=\"Suggest charts\"\n",
              "            style=\"display:none;\">\n",
              "\n",
              "<svg xmlns=\"http://www.w3.org/2000/svg\" height=\"24px\"viewBox=\"0 0 24 24\"\n",
              "     width=\"24px\">\n",
              "    <g>\n",
              "        <path d=\"M19 3H5c-1.1 0-2 .9-2 2v14c0 1.1.9 2 2 2h14c1.1 0 2-.9 2-2V5c0-1.1-.9-2-2-2zM9 17H7v-7h2v7zm4 0h-2V7h2v10zm4 0h-2v-4h2v4z\"/>\n",
              "    </g>\n",
              "</svg>\n",
              "  </button>\n",
              "\n",
              "<style>\n",
              "  .colab-df-quickchart {\n",
              "      --bg-color: #E8F0FE;\n",
              "      --fill-color: #1967D2;\n",
              "      --hover-bg-color: #E2EBFA;\n",
              "      --hover-fill-color: #174EA6;\n",
              "      --disabled-fill-color: #AAA;\n",
              "      --disabled-bg-color: #DDD;\n",
              "  }\n",
              "\n",
              "  [theme=dark] .colab-df-quickchart {\n",
              "      --bg-color: #3B4455;\n",
              "      --fill-color: #D2E3FC;\n",
              "      --hover-bg-color: #434B5C;\n",
              "      --hover-fill-color: #FFFFFF;\n",
              "      --disabled-bg-color: #3B4455;\n",
              "      --disabled-fill-color: #666;\n",
              "  }\n",
              "\n",
              "  .colab-df-quickchart {\n",
              "    background-color: var(--bg-color);\n",
              "    border: none;\n",
              "    border-radius: 50%;\n",
              "    cursor: pointer;\n",
              "    display: none;\n",
              "    fill: var(--fill-color);\n",
              "    height: 32px;\n",
              "    padding: 0;\n",
              "    width: 32px;\n",
              "  }\n",
              "\n",
              "  .colab-df-quickchart:hover {\n",
              "    background-color: var(--hover-bg-color);\n",
              "    box-shadow: 0 1px 2px rgba(60, 64, 67, 0.3), 0 1px 3px 1px rgba(60, 64, 67, 0.15);\n",
              "    fill: var(--button-hover-fill-color);\n",
              "  }\n",
              "\n",
              "  .colab-df-quickchart-complete:disabled,\n",
              "  .colab-df-quickchart-complete:disabled:hover {\n",
              "    background-color: var(--disabled-bg-color);\n",
              "    fill: var(--disabled-fill-color);\n",
              "    box-shadow: none;\n",
              "  }\n",
              "\n",
              "  .colab-df-spinner {\n",
              "    border: 2px solid var(--fill-color);\n",
              "    border-color: transparent;\n",
              "    border-bottom-color: var(--fill-color);\n",
              "    animation:\n",
              "      spin 1s steps(1) infinite;\n",
              "  }\n",
              "\n",
              "  @keyframes spin {\n",
              "    0% {\n",
              "      border-color: transparent;\n",
              "      border-bottom-color: var(--fill-color);\n",
              "      border-left-color: var(--fill-color);\n",
              "    }\n",
              "    20% {\n",
              "      border-color: transparent;\n",
              "      border-left-color: var(--fill-color);\n",
              "      border-top-color: var(--fill-color);\n",
              "    }\n",
              "    30% {\n",
              "      border-color: transparent;\n",
              "      border-left-color: var(--fill-color);\n",
              "      border-top-color: var(--fill-color);\n",
              "      border-right-color: var(--fill-color);\n",
              "    }\n",
              "    40% {\n",
              "      border-color: transparent;\n",
              "      border-right-color: var(--fill-color);\n",
              "      border-top-color: var(--fill-color);\n",
              "    }\n",
              "    60% {\n",
              "      border-color: transparent;\n",
              "      border-right-color: var(--fill-color);\n",
              "    }\n",
              "    80% {\n",
              "      border-color: transparent;\n",
              "      border-right-color: var(--fill-color);\n",
              "      border-bottom-color: var(--fill-color);\n",
              "    }\n",
              "    90% {\n",
              "      border-color: transparent;\n",
              "      border-bottom-color: var(--fill-color);\n",
              "    }\n",
              "  }\n",
              "</style>\n",
              "\n",
              "  <script>\n",
              "    async function quickchart(key) {\n",
              "      const quickchartButtonEl =\n",
              "        document.querySelector('#' + key + ' button');\n",
              "      quickchartButtonEl.disabled = true;  // To prevent multiple clicks.\n",
              "      quickchartButtonEl.classList.add('colab-df-spinner');\n",
              "      try {\n",
              "        const charts = await google.colab.kernel.invokeFunction(\n",
              "            'suggestCharts', [key], {});\n",
              "      } catch (error) {\n",
              "        console.error('Error during call to suggestCharts:', error);\n",
              "      }\n",
              "      quickchartButtonEl.classList.remove('colab-df-spinner');\n",
              "      quickchartButtonEl.classList.add('colab-df-quickchart-complete');\n",
              "    }\n",
              "    (() => {\n",
              "      let quickchartButtonEl =\n",
              "        document.querySelector('#df-1074f3ee-1bf7-49fe-bb01-28c0f72dfbd0 button');\n",
              "      quickchartButtonEl.style.display =\n",
              "        google.colab.kernel.accessAllowed ? 'block' : 'none';\n",
              "    })();\n",
              "  </script>\n",
              "</div>\n",
              "\n",
              "  <div id=\"id_8861595f-d097-45ec-b80b-5d4297789df4\">\n",
              "    <style>\n",
              "      .colab-df-generate {\n",
              "        background-color: #E8F0FE;\n",
              "        border: none;\n",
              "        border-radius: 50%;\n",
              "        cursor: pointer;\n",
              "        display: none;\n",
              "        fill: #1967D2;\n",
              "        height: 32px;\n",
              "        padding: 0 0 0 0;\n",
              "        width: 32px;\n",
              "      }\n",
              "\n",
              "      .colab-df-generate:hover {\n",
              "        background-color: #E2EBFA;\n",
              "        box-shadow: 0px 1px 2px rgba(60, 64, 67, 0.3), 0px 1px 3px 1px rgba(60, 64, 67, 0.15);\n",
              "        fill: #174EA6;\n",
              "      }\n",
              "\n",
              "      [theme=dark] .colab-df-generate {\n",
              "        background-color: #3B4455;\n",
              "        fill: #D2E3FC;\n",
              "      }\n",
              "\n",
              "      [theme=dark] .colab-df-generate:hover {\n",
              "        background-color: #434B5C;\n",
              "        box-shadow: 0px 1px 3px 1px rgba(0, 0, 0, 0.15);\n",
              "        filter: drop-shadow(0px 1px 2px rgba(0, 0, 0, 0.3));\n",
              "        fill: #FFFFFF;\n",
              "      }\n",
              "    </style>\n",
              "    <button class=\"colab-df-generate\" onclick=\"generateWithVariable('text_features')\"\n",
              "            title=\"Generate code using this dataframe.\"\n",
              "            style=\"display:none;\">\n",
              "\n",
              "  <svg xmlns=\"http://www.w3.org/2000/svg\" height=\"24px\"viewBox=\"0 0 24 24\"\n",
              "       width=\"24px\">\n",
              "    <path d=\"M7,19H8.4L18.45,9,17,7.55,7,17.6ZM5,21V16.75L18.45,3.32a2,2,0,0,1,2.83,0l1.4,1.43a1.91,1.91,0,0,1,.58,1.4,1.91,1.91,0,0,1-.58,1.4L9.25,21ZM18.45,9,17,7.55Zm-12,3A5.31,5.31,0,0,0,4.9,8.1,5.31,5.31,0,0,0,1,6.5,5.31,5.31,0,0,0,4.9,4.9,5.31,5.31,0,0,0,6.5,1,5.31,5.31,0,0,0,8.1,4.9,5.31,5.31,0,0,0,12,6.5,5.46,5.46,0,0,0,6.5,12Z\"/>\n",
              "  </svg>\n",
              "    </button>\n",
              "    <script>\n",
              "      (() => {\n",
              "      const buttonEl =\n",
              "        document.querySelector('#id_8861595f-d097-45ec-b80b-5d4297789df4 button.colab-df-generate');\n",
              "      buttonEl.style.display =\n",
              "        google.colab.kernel.accessAllowed ? 'block' : 'none';\n",
              "\n",
              "      buttonEl.onclick = () => {\n",
              "        google.colab.notebook.generateWithVariable('text_features');\n",
              "      }\n",
              "      })();\n",
              "    </script>\n",
              "  </div>\n",
              "\n",
              "    </div>\n",
              "  </div>\n"
            ],
            "application/vnd.google.colaboratory.intrinsic+json": {
              "type": "dataframe",
              "variable_name": "text_features"
            }
          },
          "metadata": {},
          "execution_count": 6
        }
      ],
      "source": [
        "text_features"
      ]
    },
    {
      "cell_type": "code",
      "execution_count": null,
      "id": "e87dfff5-f518-4535-8d6a-503b7f790ce2",
      "metadata": {
        "id": "e87dfff5-f518-4535-8d6a-503b7f790ce2"
      },
      "outputs": [],
      "source": [
        "MM= pd.concat([text_features,image_features], axis=1)\n",
        "X_train=MM.values"
      ]
    },
    {
      "cell_type": "code",
      "execution_count": null,
      "id": "4fa8a498-9258-430c-a575-0558b31e0502",
      "metadata": {
        "id": "4fa8a498-9258-430c-a575-0558b31e0502",
        "outputId": "56878e44-c657-4fc7-c696-6bad215b4f54",
        "colab": {
          "base_uri": "https://localhost:8080/"
        }
      },
      "outputs": [
        {
          "output_type": "execute_result",
          "data": {
            "text/plain": [
              "(106, 1611)"
            ]
          },
          "metadata": {},
          "execution_count": 8
        }
      ],
      "source": [
        "X_train.shape"
      ]
    },
    {
      "cell_type": "code",
      "execution_count": null,
      "id": "04d07bfc-a3b8-47c5-9efa-a0a6c8429b2b",
      "metadata": {
        "id": "04d07bfc-a3b8-47c5-9efa-a0a6c8429b2b"
      },
      "outputs": [],
      "source": [
        "X_train_df=pd.DataFrame(X_train)\n",
        "X_train_df_copy=X_train_df.copy()\n",
        "X_train_df.reset_index(inplace=True)\n",
        "\n",
        "\n",
        "Src_ID=[i for i in range(0,106) for _ in range(0,105-i)]\n",
        "Dst_ID=[i for i in range(0,106) for i in range(1+i,106)]\n",
        "elements_to_repeat=X_train.tolist()\n",
        "repetition_counts=[105-i for i in range(0,105)]\n",
        "\n",
        "Src_feature=[]\n",
        "for element, count in zip(elements_to_repeat, repetition_counts):\n",
        "    Src_feature.extend([element] * count)\n",
        "\n",
        "Dst_feature=[]\n",
        "for i in range(1,106):\n",
        "    for j in range(i,106):\n",
        "        Dst_feature.append(X_train.tolist()[j])\n",
        "\n",
        "Nodes_Data=pd.DataFrame()\n",
        "Nodes_Data['Id']=[i for i in range(0,106)]\n",
        "labels = pd.read_csv(\"/content/AnimalLabels.csv\")\n",
        "labels['majority_vote'] = labels.mode(axis=1, numeric_only=True).astype(int)\n",
        "Nodes_Data['features']=X_train.tolist()\n",
        "Nodes_Data['label']=labels['majority_vote']\n",
        "\n",
        "dup=[0 for i in range(0,106)]\n",
        "Edge=pd.DataFrame()\n",
        "Edge['Src Id']=Src_ID\n",
        "Edge['Src_feature']=Src_feature\n",
        "Edge['Dst_feature']=Dst_feature\n",
        "Edge['Dst Id']=Dst_ID\n",
        "\n",
        "\n",
        "Src_Ids=[i for i in range(0,106) for _ in range(0,106)]\n",
        "Dst_Ids = [i % 106 for i in range(106 * 106)]\n",
        "Src_features=[X_train.tolist()[i] for i in range(0,106)  for i in range(0,106)]\n",
        "elements_to_repeat=X_train.tolist()\n",
        "repetition_counts=[106 for i in range(0,106)]\n",
        "Dst_features=[]\n",
        "for element, count in zip(elements_to_repeat, repetition_counts):\n",
        "    Dst_features.extend([element] * count)\n",
        "\n",
        "Edge_Data=pd.DataFrame()\n",
        "Edge_Data['Src Ids']=Src_Ids\n",
        "Edge_Data['Src_features']=Src_features\n",
        "Edge_Data['Dst_features']=Dst_features\n",
        "Edge_Data['Dst Ids']=Dst_Ids\n",
        "\n",
        "edge_weight=[]\n",
        "for i in range(0,5565):\n",
        "    A=np.array(Edge['Src_feature'][i])\n",
        "    B=np.array(Edge['Dst_feature'][i])\n",
        "    Cosine_similarity=np.dot(A,B)/(norm(A)*norm(B))\n",
        "    edge_weight.append(Cosine_similarity)\n",
        "\n",
        "for i in range(len(edge_weight)):\n",
        "    if edge_weight[i]<0:\n",
        "        edge_weight[i]=0\n",
        "\n",
        "Edge['edge weights']=edge_weight\n",
        "\n",
        "\n",
        "edge_weights=[]\n",
        "for i in range(0,11236):\n",
        "    A=np.array(Edge_Data['Src_features'][i])\n",
        "    B=np.array(Edge_Data['Dst_features'][i])\n",
        "    Cosine_similarity=np.dot(A,B)/(norm(A)*norm(B))\n",
        "    edge_weights.append(Cosine_similarity)\n",
        "\n",
        "Edge_Data['edge weights']=edge_weights"
      ]
    },
    {
      "cell_type": "code",
      "source": [
        "Edge_Data"
      ],
      "metadata": {
        "id": "gEhjcqG4_p2s",
        "outputId": "9910bd78-e95e-4486-b1d4-1e8a34c47b39",
        "colab": {
          "base_uri": "https://localhost:8080/",
          "height": 424
        }
      },
      "id": "gEhjcqG4_p2s",
      "execution_count": null,
      "outputs": [
        {
          "output_type": "execute_result",
          "data": {
            "text/plain": [
              "       Src Ids                                       Src_features  \\\n",
              "0            0  [0.0, 0.0, 0.0, 0.0, 0.0, 0.0, 0.0, 0.17492131...   \n",
              "1            0  [0.1061435016965765, 0.0, 0.0, 0.0, 0.0, 0.0, ...   \n",
              "2            0  [0.0, 0.0, 0.0, 0.0, 0.0, 0.0, 0.0, 0.0, 0.0, ...   \n",
              "3            0  [0.0, 0.0, 0.0, 0.0, 0.0, 0.0, 0.0, 0.0, 0.0, ...   \n",
              "4            0  [0.0, 0.0, 0.0, 0.0, 0.0, 0.0, 0.0, 0.0, 0.0, ...   \n",
              "...        ...                                                ...   \n",
              "11231      105  [0.0, 0.0, 0.0, 0.0, 0.0, 0.0, 0.0, 0.0, 0.0, ...   \n",
              "11232      105  [0.0, 0.0, 0.0, 0.0, 0.0, 0.0, 0.0, 0.0, 0.0, ...   \n",
              "11233      105  [0.0, 0.0, 0.0, 0.0, 0.0, 0.0, 0.0, 0.0, 0.0, ...   \n",
              "11234      105  [0.0, 0.0, 0.0, 0.0, 0.0, 0.0, 0.0, 0.0, 0.0, ...   \n",
              "11235      105  [0.0, 0.0, 0.1360179704673559, 0.0, 0.0, 0.0, ...   \n",
              "\n",
              "                                            Dst_features  Dst Ids  \\\n",
              "0      [0.0, 0.0, 0.0, 0.0, 0.0, 0.0, 0.0, 0.17492131...        0   \n",
              "1      [0.0, 0.0, 0.0, 0.0, 0.0, 0.0, 0.0, 0.17492131...        1   \n",
              "2      [0.0, 0.0, 0.0, 0.0, 0.0, 0.0, 0.0, 0.17492131...        2   \n",
              "3      [0.0, 0.0, 0.0, 0.0, 0.0, 0.0, 0.0, 0.17492131...        3   \n",
              "4      [0.0, 0.0, 0.0, 0.0, 0.0, 0.0, 0.0, 0.17492131...        4   \n",
              "...                                                  ...      ...   \n",
              "11231  [0.0, 0.0, 0.1360179704673559, 0.0, 0.0, 0.0, ...      101   \n",
              "11232  [0.0, 0.0, 0.1360179704673559, 0.0, 0.0, 0.0, ...      102   \n",
              "11233  [0.0, 0.0, 0.1360179704673559, 0.0, 0.0, 0.0, ...      103   \n",
              "11234  [0.0, 0.0, 0.1360179704673559, 0.0, 0.0, 0.0, ...      104   \n",
              "11235  [0.0, 0.0, 0.1360179704673559, 0.0, 0.0, 0.0, ...      105   \n",
              "\n",
              "       edge weights  \n",
              "0          1.000000  \n",
              "1          0.319884  \n",
              "2          0.226208  \n",
              "3          0.013315  \n",
              "4          0.201822  \n",
              "...             ...  \n",
              "11231      0.170433  \n",
              "11232      0.261438  \n",
              "11233      0.220768  \n",
              "11234      0.256403  \n",
              "11235      1.000000  \n",
              "\n",
              "[11236 rows x 5 columns]"
            ],
            "text/html": [
              "\n",
              "  <div id=\"df-4c165202-56a7-47d5-a6d1-fb7f1afe3fc8\" class=\"colab-df-container\">\n",
              "    <div>\n",
              "<style scoped>\n",
              "    .dataframe tbody tr th:only-of-type {\n",
              "        vertical-align: middle;\n",
              "    }\n",
              "\n",
              "    .dataframe tbody tr th {\n",
              "        vertical-align: top;\n",
              "    }\n",
              "\n",
              "    .dataframe thead th {\n",
              "        text-align: right;\n",
              "    }\n",
              "</style>\n",
              "<table border=\"1\" class=\"dataframe\">\n",
              "  <thead>\n",
              "    <tr style=\"text-align: right;\">\n",
              "      <th></th>\n",
              "      <th>Src Ids</th>\n",
              "      <th>Src_features</th>\n",
              "      <th>Dst_features</th>\n",
              "      <th>Dst Ids</th>\n",
              "      <th>edge weights</th>\n",
              "    </tr>\n",
              "  </thead>\n",
              "  <tbody>\n",
              "    <tr>\n",
              "      <th>0</th>\n",
              "      <td>0</td>\n",
              "      <td>[0.0, 0.0, 0.0, 0.0, 0.0, 0.0, 0.0, 0.17492131...</td>\n",
              "      <td>[0.0, 0.0, 0.0, 0.0, 0.0, 0.0, 0.0, 0.17492131...</td>\n",
              "      <td>0</td>\n",
              "      <td>1.000000</td>\n",
              "    </tr>\n",
              "    <tr>\n",
              "      <th>1</th>\n",
              "      <td>0</td>\n",
              "      <td>[0.1061435016965765, 0.0, 0.0, 0.0, 0.0, 0.0, ...</td>\n",
              "      <td>[0.0, 0.0, 0.0, 0.0, 0.0, 0.0, 0.0, 0.17492131...</td>\n",
              "      <td>1</td>\n",
              "      <td>0.319884</td>\n",
              "    </tr>\n",
              "    <tr>\n",
              "      <th>2</th>\n",
              "      <td>0</td>\n",
              "      <td>[0.0, 0.0, 0.0, 0.0, 0.0, 0.0, 0.0, 0.0, 0.0, ...</td>\n",
              "      <td>[0.0, 0.0, 0.0, 0.0, 0.0, 0.0, 0.0, 0.17492131...</td>\n",
              "      <td>2</td>\n",
              "      <td>0.226208</td>\n",
              "    </tr>\n",
              "    <tr>\n",
              "      <th>3</th>\n",
              "      <td>0</td>\n",
              "      <td>[0.0, 0.0, 0.0, 0.0, 0.0, 0.0, 0.0, 0.0, 0.0, ...</td>\n",
              "      <td>[0.0, 0.0, 0.0, 0.0, 0.0, 0.0, 0.0, 0.17492131...</td>\n",
              "      <td>3</td>\n",
              "      <td>0.013315</td>\n",
              "    </tr>\n",
              "    <tr>\n",
              "      <th>4</th>\n",
              "      <td>0</td>\n",
              "      <td>[0.0, 0.0, 0.0, 0.0, 0.0, 0.0, 0.0, 0.0, 0.0, ...</td>\n",
              "      <td>[0.0, 0.0, 0.0, 0.0, 0.0, 0.0, 0.0, 0.17492131...</td>\n",
              "      <td>4</td>\n",
              "      <td>0.201822</td>\n",
              "    </tr>\n",
              "    <tr>\n",
              "      <th>...</th>\n",
              "      <td>...</td>\n",
              "      <td>...</td>\n",
              "      <td>...</td>\n",
              "      <td>...</td>\n",
              "      <td>...</td>\n",
              "    </tr>\n",
              "    <tr>\n",
              "      <th>11231</th>\n",
              "      <td>105</td>\n",
              "      <td>[0.0, 0.0, 0.0, 0.0, 0.0, 0.0, 0.0, 0.0, 0.0, ...</td>\n",
              "      <td>[0.0, 0.0, 0.1360179704673559, 0.0, 0.0, 0.0, ...</td>\n",
              "      <td>101</td>\n",
              "      <td>0.170433</td>\n",
              "    </tr>\n",
              "    <tr>\n",
              "      <th>11232</th>\n",
              "      <td>105</td>\n",
              "      <td>[0.0, 0.0, 0.0, 0.0, 0.0, 0.0, 0.0, 0.0, 0.0, ...</td>\n",
              "      <td>[0.0, 0.0, 0.1360179704673559, 0.0, 0.0, 0.0, ...</td>\n",
              "      <td>102</td>\n",
              "      <td>0.261438</td>\n",
              "    </tr>\n",
              "    <tr>\n",
              "      <th>11233</th>\n",
              "      <td>105</td>\n",
              "      <td>[0.0, 0.0, 0.0, 0.0, 0.0, 0.0, 0.0, 0.0, 0.0, ...</td>\n",
              "      <td>[0.0, 0.0, 0.1360179704673559, 0.0, 0.0, 0.0, ...</td>\n",
              "      <td>103</td>\n",
              "      <td>0.220768</td>\n",
              "    </tr>\n",
              "    <tr>\n",
              "      <th>11234</th>\n",
              "      <td>105</td>\n",
              "      <td>[0.0, 0.0, 0.0, 0.0, 0.0, 0.0, 0.0, 0.0, 0.0, ...</td>\n",
              "      <td>[0.0, 0.0, 0.1360179704673559, 0.0, 0.0, 0.0, ...</td>\n",
              "      <td>104</td>\n",
              "      <td>0.256403</td>\n",
              "    </tr>\n",
              "    <tr>\n",
              "      <th>11235</th>\n",
              "      <td>105</td>\n",
              "      <td>[0.0, 0.0, 0.1360179704673559, 0.0, 0.0, 0.0, ...</td>\n",
              "      <td>[0.0, 0.0, 0.1360179704673559, 0.0, 0.0, 0.0, ...</td>\n",
              "      <td>105</td>\n",
              "      <td>1.000000</td>\n",
              "    </tr>\n",
              "  </tbody>\n",
              "</table>\n",
              "<p>11236 rows × 5 columns</p>\n",
              "</div>\n",
              "    <div class=\"colab-df-buttons\">\n",
              "\n",
              "  <div class=\"colab-df-container\">\n",
              "    <button class=\"colab-df-convert\" onclick=\"convertToInteractive('df-4c165202-56a7-47d5-a6d1-fb7f1afe3fc8')\"\n",
              "            title=\"Convert this dataframe to an interactive table.\"\n",
              "            style=\"display:none;\">\n",
              "\n",
              "  <svg xmlns=\"http://www.w3.org/2000/svg\" height=\"24px\" viewBox=\"0 -960 960 960\">\n",
              "    <path d=\"M120-120v-720h720v720H120Zm60-500h600v-160H180v160Zm220 220h160v-160H400v160Zm0 220h160v-160H400v160ZM180-400h160v-160H180v160Zm440 0h160v-160H620v160ZM180-180h160v-160H180v160Zm440 0h160v-160H620v160Z\"/>\n",
              "  </svg>\n",
              "    </button>\n",
              "\n",
              "  <style>\n",
              "    .colab-df-container {\n",
              "      display:flex;\n",
              "      gap: 12px;\n",
              "    }\n",
              "\n",
              "    .colab-df-convert {\n",
              "      background-color: #E8F0FE;\n",
              "      border: none;\n",
              "      border-radius: 50%;\n",
              "      cursor: pointer;\n",
              "      display: none;\n",
              "      fill: #1967D2;\n",
              "      height: 32px;\n",
              "      padding: 0 0 0 0;\n",
              "      width: 32px;\n",
              "    }\n",
              "\n",
              "    .colab-df-convert:hover {\n",
              "      background-color: #E2EBFA;\n",
              "      box-shadow: 0px 1px 2px rgba(60, 64, 67, 0.3), 0px 1px 3px 1px rgba(60, 64, 67, 0.15);\n",
              "      fill: #174EA6;\n",
              "    }\n",
              "\n",
              "    .colab-df-buttons div {\n",
              "      margin-bottom: 4px;\n",
              "    }\n",
              "\n",
              "    [theme=dark] .colab-df-convert {\n",
              "      background-color: #3B4455;\n",
              "      fill: #D2E3FC;\n",
              "    }\n",
              "\n",
              "    [theme=dark] .colab-df-convert:hover {\n",
              "      background-color: #434B5C;\n",
              "      box-shadow: 0px 1px 3px 1px rgba(0, 0, 0, 0.15);\n",
              "      filter: drop-shadow(0px 1px 2px rgba(0, 0, 0, 0.3));\n",
              "      fill: #FFFFFF;\n",
              "    }\n",
              "  </style>\n",
              "\n",
              "    <script>\n",
              "      const buttonEl =\n",
              "        document.querySelector('#df-4c165202-56a7-47d5-a6d1-fb7f1afe3fc8 button.colab-df-convert');\n",
              "      buttonEl.style.display =\n",
              "        google.colab.kernel.accessAllowed ? 'block' : 'none';\n",
              "\n",
              "      async function convertToInteractive(key) {\n",
              "        const element = document.querySelector('#df-4c165202-56a7-47d5-a6d1-fb7f1afe3fc8');\n",
              "        const dataTable =\n",
              "          await google.colab.kernel.invokeFunction('convertToInteractive',\n",
              "                                                    [key], {});\n",
              "        if (!dataTable) return;\n",
              "\n",
              "        const docLinkHtml = 'Like what you see? Visit the ' +\n",
              "          '<a target=\"_blank\" href=https://colab.research.google.com/notebooks/data_table.ipynb>data table notebook</a>'\n",
              "          + ' to learn more about interactive tables.';\n",
              "        element.innerHTML = '';\n",
              "        dataTable['output_type'] = 'display_data';\n",
              "        await google.colab.output.renderOutput(dataTable, element);\n",
              "        const docLink = document.createElement('div');\n",
              "        docLink.innerHTML = docLinkHtml;\n",
              "        element.appendChild(docLink);\n",
              "      }\n",
              "    </script>\n",
              "  </div>\n",
              "\n",
              "\n",
              "<div id=\"df-e4688927-e24e-47ab-b2ad-7d3470a776ef\">\n",
              "  <button class=\"colab-df-quickchart\" onclick=\"quickchart('df-e4688927-e24e-47ab-b2ad-7d3470a776ef')\"\n",
              "            title=\"Suggest charts\"\n",
              "            style=\"display:none;\">\n",
              "\n",
              "<svg xmlns=\"http://www.w3.org/2000/svg\" height=\"24px\"viewBox=\"0 0 24 24\"\n",
              "     width=\"24px\">\n",
              "    <g>\n",
              "        <path d=\"M19 3H5c-1.1 0-2 .9-2 2v14c0 1.1.9 2 2 2h14c1.1 0 2-.9 2-2V5c0-1.1-.9-2-2-2zM9 17H7v-7h2v7zm4 0h-2V7h2v10zm4 0h-2v-4h2v4z\"/>\n",
              "    </g>\n",
              "</svg>\n",
              "  </button>\n",
              "\n",
              "<style>\n",
              "  .colab-df-quickchart {\n",
              "      --bg-color: #E8F0FE;\n",
              "      --fill-color: #1967D2;\n",
              "      --hover-bg-color: #E2EBFA;\n",
              "      --hover-fill-color: #174EA6;\n",
              "      --disabled-fill-color: #AAA;\n",
              "      --disabled-bg-color: #DDD;\n",
              "  }\n",
              "\n",
              "  [theme=dark] .colab-df-quickchart {\n",
              "      --bg-color: #3B4455;\n",
              "      --fill-color: #D2E3FC;\n",
              "      --hover-bg-color: #434B5C;\n",
              "      --hover-fill-color: #FFFFFF;\n",
              "      --disabled-bg-color: #3B4455;\n",
              "      --disabled-fill-color: #666;\n",
              "  }\n",
              "\n",
              "  .colab-df-quickchart {\n",
              "    background-color: var(--bg-color);\n",
              "    border: none;\n",
              "    border-radius: 50%;\n",
              "    cursor: pointer;\n",
              "    display: none;\n",
              "    fill: var(--fill-color);\n",
              "    height: 32px;\n",
              "    padding: 0;\n",
              "    width: 32px;\n",
              "  }\n",
              "\n",
              "  .colab-df-quickchart:hover {\n",
              "    background-color: var(--hover-bg-color);\n",
              "    box-shadow: 0 1px 2px rgba(60, 64, 67, 0.3), 0 1px 3px 1px rgba(60, 64, 67, 0.15);\n",
              "    fill: var(--button-hover-fill-color);\n",
              "  }\n",
              "\n",
              "  .colab-df-quickchart-complete:disabled,\n",
              "  .colab-df-quickchart-complete:disabled:hover {\n",
              "    background-color: var(--disabled-bg-color);\n",
              "    fill: var(--disabled-fill-color);\n",
              "    box-shadow: none;\n",
              "  }\n",
              "\n",
              "  .colab-df-spinner {\n",
              "    border: 2px solid var(--fill-color);\n",
              "    border-color: transparent;\n",
              "    border-bottom-color: var(--fill-color);\n",
              "    animation:\n",
              "      spin 1s steps(1) infinite;\n",
              "  }\n",
              "\n",
              "  @keyframes spin {\n",
              "    0% {\n",
              "      border-color: transparent;\n",
              "      border-bottom-color: var(--fill-color);\n",
              "      border-left-color: var(--fill-color);\n",
              "    }\n",
              "    20% {\n",
              "      border-color: transparent;\n",
              "      border-left-color: var(--fill-color);\n",
              "      border-top-color: var(--fill-color);\n",
              "    }\n",
              "    30% {\n",
              "      border-color: transparent;\n",
              "      border-left-color: var(--fill-color);\n",
              "      border-top-color: var(--fill-color);\n",
              "      border-right-color: var(--fill-color);\n",
              "    }\n",
              "    40% {\n",
              "      border-color: transparent;\n",
              "      border-right-color: var(--fill-color);\n",
              "      border-top-color: var(--fill-color);\n",
              "    }\n",
              "    60% {\n",
              "      border-color: transparent;\n",
              "      border-right-color: var(--fill-color);\n",
              "    }\n",
              "    80% {\n",
              "      border-color: transparent;\n",
              "      border-right-color: var(--fill-color);\n",
              "      border-bottom-color: var(--fill-color);\n",
              "    }\n",
              "    90% {\n",
              "      border-color: transparent;\n",
              "      border-bottom-color: var(--fill-color);\n",
              "    }\n",
              "  }\n",
              "</style>\n",
              "\n",
              "  <script>\n",
              "    async function quickchart(key) {\n",
              "      const quickchartButtonEl =\n",
              "        document.querySelector('#' + key + ' button');\n",
              "      quickchartButtonEl.disabled = true;  // To prevent multiple clicks.\n",
              "      quickchartButtonEl.classList.add('colab-df-spinner');\n",
              "      try {\n",
              "        const charts = await google.colab.kernel.invokeFunction(\n",
              "            'suggestCharts', [key], {});\n",
              "      } catch (error) {\n",
              "        console.error('Error during call to suggestCharts:', error);\n",
              "      }\n",
              "      quickchartButtonEl.classList.remove('colab-df-spinner');\n",
              "      quickchartButtonEl.classList.add('colab-df-quickchart-complete');\n",
              "    }\n",
              "    (() => {\n",
              "      let quickchartButtonEl =\n",
              "        document.querySelector('#df-e4688927-e24e-47ab-b2ad-7d3470a776ef button');\n",
              "      quickchartButtonEl.style.display =\n",
              "        google.colab.kernel.accessAllowed ? 'block' : 'none';\n",
              "    })();\n",
              "  </script>\n",
              "</div>\n",
              "\n",
              "  <div id=\"id_60510409-39bc-42ce-ad21-440ceb6ba935\">\n",
              "    <style>\n",
              "      .colab-df-generate {\n",
              "        background-color: #E8F0FE;\n",
              "        border: none;\n",
              "        border-radius: 50%;\n",
              "        cursor: pointer;\n",
              "        display: none;\n",
              "        fill: #1967D2;\n",
              "        height: 32px;\n",
              "        padding: 0 0 0 0;\n",
              "        width: 32px;\n",
              "      }\n",
              "\n",
              "      .colab-df-generate:hover {\n",
              "        background-color: #E2EBFA;\n",
              "        box-shadow: 0px 1px 2px rgba(60, 64, 67, 0.3), 0px 1px 3px 1px rgba(60, 64, 67, 0.15);\n",
              "        fill: #174EA6;\n",
              "      }\n",
              "\n",
              "      [theme=dark] .colab-df-generate {\n",
              "        background-color: #3B4455;\n",
              "        fill: #D2E3FC;\n",
              "      }\n",
              "\n",
              "      [theme=dark] .colab-df-generate:hover {\n",
              "        background-color: #434B5C;\n",
              "        box-shadow: 0px 1px 3px 1px rgba(0, 0, 0, 0.15);\n",
              "        filter: drop-shadow(0px 1px 2px rgba(0, 0, 0, 0.3));\n",
              "        fill: #FFFFFF;\n",
              "      }\n",
              "    </style>\n",
              "    <button class=\"colab-df-generate\" onclick=\"generateWithVariable('Edge_Data')\"\n",
              "            title=\"Generate code using this dataframe.\"\n",
              "            style=\"display:none;\">\n",
              "\n",
              "  <svg xmlns=\"http://www.w3.org/2000/svg\" height=\"24px\"viewBox=\"0 0 24 24\"\n",
              "       width=\"24px\">\n",
              "    <path d=\"M7,19H8.4L18.45,9,17,7.55,7,17.6ZM5,21V16.75L18.45,3.32a2,2,0,0,1,2.83,0l1.4,1.43a1.91,1.91,0,0,1,.58,1.4,1.91,1.91,0,0,1-.58,1.4L9.25,21ZM18.45,9,17,7.55Zm-12,3A5.31,5.31,0,0,0,4.9,8.1,5.31,5.31,0,0,0,1,6.5,5.31,5.31,0,0,0,4.9,4.9,5.31,5.31,0,0,0,6.5,1,5.31,5.31,0,0,0,8.1,4.9,5.31,5.31,0,0,0,12,6.5,5.46,5.46,0,0,0,6.5,12Z\"/>\n",
              "  </svg>\n",
              "    </button>\n",
              "    <script>\n",
              "      (() => {\n",
              "      const buttonEl =\n",
              "        document.querySelector('#id_60510409-39bc-42ce-ad21-440ceb6ba935 button.colab-df-generate');\n",
              "      buttonEl.style.display =\n",
              "        google.colab.kernel.accessAllowed ? 'block' : 'none';\n",
              "\n",
              "      buttonEl.onclick = () => {\n",
              "        google.colab.notebook.generateWithVariable('Edge_Data');\n",
              "      }\n",
              "      })();\n",
              "    </script>\n",
              "  </div>\n",
              "\n",
              "    </div>\n",
              "  </div>\n"
            ],
            "application/vnd.google.colaboratory.intrinsic+json": {
              "type": "dataframe",
              "variable_name": "Edge_Data",
              "summary": "{\n  \"name\": \"Edge_Data\",\n  \"rows\": 11236,\n  \"fields\": [\n    {\n      \"column\": \"Src Ids\",\n      \"properties\": {\n        \"dtype\": \"number\",\n        \"std\": 30,\n        \"min\": 0,\n        \"max\": 105,\n        \"num_unique_values\": 106,\n        \"samples\": [\n          100,\n          10,\n          4\n        ],\n        \"semantic_type\": \"\",\n        \"description\": \"\"\n      }\n    },\n    {\n      \"column\": \"Src_features\",\n      \"properties\": {\n        \"dtype\": \"object\",\n        \"semantic_type\": \"\",\n        \"description\": \"\"\n      }\n    },\n    {\n      \"column\": \"Dst_features\",\n      \"properties\": {\n        \"dtype\": \"object\",\n        \"semantic_type\": \"\",\n        \"description\": \"\"\n      }\n    },\n    {\n      \"column\": \"Dst Ids\",\n      \"properties\": {\n        \"dtype\": \"number\",\n        \"std\": 30,\n        \"min\": 0,\n        \"max\": 105,\n        \"num_unique_values\": 106,\n        \"samples\": [\n          100,\n          10,\n          4\n        ],\n        \"semantic_type\": \"\",\n        \"description\": \"\"\n      }\n    },\n    {\n      \"column\": \"edge weights\",\n      \"properties\": {\n        \"dtype\": \"number\",\n        \"std\": 0.16812758698320082,\n        \"min\": -0.3240794636856154,\n        \"max\": 1.0000000000000002,\n        \"num_unique_values\": 5569,\n        \"samples\": [\n          0.15952154259409615,\n          0.07330955719953763,\n          0.04162087852995544\n        ],\n        \"semantic_type\": \"\",\n        \"description\": \"\"\n      }\n    }\n  ]\n}"
            }
          },
          "metadata": {},
          "execution_count": 10
        }
      ]
    },
    {
      "cell_type": "code",
      "source": [
        "Edge_Data[Edge_Data['Dst Ids']==7]"
      ],
      "metadata": {
        "colab": {
          "base_uri": "https://localhost:8080/",
          "height": 424
        },
        "id": "Z_tRiN8c7_Th",
        "outputId": "28d03219-66bd-4746-8947-e47a0ff35926"
      },
      "id": "Z_tRiN8c7_Th",
      "execution_count": null,
      "outputs": [
        {
          "output_type": "execute_result",
          "data": {
            "text/plain": [
              "       Src Ids                                       Src_features  \\\n",
              "7            0  [-0.1420959020964801, -0.0154182209679856, 0.0...   \n",
              "113          1  [-0.1420959020964801, -0.0154182209679856, 0.0...   \n",
              "219          2  [-0.1420959020964801, -0.0154182209679856, 0.0...   \n",
              "325          3  [-0.1420959020964801, -0.0154182209679856, 0.0...   \n",
              "431          4  [-0.1420959020964801, -0.0154182209679856, 0.0...   \n",
              "...        ...                                                ...   \n",
              "10713      101  [-0.1420959020964801, -0.0154182209679856, 0.0...   \n",
              "10819      102  [-0.1420959020964801, -0.0154182209679856, 0.0...   \n",
              "10925      103  [-0.1420959020964801, -0.0154182209679856, 0.0...   \n",
              "11031      104  [-0.1420959020964801, -0.0154182209679856, 0.0...   \n",
              "11137      105  [-0.1420959020964801, -0.0154182209679856, 0.0...   \n",
              "\n",
              "                                            Dst_features  Dst Ids  \\\n",
              "7      [-0.0776136464288307, -0.1101391605003988, -0....        7   \n",
              "113    [-0.1577426146702183, -0.0674250737688613, -0....        7   \n",
              "219    [-0.0847222004751009, -0.1745556021484603, -0....        7   \n",
              "325    [0.0707315614951464, -0.1684138505231766, 0.04...        7   \n",
              "431    [-0.0519337691990326, 0.0314548596811835, 0.02...        7   \n",
              "...                                                  ...      ...   \n",
              "10713  [-0.0818947090939708, 0.0017880305492999, -0.0...        7   \n",
              "10819  [-0.1348487008466488, 0.0500444564499452, -0.0...        7   \n",
              "10925  [-0.0168651063001963, -0.0608414720212072, -0....        7   \n",
              "11031  [-0.0692080399021506, -0.1030192960478255, -0....        7   \n",
              "11137  [-0.1516007373649035, 0.0509840464455053, -0.0...        7   \n",
              "\n",
              "       edge weights  \n",
              "7          0.080557  \n",
              "113        0.422461  \n",
              "219       -0.062219  \n",
              "325       -0.019831  \n",
              "431        0.371224  \n",
              "...             ...  \n",
              "10713     -0.179465  \n",
              "10819      0.091795  \n",
              "10925     -0.027704  \n",
              "11031     -0.126208  \n",
              "11137     -0.043985  \n",
              "\n",
              "[106 rows x 5 columns]"
            ],
            "text/html": [
              "\n",
              "  <div id=\"df-d0da0593-39ff-48f3-b0f8-4855fecf70ac\" class=\"colab-df-container\">\n",
              "    <div>\n",
              "<style scoped>\n",
              "    .dataframe tbody tr th:only-of-type {\n",
              "        vertical-align: middle;\n",
              "    }\n",
              "\n",
              "    .dataframe tbody tr th {\n",
              "        vertical-align: top;\n",
              "    }\n",
              "\n",
              "    .dataframe thead th {\n",
              "        text-align: right;\n",
              "    }\n",
              "</style>\n",
              "<table border=\"1\" class=\"dataframe\">\n",
              "  <thead>\n",
              "    <tr style=\"text-align: right;\">\n",
              "      <th></th>\n",
              "      <th>Src Ids</th>\n",
              "      <th>Src_features</th>\n",
              "      <th>Dst_features</th>\n",
              "      <th>Dst Ids</th>\n",
              "      <th>edge weights</th>\n",
              "    </tr>\n",
              "  </thead>\n",
              "  <tbody>\n",
              "    <tr>\n",
              "      <th>7</th>\n",
              "      <td>0</td>\n",
              "      <td>[-0.1420959020964801, -0.0154182209679856, 0.0...</td>\n",
              "      <td>[-0.0776136464288307, -0.1101391605003988, -0....</td>\n",
              "      <td>7</td>\n",
              "      <td>0.080557</td>\n",
              "    </tr>\n",
              "    <tr>\n",
              "      <th>113</th>\n",
              "      <td>1</td>\n",
              "      <td>[-0.1420959020964801, -0.0154182209679856, 0.0...</td>\n",
              "      <td>[-0.1577426146702183, -0.0674250737688613, -0....</td>\n",
              "      <td>7</td>\n",
              "      <td>0.422461</td>\n",
              "    </tr>\n",
              "    <tr>\n",
              "      <th>219</th>\n",
              "      <td>2</td>\n",
              "      <td>[-0.1420959020964801, -0.0154182209679856, 0.0...</td>\n",
              "      <td>[-0.0847222004751009, -0.1745556021484603, -0....</td>\n",
              "      <td>7</td>\n",
              "      <td>-0.062219</td>\n",
              "    </tr>\n",
              "    <tr>\n",
              "      <th>325</th>\n",
              "      <td>3</td>\n",
              "      <td>[-0.1420959020964801, -0.0154182209679856, 0.0...</td>\n",
              "      <td>[0.0707315614951464, -0.1684138505231766, 0.04...</td>\n",
              "      <td>7</td>\n",
              "      <td>-0.019831</td>\n",
              "    </tr>\n",
              "    <tr>\n",
              "      <th>431</th>\n",
              "      <td>4</td>\n",
              "      <td>[-0.1420959020964801, -0.0154182209679856, 0.0...</td>\n",
              "      <td>[-0.0519337691990326, 0.0314548596811835, 0.02...</td>\n",
              "      <td>7</td>\n",
              "      <td>0.371224</td>\n",
              "    </tr>\n",
              "    <tr>\n",
              "      <th>...</th>\n",
              "      <td>...</td>\n",
              "      <td>...</td>\n",
              "      <td>...</td>\n",
              "      <td>...</td>\n",
              "      <td>...</td>\n",
              "    </tr>\n",
              "    <tr>\n",
              "      <th>10713</th>\n",
              "      <td>101</td>\n",
              "      <td>[-0.1420959020964801, -0.0154182209679856, 0.0...</td>\n",
              "      <td>[-0.0818947090939708, 0.0017880305492999, -0.0...</td>\n",
              "      <td>7</td>\n",
              "      <td>-0.179465</td>\n",
              "    </tr>\n",
              "    <tr>\n",
              "      <th>10819</th>\n",
              "      <td>102</td>\n",
              "      <td>[-0.1420959020964801, -0.0154182209679856, 0.0...</td>\n",
              "      <td>[-0.1348487008466488, 0.0500444564499452, -0.0...</td>\n",
              "      <td>7</td>\n",
              "      <td>0.091795</td>\n",
              "    </tr>\n",
              "    <tr>\n",
              "      <th>10925</th>\n",
              "      <td>103</td>\n",
              "      <td>[-0.1420959020964801, -0.0154182209679856, 0.0...</td>\n",
              "      <td>[-0.0168651063001963, -0.0608414720212072, -0....</td>\n",
              "      <td>7</td>\n",
              "      <td>-0.027704</td>\n",
              "    </tr>\n",
              "    <tr>\n",
              "      <th>11031</th>\n",
              "      <td>104</td>\n",
              "      <td>[-0.1420959020964801, -0.0154182209679856, 0.0...</td>\n",
              "      <td>[-0.0692080399021506, -0.1030192960478255, -0....</td>\n",
              "      <td>7</td>\n",
              "      <td>-0.126208</td>\n",
              "    </tr>\n",
              "    <tr>\n",
              "      <th>11137</th>\n",
              "      <td>105</td>\n",
              "      <td>[-0.1420959020964801, -0.0154182209679856, 0.0...</td>\n",
              "      <td>[-0.1516007373649035, 0.0509840464455053, -0.0...</td>\n",
              "      <td>7</td>\n",
              "      <td>-0.043985</td>\n",
              "    </tr>\n",
              "  </tbody>\n",
              "</table>\n",
              "<p>106 rows × 5 columns</p>\n",
              "</div>\n",
              "    <div class=\"colab-df-buttons\">\n",
              "\n",
              "  <div class=\"colab-df-container\">\n",
              "    <button class=\"colab-df-convert\" onclick=\"convertToInteractive('df-d0da0593-39ff-48f3-b0f8-4855fecf70ac')\"\n",
              "            title=\"Convert this dataframe to an interactive table.\"\n",
              "            style=\"display:none;\">\n",
              "\n",
              "  <svg xmlns=\"http://www.w3.org/2000/svg\" height=\"24px\" viewBox=\"0 -960 960 960\">\n",
              "    <path d=\"M120-120v-720h720v720H120Zm60-500h600v-160H180v160Zm220 220h160v-160H400v160Zm0 220h160v-160H400v160ZM180-400h160v-160H180v160Zm440 0h160v-160H620v160ZM180-180h160v-160H180v160Zm440 0h160v-160H620v160Z\"/>\n",
              "  </svg>\n",
              "    </button>\n",
              "\n",
              "  <style>\n",
              "    .colab-df-container {\n",
              "      display:flex;\n",
              "      gap: 12px;\n",
              "    }\n",
              "\n",
              "    .colab-df-convert {\n",
              "      background-color: #E8F0FE;\n",
              "      border: none;\n",
              "      border-radius: 50%;\n",
              "      cursor: pointer;\n",
              "      display: none;\n",
              "      fill: #1967D2;\n",
              "      height: 32px;\n",
              "      padding: 0 0 0 0;\n",
              "      width: 32px;\n",
              "    }\n",
              "\n",
              "    .colab-df-convert:hover {\n",
              "      background-color: #E2EBFA;\n",
              "      box-shadow: 0px 1px 2px rgba(60, 64, 67, 0.3), 0px 1px 3px 1px rgba(60, 64, 67, 0.15);\n",
              "      fill: #174EA6;\n",
              "    }\n",
              "\n",
              "    .colab-df-buttons div {\n",
              "      margin-bottom: 4px;\n",
              "    }\n",
              "\n",
              "    [theme=dark] .colab-df-convert {\n",
              "      background-color: #3B4455;\n",
              "      fill: #D2E3FC;\n",
              "    }\n",
              "\n",
              "    [theme=dark] .colab-df-convert:hover {\n",
              "      background-color: #434B5C;\n",
              "      box-shadow: 0px 1px 3px 1px rgba(0, 0, 0, 0.15);\n",
              "      filter: drop-shadow(0px 1px 2px rgba(0, 0, 0, 0.3));\n",
              "      fill: #FFFFFF;\n",
              "    }\n",
              "  </style>\n",
              "\n",
              "    <script>\n",
              "      const buttonEl =\n",
              "        document.querySelector('#df-d0da0593-39ff-48f3-b0f8-4855fecf70ac button.colab-df-convert');\n",
              "      buttonEl.style.display =\n",
              "        google.colab.kernel.accessAllowed ? 'block' : 'none';\n",
              "\n",
              "      async function convertToInteractive(key) {\n",
              "        const element = document.querySelector('#df-d0da0593-39ff-48f3-b0f8-4855fecf70ac');\n",
              "        const dataTable =\n",
              "          await google.colab.kernel.invokeFunction('convertToInteractive',\n",
              "                                                    [key], {});\n",
              "        if (!dataTable) return;\n",
              "\n",
              "        const docLinkHtml = 'Like what you see? Visit the ' +\n",
              "          '<a target=\"_blank\" href=https://colab.research.google.com/notebooks/data_table.ipynb>data table notebook</a>'\n",
              "          + ' to learn more about interactive tables.';\n",
              "        element.innerHTML = '';\n",
              "        dataTable['output_type'] = 'display_data';\n",
              "        await google.colab.output.renderOutput(dataTable, element);\n",
              "        const docLink = document.createElement('div');\n",
              "        docLink.innerHTML = docLinkHtml;\n",
              "        element.appendChild(docLink);\n",
              "      }\n",
              "    </script>\n",
              "  </div>\n",
              "\n",
              "\n",
              "<div id=\"df-10ceb34c-a853-427f-827d-e4a05fd9c953\">\n",
              "  <button class=\"colab-df-quickchart\" onclick=\"quickchart('df-10ceb34c-a853-427f-827d-e4a05fd9c953')\"\n",
              "            title=\"Suggest charts\"\n",
              "            style=\"display:none;\">\n",
              "\n",
              "<svg xmlns=\"http://www.w3.org/2000/svg\" height=\"24px\"viewBox=\"0 0 24 24\"\n",
              "     width=\"24px\">\n",
              "    <g>\n",
              "        <path d=\"M19 3H5c-1.1 0-2 .9-2 2v14c0 1.1.9 2 2 2h14c1.1 0 2-.9 2-2V5c0-1.1-.9-2-2-2zM9 17H7v-7h2v7zm4 0h-2V7h2v10zm4 0h-2v-4h2v4z\"/>\n",
              "    </g>\n",
              "</svg>\n",
              "  </button>\n",
              "\n",
              "<style>\n",
              "  .colab-df-quickchart {\n",
              "      --bg-color: #E8F0FE;\n",
              "      --fill-color: #1967D2;\n",
              "      --hover-bg-color: #E2EBFA;\n",
              "      --hover-fill-color: #174EA6;\n",
              "      --disabled-fill-color: #AAA;\n",
              "      --disabled-bg-color: #DDD;\n",
              "  }\n",
              "\n",
              "  [theme=dark] .colab-df-quickchart {\n",
              "      --bg-color: #3B4455;\n",
              "      --fill-color: #D2E3FC;\n",
              "      --hover-bg-color: #434B5C;\n",
              "      --hover-fill-color: #FFFFFF;\n",
              "      --disabled-bg-color: #3B4455;\n",
              "      --disabled-fill-color: #666;\n",
              "  }\n",
              "\n",
              "  .colab-df-quickchart {\n",
              "    background-color: var(--bg-color);\n",
              "    border: none;\n",
              "    border-radius: 50%;\n",
              "    cursor: pointer;\n",
              "    display: none;\n",
              "    fill: var(--fill-color);\n",
              "    height: 32px;\n",
              "    padding: 0;\n",
              "    width: 32px;\n",
              "  }\n",
              "\n",
              "  .colab-df-quickchart:hover {\n",
              "    background-color: var(--hover-bg-color);\n",
              "    box-shadow: 0 1px 2px rgba(60, 64, 67, 0.3), 0 1px 3px 1px rgba(60, 64, 67, 0.15);\n",
              "    fill: var(--button-hover-fill-color);\n",
              "  }\n",
              "\n",
              "  .colab-df-quickchart-complete:disabled,\n",
              "  .colab-df-quickchart-complete:disabled:hover {\n",
              "    background-color: var(--disabled-bg-color);\n",
              "    fill: var(--disabled-fill-color);\n",
              "    box-shadow: none;\n",
              "  }\n",
              "\n",
              "  .colab-df-spinner {\n",
              "    border: 2px solid var(--fill-color);\n",
              "    border-color: transparent;\n",
              "    border-bottom-color: var(--fill-color);\n",
              "    animation:\n",
              "      spin 1s steps(1) infinite;\n",
              "  }\n",
              "\n",
              "  @keyframes spin {\n",
              "    0% {\n",
              "      border-color: transparent;\n",
              "      border-bottom-color: var(--fill-color);\n",
              "      border-left-color: var(--fill-color);\n",
              "    }\n",
              "    20% {\n",
              "      border-color: transparent;\n",
              "      border-left-color: var(--fill-color);\n",
              "      border-top-color: var(--fill-color);\n",
              "    }\n",
              "    30% {\n",
              "      border-color: transparent;\n",
              "      border-left-color: var(--fill-color);\n",
              "      border-top-color: var(--fill-color);\n",
              "      border-right-color: var(--fill-color);\n",
              "    }\n",
              "    40% {\n",
              "      border-color: transparent;\n",
              "      border-right-color: var(--fill-color);\n",
              "      border-top-color: var(--fill-color);\n",
              "    }\n",
              "    60% {\n",
              "      border-color: transparent;\n",
              "      border-right-color: var(--fill-color);\n",
              "    }\n",
              "    80% {\n",
              "      border-color: transparent;\n",
              "      border-right-color: var(--fill-color);\n",
              "      border-bottom-color: var(--fill-color);\n",
              "    }\n",
              "    90% {\n",
              "      border-color: transparent;\n",
              "      border-bottom-color: var(--fill-color);\n",
              "    }\n",
              "  }\n",
              "</style>\n",
              "\n",
              "  <script>\n",
              "    async function quickchart(key) {\n",
              "      const quickchartButtonEl =\n",
              "        document.querySelector('#' + key + ' button');\n",
              "      quickchartButtonEl.disabled = true;  // To prevent multiple clicks.\n",
              "      quickchartButtonEl.classList.add('colab-df-spinner');\n",
              "      try {\n",
              "        const charts = await google.colab.kernel.invokeFunction(\n",
              "            'suggestCharts', [key], {});\n",
              "      } catch (error) {\n",
              "        console.error('Error during call to suggestCharts:', error);\n",
              "      }\n",
              "      quickchartButtonEl.classList.remove('colab-df-spinner');\n",
              "      quickchartButtonEl.classList.add('colab-df-quickchart-complete');\n",
              "    }\n",
              "    (() => {\n",
              "      let quickchartButtonEl =\n",
              "        document.querySelector('#df-10ceb34c-a853-427f-827d-e4a05fd9c953 button');\n",
              "      quickchartButtonEl.style.display =\n",
              "        google.colab.kernel.accessAllowed ? 'block' : 'none';\n",
              "    })();\n",
              "  </script>\n",
              "</div>\n",
              "\n",
              "    </div>\n",
              "  </div>\n"
            ],
            "application/vnd.google.colaboratory.intrinsic+json": {
              "type": "dataframe",
              "summary": "{\n  \"name\": \"Edge_Data[Edge_Data['Dst Ids']==7]\",\n  \"rows\": 106,\n  \"fields\": [\n    {\n      \"column\": \"Src Ids\",\n      \"properties\": {\n        \"dtype\": \"number\",\n        \"std\": 30,\n        \"min\": 0,\n        \"max\": 105,\n        \"num_unique_values\": 106,\n        \"samples\": [\n          100,\n          10,\n          4\n        ],\n        \"semantic_type\": \"\",\n        \"description\": \"\"\n      }\n    },\n    {\n      \"column\": \"Src_features\",\n      \"properties\": {\n        \"dtype\": \"object\",\n        \"semantic_type\": \"\",\n        \"description\": \"\"\n      }\n    },\n    {\n      \"column\": \"Dst_features\",\n      \"properties\": {\n        \"dtype\": \"object\",\n        \"semantic_type\": \"\",\n        \"description\": \"\"\n      }\n    },\n    {\n      \"column\": \"Dst Ids\",\n      \"properties\": {\n        \"dtype\": \"number\",\n        \"std\": 0,\n        \"min\": 7,\n        \"max\": 7,\n        \"num_unique_values\": 1,\n        \"samples\": [\n          7\n        ],\n        \"semantic_type\": \"\",\n        \"description\": \"\"\n      }\n    },\n    {\n      \"column\": \"edge weights\",\n      \"properties\": {\n        \"dtype\": \"number\",\n        \"std\": 0.23129236593382818,\n        \"min\": -0.36175119455328514,\n        \"max\": 1.0000000000000002,\n        \"num_unique_values\": 106,\n        \"samples\": [\n          0.2755366577910035\n        ],\n        \"semantic_type\": \"\",\n        \"description\": \"\"\n      }\n    }\n  ]\n}"
            }
          },
          "metadata": {},
          "execution_count": 30
        }
      ]
    },
    {
      "cell_type": "code",
      "source": [
        "ff=Edge_Data[Edge_Data['Src Ids']!=0 ]"
      ],
      "metadata": {
        "id": "0sIwXywH8aF6"
      },
      "id": "0sIwXywH8aF6",
      "execution_count": null,
      "outputs": []
    },
    {
      "cell_type": "code",
      "source": [
        "ff[ff['edge weights']>=0.329]\n"
      ],
      "metadata": {
        "colab": {
          "base_uri": "https://localhost:8080/",
          "height": 424
        },
        "id": "0tlrtE5p6UFZ",
        "outputId": "6e5e3c29-7e09-43d5-f9b5-b6683e371b8d"
      },
      "id": "0tlrtE5p6UFZ",
      "execution_count": null,
      "outputs": [
        {
          "output_type": "execute_result",
          "data": {
            "text/plain": [
              "       Src Ids                                       Src_features  \\\n",
              "106          1  [-0.0776136464288307, -0.1101391605003988, -0....   \n",
              "107          1  [-0.1577426146702183, -0.0674250737688613, -0....   \n",
              "113          1  [-0.1420959020964801, -0.0154182209679856, 0.0...   \n",
              "117          1  [-0.1538107237946759, -0.1966975863884996, 0.0...   \n",
              "146          1  [-0.1681859906807187, -0.0972429624858445, -0....   \n",
              "...        ...                                                ...   \n",
              "11182      105  [-0.0923753816054248, -0.1320009605470495, -0....   \n",
              "11183      105  [-0.1147057955836256, -0.0346277399050692, -0....   \n",
              "11227      105  [0.0138710868535175, -0.0306254801188414, -0.0...   \n",
              "11234      105  [-0.0692080399021506, -0.1030192960478255, -0....   \n",
              "11235      105  [-0.1516007373649035, 0.0509840464455053, -0.0...   \n",
              "\n",
              "                                            Dst_features  Dst Ids  \\\n",
              "106    [-0.1577426146702183, -0.0674250737688613, -0....        0   \n",
              "107    [-0.1577426146702183, -0.0674250737688613, -0....        1   \n",
              "113    [-0.1577426146702183, -0.0674250737688613, -0....        7   \n",
              "117    [-0.1577426146702183, -0.0674250737688613, -0....       11   \n",
              "146    [-0.1577426146702183, -0.0674250737688613, -0....       40   \n",
              "...                                                  ...      ...   \n",
              "11182  [-0.1516007373649035, 0.0509840464455053, -0.0...       52   \n",
              "11183  [-0.1516007373649035, 0.0509840464455053, -0.0...       53   \n",
              "11227  [-0.1516007373649035, 0.0509840464455053, -0.0...       97   \n",
              "11234  [-0.1516007373649035, 0.0509840464455053, -0.0...      104   \n",
              "11235  [-0.1516007373649035, 0.0509840464455053, -0.0...      105   \n",
              "\n",
              "       edge weights  \n",
              "106        0.451990  \n",
              "107        1.000000  \n",
              "113        0.422461  \n",
              "117        0.443926  \n",
              "146        0.470486  \n",
              "...             ...  \n",
              "11182      0.356659  \n",
              "11183      0.378080  \n",
              "11227      0.361940  \n",
              "11234      0.344639  \n",
              "11235      1.000000  \n",
              "\n",
              "[662 rows x 5 columns]"
            ],
            "text/html": [
              "\n",
              "  <div id=\"df-3fa76117-b830-4563-a361-ab4279a010ed\" class=\"colab-df-container\">\n",
              "    <div>\n",
              "<style scoped>\n",
              "    .dataframe tbody tr th:only-of-type {\n",
              "        vertical-align: middle;\n",
              "    }\n",
              "\n",
              "    .dataframe tbody tr th {\n",
              "        vertical-align: top;\n",
              "    }\n",
              "\n",
              "    .dataframe thead th {\n",
              "        text-align: right;\n",
              "    }\n",
              "</style>\n",
              "<table border=\"1\" class=\"dataframe\">\n",
              "  <thead>\n",
              "    <tr style=\"text-align: right;\">\n",
              "      <th></th>\n",
              "      <th>Src Ids</th>\n",
              "      <th>Src_features</th>\n",
              "      <th>Dst_features</th>\n",
              "      <th>Dst Ids</th>\n",
              "      <th>edge weights</th>\n",
              "    </tr>\n",
              "  </thead>\n",
              "  <tbody>\n",
              "    <tr>\n",
              "      <th>106</th>\n",
              "      <td>1</td>\n",
              "      <td>[-0.0776136464288307, -0.1101391605003988, -0....</td>\n",
              "      <td>[-0.1577426146702183, -0.0674250737688613, -0....</td>\n",
              "      <td>0</td>\n",
              "      <td>0.451990</td>\n",
              "    </tr>\n",
              "    <tr>\n",
              "      <th>107</th>\n",
              "      <td>1</td>\n",
              "      <td>[-0.1577426146702183, -0.0674250737688613, -0....</td>\n",
              "      <td>[-0.1577426146702183, -0.0674250737688613, -0....</td>\n",
              "      <td>1</td>\n",
              "      <td>1.000000</td>\n",
              "    </tr>\n",
              "    <tr>\n",
              "      <th>113</th>\n",
              "      <td>1</td>\n",
              "      <td>[-0.1420959020964801, -0.0154182209679856, 0.0...</td>\n",
              "      <td>[-0.1577426146702183, -0.0674250737688613, -0....</td>\n",
              "      <td>7</td>\n",
              "      <td>0.422461</td>\n",
              "    </tr>\n",
              "    <tr>\n",
              "      <th>117</th>\n",
              "      <td>1</td>\n",
              "      <td>[-0.1538107237946759, -0.1966975863884996, 0.0...</td>\n",
              "      <td>[-0.1577426146702183, -0.0674250737688613, -0....</td>\n",
              "      <td>11</td>\n",
              "      <td>0.443926</td>\n",
              "    </tr>\n",
              "    <tr>\n",
              "      <th>146</th>\n",
              "      <td>1</td>\n",
              "      <td>[-0.1681859906807187, -0.0972429624858445, -0....</td>\n",
              "      <td>[-0.1577426146702183, -0.0674250737688613, -0....</td>\n",
              "      <td>40</td>\n",
              "      <td>0.470486</td>\n",
              "    </tr>\n",
              "    <tr>\n",
              "      <th>...</th>\n",
              "      <td>...</td>\n",
              "      <td>...</td>\n",
              "      <td>...</td>\n",
              "      <td>...</td>\n",
              "      <td>...</td>\n",
              "    </tr>\n",
              "    <tr>\n",
              "      <th>11182</th>\n",
              "      <td>105</td>\n",
              "      <td>[-0.0923753816054248, -0.1320009605470495, -0....</td>\n",
              "      <td>[-0.1516007373649035, 0.0509840464455053, -0.0...</td>\n",
              "      <td>52</td>\n",
              "      <td>0.356659</td>\n",
              "    </tr>\n",
              "    <tr>\n",
              "      <th>11183</th>\n",
              "      <td>105</td>\n",
              "      <td>[-0.1147057955836256, -0.0346277399050692, -0....</td>\n",
              "      <td>[-0.1516007373649035, 0.0509840464455053, -0.0...</td>\n",
              "      <td>53</td>\n",
              "      <td>0.378080</td>\n",
              "    </tr>\n",
              "    <tr>\n",
              "      <th>11227</th>\n",
              "      <td>105</td>\n",
              "      <td>[0.0138710868535175, -0.0306254801188414, -0.0...</td>\n",
              "      <td>[-0.1516007373649035, 0.0509840464455053, -0.0...</td>\n",
              "      <td>97</td>\n",
              "      <td>0.361940</td>\n",
              "    </tr>\n",
              "    <tr>\n",
              "      <th>11234</th>\n",
              "      <td>105</td>\n",
              "      <td>[-0.0692080399021506, -0.1030192960478255, -0....</td>\n",
              "      <td>[-0.1516007373649035, 0.0509840464455053, -0.0...</td>\n",
              "      <td>104</td>\n",
              "      <td>0.344639</td>\n",
              "    </tr>\n",
              "    <tr>\n",
              "      <th>11235</th>\n",
              "      <td>105</td>\n",
              "      <td>[-0.1516007373649035, 0.0509840464455053, -0.0...</td>\n",
              "      <td>[-0.1516007373649035, 0.0509840464455053, -0.0...</td>\n",
              "      <td>105</td>\n",
              "      <td>1.000000</td>\n",
              "    </tr>\n",
              "  </tbody>\n",
              "</table>\n",
              "<p>662 rows × 5 columns</p>\n",
              "</div>\n",
              "    <div class=\"colab-df-buttons\">\n",
              "\n",
              "  <div class=\"colab-df-container\">\n",
              "    <button class=\"colab-df-convert\" onclick=\"convertToInteractive('df-3fa76117-b830-4563-a361-ab4279a010ed')\"\n",
              "            title=\"Convert this dataframe to an interactive table.\"\n",
              "            style=\"display:none;\">\n",
              "\n",
              "  <svg xmlns=\"http://www.w3.org/2000/svg\" height=\"24px\" viewBox=\"0 -960 960 960\">\n",
              "    <path d=\"M120-120v-720h720v720H120Zm60-500h600v-160H180v160Zm220 220h160v-160H400v160Zm0 220h160v-160H400v160ZM180-400h160v-160H180v160Zm440 0h160v-160H620v160ZM180-180h160v-160H180v160Zm440 0h160v-160H620v160Z\"/>\n",
              "  </svg>\n",
              "    </button>\n",
              "\n",
              "  <style>\n",
              "    .colab-df-container {\n",
              "      display:flex;\n",
              "      gap: 12px;\n",
              "    }\n",
              "\n",
              "    .colab-df-convert {\n",
              "      background-color: #E8F0FE;\n",
              "      border: none;\n",
              "      border-radius: 50%;\n",
              "      cursor: pointer;\n",
              "      display: none;\n",
              "      fill: #1967D2;\n",
              "      height: 32px;\n",
              "      padding: 0 0 0 0;\n",
              "      width: 32px;\n",
              "    }\n",
              "\n",
              "    .colab-df-convert:hover {\n",
              "      background-color: #E2EBFA;\n",
              "      box-shadow: 0px 1px 2px rgba(60, 64, 67, 0.3), 0px 1px 3px 1px rgba(60, 64, 67, 0.15);\n",
              "      fill: #174EA6;\n",
              "    }\n",
              "\n",
              "    .colab-df-buttons div {\n",
              "      margin-bottom: 4px;\n",
              "    }\n",
              "\n",
              "    [theme=dark] .colab-df-convert {\n",
              "      background-color: #3B4455;\n",
              "      fill: #D2E3FC;\n",
              "    }\n",
              "\n",
              "    [theme=dark] .colab-df-convert:hover {\n",
              "      background-color: #434B5C;\n",
              "      box-shadow: 0px 1px 3px 1px rgba(0, 0, 0, 0.15);\n",
              "      filter: drop-shadow(0px 1px 2px rgba(0, 0, 0, 0.3));\n",
              "      fill: #FFFFFF;\n",
              "    }\n",
              "  </style>\n",
              "\n",
              "    <script>\n",
              "      const buttonEl =\n",
              "        document.querySelector('#df-3fa76117-b830-4563-a361-ab4279a010ed button.colab-df-convert');\n",
              "      buttonEl.style.display =\n",
              "        google.colab.kernel.accessAllowed ? 'block' : 'none';\n",
              "\n",
              "      async function convertToInteractive(key) {\n",
              "        const element = document.querySelector('#df-3fa76117-b830-4563-a361-ab4279a010ed');\n",
              "        const dataTable =\n",
              "          await google.colab.kernel.invokeFunction('convertToInteractive',\n",
              "                                                    [key], {});\n",
              "        if (!dataTable) return;\n",
              "\n",
              "        const docLinkHtml = 'Like what you see? Visit the ' +\n",
              "          '<a target=\"_blank\" href=https://colab.research.google.com/notebooks/data_table.ipynb>data table notebook</a>'\n",
              "          + ' to learn more about interactive tables.';\n",
              "        element.innerHTML = '';\n",
              "        dataTable['output_type'] = 'display_data';\n",
              "        await google.colab.output.renderOutput(dataTable, element);\n",
              "        const docLink = document.createElement('div');\n",
              "        docLink.innerHTML = docLinkHtml;\n",
              "        element.appendChild(docLink);\n",
              "      }\n",
              "    </script>\n",
              "  </div>\n",
              "\n",
              "\n",
              "<div id=\"df-7b25c0b1-cc0a-4017-8f27-3722a680c709\">\n",
              "  <button class=\"colab-df-quickchart\" onclick=\"quickchart('df-7b25c0b1-cc0a-4017-8f27-3722a680c709')\"\n",
              "            title=\"Suggest charts\"\n",
              "            style=\"display:none;\">\n",
              "\n",
              "<svg xmlns=\"http://www.w3.org/2000/svg\" height=\"24px\"viewBox=\"0 0 24 24\"\n",
              "     width=\"24px\">\n",
              "    <g>\n",
              "        <path d=\"M19 3H5c-1.1 0-2 .9-2 2v14c0 1.1.9 2 2 2h14c1.1 0 2-.9 2-2V5c0-1.1-.9-2-2-2zM9 17H7v-7h2v7zm4 0h-2V7h2v10zm4 0h-2v-4h2v4z\"/>\n",
              "    </g>\n",
              "</svg>\n",
              "  </button>\n",
              "\n",
              "<style>\n",
              "  .colab-df-quickchart {\n",
              "      --bg-color: #E8F0FE;\n",
              "      --fill-color: #1967D2;\n",
              "      --hover-bg-color: #E2EBFA;\n",
              "      --hover-fill-color: #174EA6;\n",
              "      --disabled-fill-color: #AAA;\n",
              "      --disabled-bg-color: #DDD;\n",
              "  }\n",
              "\n",
              "  [theme=dark] .colab-df-quickchart {\n",
              "      --bg-color: #3B4455;\n",
              "      --fill-color: #D2E3FC;\n",
              "      --hover-bg-color: #434B5C;\n",
              "      --hover-fill-color: #FFFFFF;\n",
              "      --disabled-bg-color: #3B4455;\n",
              "      --disabled-fill-color: #666;\n",
              "  }\n",
              "\n",
              "  .colab-df-quickchart {\n",
              "    background-color: var(--bg-color);\n",
              "    border: none;\n",
              "    border-radius: 50%;\n",
              "    cursor: pointer;\n",
              "    display: none;\n",
              "    fill: var(--fill-color);\n",
              "    height: 32px;\n",
              "    padding: 0;\n",
              "    width: 32px;\n",
              "  }\n",
              "\n",
              "  .colab-df-quickchart:hover {\n",
              "    background-color: var(--hover-bg-color);\n",
              "    box-shadow: 0 1px 2px rgba(60, 64, 67, 0.3), 0 1px 3px 1px rgba(60, 64, 67, 0.15);\n",
              "    fill: var(--button-hover-fill-color);\n",
              "  }\n",
              "\n",
              "  .colab-df-quickchart-complete:disabled,\n",
              "  .colab-df-quickchart-complete:disabled:hover {\n",
              "    background-color: var(--disabled-bg-color);\n",
              "    fill: var(--disabled-fill-color);\n",
              "    box-shadow: none;\n",
              "  }\n",
              "\n",
              "  .colab-df-spinner {\n",
              "    border: 2px solid var(--fill-color);\n",
              "    border-color: transparent;\n",
              "    border-bottom-color: var(--fill-color);\n",
              "    animation:\n",
              "      spin 1s steps(1) infinite;\n",
              "  }\n",
              "\n",
              "  @keyframes spin {\n",
              "    0% {\n",
              "      border-color: transparent;\n",
              "      border-bottom-color: var(--fill-color);\n",
              "      border-left-color: var(--fill-color);\n",
              "    }\n",
              "    20% {\n",
              "      border-color: transparent;\n",
              "      border-left-color: var(--fill-color);\n",
              "      border-top-color: var(--fill-color);\n",
              "    }\n",
              "    30% {\n",
              "      border-color: transparent;\n",
              "      border-left-color: var(--fill-color);\n",
              "      border-top-color: var(--fill-color);\n",
              "      border-right-color: var(--fill-color);\n",
              "    }\n",
              "    40% {\n",
              "      border-color: transparent;\n",
              "      border-right-color: var(--fill-color);\n",
              "      border-top-color: var(--fill-color);\n",
              "    }\n",
              "    60% {\n",
              "      border-color: transparent;\n",
              "      border-right-color: var(--fill-color);\n",
              "    }\n",
              "    80% {\n",
              "      border-color: transparent;\n",
              "      border-right-color: var(--fill-color);\n",
              "      border-bottom-color: var(--fill-color);\n",
              "    }\n",
              "    90% {\n",
              "      border-color: transparent;\n",
              "      border-bottom-color: var(--fill-color);\n",
              "    }\n",
              "  }\n",
              "</style>\n",
              "\n",
              "  <script>\n",
              "    async function quickchart(key) {\n",
              "      const quickchartButtonEl =\n",
              "        document.querySelector('#' + key + ' button');\n",
              "      quickchartButtonEl.disabled = true;  // To prevent multiple clicks.\n",
              "      quickchartButtonEl.classList.add('colab-df-spinner');\n",
              "      try {\n",
              "        const charts = await google.colab.kernel.invokeFunction(\n",
              "            'suggestCharts', [key], {});\n",
              "      } catch (error) {\n",
              "        console.error('Error during call to suggestCharts:', error);\n",
              "      }\n",
              "      quickchartButtonEl.classList.remove('colab-df-spinner');\n",
              "      quickchartButtonEl.classList.add('colab-df-quickchart-complete');\n",
              "    }\n",
              "    (() => {\n",
              "      let quickchartButtonEl =\n",
              "        document.querySelector('#df-7b25c0b1-cc0a-4017-8f27-3722a680c709 button');\n",
              "      quickchartButtonEl.style.display =\n",
              "        google.colab.kernel.accessAllowed ? 'block' : 'none';\n",
              "    })();\n",
              "  </script>\n",
              "</div>\n",
              "\n",
              "    </div>\n",
              "  </div>\n"
            ],
            "application/vnd.google.colaboratory.intrinsic+json": {
              "type": "dataframe",
              "summary": "{\n  \"name\": \"ff[ff['edge weights']>=0\",\n  \"rows\": 662,\n  \"fields\": [\n    {\n      \"column\": \"Src Ids\",\n      \"properties\": {\n        \"dtype\": \"number\",\n        \"std\": 27,\n        \"min\": 1,\n        \"max\": 105,\n        \"num_unique_values\": 105,\n        \"samples\": [\n          31,\n          66,\n          65\n        ],\n        \"semantic_type\": \"\",\n        \"description\": \"\"\n      }\n    },\n    {\n      \"column\": \"Src_features\",\n      \"properties\": {\n        \"dtype\": \"object\",\n        \"semantic_type\": \"\",\n        \"description\": \"\"\n      }\n    },\n    {\n      \"column\": \"Dst_features\",\n      \"properties\": {\n        \"dtype\": \"object\",\n        \"semantic_type\": \"\",\n        \"description\": \"\"\n      }\n    },\n    {\n      \"column\": \"Dst Ids\",\n      \"properties\": {\n        \"dtype\": \"number\",\n        \"std\": 27,\n        \"min\": 0,\n        \"max\": 105,\n        \"num_unique_values\": 106,\n        \"samples\": [\n          104,\n          12,\n          40\n        ],\n        \"semantic_type\": \"\",\n        \"description\": \"\"\n      }\n    },\n    {\n      \"column\": \"edge weights\",\n      \"properties\": {\n        \"dtype\": \"number\",\n        \"std\": 0.22635819326434545,\n        \"min\": 0.32918055732950663,\n        \"max\": 1.0000000000000002,\n        \"num_unique_values\": 285,\n        \"samples\": [\n          0.35888392381993467,\n          0.6619906836330881,\n          0.3516247123908218\n        ],\n        \"semantic_type\": \"\",\n        \"description\": \"\"\n      }\n    }\n  ]\n}"
            }
          },
          "metadata": {},
          "execution_count": 28
        }
      ]
    },
    {
      "cell_type": "code",
      "execution_count": null,
      "id": "beb96876-26f6-4e13-9109-12ac34c05812",
      "metadata": {
        "id": "beb96876-26f6-4e13-9109-12ac34c05812",
        "outputId": "63a16a46-ebc8-4a3b-fdbc-ae2e8e054732",
        "colab": {
          "base_uri": "https://localhost:8080/"
        }
      },
      "outputs": [
        {
          "output_type": "stream",
          "name": "stdout",
          "text": [
            "count    5565.000000\n",
            "mean        0.047341\n",
            "std         0.097459\n",
            "min         0.000000\n",
            "25%         0.000000\n",
            "50%         0.000000\n",
            "75%         0.056200\n",
            "max         0.883236\n",
            "Name: edge weights, dtype: float64\n",
            "95th percentile of edge weights column: 0.2310352467256318\n"
          ]
        }
      ],
      "source": [
        "print(Edge['edge weights'].describe())\n",
        "ninetyfive_percentile = Edge['edge weights'].quantile(0.95)\n",
        "print(\"95th percentile of edge weights column:\", ninetyfive_percentile)"
      ]
    },
    {
      "cell_type": "code",
      "source": [
        "percentiles=[round(0.109588,4),round(0.072787,4),round(0.32993177254012235,4)]"
      ],
      "metadata": {
        "id": "Nmm7y74Lw_l_"
      },
      "id": "Nmm7y74Lw_l_",
      "execution_count": null,
      "outputs": []
    },
    {
      "cell_type": "code",
      "execution_count": null,
      "id": "f9bf4c21-b02d-4b7f-8b61-18fa54283b2b",
      "metadata": {
        "id": "f9bf4c21-b02d-4b7f-8b61-18fa54283b2b",
        "outputId": "23dda6b2-35e0-40a2-dfff-7c2d4f20e192",
        "colab": {
          "base_uri": "https://localhost:8080/"
        }
      },
      "outputs": [
        {
          "output_type": "stream",
          "name": "stdout",
          "text": [
            "Graph(num_nodes=106, num_edges=664,\n",
            "      ndata_schemes={'feat': Scheme(shape=(1611,), dtype=torch.float64), 'label': Scheme(shape=(), dtype=torch.int8), 'train_mask': Scheme(shape=(), dtype=torch.bool), 'val_mask': Scheme(shape=(), dtype=torch.bool), 'test_mask': Scheme(shape=(), dtype=torch.bool)}\n",
            "      edata_schemes={'weight': Scheme(shape=(), dtype=torch.float64)})\n"
          ]
        }
      ],
      "source": [
        "import os\n",
        "\n",
        "os.environ[\"DGLBACKEND\"] = \"pytorch\"\n",
        "import dgl\n",
        "import torch\n",
        "from dgl.data import DGLDataset\n",
        "edge_weight=[]\n",
        "\n",
        "\n",
        "class KarateClubDataset(DGLDataset):\n",
        "    def __init__(self,threshold):\n",
        "        self.threshold=threshold\n",
        "        super().__init__(name=\"karate_club\")\n",
        "\n",
        "    def process(self):\n",
        "        edge_remove=[]\n",
        "        C=edge_weights\n",
        "        for i in range(0,len(C)):\n",
        "            if C[i]<=self.threshold:\n",
        "                edge_remove.append(i)\n",
        "            else:\n",
        "                edge_weight.append(C[i])\n",
        "\n",
        "        nodes_data = Nodes_Data\n",
        "        edges_data = Edge_Data\n",
        "        features_array = np.array(nodes_data[\"features\"].tolist(), dtype=float)\n",
        "        node_features = torch.from_numpy(features_array)\n",
        "        node_labels = torch.from_numpy(\n",
        "                      nodes_data[\"label\"].astype(\"category\").cat.codes.to_numpy()\n",
        "                       ).clone().detach()  # Make the tensor writable\n",
        "\n",
        "        edge_features = torch.from_numpy(edges_data[\"edge weights\"].to_numpy())\n",
        "        edges_src = torch.from_numpy(edges_data[\"Src Ids\"].to_numpy())\n",
        "        edges_dst = torch.from_numpy(edges_data[\"Dst Ids\"].to_numpy())\n",
        "\n",
        "        self.graph = dgl.graph(\n",
        "            (edges_src, edges_dst), num_nodes=nodes_data.shape[0]\n",
        "\n",
        "        )\n",
        "\n",
        "        self.graph.ndata[\"feat\"] = node_features\n",
        "        self.graph.ndata[\"label\"] = node_labels\n",
        "        self.graph.edata[\"weight\"] = edge_features\n",
        "\n",
        "        self.graph=dgl.remove_edges(self.graph, torch.tensor(edge_remove))\n",
        "        n_nodes = nodes_data.shape[0]\n",
        "        n_train = int(n_nodes * 0.6)\n",
        "        n_val = int(n_nodes * 0.2)\n",
        "        train_mask = torch.zeros(n_nodes, dtype=torch.bool)\n",
        "        val_mask = torch.zeros(n_nodes, dtype=torch.bool)\n",
        "        test_mask = torch.zeros(n_nodes, dtype=torch.bool)\n",
        "        train_mask[:n_train] = True\n",
        "        val_mask[n_train : n_train + n_val] = True\n",
        "        test_mask[n_train + n_val :] = True\n",
        "        self.graph.ndata[\"train_mask\"] = train_mask\n",
        "        self.graph.ndata[\"val_mask\"] = val_mask\n",
        "        self.graph.ndata[\"test_mask\"] = test_mask\n",
        "\n",
        "    def __getitem__(self, i):\n",
        "        return self.graph\n",
        "\n",
        "    def __len__(self):\n",
        "        return 1\n",
        "\n",
        "\n",
        "dataset = KarateClubDataset(0.2310352467256318)\n",
        "g = dataset[0]\n",
        "\n",
        "print(g)"
      ]
    },
    {
      "cell_type": "code",
      "execution_count": null,
      "id": "d34b2c91-acb3-4b15-b01c-568dfbec3e2b",
      "metadata": {
        "id": "d34b2c91-acb3-4b15-b01c-568dfbec3e2b"
      },
      "outputs": [],
      "source": [
        "new_g = dgl.compact_graphs(g)\n",
        "train_mask = g.ndata[\"train_mask\"]\n",
        "\n",
        "for i in range(106):\n",
        "    train_mask[i] = True\n",
        "\n",
        "indices_to_change = [4, 105, 84, 27, 98, 88, 18, 65, 9, 2, 5, 49, 99, 69, 86, 67, 7, 28, 78, 70, 18, 74]\n",
        "train_mask[indices_to_change] = False\n",
        "g.ndata[\"train_mask\"]=train_mask\n",
        "\n",
        "test_mask = ~train_mask\n",
        "g.ndata[\"test_mask\"]=test_mask\n",
        "\n",
        "Edge_Data_train = Edge_Data[~(Edge_Data['Src Ids'].isin(indices_to_change)) & ~(Edge_Data['Dst Ids'].isin(indices_to_change)) & Edge_Data['edge weights']>0.8258]\n",
        "Edge_Data_train = Edge_Data_train[Edge_Data_train['edge weights']>0.8258]\n",
        "\n",
        "\n",
        "Edge_Data_test = Edge_Data[Edge_Data['Src Ids'].isin(indices_to_change) & Edge_Data['Dst Ids'].isin(indices_to_change) & Edge_Data['edge weights']>0.8258]\n",
        "Edge_Data_test = Edge_Data_test[Edge_Data_test['edge weights']>0.8258]\n",
        "\n",
        "\n",
        "sg_train=dgl.node_subgraph(g, train_mask)\n",
        "\n",
        "sg_test = dgl.node_subgraph(g, test_mask)\n",
        "\n"
      ]
    },
    {
      "cell_type": "code",
      "source": [
        "sg_train"
      ],
      "metadata": {
        "colab": {
          "base_uri": "https://localhost:8080/"
        },
        "id": "q2O2deAvMG5N",
        "outputId": "dfeb938a-800c-4066-e39d-ed6e887d95b2"
      },
      "id": "q2O2deAvMG5N",
      "execution_count": null,
      "outputs": [
        {
          "output_type": "execute_result",
          "data": {
            "text/plain": [
              "Graph(num_nodes=85, num_edges=483,\n",
              "      ndata_schemes={'feat': Scheme(shape=(1611,), dtype=torch.float64), 'label': Scheme(shape=(), dtype=torch.int8), 'train_mask': Scheme(shape=(), dtype=torch.bool), 'val_mask': Scheme(shape=(), dtype=torch.bool), 'test_mask': Scheme(shape=(), dtype=torch.bool), '_ID': Scheme(shape=(), dtype=torch.int64)}\n",
              "      edata_schemes={'weight': Scheme(shape=(), dtype=torch.float64), '_ID': Scheme(shape=(), dtype=torch.int64)})"
            ]
          },
          "metadata": {},
          "execution_count": 22
        }
      ]
    },
    {
      "cell_type": "code",
      "source": [
        "sg_test"
      ],
      "metadata": {
        "colab": {
          "base_uri": "https://localhost:8080/"
        },
        "id": "Ko4ujY_oMIcf",
        "outputId": "e4cbcaef-5b1e-4f5a-8015-cd369fd560d8"
      },
      "id": "Ko4ujY_oMIcf",
      "execution_count": null,
      "outputs": [
        {
          "output_type": "execute_result",
          "data": {
            "text/plain": [
              "Graph(num_nodes=21, num_edges=43,\n",
              "      ndata_schemes={'feat': Scheme(shape=(1611,), dtype=torch.float64), 'label': Scheme(shape=(), dtype=torch.int8), 'train_mask': Scheme(shape=(), dtype=torch.bool), 'val_mask': Scheme(shape=(), dtype=torch.bool), 'test_mask': Scheme(shape=(), dtype=torch.bool), '_ID': Scheme(shape=(), dtype=torch.int64)}\n",
              "      edata_schemes={'weight': Scheme(shape=(), dtype=torch.float64), '_ID': Scheme(shape=(), dtype=torch.int64)})"
            ]
          },
          "metadata": {},
          "execution_count": 23
        }
      ]
    },
    {
      "cell_type": "code",
      "source": [
        "X_train_df"
      ],
      "metadata": {
        "colab": {
          "base_uri": "https://localhost:8080/",
          "height": 444
        },
        "id": "oSfyjv95d87v",
        "outputId": "129d482e-a75b-482f-eb05-f6fc10609f96"
      },
      "id": "oSfyjv95d87v",
      "execution_count": null,
      "outputs": [
        {
          "output_type": "execute_result",
          "data": {
            "text/plain": [
              "     index         0         1         2         3         4         5  \\\n",
              "0        0 -0.077614 -0.110139 -0.083177 -0.091372 -0.061122 -0.071898   \n",
              "1        1 -0.157743 -0.067425 -0.040432 -0.083037  0.031817 -0.059508   \n",
              "2        2 -0.084722 -0.174556 -0.059669 -0.102845 -0.015705  0.008328   \n",
              "3        3  0.070732 -0.168414  0.041697 -0.033254 -0.006753 -0.046900   \n",
              "4        4 -0.051934  0.031455  0.023305 -0.070472  0.039172  0.001895   \n",
              "..     ...       ...       ...       ...       ...       ...       ...   \n",
              "101    101 -0.081895  0.001788 -0.013596 -0.055783  0.126968 -0.011329   \n",
              "102    102 -0.134849  0.050044 -0.077239 -0.066809  0.021130 -0.058958   \n",
              "103    103 -0.016865 -0.060841 -0.057130 -0.175889  0.045881 -0.030840   \n",
              "104    104 -0.069208 -0.103019 -0.092151 -0.149893 -0.006888 -0.008655   \n",
              "105    105 -0.151601  0.050984 -0.082068 -0.056873  0.001819 -0.162434   \n",
              "\n",
              "            6         7         8  ...       390       391       392  \\\n",
              "0    0.064792  0.176070 -0.035262  ... -1.587959 -0.300416 -1.894177   \n",
              "1    0.076680  0.016258 -0.003858  ... -1.574253  0.957541 -1.598870   \n",
              "2    0.159421  0.064946  0.021386  ...  1.713660  1.052040 -2.476892   \n",
              "3    0.218508  0.192301  0.188826  ...  2.110422  3.030696 -1.338720   \n",
              "4    0.125313  0.065756 -0.002024  ... -2.434065  1.596654  1.660234   \n",
              "..        ...       ...       ...  ...       ...       ...       ...   \n",
              "101  0.108122  0.228808 -0.006570  ...  6.746316 -1.309599 -2.429258   \n",
              "102  0.080543  0.145111 -0.040656  ... -2.153369  0.233604  3.402045   \n",
              "103  0.170754  0.118493 -0.029280  ...  1.725412 -0.259258 -0.411356   \n",
              "104  0.104634  0.179683 -0.153567  ...  1.386976 -2.909556 -4.800436   \n",
              "105  0.080682  0.059041 -0.111787  ...  0.740434  2.957127  3.933397   \n",
              "\n",
              "          393       394       395       396       397       398       399  \n",
              "0   -2.929410  3.389928 -3.152741 -1.857788  0.762862 -0.302391  0.791157  \n",
              "1    1.107444  2.344871  0.149164 -0.038639 -0.368613 -1.293921  0.604497  \n",
              "2   -1.703991 -0.387643  0.748041  1.297474 -2.054082 -0.375736 -1.207121  \n",
              "3   -0.673684 -0.292771  1.745968 -2.598669  0.499676  2.742744 -3.276169  \n",
              "4    4.498322 -1.441708 -0.228406 -0.298763 -0.696673 -0.590469  3.040577  \n",
              "..        ...       ...       ...       ...       ...       ...       ...  \n",
              "101  3.033816 -1.836999 -1.739145  1.366538  2.862081  0.336888  1.405519  \n",
              "102 -0.994408 -0.142571  0.809553  0.238656 -0.746264  0.487069 -0.019559  \n",
              "103 -2.014412  0.608636 -1.047735 -0.268896  0.104826  1.098421 -0.223964  \n",
              "104 -1.903937  1.046101 -1.529731  1.004630  0.947704 -1.433873 -1.095828  \n",
              "105  1.358115 -3.020712 -4.139786 -2.050641 -2.868889 -0.613000  1.110453  \n",
              "\n",
              "[106 rows x 401 columns]"
            ],
            "text/html": [
              "\n",
              "  <div id=\"df-bab13492-75d0-40b1-b566-9f2637acba88\" class=\"colab-df-container\">\n",
              "    <div>\n",
              "<style scoped>\n",
              "    .dataframe tbody tr th:only-of-type {\n",
              "        vertical-align: middle;\n",
              "    }\n",
              "\n",
              "    .dataframe tbody tr th {\n",
              "        vertical-align: top;\n",
              "    }\n",
              "\n",
              "    .dataframe thead th {\n",
              "        text-align: right;\n",
              "    }\n",
              "</style>\n",
              "<table border=\"1\" class=\"dataframe\">\n",
              "  <thead>\n",
              "    <tr style=\"text-align: right;\">\n",
              "      <th></th>\n",
              "      <th>index</th>\n",
              "      <th>0</th>\n",
              "      <th>1</th>\n",
              "      <th>2</th>\n",
              "      <th>3</th>\n",
              "      <th>4</th>\n",
              "      <th>5</th>\n",
              "      <th>6</th>\n",
              "      <th>7</th>\n",
              "      <th>8</th>\n",
              "      <th>...</th>\n",
              "      <th>390</th>\n",
              "      <th>391</th>\n",
              "      <th>392</th>\n",
              "      <th>393</th>\n",
              "      <th>394</th>\n",
              "      <th>395</th>\n",
              "      <th>396</th>\n",
              "      <th>397</th>\n",
              "      <th>398</th>\n",
              "      <th>399</th>\n",
              "    </tr>\n",
              "  </thead>\n",
              "  <tbody>\n",
              "    <tr>\n",
              "      <th>0</th>\n",
              "      <td>0</td>\n",
              "      <td>-0.077614</td>\n",
              "      <td>-0.110139</td>\n",
              "      <td>-0.083177</td>\n",
              "      <td>-0.091372</td>\n",
              "      <td>-0.061122</td>\n",
              "      <td>-0.071898</td>\n",
              "      <td>0.064792</td>\n",
              "      <td>0.176070</td>\n",
              "      <td>-0.035262</td>\n",
              "      <td>...</td>\n",
              "      <td>-1.587959</td>\n",
              "      <td>-0.300416</td>\n",
              "      <td>-1.894177</td>\n",
              "      <td>-2.929410</td>\n",
              "      <td>3.389928</td>\n",
              "      <td>-3.152741</td>\n",
              "      <td>-1.857788</td>\n",
              "      <td>0.762862</td>\n",
              "      <td>-0.302391</td>\n",
              "      <td>0.791157</td>\n",
              "    </tr>\n",
              "    <tr>\n",
              "      <th>1</th>\n",
              "      <td>1</td>\n",
              "      <td>-0.157743</td>\n",
              "      <td>-0.067425</td>\n",
              "      <td>-0.040432</td>\n",
              "      <td>-0.083037</td>\n",
              "      <td>0.031817</td>\n",
              "      <td>-0.059508</td>\n",
              "      <td>0.076680</td>\n",
              "      <td>0.016258</td>\n",
              "      <td>-0.003858</td>\n",
              "      <td>...</td>\n",
              "      <td>-1.574253</td>\n",
              "      <td>0.957541</td>\n",
              "      <td>-1.598870</td>\n",
              "      <td>1.107444</td>\n",
              "      <td>2.344871</td>\n",
              "      <td>0.149164</td>\n",
              "      <td>-0.038639</td>\n",
              "      <td>-0.368613</td>\n",
              "      <td>-1.293921</td>\n",
              "      <td>0.604497</td>\n",
              "    </tr>\n",
              "    <tr>\n",
              "      <th>2</th>\n",
              "      <td>2</td>\n",
              "      <td>-0.084722</td>\n",
              "      <td>-0.174556</td>\n",
              "      <td>-0.059669</td>\n",
              "      <td>-0.102845</td>\n",
              "      <td>-0.015705</td>\n",
              "      <td>0.008328</td>\n",
              "      <td>0.159421</td>\n",
              "      <td>0.064946</td>\n",
              "      <td>0.021386</td>\n",
              "      <td>...</td>\n",
              "      <td>1.713660</td>\n",
              "      <td>1.052040</td>\n",
              "      <td>-2.476892</td>\n",
              "      <td>-1.703991</td>\n",
              "      <td>-0.387643</td>\n",
              "      <td>0.748041</td>\n",
              "      <td>1.297474</td>\n",
              "      <td>-2.054082</td>\n",
              "      <td>-0.375736</td>\n",
              "      <td>-1.207121</td>\n",
              "    </tr>\n",
              "    <tr>\n",
              "      <th>3</th>\n",
              "      <td>3</td>\n",
              "      <td>0.070732</td>\n",
              "      <td>-0.168414</td>\n",
              "      <td>0.041697</td>\n",
              "      <td>-0.033254</td>\n",
              "      <td>-0.006753</td>\n",
              "      <td>-0.046900</td>\n",
              "      <td>0.218508</td>\n",
              "      <td>0.192301</td>\n",
              "      <td>0.188826</td>\n",
              "      <td>...</td>\n",
              "      <td>2.110422</td>\n",
              "      <td>3.030696</td>\n",
              "      <td>-1.338720</td>\n",
              "      <td>-0.673684</td>\n",
              "      <td>-0.292771</td>\n",
              "      <td>1.745968</td>\n",
              "      <td>-2.598669</td>\n",
              "      <td>0.499676</td>\n",
              "      <td>2.742744</td>\n",
              "      <td>-3.276169</td>\n",
              "    </tr>\n",
              "    <tr>\n",
              "      <th>4</th>\n",
              "      <td>4</td>\n",
              "      <td>-0.051934</td>\n",
              "      <td>0.031455</td>\n",
              "      <td>0.023305</td>\n",
              "      <td>-0.070472</td>\n",
              "      <td>0.039172</td>\n",
              "      <td>0.001895</td>\n",
              "      <td>0.125313</td>\n",
              "      <td>0.065756</td>\n",
              "      <td>-0.002024</td>\n",
              "      <td>...</td>\n",
              "      <td>-2.434065</td>\n",
              "      <td>1.596654</td>\n",
              "      <td>1.660234</td>\n",
              "      <td>4.498322</td>\n",
              "      <td>-1.441708</td>\n",
              "      <td>-0.228406</td>\n",
              "      <td>-0.298763</td>\n",
              "      <td>-0.696673</td>\n",
              "      <td>-0.590469</td>\n",
              "      <td>3.040577</td>\n",
              "    </tr>\n",
              "    <tr>\n",
              "      <th>...</th>\n",
              "      <td>...</td>\n",
              "      <td>...</td>\n",
              "      <td>...</td>\n",
              "      <td>...</td>\n",
              "      <td>...</td>\n",
              "      <td>...</td>\n",
              "      <td>...</td>\n",
              "      <td>...</td>\n",
              "      <td>...</td>\n",
              "      <td>...</td>\n",
              "      <td>...</td>\n",
              "      <td>...</td>\n",
              "      <td>...</td>\n",
              "      <td>...</td>\n",
              "      <td>...</td>\n",
              "      <td>...</td>\n",
              "      <td>...</td>\n",
              "      <td>...</td>\n",
              "      <td>...</td>\n",
              "      <td>...</td>\n",
              "      <td>...</td>\n",
              "    </tr>\n",
              "    <tr>\n",
              "      <th>101</th>\n",
              "      <td>101</td>\n",
              "      <td>-0.081895</td>\n",
              "      <td>0.001788</td>\n",
              "      <td>-0.013596</td>\n",
              "      <td>-0.055783</td>\n",
              "      <td>0.126968</td>\n",
              "      <td>-0.011329</td>\n",
              "      <td>0.108122</td>\n",
              "      <td>0.228808</td>\n",
              "      <td>-0.006570</td>\n",
              "      <td>...</td>\n",
              "      <td>6.746316</td>\n",
              "      <td>-1.309599</td>\n",
              "      <td>-2.429258</td>\n",
              "      <td>3.033816</td>\n",
              "      <td>-1.836999</td>\n",
              "      <td>-1.739145</td>\n",
              "      <td>1.366538</td>\n",
              "      <td>2.862081</td>\n",
              "      <td>0.336888</td>\n",
              "      <td>1.405519</td>\n",
              "    </tr>\n",
              "    <tr>\n",
              "      <th>102</th>\n",
              "      <td>102</td>\n",
              "      <td>-0.134849</td>\n",
              "      <td>0.050044</td>\n",
              "      <td>-0.077239</td>\n",
              "      <td>-0.066809</td>\n",
              "      <td>0.021130</td>\n",
              "      <td>-0.058958</td>\n",
              "      <td>0.080543</td>\n",
              "      <td>0.145111</td>\n",
              "      <td>-0.040656</td>\n",
              "      <td>...</td>\n",
              "      <td>-2.153369</td>\n",
              "      <td>0.233604</td>\n",
              "      <td>3.402045</td>\n",
              "      <td>-0.994408</td>\n",
              "      <td>-0.142571</td>\n",
              "      <td>0.809553</td>\n",
              "      <td>0.238656</td>\n",
              "      <td>-0.746264</td>\n",
              "      <td>0.487069</td>\n",
              "      <td>-0.019559</td>\n",
              "    </tr>\n",
              "    <tr>\n",
              "      <th>103</th>\n",
              "      <td>103</td>\n",
              "      <td>-0.016865</td>\n",
              "      <td>-0.060841</td>\n",
              "      <td>-0.057130</td>\n",
              "      <td>-0.175889</td>\n",
              "      <td>0.045881</td>\n",
              "      <td>-0.030840</td>\n",
              "      <td>0.170754</td>\n",
              "      <td>0.118493</td>\n",
              "      <td>-0.029280</td>\n",
              "      <td>...</td>\n",
              "      <td>1.725412</td>\n",
              "      <td>-0.259258</td>\n",
              "      <td>-0.411356</td>\n",
              "      <td>-2.014412</td>\n",
              "      <td>0.608636</td>\n",
              "      <td>-1.047735</td>\n",
              "      <td>-0.268896</td>\n",
              "      <td>0.104826</td>\n",
              "      <td>1.098421</td>\n",
              "      <td>-0.223964</td>\n",
              "    </tr>\n",
              "    <tr>\n",
              "      <th>104</th>\n",
              "      <td>104</td>\n",
              "      <td>-0.069208</td>\n",
              "      <td>-0.103019</td>\n",
              "      <td>-0.092151</td>\n",
              "      <td>-0.149893</td>\n",
              "      <td>-0.006888</td>\n",
              "      <td>-0.008655</td>\n",
              "      <td>0.104634</td>\n",
              "      <td>0.179683</td>\n",
              "      <td>-0.153567</td>\n",
              "      <td>...</td>\n",
              "      <td>1.386976</td>\n",
              "      <td>-2.909556</td>\n",
              "      <td>-4.800436</td>\n",
              "      <td>-1.903937</td>\n",
              "      <td>1.046101</td>\n",
              "      <td>-1.529731</td>\n",
              "      <td>1.004630</td>\n",
              "      <td>0.947704</td>\n",
              "      <td>-1.433873</td>\n",
              "      <td>-1.095828</td>\n",
              "    </tr>\n",
              "    <tr>\n",
              "      <th>105</th>\n",
              "      <td>105</td>\n",
              "      <td>-0.151601</td>\n",
              "      <td>0.050984</td>\n",
              "      <td>-0.082068</td>\n",
              "      <td>-0.056873</td>\n",
              "      <td>0.001819</td>\n",
              "      <td>-0.162434</td>\n",
              "      <td>0.080682</td>\n",
              "      <td>0.059041</td>\n",
              "      <td>-0.111787</td>\n",
              "      <td>...</td>\n",
              "      <td>0.740434</td>\n",
              "      <td>2.957127</td>\n",
              "      <td>3.933397</td>\n",
              "      <td>1.358115</td>\n",
              "      <td>-3.020712</td>\n",
              "      <td>-4.139786</td>\n",
              "      <td>-2.050641</td>\n",
              "      <td>-2.868889</td>\n",
              "      <td>-0.613000</td>\n",
              "      <td>1.110453</td>\n",
              "    </tr>\n",
              "  </tbody>\n",
              "</table>\n",
              "<p>106 rows × 401 columns</p>\n",
              "</div>\n",
              "    <div class=\"colab-df-buttons\">\n",
              "\n",
              "  <div class=\"colab-df-container\">\n",
              "    <button class=\"colab-df-convert\" onclick=\"convertToInteractive('df-bab13492-75d0-40b1-b566-9f2637acba88')\"\n",
              "            title=\"Convert this dataframe to an interactive table.\"\n",
              "            style=\"display:none;\">\n",
              "\n",
              "  <svg xmlns=\"http://www.w3.org/2000/svg\" height=\"24px\" viewBox=\"0 -960 960 960\">\n",
              "    <path d=\"M120-120v-720h720v720H120Zm60-500h600v-160H180v160Zm220 220h160v-160H400v160Zm0 220h160v-160H400v160ZM180-400h160v-160H180v160Zm440 0h160v-160H620v160ZM180-180h160v-160H180v160Zm440 0h160v-160H620v160Z\"/>\n",
              "  </svg>\n",
              "    </button>\n",
              "\n",
              "  <style>\n",
              "    .colab-df-container {\n",
              "      display:flex;\n",
              "      gap: 12px;\n",
              "    }\n",
              "\n",
              "    .colab-df-convert {\n",
              "      background-color: #E8F0FE;\n",
              "      border: none;\n",
              "      border-radius: 50%;\n",
              "      cursor: pointer;\n",
              "      display: none;\n",
              "      fill: #1967D2;\n",
              "      height: 32px;\n",
              "      padding: 0 0 0 0;\n",
              "      width: 32px;\n",
              "    }\n",
              "\n",
              "    .colab-df-convert:hover {\n",
              "      background-color: #E2EBFA;\n",
              "      box-shadow: 0px 1px 2px rgba(60, 64, 67, 0.3), 0px 1px 3px 1px rgba(60, 64, 67, 0.15);\n",
              "      fill: #174EA6;\n",
              "    }\n",
              "\n",
              "    .colab-df-buttons div {\n",
              "      margin-bottom: 4px;\n",
              "    }\n",
              "\n",
              "    [theme=dark] .colab-df-convert {\n",
              "      background-color: #3B4455;\n",
              "      fill: #D2E3FC;\n",
              "    }\n",
              "\n",
              "    [theme=dark] .colab-df-convert:hover {\n",
              "      background-color: #434B5C;\n",
              "      box-shadow: 0px 1px 3px 1px rgba(0, 0, 0, 0.15);\n",
              "      filter: drop-shadow(0px 1px 2px rgba(0, 0, 0, 0.3));\n",
              "      fill: #FFFFFF;\n",
              "    }\n",
              "  </style>\n",
              "\n",
              "    <script>\n",
              "      const buttonEl =\n",
              "        document.querySelector('#df-bab13492-75d0-40b1-b566-9f2637acba88 button.colab-df-convert');\n",
              "      buttonEl.style.display =\n",
              "        google.colab.kernel.accessAllowed ? 'block' : 'none';\n",
              "\n",
              "      async function convertToInteractive(key) {\n",
              "        const element = document.querySelector('#df-bab13492-75d0-40b1-b566-9f2637acba88');\n",
              "        const dataTable =\n",
              "          await google.colab.kernel.invokeFunction('convertToInteractive',\n",
              "                                                    [key], {});\n",
              "        if (!dataTable) return;\n",
              "\n",
              "        const docLinkHtml = 'Like what you see? Visit the ' +\n",
              "          '<a target=\"_blank\" href=https://colab.research.google.com/notebooks/data_table.ipynb>data table notebook</a>'\n",
              "          + ' to learn more about interactive tables.';\n",
              "        element.innerHTML = '';\n",
              "        dataTable['output_type'] = 'display_data';\n",
              "        await google.colab.output.renderOutput(dataTable, element);\n",
              "        const docLink = document.createElement('div');\n",
              "        docLink.innerHTML = docLinkHtml;\n",
              "        element.appendChild(docLink);\n",
              "      }\n",
              "    </script>\n",
              "  </div>\n",
              "\n",
              "\n",
              "<div id=\"df-2af4c0b3-10e5-4655-aaeb-2798f5e60737\">\n",
              "  <button class=\"colab-df-quickchart\" onclick=\"quickchart('df-2af4c0b3-10e5-4655-aaeb-2798f5e60737')\"\n",
              "            title=\"Suggest charts\"\n",
              "            style=\"display:none;\">\n",
              "\n",
              "<svg xmlns=\"http://www.w3.org/2000/svg\" height=\"24px\"viewBox=\"0 0 24 24\"\n",
              "     width=\"24px\">\n",
              "    <g>\n",
              "        <path d=\"M19 3H5c-1.1 0-2 .9-2 2v14c0 1.1.9 2 2 2h14c1.1 0 2-.9 2-2V5c0-1.1-.9-2-2-2zM9 17H7v-7h2v7zm4 0h-2V7h2v10zm4 0h-2v-4h2v4z\"/>\n",
              "    </g>\n",
              "</svg>\n",
              "  </button>\n",
              "\n",
              "<style>\n",
              "  .colab-df-quickchart {\n",
              "      --bg-color: #E8F0FE;\n",
              "      --fill-color: #1967D2;\n",
              "      --hover-bg-color: #E2EBFA;\n",
              "      --hover-fill-color: #174EA6;\n",
              "      --disabled-fill-color: #AAA;\n",
              "      --disabled-bg-color: #DDD;\n",
              "  }\n",
              "\n",
              "  [theme=dark] .colab-df-quickchart {\n",
              "      --bg-color: #3B4455;\n",
              "      --fill-color: #D2E3FC;\n",
              "      --hover-bg-color: #434B5C;\n",
              "      --hover-fill-color: #FFFFFF;\n",
              "      --disabled-bg-color: #3B4455;\n",
              "      --disabled-fill-color: #666;\n",
              "  }\n",
              "\n",
              "  .colab-df-quickchart {\n",
              "    background-color: var(--bg-color);\n",
              "    border: none;\n",
              "    border-radius: 50%;\n",
              "    cursor: pointer;\n",
              "    display: none;\n",
              "    fill: var(--fill-color);\n",
              "    height: 32px;\n",
              "    padding: 0;\n",
              "    width: 32px;\n",
              "  }\n",
              "\n",
              "  .colab-df-quickchart:hover {\n",
              "    background-color: var(--hover-bg-color);\n",
              "    box-shadow: 0 1px 2px rgba(60, 64, 67, 0.3), 0 1px 3px 1px rgba(60, 64, 67, 0.15);\n",
              "    fill: var(--button-hover-fill-color);\n",
              "  }\n",
              "\n",
              "  .colab-df-quickchart-complete:disabled,\n",
              "  .colab-df-quickchart-complete:disabled:hover {\n",
              "    background-color: var(--disabled-bg-color);\n",
              "    fill: var(--disabled-fill-color);\n",
              "    box-shadow: none;\n",
              "  }\n",
              "\n",
              "  .colab-df-spinner {\n",
              "    border: 2px solid var(--fill-color);\n",
              "    border-color: transparent;\n",
              "    border-bottom-color: var(--fill-color);\n",
              "    animation:\n",
              "      spin 1s steps(1) infinite;\n",
              "  }\n",
              "\n",
              "  @keyframes spin {\n",
              "    0% {\n",
              "      border-color: transparent;\n",
              "      border-bottom-color: var(--fill-color);\n",
              "      border-left-color: var(--fill-color);\n",
              "    }\n",
              "    20% {\n",
              "      border-color: transparent;\n",
              "      border-left-color: var(--fill-color);\n",
              "      border-top-color: var(--fill-color);\n",
              "    }\n",
              "    30% {\n",
              "      border-color: transparent;\n",
              "      border-left-color: var(--fill-color);\n",
              "      border-top-color: var(--fill-color);\n",
              "      border-right-color: var(--fill-color);\n",
              "    }\n",
              "    40% {\n",
              "      border-color: transparent;\n",
              "      border-right-color: var(--fill-color);\n",
              "      border-top-color: var(--fill-color);\n",
              "    }\n",
              "    60% {\n",
              "      border-color: transparent;\n",
              "      border-right-color: var(--fill-color);\n",
              "    }\n",
              "    80% {\n",
              "      border-color: transparent;\n",
              "      border-right-color: var(--fill-color);\n",
              "      border-bottom-color: var(--fill-color);\n",
              "    }\n",
              "    90% {\n",
              "      border-color: transparent;\n",
              "      border-bottom-color: var(--fill-color);\n",
              "    }\n",
              "  }\n",
              "</style>\n",
              "\n",
              "  <script>\n",
              "    async function quickchart(key) {\n",
              "      const quickchartButtonEl =\n",
              "        document.querySelector('#' + key + ' button');\n",
              "      quickchartButtonEl.disabled = true;  // To prevent multiple clicks.\n",
              "      quickchartButtonEl.classList.add('colab-df-spinner');\n",
              "      try {\n",
              "        const charts = await google.colab.kernel.invokeFunction(\n",
              "            'suggestCharts', [key], {});\n",
              "      } catch (error) {\n",
              "        console.error('Error during call to suggestCharts:', error);\n",
              "      }\n",
              "      quickchartButtonEl.classList.remove('colab-df-spinner');\n",
              "      quickchartButtonEl.classList.add('colab-df-quickchart-complete');\n",
              "    }\n",
              "    (() => {\n",
              "      let quickchartButtonEl =\n",
              "        document.querySelector('#df-2af4c0b3-10e5-4655-aaeb-2798f5e60737 button');\n",
              "      quickchartButtonEl.style.display =\n",
              "        google.colab.kernel.accessAllowed ? 'block' : 'none';\n",
              "    })();\n",
              "  </script>\n",
              "</div>\n",
              "\n",
              "  <div id=\"id_7408b1c0-38e2-48f7-bc01-9421c53dc63f\">\n",
              "    <style>\n",
              "      .colab-df-generate {\n",
              "        background-color: #E8F0FE;\n",
              "        border: none;\n",
              "        border-radius: 50%;\n",
              "        cursor: pointer;\n",
              "        display: none;\n",
              "        fill: #1967D2;\n",
              "        height: 32px;\n",
              "        padding: 0 0 0 0;\n",
              "        width: 32px;\n",
              "      }\n",
              "\n",
              "      .colab-df-generate:hover {\n",
              "        background-color: #E2EBFA;\n",
              "        box-shadow: 0px 1px 2px rgba(60, 64, 67, 0.3), 0px 1px 3px 1px rgba(60, 64, 67, 0.15);\n",
              "        fill: #174EA6;\n",
              "      }\n",
              "\n",
              "      [theme=dark] .colab-df-generate {\n",
              "        background-color: #3B4455;\n",
              "        fill: #D2E3FC;\n",
              "      }\n",
              "\n",
              "      [theme=dark] .colab-df-generate:hover {\n",
              "        background-color: #434B5C;\n",
              "        box-shadow: 0px 1px 3px 1px rgba(0, 0, 0, 0.15);\n",
              "        filter: drop-shadow(0px 1px 2px rgba(0, 0, 0, 0.3));\n",
              "        fill: #FFFFFF;\n",
              "      }\n",
              "    </style>\n",
              "    <button class=\"colab-df-generate\" onclick=\"generateWithVariable('X_train_df')\"\n",
              "            title=\"Generate code using this dataframe.\"\n",
              "            style=\"display:none;\">\n",
              "\n",
              "  <svg xmlns=\"http://www.w3.org/2000/svg\" height=\"24px\"viewBox=\"0 0 24 24\"\n",
              "       width=\"24px\">\n",
              "    <path d=\"M7,19H8.4L18.45,9,17,7.55,7,17.6ZM5,21V16.75L18.45,3.32a2,2,0,0,1,2.83,0l1.4,1.43a1.91,1.91,0,0,1,.58,1.4,1.91,1.91,0,0,1-.58,1.4L9.25,21ZM18.45,9,17,7.55Zm-12,3A5.31,5.31,0,0,0,4.9,8.1,5.31,5.31,0,0,0,1,6.5,5.31,5.31,0,0,0,4.9,4.9,5.31,5.31,0,0,0,6.5,1,5.31,5.31,0,0,0,8.1,4.9,5.31,5.31,0,0,0,12,6.5,5.46,5.46,0,0,0,6.5,12Z\"/>\n",
              "  </svg>\n",
              "    </button>\n",
              "    <script>\n",
              "      (() => {\n",
              "      const buttonEl =\n",
              "        document.querySelector('#id_7408b1c0-38e2-48f7-bc01-9421c53dc63f button.colab-df-generate');\n",
              "      buttonEl.style.display =\n",
              "        google.colab.kernel.accessAllowed ? 'block' : 'none';\n",
              "\n",
              "      buttonEl.onclick = () => {\n",
              "        google.colab.notebook.generateWithVariable('X_train_df');\n",
              "      }\n",
              "      })();\n",
              "    </script>\n",
              "  </div>\n",
              "\n",
              "    </div>\n",
              "  </div>\n"
            ],
            "application/vnd.google.colaboratory.intrinsic+json": {
              "type": "dataframe",
              "variable_name": "X_train_df"
            }
          },
          "metadata": {},
          "execution_count": 44
        }
      ]
    },
    {
      "cell_type": "code",
      "source": [
        "g.ndata['feat']"
      ],
      "metadata": {
        "colab": {
          "base_uri": "https://localhost:8080/"
        },
        "id": "0N7xzsCvd_Xy",
        "outputId": "0d44e060-5c57-4ff9-9431-7fba50636519"
      },
      "id": "0N7xzsCvd_Xy",
      "execution_count": null,
      "outputs": [
        {
          "output_type": "execute_result",
          "data": {
            "text/plain": [
              "tensor([[-0.0776, -0.1101, -0.0832,  ...,  0.7629, -0.3024,  0.7912],\n",
              "        [-0.1577, -0.0674, -0.0404,  ..., -0.3686, -1.2939,  0.6045],\n",
              "        [-0.0847, -0.1746, -0.0597,  ..., -2.0541, -0.3757, -1.2071],\n",
              "        ...,\n",
              "        [-0.0169, -0.0608, -0.0571,  ...,  0.1048,  1.0984, -0.2240],\n",
              "        [-0.0692, -0.1030, -0.0922,  ...,  0.9477, -1.4339, -1.0958],\n",
              "        [-0.1516,  0.0510, -0.0821,  ..., -2.8689, -0.6130,  1.1105]],\n",
              "       dtype=torch.float64)"
            ]
          },
          "metadata": {},
          "execution_count": 45
        }
      ]
    },
    {
      "cell_type": "code",
      "source": [
        "sg_train.ndata['feat']"
      ],
      "metadata": {
        "colab": {
          "base_uri": "https://localhost:8080/"
        },
        "id": "1nKst0lteHNu",
        "outputId": "1af7f2a0-b4cb-4abd-a8de-f21503f63e80"
      },
      "id": "1nKst0lteHNu",
      "execution_count": null,
      "outputs": [
        {
          "output_type": "execute_result",
          "data": {
            "text/plain": [
              "tensor([[-0.0776, -0.1101, -0.0832,  ...,  0.7629, -0.3024,  0.7912],\n",
              "        [-0.1577, -0.0674, -0.0404,  ..., -0.3686, -1.2939,  0.6045],\n",
              "        [ 0.0707, -0.1684,  0.0417,  ...,  0.4997,  2.7427, -3.2762],\n",
              "        ...,\n",
              "        [-0.1348,  0.0500, -0.0772,  ..., -0.7463,  0.4871, -0.0196],\n",
              "        [-0.0169, -0.0608, -0.0571,  ...,  0.1048,  1.0984, -0.2240],\n",
              "        [-0.0692, -0.1030, -0.0922,  ...,  0.9477, -1.4339, -1.0958]],\n",
              "       dtype=torch.float64)"
            ]
          },
          "metadata": {},
          "execution_count": 46
        }
      ]
    },
    {
      "cell_type": "code",
      "source": [
        "sg_test.ndata['feat']"
      ],
      "metadata": {
        "colab": {
          "base_uri": "https://localhost:8080/"
        },
        "id": "J3qCwqljeLbl",
        "outputId": "143fd10e-a76e-43ce-dbc1-8048a9a942f5"
      },
      "id": "J3qCwqljeLbl",
      "execution_count": null,
      "outputs": [
        {
          "output_type": "execute_result",
          "data": {
            "text/plain": [
              "tensor([[-0.0847, -0.1746, -0.0597,  ..., -2.0541, -0.3757, -1.2071],\n",
              "        [-0.0519,  0.0315,  0.0233,  ..., -0.6967, -0.5905,  3.0406],\n",
              "        [-0.0832, -0.0424,  0.0261,  ...,  0.5933, -0.2588,  1.3672],\n",
              "        ...,\n",
              "        [-0.2060, -0.0624, -0.1066,  ..., -0.7034,  0.7582, -0.9660],\n",
              "        [-0.2610,  0.0329, -0.1627,  ..., -1.4058,  0.1309,  0.6525],\n",
              "        [-0.1516,  0.0510, -0.0821,  ..., -2.8689, -0.6130,  1.1105]],\n",
              "       dtype=torch.float64)"
            ]
          },
          "metadata": {},
          "execution_count": 47
        }
      ]
    },
    {
      "cell_type": "code",
      "execution_count": null,
      "id": "57ba9e91-e07f-435e-aa83-2949c9909810",
      "metadata": {
        "id": "57ba9e91-e07f-435e-aa83-2949c9909810"
      },
      "outputs": [],
      "source": [
        "seed = 42\n",
        "torch.manual_seed(seed)\n",
        "random.seed(seed)\n",
        "np.random.seed(seed)\n",
        "class GCN(nn.Module):\n",
        "    def __init__(self, in_feats, h_feats, num_classes):\n",
        "        super(GCN, self).__init__()\n",
        "        self.conv1 = GraphConv(in_feats, h_feats,norm='both')\n",
        "        self.conv2 = GraphConv(h_feats, num_classes)\n",
        "\n",
        "    def forward(self, g, in_feat):\n",
        "        in_feat = in_feat.float()\n",
        "        h = self.conv1(g, in_feat)\n",
        "        h = F.leaky_relu(h)\n",
        "\n",
        "        h = self.conv2(g, h)\n",
        "        return h"
      ]
    },
    {
      "cell_type": "code",
      "source": [
        "los=[]\n",
        "train_accuracy=[]\n",
        "test_accuracy=[]\n",
        "epoch=[]\n",
        "seed = 42\n",
        "torch.manual_seed(seed)\n",
        "random.seed(seed)\n",
        "np.random.seed(seed)\n",
        "def train(sg_train,sg_test, model):\n",
        "    model.train()\n",
        "\n",
        "    optimizer = torch.optim.Adam(model.parameters(), lr=0.1)\n",
        "    best_train_acc = 0\n",
        "    best_test_acc = 0\n",
        "\n",
        "    features_train = sg_train.ndata[\"feat\"]\n",
        "    labels = g.ndata[\"label\"]\n",
        "    train_mask = g.ndata[\"train_mask\"]\n",
        "    test_mask = g.ndata[\"test_mask\"]\n",
        "\n",
        "\n",
        "    for e in range(350):\n",
        "        # Forward\n",
        "        logits = model(sg_train,features_train)\n",
        "\n",
        "        # Compute prediction\n",
        "        pred = logits.argmax(1)\n",
        "\n",
        "        labels = g.ndata[\"label\"].long()\n",
        "        loss = F.cross_entropy(logits, labels[train_mask])\n",
        "\n",
        "        with torch.no_grad():\n",
        "            model.eval()\n",
        "            logits_test = model(sg_test,sg_test.ndata[\"feat\"])\n",
        "\n",
        "\n",
        "        pred_test = logits_test.argmax(1)\n",
        "\n",
        "        train_acc = (pred == labels[train_mask]).float().mean()\n",
        "        test_acc = (pred_test == labels[test_mask]).float().mean()\n",
        "\n",
        "        if best_train_acc < train_acc:\n",
        "            best_train_acc = train_acc\n",
        "        if best_test_acc < test_acc:\n",
        "            best_test_acc = test_acc\n",
        "\n",
        "        if e == 340:\n",
        "            # Save features h after the first layer at epoch 1430\n",
        "            import numpy as np\n",
        "\n",
        "            feat_train = features_train.clone()\n",
        "            feat_train = feat_train.float()\n",
        "            h_train = model.conv1(sg_train, feat_train)\n",
        "            h_train = F.elu(h_train)\n",
        "            h_train_numpy = h_train.detach().numpy()  # Convert tensor to NumPy array\n",
        "            np.savetxt('train_features.csv',h_train_numpy, delimiter=',')  # Save NumPy array to CSV file\n",
        "            FileLink('train_features.csv')\n",
        "        # Backward\n",
        "            graph_features = g.ndata[\"feat\"].clone()\n",
        "            graph_features = graph_features.float()\n",
        "            graph_features = model.conv1(g, graph_features)\n",
        "            graph_features = F.elu(graph_features)\n",
        "\n",
        "\n",
        "            feat_test =  sg_test.ndata[\"feat\"].clone()\n",
        "            feat_test = feat_test.float()\n",
        "            h_test = model.conv1(sg_test,feat_test)\n",
        "            h_test = F.elu(h_test)\n",
        "            h_test_numpy = h_test.detach().numpy()  # Convert tensor to NumPy array\n",
        "            np.savetxt('test_features.csv',h_test_numpy, delimiter=',')  # Save NumPy array to CSV file\n",
        "            FileLink('test_features.csv')\n",
        "        # Backward\n",
        "\n",
        "\n",
        "# Assuming features_h is a PyTorch tensor\n",
        "            graph_features_numpy = graph_features.detach().numpy()  # Convert tensor to NumPy array\n",
        "            np.savetxt('graph_features.csv',graph_features_numpy, delimiter=',')  # Save NumPy array to CSV file\n",
        "            FileLink('graph_features.csv')\n",
        "\n",
        "            np.savetxt('tree_train_predictions.csv', pred, delimiter=',')\n",
        "            np.savetxt('tree_test_predictions.csv', pred_test, delimiter=',')\n",
        "\n",
        "            FileLink('train_predictions.csv')\n",
        "            FileLink('test_predictions.csv')\n",
        "            print(pred_test)\n",
        "            print(pred_test)\n",
        "\n",
        "        optimizer.zero_grad()\n",
        "        loss.backward()\n",
        "        optimizer.step()\n",
        "\n",
        "\n",
        "\n",
        "\n",
        "        if e % 5 == 0:\n",
        "            epoch.append(e)\n",
        "            los.append(round(loss.item(),3))\n",
        "            train_accuracy.append(round(train_acc.item(),3))\n",
        "            test_accuracy.append(round(test_acc.item(),3))\n",
        "            print(\n",
        "                f\"In epoch {e}, loss: {loss:.3f}, train acc: {train_acc:.3f} (train {best_train_acc:.3f}), test acc: {test_acc:.3f} (best {best_test_acc:.3f})\"\n",
        "            )\n",
        "\n",
        "\n",
        "model = GCN(g.ndata[\"feat\"].shape[1],12, 2)\n",
        "train(sg_train,sg_test,model)"
      ],
      "metadata": {
        "id": "tKH22hLevpUE",
        "colab": {
          "base_uri": "https://localhost:8080/"
        },
        "outputId": "d50fcb64-9e61-48b3-875f-305a4cc80ae3"
      },
      "id": "tKH22hLevpUE",
      "execution_count": null,
      "outputs": [
        {
          "output_type": "stream",
          "name": "stdout",
          "text": [
            "In epoch 0, loss: 0.665, train acc: 0.624 (train 0.624), test acc: 0.476 (best 0.476)\n",
            "In epoch 5, loss: 0.388, train acc: 0.800 (train 0.800), test acc: 0.667 (best 0.667)\n",
            "In epoch 10, loss: 0.350, train acc: 0.800 (train 0.812), test acc: 0.667 (best 0.667)\n",
            "In epoch 15, loss: 0.320, train acc: 0.824 (train 0.824), test acc: 0.667 (best 0.667)\n",
            "In epoch 20, loss: 0.295, train acc: 0.824 (train 0.835), test acc: 0.667 (best 0.667)\n",
            "In epoch 25, loss: 0.269, train acc: 0.835 (train 0.835), test acc: 0.810 (best 0.810)\n",
            "In epoch 30, loss: 0.240, train acc: 0.882 (train 0.894), test acc: 0.857 (best 0.857)\n",
            "In epoch 35, loss: 0.219, train acc: 0.882 (train 0.894), test acc: 0.857 (best 0.857)\n",
            "In epoch 40, loss: 0.204, train acc: 0.894 (train 0.918), test acc: 0.857 (best 0.857)\n",
            "In epoch 45, loss: 0.208, train acc: 0.882 (train 0.918), test acc: 0.857 (best 0.857)\n",
            "In epoch 50, loss: 0.185, train acc: 0.894 (train 0.918), test acc: 0.857 (best 0.857)\n",
            "In epoch 55, loss: 0.178, train acc: 0.918 (train 0.918), test acc: 0.857 (best 0.857)\n",
            "In epoch 60, loss: 0.162, train acc: 0.929 (train 0.929), test acc: 0.857 (best 0.857)\n",
            "In epoch 65, loss: 0.151, train acc: 0.929 (train 0.929), test acc: 0.857 (best 0.857)\n",
            "In epoch 70, loss: 0.143, train acc: 0.929 (train 0.929), test acc: 0.810 (best 0.857)\n",
            "In epoch 75, loss: 0.133, train acc: 0.941 (train 0.941), test acc: 0.810 (best 0.857)\n",
            "In epoch 80, loss: 0.123, train acc: 0.941 (train 0.941), test acc: 0.810 (best 0.857)\n",
            "In epoch 85, loss: 0.117, train acc: 0.941 (train 0.941), test acc: 0.810 (best 0.857)\n",
            "In epoch 90, loss: 0.113, train acc: 0.941 (train 0.941), test acc: 0.762 (best 0.857)\n",
            "In epoch 95, loss: 0.111, train acc: 0.941 (train 0.941), test acc: 0.762 (best 0.857)\n",
            "In epoch 100, loss: 0.110, train acc: 0.941 (train 0.941), test acc: 0.762 (best 0.857)\n",
            "In epoch 105, loss: 0.108, train acc: 0.941 (train 0.941), test acc: 0.762 (best 0.857)\n",
            "In epoch 110, loss: 0.106, train acc: 0.941 (train 0.941), test acc: 0.810 (best 0.857)\n",
            "In epoch 115, loss: 0.105, train acc: 0.941 (train 0.941), test acc: 0.810 (best 0.857)\n",
            "In epoch 120, loss: 0.104, train acc: 0.941 (train 0.941), test acc: 0.810 (best 0.857)\n",
            "In epoch 125, loss: 0.103, train acc: 0.941 (train 0.941), test acc: 0.857 (best 0.857)\n",
            "In epoch 130, loss: 0.104, train acc: 0.941 (train 0.941), test acc: 0.857 (best 0.857)\n",
            "In epoch 135, loss: 0.103, train acc: 0.941 (train 0.941), test acc: 0.857 (best 0.857)\n",
            "In epoch 140, loss: 0.102, train acc: 0.929 (train 0.941), test acc: 0.857 (best 0.857)\n",
            "In epoch 145, loss: 0.101, train acc: 0.941 (train 0.941), test acc: 0.857 (best 0.857)\n",
            "In epoch 150, loss: 0.101, train acc: 0.929 (train 0.941), test acc: 0.857 (best 0.857)\n",
            "In epoch 155, loss: 0.100, train acc: 0.929 (train 0.941), test acc: 0.857 (best 0.857)\n",
            "In epoch 160, loss: 0.100, train acc: 0.929 (train 0.941), test acc: 0.857 (best 0.857)\n",
            "In epoch 165, loss: 0.099, train acc: 0.929 (train 0.941), test acc: 0.857 (best 0.857)\n",
            "In epoch 170, loss: 0.099, train acc: 0.929 (train 0.941), test acc: 0.857 (best 0.857)\n",
            "In epoch 175, loss: 0.099, train acc: 0.929 (train 0.941), test acc: 0.857 (best 0.857)\n",
            "In epoch 180, loss: 0.098, train acc: 0.929 (train 0.941), test acc: 0.857 (best 0.857)\n",
            "In epoch 185, loss: 0.098, train acc: 0.941 (train 0.941), test acc: 0.857 (best 0.857)\n",
            "In epoch 190, loss: 0.097, train acc: 0.953 (train 0.953), test acc: 0.857 (best 0.857)\n",
            "In epoch 195, loss: 0.097, train acc: 0.953 (train 0.953), test acc: 0.857 (best 0.857)\n",
            "In epoch 200, loss: 0.097, train acc: 0.941 (train 0.953), test acc: 0.857 (best 0.857)\n",
            "In epoch 205, loss: 0.097, train acc: 0.953 (train 0.953), test acc: 0.857 (best 0.857)\n",
            "In epoch 210, loss: 0.096, train acc: 0.953 (train 0.953), test acc: 0.857 (best 0.857)\n",
            "In epoch 215, loss: 0.096, train acc: 0.953 (train 0.953), test acc: 0.905 (best 0.905)\n",
            "In epoch 220, loss: 0.096, train acc: 0.953 (train 0.953), test acc: 0.905 (best 0.905)\n",
            "In epoch 225, loss: 0.095, train acc: 0.953 (train 0.953), test acc: 0.905 (best 0.905)\n",
            "In epoch 230, loss: 0.095, train acc: 0.953 (train 0.953), test acc: 0.905 (best 0.905)\n",
            "In epoch 235, loss: 0.095, train acc: 0.953 (train 0.953), test acc: 0.905 (best 0.905)\n",
            "In epoch 240, loss: 0.095, train acc: 0.953 (train 0.953), test acc: 0.905 (best 0.905)\n",
            "In epoch 245, loss: 0.094, train acc: 0.953 (train 0.953), test acc: 0.905 (best 0.905)\n",
            "In epoch 250, loss: 0.094, train acc: 0.953 (train 0.953), test acc: 0.905 (best 0.905)\n",
            "In epoch 255, loss: 0.094, train acc: 0.953 (train 0.953), test acc: 0.905 (best 0.905)\n",
            "In epoch 260, loss: 0.094, train acc: 0.953 (train 0.953), test acc: 0.905 (best 0.905)\n",
            "In epoch 265, loss: 0.093, train acc: 0.953 (train 0.953), test acc: 0.905 (best 0.905)\n",
            "In epoch 270, loss: 0.094, train acc: 0.953 (train 0.953), test acc: 0.905 (best 0.905)\n",
            "In epoch 275, loss: 0.093, train acc: 0.953 (train 0.953), test acc: 0.905 (best 0.905)\n",
            "In epoch 280, loss: 0.093, train acc: 0.941 (train 0.953), test acc: 0.905 (best 0.905)\n",
            "In epoch 285, loss: 0.093, train acc: 0.941 (train 0.953), test acc: 0.905 (best 0.905)\n",
            "In epoch 290, loss: 0.092, train acc: 0.941 (train 0.953), test acc: 0.905 (best 0.905)\n",
            "In epoch 295, loss: 0.092, train acc: 0.941 (train 0.953), test acc: 0.905 (best 0.905)\n",
            "In epoch 300, loss: 0.092, train acc: 0.941 (train 0.953), test acc: 0.905 (best 0.905)\n",
            "In epoch 305, loss: 0.102, train acc: 0.941 (train 0.953), test acc: 0.905 (best 0.905)\n",
            "In epoch 310, loss: 0.096, train acc: 0.953 (train 0.953), test acc: 0.905 (best 0.905)\n",
            "In epoch 315, loss: 0.093, train acc: 0.953 (train 0.953), test acc: 0.905 (best 0.905)\n",
            "In epoch 320, loss: 0.092, train acc: 0.953 (train 0.953), test acc: 0.905 (best 0.905)\n",
            "In epoch 325, loss: 0.091, train acc: 0.941 (train 0.965), test acc: 0.905 (best 0.905)\n",
            "In epoch 330, loss: 0.091, train acc: 0.941 (train 0.965), test acc: 0.905 (best 0.905)\n",
            "In epoch 335, loss: 0.090, train acc: 0.941 (train 0.965), test acc: 0.905 (best 0.905)\n",
            "tensor([0, 0, 0, 0, 0, 1, 0, 1, 1, 0, 0, 0, 0, 0, 0, 0, 0, 0, 0, 0, 0])\n",
            "tensor([0, 0, 0, 0, 0, 1, 0, 1, 1, 0, 0, 0, 0, 0, 0, 0, 0, 0, 0, 0, 0])\n",
            "In epoch 340, loss: 0.090, train acc: 0.941 (train 0.965), test acc: 0.905 (best 0.905)\n",
            "In epoch 345, loss: 0.090, train acc: 0.941 (train 0.965), test acc: 0.905 (best 0.905)\n"
          ]
        }
      ]
    },
    {
      "cell_type": "code",
      "source": [
        "features_h"
      ],
      "metadata": {
        "colab": {
          "base_uri": "https://localhost:8080/",
          "height": 144
        },
        "id": "dHukagtmiSPF",
        "outputId": "f3c4f307-79ae-440e-ab7d-e6375f0bf61a"
      },
      "id": "dHukagtmiSPF",
      "execution_count": null,
      "outputs": [
        {
          "output_type": "error",
          "ename": "NameError",
          "evalue": "name 'features_h' is not defined",
          "traceback": [
            "\u001b[0;31m---------------------------------------------------------------------------\u001b[0m",
            "\u001b[0;31mNameError\u001b[0m                                 Traceback (most recent call last)",
            "\u001b[0;32m<ipython-input-85-82a253ee0063>\u001b[0m in \u001b[0;36m<cell line: 1>\u001b[0;34m()\u001b[0m\n\u001b[0;32m----> 1\u001b[0;31m \u001b[0mfeatures_h\u001b[0m\u001b[0;34m\u001b[0m\u001b[0;34m\u001b[0m\u001b[0m\n\u001b[0m",
            "\u001b[0;31mNameError\u001b[0m: name 'features_h' is not defined"
          ]
        }
      ]
    },
    {
      "cell_type": "code",
      "source": [
        "import os\n",
        "\n",
        "os.environ[\"DGLBACKEND\"] = \"pytorch\"\n",
        "import dgl\n",
        "import torch\n",
        "from dgl.data import DGLDataset\n",
        "\n",
        "\n",
        "class KarateClubDataset(DGLDataset):\n",
        "    def __init__(self,params):\n",
        "        self.params=params\n",
        "        #self.threshold=threshold\n",
        "        super().__init__(name=\"karate_club\")\n",
        "        self.process()\n",
        "    def process(self):\n",
        "        edge_remove=[]\n",
        "        C=edge_weights\n",
        "        for i in range(0,len(C)):\n",
        "            if C[i]<=self.params['percentile']:\n",
        "                edge_remove.append(i)\n",
        "        nodes_data = Nodes_Data\n",
        "        edges_data = Edge_Data\n",
        "        features_array = np.array(nodes_data[\"features\"].tolist(), dtype=float)\n",
        "        node_features = torch.from_numpy(features_array)\n",
        "        node_labels = torch.from_numpy(\n",
        "                      nodes_data[\"label\"].astype(\"category\").cat.codes.to_numpy()\n",
        "                       ).clone().detach()\n",
        "        edge_features = torch.from_numpy(edges_data[\"edge weights\"].to_numpy())\n",
        "        edges_src = torch.from_numpy(edges_data[\"Src Ids\"].to_numpy())\n",
        "        edges_dst = torch.from_numpy(edges_data[\"Dst Ids\"].to_numpy())\n",
        "        self.graph = dgl.graph(\n",
        "            (edges_src, edges_dst), num_nodes=nodes_data.shape[0]\n",
        "        )\n",
        "        self.graph.ndata[\"feat\"] = node_features\n",
        "        self.graph.ndata[\"label\"] = node_labels\n",
        "        self.graph.edata[\"weight\"] = edge_features\n",
        "\n",
        "        self.graph=dgl.remove_edges(self.graph, torch.tensor(edge_remove))\n",
        "        n_nodes = nodes_data.shape[0]\n",
        "        n_train = int(n_nodes * 0.6)\n",
        "        n_val = int(n_nodes * 0.2)\n",
        "        train_mask = torch.zeros(n_nodes, dtype=torch.bool)\n",
        "        val_mask = torch.zeros(n_nodes, dtype=torch.bool)\n",
        "        test_mask = torch.zeros(n_nodes, dtype=torch.bool)\n",
        "        train_mask[:n_train] = True\n",
        "        val_mask[n_train : n_train + n_val] = True\n",
        "        test_mask[n_train + n_val :] = True\n",
        "        self.graph.ndata[\"train_mask\"] = train_mask\n",
        "        self.graph.ndata[\"val_mask\"] = val_mask\n",
        "        self.graph.ndata[\"test_mask\"] = test_mask\n",
        "\n",
        "    def __getitem__(self, i):\n",
        "        return self.graph\n",
        "\n",
        "    def __len__(self):\n",
        "        return 1"
      ],
      "metadata": {
        "id": "vOnTCKaZwBfm"
      },
      "id": "vOnTCKaZwBfm",
      "execution_count": null,
      "outputs": []
    },
    {
      "cell_type": "code",
      "source": [
        "seed = 42\n",
        "torch.manual_seed(seed)\n",
        "random.seed(seed)\n",
        "np.random.seed(seed)\n",
        "\n",
        "\n",
        "class GCN(nn.Module):\n",
        "    def __init__(self,in_feats,params,num_classes):\n",
        "        super(GCN, self).__init__()\n",
        "        self.conv1 = GraphConv(in_feats, params['output_features'])\n",
        "        self.conv2 = GraphConv(params['output_features'], num_classes)\n",
        "\n",
        "    def forward(self, g,in_feat,params):\n",
        "        in_feat = in_feat.float()\n",
        "        h = self.conv1(g, in_feat)\n",
        "        h = getattr(F, params['activation'])(h)\n",
        "        h = self.conv2(g, h)\n",
        "        return h"
      ],
      "metadata": {
        "id": "s98khP4RwRm4"
      },
      "id": "s98khP4RwRm4",
      "execution_count": null,
      "outputs": []
    },
    {
      "cell_type": "code",
      "source": [
        "los=[]\n",
        "train_accuracy=[]\n",
        "test_accuracy=[]\n",
        "TT=[]\n",
        "CT=[]\n",
        "epoch=[]\n",
        "seed = 42\n",
        "torch.manual_seed(seed)\n",
        "random.seed(seed)\n",
        "np.random.seed(seed)\n",
        "import torch.optim as optim\n",
        "import torch.nn.functional as F\n",
        "def train(g,sg_train,sg_test, model,params):\n",
        "    model.train()\n",
        "    optimizer = getattr(optim, params['optimizer'])(model.parameters(), lr= params['learning_rate'])\n",
        "    best_train_acc = 0\n",
        "    best_test_acc = 0\n",
        "    corresponding_test=0\n",
        "\n",
        "    features_train = sg_train.ndata[\"feat\"]\n",
        "    labels = g.ndata[\"label\"]\n",
        "    train_mask = g.ndata[\"train_mask\"]\n",
        "    test_mask = g.ndata[\"test_mask\"]\n",
        "\n",
        "\n",
        "    for e in range(100):\n",
        "        # Forward\n",
        "        logits = model(sg_train,features_train,params)\n",
        "\n",
        "\n",
        "        # Compute prediction\n",
        "        pred = logits.argmax(1)\n",
        "\n",
        "\n",
        "        labels = g.ndata[\"label\"].long()\n",
        "        if params['loss'] == 'binary_cross_entropy':\n",
        "            loss = getattr(F, params['loss'])(torch.sigmoid(logits), labels[train_mask])\n",
        "        else:\n",
        "            loss = getattr(F, params['loss'])(logits, labels[train_mask])\n",
        "\n",
        "        with torch.no_grad():\n",
        "            model.eval()\n",
        "            logits_test = model(sg_test,sg_test.ndata[\"feat\"],params)\n",
        "\n",
        "\n",
        "        pred_test = logits_test.argmax(1)\n",
        "\n",
        "        train_acc = (pred == labels[train_mask]).float().mean()\n",
        "        test_acc = (pred_test == labels[test_mask]).float().mean()\n",
        "\n",
        "        if best_train_acc < train_acc:\n",
        "            best_train_acc = train_acc\n",
        "            corresponding_test=test_acc\n",
        "        if best_test_acc < test_acc:\n",
        "            best_test_acc = test_acc\n",
        "\n",
        "\n",
        "        # Backward\n",
        "        optimizer.zero_grad()\n",
        "        loss.backward()\n",
        "        optimizer.step()\n",
        "\n",
        "\n",
        "        if e % 5 == 0:\n",
        "            epoch.append(e)\n",
        "            los.append(round(loss.item(),3))\n",
        "            train_accuracy.append(round(train_acc.item(),3))\n",
        "\n",
        "    TT.append({'train_accuracy':best_train_acc})\n",
        "    CT.append({'test_accuracy': corresponding_test})\n",
        "\n",
        "    print(f'Train Accuracy: {best_train_acc}, Test Accuracy: {corresponding_test}')\n",
        "    return best_train_acc"
      ],
      "metadata": {
        "id": "ls8Rsgc5wSEd"
      },
      "id": "ls8Rsgc5wSEd",
      "execution_count": null,
      "outputs": []
    },
    {
      "cell_type": "code",
      "source": [
        "!pip install optuna\n",
        "import optuna"
      ],
      "metadata": {
        "colab": {
          "base_uri": "https://localhost:8080/"
        },
        "id": "fgGHl72bwikI",
        "outputId": "4855ff7f-1c85-4bd5-df96-5e95b4ad23ce"
      },
      "id": "fgGHl72bwikI",
      "execution_count": null,
      "outputs": [
        {
          "output_type": "stream",
          "name": "stdout",
          "text": [
            "Collecting optuna\n",
            "  Downloading optuna-3.6.1-py3-none-any.whl (380 kB)\n",
            "\u001b[2K     \u001b[90m━━━━━━━━━━━━━━━━━━━━━━━━━━━━━━━━━━━━━━━━\u001b[0m \u001b[32m380.1/380.1 kB\u001b[0m \u001b[31m6.8 MB/s\u001b[0m eta \u001b[36m0:00:00\u001b[0m\n",
            "\u001b[?25hCollecting alembic>=1.5.0 (from optuna)\n",
            "  Downloading alembic-1.13.1-py3-none-any.whl (233 kB)\n",
            "\u001b[2K     \u001b[90m━━━━━━━━━━━━━━━━━━━━━━━━━━━━━━━━━━━━━━━━\u001b[0m \u001b[32m233.4/233.4 kB\u001b[0m \u001b[31m10.8 MB/s\u001b[0m eta \u001b[36m0:00:00\u001b[0m\n",
            "\u001b[?25hCollecting colorlog (from optuna)\n",
            "  Downloading colorlog-6.8.2-py3-none-any.whl (11 kB)\n",
            "Requirement already satisfied: numpy in /usr/local/lib/python3.10/dist-packages (from optuna) (1.25.2)\n",
            "Requirement already satisfied: packaging>=20.0 in /usr/local/lib/python3.10/dist-packages (from optuna) (24.0)\n",
            "Requirement already satisfied: sqlalchemy>=1.3.0 in /usr/local/lib/python3.10/dist-packages (from optuna) (2.0.30)\n",
            "Requirement already satisfied: tqdm in /usr/local/lib/python3.10/dist-packages (from optuna) (4.66.4)\n",
            "Requirement already satisfied: PyYAML in /usr/local/lib/python3.10/dist-packages (from optuna) (6.0.1)\n",
            "Collecting Mako (from alembic>=1.5.0->optuna)\n",
            "  Downloading Mako-1.3.5-py3-none-any.whl (78 kB)\n",
            "\u001b[2K     \u001b[90m━━━━━━━━━━━━━━━━━━━━━━━━━━━━━━━━━━━━━━━━\u001b[0m \u001b[32m78.6/78.6 kB\u001b[0m \u001b[31m5.9 MB/s\u001b[0m eta \u001b[36m0:00:00\u001b[0m\n",
            "\u001b[?25hRequirement already satisfied: typing-extensions>=4 in /usr/local/lib/python3.10/dist-packages (from alembic>=1.5.0->optuna) (4.11.0)\n",
            "Requirement already satisfied: greenlet!=0.4.17 in /usr/local/lib/python3.10/dist-packages (from sqlalchemy>=1.3.0->optuna) (3.0.3)\n",
            "Requirement already satisfied: MarkupSafe>=0.9.2 in /usr/local/lib/python3.10/dist-packages (from Mako->alembic>=1.5.0->optuna) (2.1.5)\n",
            "Installing collected packages: Mako, colorlog, alembic, optuna\n",
            "Successfully installed Mako-1.3.5 alembic-1.13.1 colorlog-6.8.2 optuna-3.6.1\n"
          ]
        }
      ]
    },
    {
      "cell_type": "code",
      "source": [
        "percentiles=[round(0.2310352467256318,4)]"
      ],
      "metadata": {
        "id": "TEeEjr-gwipT"
      },
      "id": "TEeEjr-gwipT",
      "execution_count": null,
      "outputs": []
    },
    {
      "cell_type": "code",
      "source": [
        "def objective(trial):\n",
        "    percentile_values=[percentiles[0]]\n",
        "    learning_rate=[0.01,0.1,1,10,100,200]\n",
        "    output_features=[10,12,14,16,18,20,22]\n",
        "    params={'output_features':trial.suggest_categorical('output_features',output_features),\n",
        "           'optimizer':trial.suggest_categorical('optimizer',[\"Adam\", \"RMSprop\", \"SGD\"]),\n",
        "           'percentile':trial.suggest_categorical('percentile',percentile_values),\n",
        "           'learning_rate':trial.suggest_categorical('learning_rate',learning_rate),\n",
        "           'loss':trial.suggest_categorical('loss',['cross_entropy']),\n",
        "           'activation':trial.suggest_categorical('activation',['relu','selu','elu','leaky_relu','tanh'])}\n",
        "    dataset = KarateClubDataset(params)\n",
        "    g = dataset[0]\n",
        "    train_mask = g.ndata[\"train_mask\"]\n",
        "    for i in range(106):\n",
        "        train_mask[i] = True\n",
        "\n",
        "    indices_to_change = [4, 105, 84, 27, 98, 88, 18, 65, 9, 2, 5, 49, 99, 69, 86, 67, 7, 28, 78, 70, 18, 74]\n",
        "    train_mask[indices_to_change] = False\n",
        "    g.ndata[\"train_mask\"]=train_mask\n",
        "    test_mask = ~train_mask\n",
        "    g.ndata[\"test_mask\"]=test_mask\n",
        "    sg_train=dgl.node_subgraph(g, train_mask)\n",
        "    sg_test = dgl.node_subgraph(g, test_mask)\n",
        "    model=GCN(g.ndata[\"feat\"].shape[1],params, 2)\n",
        "    accuracy=train(g,sg_train,sg_test,model,params)\n",
        "    return accuracy"
      ],
      "metadata": {
        "id": "rSyGDfHgwy1t"
      },
      "id": "rSyGDfHgwy1t",
      "execution_count": null,
      "outputs": []
    },
    {
      "cell_type": "code",
      "source": [
        "study = optuna.create_study(direction=\"maximize\")\n",
        "study.optimize(objective, n_trials=630)"
      ],
      "metadata": {
        "colab": {
          "base_uri": "https://localhost:8080/"
        },
        "id": "bpRxquLowy5P",
        "outputId": "a3a6c683-011a-4812-9d83-d31c731ca081"
      },
      "id": "bpRxquLowy5P",
      "execution_count": null,
      "outputs": [
        {
          "output_type": "stream",
          "name": "stderr",
          "text": [
            "[I 2024-06-02 06:02:02,083] A new study created in memory with name: no-name-20ed4064-36d9-452f-a15e-e93fd3988260\n",
            "<ipython-input-12-a8f79a39848d>:25: UserWarning: The given NumPy array is not writable, and PyTorch does not support non-writable tensors. This means writing to this tensor will result in undefined behavior. You may want to copy the array to protect its data or make it writable before converting it to a tensor. This type of warning will be suppressed for the rest of this program. (Triggered internally at ../torch/csrc/utils/tensor_numpy.cpp:206.)\n",
            "  node_labels = torch.from_numpy(\n",
            "[I 2024-06-02 06:02:02,949] Trial 0 finished with value: 0.7764706015586853 and parameters: {'output_features': 22, 'optimizer': 'SGD', 'percentile': 0.231, 'learning_rate': 0.01, 'loss': 'cross_entropy', 'activation': 'elu'}. Best is trial 0 with value: 0.7764706015586853.\n"
          ]
        },
        {
          "output_type": "stream",
          "name": "stdout",
          "text": [
            "Train Accuracy: 0.7764706015586853, Test Accuracy: 0.5714285969734192\n"
          ]
        },
        {
          "output_type": "stream",
          "name": "stderr",
          "text": [
            "[I 2024-06-02 06:02:03,747] Trial 1 finished with value: 0.7176470756530762 and parameters: {'output_features': 10, 'optimizer': 'RMSprop', 'percentile': 0.231, 'learning_rate': 200, 'loss': 'cross_entropy', 'activation': 'relu'}. Best is trial 0 with value: 0.7764706015586853.\n"
          ]
        },
        {
          "output_type": "stream",
          "name": "stdout",
          "text": [
            "Train Accuracy: 0.7176470756530762, Test Accuracy: 0.761904776096344\n"
          ]
        },
        {
          "output_type": "stream",
          "name": "stderr",
          "text": [
            "[I 2024-06-02 06:02:04,554] Trial 2 finished with value: 0.8823529481887817 and parameters: {'output_features': 10, 'optimizer': 'RMSprop', 'percentile': 0.231, 'learning_rate': 0.01, 'loss': 'cross_entropy', 'activation': 'elu'}. Best is trial 2 with value: 0.8823529481887817.\n"
          ]
        },
        {
          "output_type": "stream",
          "name": "stdout",
          "text": [
            "Train Accuracy: 0.8823529481887817, Test Accuracy: 0.4761904776096344\n"
          ]
        },
        {
          "output_type": "stream",
          "name": "stderr",
          "text": [
            "[I 2024-06-02 06:02:05,325] Trial 3 finished with value: 0.7882353067398071 and parameters: {'output_features': 16, 'optimizer': 'SGD', 'percentile': 0.231, 'learning_rate': 0.01, 'loss': 'cross_entropy', 'activation': 'selu'}. Best is trial 2 with value: 0.8823529481887817.\n"
          ]
        },
        {
          "output_type": "stream",
          "name": "stdout",
          "text": [
            "Train Accuracy: 0.7882353067398071, Test Accuracy: 0.761904776096344\n"
          ]
        },
        {
          "output_type": "stream",
          "name": "stderr",
          "text": [
            "[I 2024-06-02 06:02:06,132] Trial 4 finished with value: 0.729411780834198 and parameters: {'output_features': 12, 'optimizer': 'RMSprop', 'percentile': 0.231, 'learning_rate': 10, 'loss': 'cross_entropy', 'activation': 'relu'}. Best is trial 2 with value: 0.8823529481887817.\n"
          ]
        },
        {
          "output_type": "stream",
          "name": "stdout",
          "text": [
            "Train Accuracy: 0.729411780834198, Test Accuracy: 0.761904776096344\n"
          ]
        },
        {
          "output_type": "stream",
          "name": "stderr",
          "text": [
            "[I 2024-06-02 06:02:06,898] Trial 5 finished with value: 0.800000011920929 and parameters: {'output_features': 14, 'optimizer': 'SGD', 'percentile': 0.231, 'learning_rate': 100, 'loss': 'cross_entropy', 'activation': 'tanh'}. Best is trial 2 with value: 0.8823529481887817.\n"
          ]
        },
        {
          "output_type": "stream",
          "name": "stdout",
          "text": [
            "Train Accuracy: 0.800000011920929, Test Accuracy: 0.6190476417541504\n"
          ]
        },
        {
          "output_type": "stream",
          "name": "stderr",
          "text": [
            "[I 2024-06-02 06:02:07,684] Trial 6 finished with value: 0.7764706015586853 and parameters: {'output_features': 22, 'optimizer': 'RMSprop', 'percentile': 0.231, 'learning_rate': 10, 'loss': 'cross_entropy', 'activation': 'relu'}. Best is trial 2 with value: 0.8823529481887817.\n"
          ]
        },
        {
          "output_type": "stream",
          "name": "stdout",
          "text": [
            "Train Accuracy: 0.7764706015586853, Test Accuracy: 0.761904776096344\n"
          ]
        },
        {
          "output_type": "stream",
          "name": "stderr",
          "text": [
            "[I 2024-06-02 06:02:08,468] Trial 7 finished with value: 0.8941176533699036 and parameters: {'output_features': 16, 'optimizer': 'RMSprop', 'percentile': 0.231, 'learning_rate': 0.01, 'loss': 'cross_entropy', 'activation': 'relu'}. Best is trial 7 with value: 0.8941176533699036.\n"
          ]
        },
        {
          "output_type": "stream",
          "name": "stdout",
          "text": [
            "Train Accuracy: 0.8941176533699036, Test Accuracy: 0.6190476417541504\n"
          ]
        },
        {
          "output_type": "stream",
          "name": "stderr",
          "text": [
            "[I 2024-06-02 06:02:09,275] Trial 8 finished with value: 0.9176470637321472 and parameters: {'output_features': 10, 'optimizer': 'Adam', 'percentile': 0.231, 'learning_rate': 0.01, 'loss': 'cross_entropy', 'activation': 'leaky_relu'}. Best is trial 8 with value: 0.9176470637321472.\n"
          ]
        },
        {
          "output_type": "stream",
          "name": "stdout",
          "text": [
            "Train Accuracy: 0.9176470637321472, Test Accuracy: 0.7142857313156128\n"
          ]
        },
        {
          "output_type": "stream",
          "name": "stderr",
          "text": [
            "[I 2024-06-02 06:02:10,068] Trial 9 finished with value: 0.8941176533699036 and parameters: {'output_features': 16, 'optimizer': 'RMSprop', 'percentile': 0.231, 'learning_rate': 0.01, 'loss': 'cross_entropy', 'activation': 'elu'}. Best is trial 8 with value: 0.9176470637321472.\n"
          ]
        },
        {
          "output_type": "stream",
          "name": "stdout",
          "text": [
            "Train Accuracy: 0.8941176533699036, Test Accuracy: 0.4761904776096344\n"
          ]
        },
        {
          "output_type": "stream",
          "name": "stderr",
          "text": [
            "[I 2024-06-02 06:02:10,923] Trial 10 finished with value: 0.8941176533699036 and parameters: {'output_features': 20, 'optimizer': 'Adam', 'percentile': 0.231, 'learning_rate': 1, 'loss': 'cross_entropy', 'activation': 'leaky_relu'}. Best is trial 8 with value: 0.9176470637321472.\n"
          ]
        },
        {
          "output_type": "stream",
          "name": "stdout",
          "text": [
            "Train Accuracy: 0.8941176533699036, Test Accuracy: 0.523809552192688\n"
          ]
        },
        {
          "output_type": "stream",
          "name": "stderr",
          "text": [
            "[I 2024-06-02 06:02:12,010] Trial 11 finished with value: 0.9764705896377563 and parameters: {'output_features': 18, 'optimizer': 'Adam', 'percentile': 0.231, 'learning_rate': 0.1, 'loss': 'cross_entropy', 'activation': 'leaky_relu'}. Best is trial 11 with value: 0.9764705896377563.\n"
          ]
        },
        {
          "output_type": "stream",
          "name": "stdout",
          "text": [
            "Train Accuracy: 0.9764705896377563, Test Accuracy: 0.5714285969734192\n"
          ]
        },
        {
          "output_type": "stream",
          "name": "stderr",
          "text": [
            "[I 2024-06-02 06:02:13,196] Trial 12 finished with value: 0.9647058844566345 and parameters: {'output_features': 18, 'optimizer': 'Adam', 'percentile': 0.231, 'learning_rate': 0.1, 'loss': 'cross_entropy', 'activation': 'leaky_relu'}. Best is trial 11 with value: 0.9764705896377563.\n"
          ]
        },
        {
          "output_type": "stream",
          "name": "stdout",
          "text": [
            "Train Accuracy: 0.9647058844566345, Test Accuracy: 0.7142857313156128\n"
          ]
        },
        {
          "output_type": "stream",
          "name": "stderr",
          "text": [
            "[I 2024-06-02 06:02:14,428] Trial 13 finished with value: 0.929411768913269 and parameters: {'output_features': 18, 'optimizer': 'Adam', 'percentile': 0.231, 'learning_rate': 0.1, 'loss': 'cross_entropy', 'activation': 'leaky_relu'}. Best is trial 11 with value: 0.9764705896377563.\n"
          ]
        },
        {
          "output_type": "stream",
          "name": "stdout",
          "text": [
            "Train Accuracy: 0.929411768913269, Test Accuracy: 0.7142857313156128\n"
          ]
        },
        {
          "output_type": "stream",
          "name": "stderr",
          "text": [
            "[I 2024-06-02 06:02:15,268] Trial 14 finished with value: 0.9764705896377563 and parameters: {'output_features': 18, 'optimizer': 'Adam', 'percentile': 0.231, 'learning_rate': 0.1, 'loss': 'cross_entropy', 'activation': 'leaky_relu'}. Best is trial 11 with value: 0.9764705896377563.\n"
          ]
        },
        {
          "output_type": "stream",
          "name": "stdout",
          "text": [
            "Train Accuracy: 0.9764705896377563, Test Accuracy: 0.8095238208770752\n"
          ]
        },
        {
          "output_type": "stream",
          "name": "stderr",
          "text": [
            "[I 2024-06-02 06:02:16,127] Trial 15 finished with value: 0.9647058844566345 and parameters: {'output_features': 18, 'optimizer': 'Adam', 'percentile': 0.231, 'learning_rate': 0.1, 'loss': 'cross_entropy', 'activation': 'leaky_relu'}. Best is trial 11 with value: 0.9764705896377563.\n"
          ]
        },
        {
          "output_type": "stream",
          "name": "stdout",
          "text": [
            "Train Accuracy: 0.9647058844566345, Test Accuracy: 0.5714285969734192\n"
          ]
        },
        {
          "output_type": "stream",
          "name": "stderr",
          "text": [
            "[I 2024-06-02 06:02:17,026] Trial 16 finished with value: 0.8941176533699036 and parameters: {'output_features': 18, 'optimizer': 'Adam', 'percentile': 0.231, 'learning_rate': 0.1, 'loss': 'cross_entropy', 'activation': 'tanh'}. Best is trial 11 with value: 0.9764705896377563.\n"
          ]
        },
        {
          "output_type": "stream",
          "name": "stdout",
          "text": [
            "Train Accuracy: 0.8941176533699036, Test Accuracy: 0.4285714328289032\n"
          ]
        },
        {
          "output_type": "stream",
          "name": "stderr",
          "text": [
            "[I 2024-06-02 06:02:17,892] Trial 17 finished with value: 0.9764705896377563 and parameters: {'output_features': 18, 'optimizer': 'Adam', 'percentile': 0.231, 'learning_rate': 0.1, 'loss': 'cross_entropy', 'activation': 'selu'}. Best is trial 11 with value: 0.9764705896377563.\n"
          ]
        },
        {
          "output_type": "stream",
          "name": "stdout",
          "text": [
            "Train Accuracy: 0.9764705896377563, Test Accuracy: 0.4761904776096344\n"
          ]
        },
        {
          "output_type": "stream",
          "name": "stderr",
          "text": [
            "[I 2024-06-02 06:02:18,731] Trial 18 finished with value: 0.8705882430076599 and parameters: {'output_features': 20, 'optimizer': 'Adam', 'percentile': 0.231, 'learning_rate': 100, 'loss': 'cross_entropy', 'activation': 'leaky_relu'}. Best is trial 11 with value: 0.9764705896377563.\n"
          ]
        },
        {
          "output_type": "stream",
          "name": "stdout",
          "text": [
            "Train Accuracy: 0.8705882430076599, Test Accuracy: 0.761904776096344\n"
          ]
        },
        {
          "output_type": "stream",
          "name": "stderr",
          "text": [
            "[I 2024-06-02 06:02:19,551] Trial 19 finished with value: 0.8588235378265381 and parameters: {'output_features': 14, 'optimizer': 'Adam', 'percentile': 0.231, 'learning_rate': 200, 'loss': 'cross_entropy', 'activation': 'leaky_relu'}. Best is trial 11 with value: 0.9764705896377563.\n"
          ]
        },
        {
          "output_type": "stream",
          "name": "stdout",
          "text": [
            "Train Accuracy: 0.8588235378265381, Test Accuracy: 0.761904776096344\n"
          ]
        },
        {
          "output_type": "stream",
          "name": "stderr",
          "text": [
            "[I 2024-06-02 06:02:20,359] Trial 20 finished with value: 0.8823529481887817 and parameters: {'output_features': 12, 'optimizer': 'Adam', 'percentile': 0.231, 'learning_rate': 1, 'loss': 'cross_entropy', 'activation': 'leaky_relu'}. Best is trial 11 with value: 0.9764705896377563.\n"
          ]
        },
        {
          "output_type": "stream",
          "name": "stdout",
          "text": [
            "Train Accuracy: 0.8823529481887817, Test Accuracy: 0.6190476417541504\n"
          ]
        },
        {
          "output_type": "stream",
          "name": "stderr",
          "text": [
            "[I 2024-06-02 06:02:21,186] Trial 21 finished with value: 0.929411768913269 and parameters: {'output_features': 18, 'optimizer': 'Adam', 'percentile': 0.231, 'learning_rate': 0.1, 'loss': 'cross_entropy', 'activation': 'selu'}. Best is trial 11 with value: 0.9764705896377563.\n"
          ]
        },
        {
          "output_type": "stream",
          "name": "stdout",
          "text": [
            "Train Accuracy: 0.929411768913269, Test Accuracy: 0.380952388048172\n"
          ]
        },
        {
          "output_type": "stream",
          "name": "stderr",
          "text": [
            "[I 2024-06-02 06:02:22,026] Trial 22 finished with value: 0.9647058844566345 and parameters: {'output_features': 18, 'optimizer': 'Adam', 'percentile': 0.231, 'learning_rate': 0.1, 'loss': 'cross_entropy', 'activation': 'selu'}. Best is trial 11 with value: 0.9764705896377563.\n"
          ]
        },
        {
          "output_type": "stream",
          "name": "stdout",
          "text": [
            "Train Accuracy: 0.9647058844566345, Test Accuracy: 0.5714285969734192\n"
          ]
        },
        {
          "output_type": "stream",
          "name": "stderr",
          "text": [
            "[I 2024-06-02 06:02:22,875] Trial 23 finished with value: 0.9764705896377563 and parameters: {'output_features': 18, 'optimizer': 'Adam', 'percentile': 0.231, 'learning_rate': 0.1, 'loss': 'cross_entropy', 'activation': 'selu'}. Best is trial 11 with value: 0.9764705896377563.\n"
          ]
        },
        {
          "output_type": "stream",
          "name": "stdout",
          "text": [
            "Train Accuracy: 0.9764705896377563, Test Accuracy: 0.6666666865348816\n"
          ]
        },
        {
          "output_type": "stream",
          "name": "stderr",
          "text": [
            "[I 2024-06-02 06:02:23,711] Trial 24 finished with value: 0.9764705896377563 and parameters: {'output_features': 18, 'optimizer': 'Adam', 'percentile': 0.231, 'learning_rate': 0.1, 'loss': 'cross_entropy', 'activation': 'selu'}. Best is trial 11 with value: 0.9764705896377563.\n"
          ]
        },
        {
          "output_type": "stream",
          "name": "stdout",
          "text": [
            "Train Accuracy: 0.9764705896377563, Test Accuracy: 0.4285714328289032\n"
          ]
        },
        {
          "output_type": "stream",
          "name": "stderr",
          "text": [
            "[I 2024-06-02 06:02:24,581] Trial 25 finished with value: 0.8235294222831726 and parameters: {'output_features': 18, 'optimizer': 'SGD', 'percentile': 0.231, 'learning_rate': 0.1, 'loss': 'cross_entropy', 'activation': 'tanh'}. Best is trial 11 with value: 0.9764705896377563.\n"
          ]
        },
        {
          "output_type": "stream",
          "name": "stdout",
          "text": [
            "Train Accuracy: 0.8235294222831726, Test Accuracy: 0.7142857313156128\n"
          ]
        },
        {
          "output_type": "stream",
          "name": "stderr",
          "text": [
            "[I 2024-06-02 06:02:25,674] Trial 26 finished with value: 0.9764705896377563 and parameters: {'output_features': 18, 'optimizer': 'Adam', 'percentile': 0.231, 'learning_rate': 0.1, 'loss': 'cross_entropy', 'activation': 'selu'}. Best is trial 11 with value: 0.9764705896377563.\n"
          ]
        },
        {
          "output_type": "stream",
          "name": "stdout",
          "text": [
            "Train Accuracy: 0.9764705896377563, Test Accuracy: 0.523809552192688\n"
          ]
        },
        {
          "output_type": "stream",
          "name": "stderr",
          "text": [
            "[I 2024-06-02 06:02:26,848] Trial 27 finished with value: 0.9647058844566345 and parameters: {'output_features': 18, 'optimizer': 'Adam', 'percentile': 0.231, 'learning_rate': 0.1, 'loss': 'cross_entropy', 'activation': 'leaky_relu'}. Best is trial 11 with value: 0.9764705896377563.\n"
          ]
        },
        {
          "output_type": "stream",
          "name": "stdout",
          "text": [
            "Train Accuracy: 0.9647058844566345, Test Accuracy: 0.523809552192688\n"
          ]
        },
        {
          "output_type": "stream",
          "name": "stderr",
          "text": [
            "[I 2024-06-02 06:02:28,031] Trial 28 finished with value: 0.9058823585510254 and parameters: {'output_features': 22, 'optimizer': 'Adam', 'percentile': 0.231, 'learning_rate': 1, 'loss': 'cross_entropy', 'activation': 'leaky_relu'}. Best is trial 11 with value: 0.9764705896377563.\n"
          ]
        },
        {
          "output_type": "stream",
          "name": "stdout",
          "text": [
            "Train Accuracy: 0.9058823585510254, Test Accuracy: 0.761904776096344\n"
          ]
        },
        {
          "output_type": "stream",
          "name": "stderr",
          "text": [
            "[I 2024-06-02 06:02:28,890] Trial 29 finished with value: 0.7176470756530762 and parameters: {'output_features': 14, 'optimizer': 'SGD', 'percentile': 0.231, 'learning_rate': 200, 'loss': 'cross_entropy', 'activation': 'elu'}. Best is trial 11 with value: 0.9764705896377563.\n"
          ]
        },
        {
          "output_type": "stream",
          "name": "stdout",
          "text": [
            "Train Accuracy: 0.7176470756530762, Test Accuracy: 0.761904776096344\n"
          ]
        },
        {
          "output_type": "stream",
          "name": "stderr",
          "text": [
            "[I 2024-06-02 06:02:29,820] Trial 30 finished with value: 0.7882353067398071 and parameters: {'output_features': 20, 'optimizer': 'Adam', 'percentile': 0.231, 'learning_rate': 10, 'loss': 'cross_entropy', 'activation': 'selu'}. Best is trial 11 with value: 0.9764705896377563.\n"
          ]
        },
        {
          "output_type": "stream",
          "name": "stdout",
          "text": [
            "Train Accuracy: 0.7882353067398071, Test Accuracy: 0.761904776096344\n"
          ]
        },
        {
          "output_type": "stream",
          "name": "stderr",
          "text": [
            "[I 2024-06-02 06:02:30,694] Trial 31 finished with value: 0.9764705896377563 and parameters: {'output_features': 18, 'optimizer': 'Adam', 'percentile': 0.231, 'learning_rate': 0.1, 'loss': 'cross_entropy', 'activation': 'selu'}. Best is trial 11 with value: 0.9764705896377563.\n"
          ]
        },
        {
          "output_type": "stream",
          "name": "stdout",
          "text": [
            "Train Accuracy: 0.9764705896377563, Test Accuracy: 0.523809552192688\n"
          ]
        },
        {
          "output_type": "stream",
          "name": "stderr",
          "text": [
            "[I 2024-06-02 06:02:31,513] Trial 32 finished with value: 0.9647058844566345 and parameters: {'output_features': 18, 'optimizer': 'Adam', 'percentile': 0.231, 'learning_rate': 0.1, 'loss': 'cross_entropy', 'activation': 'selu'}. Best is trial 11 with value: 0.9764705896377563.\n"
          ]
        },
        {
          "output_type": "stream",
          "name": "stdout",
          "text": [
            "Train Accuracy: 0.9647058844566345, Test Accuracy: 0.4761904776096344\n"
          ]
        },
        {
          "output_type": "stream",
          "name": "stderr",
          "text": [
            "[I 2024-06-02 06:02:32,365] Trial 33 finished with value: 0.9764705896377563 and parameters: {'output_features': 18, 'optimizer': 'Adam', 'percentile': 0.231, 'learning_rate': 0.1, 'loss': 'cross_entropy', 'activation': 'selu'}. Best is trial 11 with value: 0.9764705896377563.\n"
          ]
        },
        {
          "output_type": "stream",
          "name": "stdout",
          "text": [
            "Train Accuracy: 0.9764705896377563, Test Accuracy: 0.6190476417541504\n"
          ]
        },
        {
          "output_type": "stream",
          "name": "stderr",
          "text": [
            "[I 2024-06-02 06:02:33,132] Trial 34 finished with value: 0.8117647171020508 and parameters: {'output_features': 10, 'optimizer': 'SGD', 'percentile': 0.231, 'learning_rate': 0.1, 'loss': 'cross_entropy', 'activation': 'elu'}. Best is trial 11 with value: 0.9764705896377563.\n"
          ]
        },
        {
          "output_type": "stream",
          "name": "stdout",
          "text": [
            "Train Accuracy: 0.8117647171020508, Test Accuracy: 0.6666666865348816\n"
          ]
        },
        {
          "output_type": "stream",
          "name": "stderr",
          "text": [
            "[I 2024-06-02 06:02:33,958] Trial 35 finished with value: 0.8352941274642944 and parameters: {'output_features': 12, 'optimizer': 'Adam', 'percentile': 0.231, 'learning_rate': 100, 'loss': 'cross_entropy', 'activation': 'selu'}. Best is trial 11 with value: 0.9764705896377563.\n"
          ]
        },
        {
          "output_type": "stream",
          "name": "stdout",
          "text": [
            "Train Accuracy: 0.8352941274642944, Test Accuracy: 0.6190476417541504\n"
          ]
        },
        {
          "output_type": "stream",
          "name": "stderr",
          "text": [
            "[I 2024-06-02 06:02:34,808] Trial 36 finished with value: 0.800000011920929 and parameters: {'output_features': 22, 'optimizer': 'Adam', 'percentile': 0.231, 'learning_rate': 200, 'loss': 'cross_entropy', 'activation': 'tanh'}. Best is trial 11 with value: 0.9764705896377563.\n"
          ]
        },
        {
          "output_type": "stream",
          "name": "stdout",
          "text": [
            "Train Accuracy: 0.800000011920929, Test Accuracy: 0.380952388048172\n"
          ]
        },
        {
          "output_type": "stream",
          "name": "stderr",
          "text": [
            "[I 2024-06-02 06:02:35,598] Trial 37 finished with value: 0.800000011920929 and parameters: {'output_features': 18, 'optimizer': 'RMSprop', 'percentile': 0.231, 'learning_rate': 0.1, 'loss': 'cross_entropy', 'activation': 'relu'}. Best is trial 11 with value: 0.9764705896377563.\n"
          ]
        },
        {
          "output_type": "stream",
          "name": "stdout",
          "text": [
            "Train Accuracy: 0.800000011920929, Test Accuracy: 0.761904776096344\n"
          ]
        },
        {
          "output_type": "stream",
          "name": "stderr",
          "text": [
            "[I 2024-06-02 06:02:36,453] Trial 38 finished with value: 0.7882353067398071 and parameters: {'output_features': 16, 'optimizer': 'Adam', 'percentile': 0.231, 'learning_rate': 10, 'loss': 'cross_entropy', 'activation': 'selu'}. Best is trial 11 with value: 0.9764705896377563.\n"
          ]
        },
        {
          "output_type": "stream",
          "name": "stdout",
          "text": [
            "Train Accuracy: 0.7882353067398071, Test Accuracy: 0.523809552192688\n"
          ]
        },
        {
          "output_type": "stream",
          "name": "stderr",
          "text": [
            "[I 2024-06-02 06:02:37,210] Trial 39 finished with value: 0.7176470756530762 and parameters: {'output_features': 10, 'optimizer': 'SGD', 'percentile': 0.231, 'learning_rate': 100, 'loss': 'cross_entropy', 'activation': 'leaky_relu'}. Best is trial 11 with value: 0.9764705896377563.\n"
          ]
        },
        {
          "output_type": "stream",
          "name": "stdout",
          "text": [
            "Train Accuracy: 0.7176470756530762, Test Accuracy: 0.761904776096344\n"
          ]
        },
        {
          "output_type": "stream",
          "name": "stderr",
          "text": [
            "[I 2024-06-02 06:02:38,010] Trial 40 finished with value: 0.7882353067398071 and parameters: {'output_features': 18, 'optimizer': 'RMSprop', 'percentile': 0.231, 'learning_rate': 0.1, 'loss': 'cross_entropy', 'activation': 'relu'}. Best is trial 11 with value: 0.9764705896377563.\n"
          ]
        },
        {
          "output_type": "stream",
          "name": "stdout",
          "text": [
            "Train Accuracy: 0.7882353067398071, Test Accuracy: 0.761904776096344\n"
          ]
        },
        {
          "output_type": "stream",
          "name": "stderr",
          "text": [
            "[I 2024-06-02 06:02:39,082] Trial 41 finished with value: 0.9764705896377563 and parameters: {'output_features': 18, 'optimizer': 'Adam', 'percentile': 0.231, 'learning_rate': 0.1, 'loss': 'cross_entropy', 'activation': 'selu'}. Best is trial 11 with value: 0.9764705896377563.\n"
          ]
        },
        {
          "output_type": "stream",
          "name": "stdout",
          "text": [
            "Train Accuracy: 0.9764705896377563, Test Accuracy: 0.4761904776096344\n"
          ]
        },
        {
          "output_type": "stream",
          "name": "stderr",
          "text": [
            "[I 2024-06-02 06:02:40,226] Trial 42 finished with value: 0.9647058844566345 and parameters: {'output_features': 18, 'optimizer': 'Adam', 'percentile': 0.231, 'learning_rate': 0.1, 'loss': 'cross_entropy', 'activation': 'selu'}. Best is trial 11 with value: 0.9764705896377563.\n"
          ]
        },
        {
          "output_type": "stream",
          "name": "stdout",
          "text": [
            "Train Accuracy: 0.9647058844566345, Test Accuracy: 0.6666666865348816\n"
          ]
        },
        {
          "output_type": "stream",
          "name": "stderr",
          "text": [
            "[I 2024-06-02 06:02:41,436] Trial 43 finished with value: 0.9647058844566345 and parameters: {'output_features': 18, 'optimizer': 'Adam', 'percentile': 0.231, 'learning_rate': 0.1, 'loss': 'cross_entropy', 'activation': 'selu'}. Best is trial 11 with value: 0.9764705896377563.\n"
          ]
        },
        {
          "output_type": "stream",
          "name": "stdout",
          "text": [
            "Train Accuracy: 0.9647058844566345, Test Accuracy: 0.761904776096344\n"
          ]
        },
        {
          "output_type": "stream",
          "name": "stderr",
          "text": [
            "[I 2024-06-02 06:02:42,473] Trial 44 finished with value: 0.9764705896377563 and parameters: {'output_features': 12, 'optimizer': 'Adam', 'percentile': 0.231, 'learning_rate': 0.1, 'loss': 'cross_entropy', 'activation': 'selu'}. Best is trial 11 with value: 0.9764705896377563.\n"
          ]
        },
        {
          "output_type": "stream",
          "name": "stdout",
          "text": [
            "Train Accuracy: 0.9764705896377563, Test Accuracy: 0.5714285969734192\n"
          ]
        },
        {
          "output_type": "stream",
          "name": "stderr",
          "text": [
            "[I 2024-06-02 06:02:43,306] Trial 45 finished with value: 0.9058823585510254 and parameters: {'output_features': 18, 'optimizer': 'Adam', 'percentile': 0.231, 'learning_rate': 0.01, 'loss': 'cross_entropy', 'activation': 'elu'}. Best is trial 11 with value: 0.9764705896377563.\n"
          ]
        },
        {
          "output_type": "stream",
          "name": "stdout",
          "text": [
            "Train Accuracy: 0.9058823585510254, Test Accuracy: 0.6666666865348816\n"
          ]
        },
        {
          "output_type": "stream",
          "name": "stderr",
          "text": [
            "[I 2024-06-02 06:02:44,079] Trial 46 finished with value: 0.9058823585510254 and parameters: {'output_features': 14, 'optimizer': 'RMSprop', 'percentile': 0.231, 'learning_rate': 1, 'loss': 'cross_entropy', 'activation': 'leaky_relu'}. Best is trial 11 with value: 0.9764705896377563.\n"
          ]
        },
        {
          "output_type": "stream",
          "name": "stdout",
          "text": [
            "Train Accuracy: 0.9058823585510254, Test Accuracy: 0.6666666865348816\n"
          ]
        },
        {
          "output_type": "stream",
          "name": "stderr",
          "text": [
            "[I 2024-06-02 06:02:44,904] Trial 47 finished with value: 0.9882352948188782 and parameters: {'output_features': 16, 'optimizer': 'Adam', 'percentile': 0.231, 'learning_rate': 0.1, 'loss': 'cross_entropy', 'activation': 'selu'}. Best is trial 47 with value: 0.9882352948188782.\n"
          ]
        },
        {
          "output_type": "stream",
          "name": "stdout",
          "text": [
            "Train Accuracy: 0.9882352948188782, Test Accuracy: 0.3333333432674408\n"
          ]
        },
        {
          "output_type": "stream",
          "name": "stderr",
          "text": [
            "[I 2024-06-02 06:02:45,713] Trial 48 finished with value: 0.7176470756530762 and parameters: {'output_features': 16, 'optimizer': 'Adam', 'percentile': 0.231, 'learning_rate': 10, 'loss': 'cross_entropy', 'activation': 'relu'}. Best is trial 47 with value: 0.9882352948188782.\n"
          ]
        },
        {
          "output_type": "stream",
          "name": "stdout",
          "text": [
            "Train Accuracy: 0.7176470756530762, Test Accuracy: 0.761904776096344\n"
          ]
        },
        {
          "output_type": "stream",
          "name": "stderr",
          "text": [
            "[I 2024-06-02 06:02:46,530] Trial 49 finished with value: 0.929411768913269 and parameters: {'output_features': 16, 'optimizer': 'Adam', 'percentile': 0.231, 'learning_rate': 0.01, 'loss': 'cross_entropy', 'activation': 'leaky_relu'}. Best is trial 47 with value: 0.9882352948188782.\n"
          ]
        },
        {
          "output_type": "stream",
          "name": "stdout",
          "text": [
            "Train Accuracy: 0.929411768913269, Test Accuracy: 0.6190476417541504\n"
          ]
        },
        {
          "output_type": "stream",
          "name": "stderr",
          "text": [
            "[I 2024-06-02 06:02:47,301] Trial 50 finished with value: 0.8117647171020508 and parameters: {'output_features': 16, 'optimizer': 'SGD', 'percentile': 0.231, 'learning_rate': 0.1, 'loss': 'cross_entropy', 'activation': 'tanh'}. Best is trial 47 with value: 0.9882352948188782.\n"
          ]
        },
        {
          "output_type": "stream",
          "name": "stdout",
          "text": [
            "Train Accuracy: 0.8117647171020508, Test Accuracy: 0.6666666865348816\n"
          ]
        },
        {
          "output_type": "stream",
          "name": "stderr",
          "text": [
            "[I 2024-06-02 06:02:48,100] Trial 51 finished with value: 0.9764705896377563 and parameters: {'output_features': 16, 'optimizer': 'Adam', 'percentile': 0.231, 'learning_rate': 0.1, 'loss': 'cross_entropy', 'activation': 'selu'}. Best is trial 47 with value: 0.9882352948188782.\n"
          ]
        },
        {
          "output_type": "stream",
          "name": "stdout",
          "text": [
            "Train Accuracy: 0.9764705896377563, Test Accuracy: 0.5714285969734192\n"
          ]
        },
        {
          "output_type": "stream",
          "name": "stderr",
          "text": [
            "[I 2024-06-02 06:02:48,935] Trial 52 finished with value: 0.9529411792755127 and parameters: {'output_features': 20, 'optimizer': 'Adam', 'percentile': 0.231, 'learning_rate': 0.1, 'loss': 'cross_entropy', 'activation': 'selu'}. Best is trial 47 with value: 0.9882352948188782.\n"
          ]
        },
        {
          "output_type": "stream",
          "name": "stdout",
          "text": [
            "Train Accuracy: 0.9529411792755127, Test Accuracy: 0.6666666865348816\n"
          ]
        },
        {
          "output_type": "stream",
          "name": "stderr",
          "text": [
            "[I 2024-06-02 06:02:49,756] Trial 53 finished with value: 0.9647058844566345 and parameters: {'output_features': 18, 'optimizer': 'Adam', 'percentile': 0.231, 'learning_rate': 0.1, 'loss': 'cross_entropy', 'activation': 'selu'}. Best is trial 47 with value: 0.9882352948188782.\n"
          ]
        },
        {
          "output_type": "stream",
          "name": "stdout",
          "text": [
            "Train Accuracy: 0.9647058844566345, Test Accuracy: 0.6666666865348816\n"
          ]
        },
        {
          "output_type": "stream",
          "name": "stderr",
          "text": [
            "[I 2024-06-02 06:02:50,598] Trial 54 finished with value: 0.9882352948188782 and parameters: {'output_features': 22, 'optimizer': 'Adam', 'percentile': 0.231, 'learning_rate': 0.1, 'loss': 'cross_entropy', 'activation': 'selu'}. Best is trial 47 with value: 0.9882352948188782.\n"
          ]
        },
        {
          "output_type": "stream",
          "name": "stdout",
          "text": [
            "Train Accuracy: 0.9882352948188782, Test Accuracy: 0.4761904776096344\n"
          ]
        },
        {
          "output_type": "stream",
          "name": "stderr",
          "text": [
            "[I 2024-06-02 06:02:51,452] Trial 55 finished with value: 0.9529411792755127 and parameters: {'output_features': 22, 'optimizer': 'Adam', 'percentile': 0.231, 'learning_rate': 0.1, 'loss': 'cross_entropy', 'activation': 'leaky_relu'}. Best is trial 47 with value: 0.9882352948188782.\n"
          ]
        },
        {
          "output_type": "stream",
          "name": "stdout",
          "text": [
            "Train Accuracy: 0.9529411792755127, Test Accuracy: 0.761904776096344\n"
          ]
        },
        {
          "output_type": "stream",
          "name": "stderr",
          "text": [
            "[I 2024-06-02 06:02:52,362] Trial 56 finished with value: 0.7647058963775635 and parameters: {'output_features': 22, 'optimizer': 'Adam', 'percentile': 0.231, 'learning_rate': 200, 'loss': 'cross_entropy', 'activation': 'selu'}. Best is trial 47 with value: 0.9882352948188782.\n"
          ]
        },
        {
          "output_type": "stream",
          "name": "stdout",
          "text": [
            "Train Accuracy: 0.7647058963775635, Test Accuracy: 0.7142857313156128\n"
          ]
        },
        {
          "output_type": "stream",
          "name": "stderr",
          "text": [
            "[I 2024-06-02 06:02:53,496] Trial 57 finished with value: 0.9058823585510254 and parameters: {'output_features': 22, 'optimizer': 'RMSprop', 'percentile': 0.231, 'learning_rate': 0.1, 'loss': 'cross_entropy', 'activation': 'leaky_relu'}. Best is trial 47 with value: 0.9882352948188782.\n"
          ]
        },
        {
          "output_type": "stream",
          "name": "stdout",
          "text": [
            "Train Accuracy: 0.9058823585510254, Test Accuracy: 0.7142857313156128\n"
          ]
        },
        {
          "output_type": "stream",
          "name": "stderr",
          "text": [
            "[I 2024-06-02 06:02:54,755] Trial 58 finished with value: 0.8117647171020508 and parameters: {'output_features': 22, 'optimizer': 'Adam', 'percentile': 0.231, 'learning_rate': 100, 'loss': 'cross_entropy', 'activation': 'selu'}. Best is trial 47 with value: 0.9882352948188782.\n"
          ]
        },
        {
          "output_type": "stream",
          "name": "stdout",
          "text": [
            "Train Accuracy: 0.8117647171020508, Test Accuracy: 0.6190476417541504\n"
          ]
        },
        {
          "output_type": "stream",
          "name": "stderr",
          "text": [
            "[I 2024-06-02 06:02:55,871] Trial 59 finished with value: 0.9764705896377563 and parameters: {'output_features': 10, 'optimizer': 'Adam', 'percentile': 0.231, 'learning_rate': 0.1, 'loss': 'cross_entropy', 'activation': 'elu'}. Best is trial 47 with value: 0.9882352948188782.\n"
          ]
        },
        {
          "output_type": "stream",
          "name": "stdout",
          "text": [
            "Train Accuracy: 0.9764705896377563, Test Accuracy: 0.6666666865348816\n"
          ]
        },
        {
          "output_type": "stream",
          "name": "stderr",
          "text": [
            "[I 2024-06-02 06:02:56,682] Trial 60 finished with value: 0.9058823585510254 and parameters: {'output_features': 16, 'optimizer': 'Adam', 'percentile': 0.231, 'learning_rate': 1, 'loss': 'cross_entropy', 'activation': 'leaky_relu'}. Best is trial 47 with value: 0.9882352948188782.\n"
          ]
        },
        {
          "output_type": "stream",
          "name": "stdout",
          "text": [
            "Train Accuracy: 0.9058823585510254, Test Accuracy: 0.761904776096344\n"
          ]
        },
        {
          "output_type": "stream",
          "name": "stderr",
          "text": [
            "[I 2024-06-02 06:02:57,538] Trial 61 finished with value: 0.9764705896377563 and parameters: {'output_features': 18, 'optimizer': 'Adam', 'percentile': 0.231, 'learning_rate': 0.1, 'loss': 'cross_entropy', 'activation': 'selu'}. Best is trial 47 with value: 0.9882352948188782.\n"
          ]
        },
        {
          "output_type": "stream",
          "name": "stdout",
          "text": [
            "Train Accuracy: 0.9764705896377563, Test Accuracy: 0.4285714328289032\n"
          ]
        },
        {
          "output_type": "stream",
          "name": "stderr",
          "text": [
            "[I 2024-06-02 06:02:58,401] Trial 62 finished with value: 0.9882352948188782 and parameters: {'output_features': 18, 'optimizer': 'Adam', 'percentile': 0.231, 'learning_rate': 0.1, 'loss': 'cross_entropy', 'activation': 'selu'}. Best is trial 47 with value: 0.9882352948188782.\n"
          ]
        },
        {
          "output_type": "stream",
          "name": "stdout",
          "text": [
            "Train Accuracy: 0.9882352948188782, Test Accuracy: 0.523809552192688\n"
          ]
        },
        {
          "output_type": "stream",
          "name": "stderr",
          "text": [
            "[I 2024-06-02 06:02:59,240] Trial 63 finished with value: 0.9882352948188782 and parameters: {'output_features': 18, 'optimizer': 'Adam', 'percentile': 0.231, 'learning_rate': 0.1, 'loss': 'cross_entropy', 'activation': 'selu'}. Best is trial 47 with value: 0.9882352948188782.\n"
          ]
        },
        {
          "output_type": "stream",
          "name": "stdout",
          "text": [
            "Train Accuracy: 0.9882352948188782, Test Accuracy: 0.4285714328289032\n"
          ]
        },
        {
          "output_type": "stream",
          "name": "stderr",
          "text": [
            "[I 2024-06-02 06:03:00,081] Trial 64 finished with value: 0.9529411792755127 and parameters: {'output_features': 18, 'optimizer': 'Adam', 'percentile': 0.231, 'learning_rate': 0.1, 'loss': 'cross_entropy', 'activation': 'selu'}. Best is trial 47 with value: 0.9882352948188782.\n"
          ]
        },
        {
          "output_type": "stream",
          "name": "stdout",
          "text": [
            "Train Accuracy: 0.9529411792755127, Test Accuracy: 0.6190476417541504\n"
          ]
        },
        {
          "output_type": "stream",
          "name": "stderr",
          "text": [
            "[I 2024-06-02 06:03:00,948] Trial 65 finished with value: 0.9764705896377563 and parameters: {'output_features': 14, 'optimizer': 'Adam', 'percentile': 0.231, 'learning_rate': 0.1, 'loss': 'cross_entropy', 'activation': 'selu'}. Best is trial 47 with value: 0.9882352948188782.\n"
          ]
        },
        {
          "output_type": "stream",
          "name": "stdout",
          "text": [
            "Train Accuracy: 0.9764705896377563, Test Accuracy: 0.4761904776096344\n"
          ]
        },
        {
          "output_type": "stream",
          "name": "stderr",
          "text": [
            "[I 2024-06-02 06:03:01,798] Trial 66 finished with value: 0.9647058844566345 and parameters: {'output_features': 18, 'optimizer': 'Adam', 'percentile': 0.231, 'learning_rate': 0.1, 'loss': 'cross_entropy', 'activation': 'selu'}. Best is trial 47 with value: 0.9882352948188782.\n"
          ]
        },
        {
          "output_type": "stream",
          "name": "stdout",
          "text": [
            "Train Accuracy: 0.9647058844566345, Test Accuracy: 0.523809552192688\n"
          ]
        },
        {
          "output_type": "stream",
          "name": "stderr",
          "text": [
            "[I 2024-06-02 06:03:02,639] Trial 67 finished with value: 0.9176470637321472 and parameters: {'output_features': 20, 'optimizer': 'Adam', 'percentile': 0.231, 'learning_rate': 0.01, 'loss': 'cross_entropy', 'activation': 'tanh'}. Best is trial 47 with value: 0.9882352948188782.\n"
          ]
        },
        {
          "output_type": "stream",
          "name": "stdout",
          "text": [
            "Train Accuracy: 0.9176470637321472, Test Accuracy: 0.4761904776096344\n"
          ]
        },
        {
          "output_type": "stream",
          "name": "stderr",
          "text": [
            "[I 2024-06-02 06:03:03,473] Trial 68 finished with value: 0.9764705896377563 and parameters: {'output_features': 12, 'optimizer': 'Adam', 'percentile': 0.231, 'learning_rate': 0.1, 'loss': 'cross_entropy', 'activation': 'leaky_relu'}. Best is trial 47 with value: 0.9882352948188782.\n"
          ]
        },
        {
          "output_type": "stream",
          "name": "stdout",
          "text": [
            "Train Accuracy: 0.9764705896377563, Test Accuracy: 0.6190476417541504\n"
          ]
        },
        {
          "output_type": "stream",
          "name": "stderr",
          "text": [
            "[I 2024-06-02 06:03:04,280] Trial 69 finished with value: 0.7176470756530762 and parameters: {'output_features': 18, 'optimizer': 'SGD', 'percentile': 0.231, 'learning_rate': 10, 'loss': 'cross_entropy', 'activation': 'selu'}. Best is trial 47 with value: 0.9882352948188782.\n"
          ]
        },
        {
          "output_type": "stream",
          "name": "stdout",
          "text": [
            "Train Accuracy: 0.7176470756530762, Test Accuracy: 0.5714285969734192\n"
          ]
        },
        {
          "output_type": "stream",
          "name": "stderr",
          "text": [
            "[I 2024-06-02 06:03:05,148] Trial 70 finished with value: 0.9764705896377563 and parameters: {'output_features': 22, 'optimizer': 'Adam', 'percentile': 0.231, 'learning_rate': 0.1, 'loss': 'cross_entropy', 'activation': 'relu'}. Best is trial 47 with value: 0.9882352948188782.\n"
          ]
        },
        {
          "output_type": "stream",
          "name": "stdout",
          "text": [
            "Train Accuracy: 0.9764705896377563, Test Accuracy: 0.5714285969734192\n"
          ]
        },
        {
          "output_type": "stream",
          "name": "stderr",
          "text": [
            "[I 2024-06-02 06:03:06,124] Trial 71 finished with value: 0.9647058844566345 and parameters: {'output_features': 18, 'optimizer': 'Adam', 'percentile': 0.231, 'learning_rate': 0.1, 'loss': 'cross_entropy', 'activation': 'selu'}. Best is trial 47 with value: 0.9882352948188782.\n"
          ]
        },
        {
          "output_type": "stream",
          "name": "stdout",
          "text": [
            "Train Accuracy: 0.9647058844566345, Test Accuracy: 0.4285714328289032\n"
          ]
        },
        {
          "output_type": "stream",
          "name": "stderr",
          "text": [
            "[I 2024-06-02 06:03:07,223] Trial 72 finished with value: 0.9764705896377563 and parameters: {'output_features': 18, 'optimizer': 'Adam', 'percentile': 0.231, 'learning_rate': 0.1, 'loss': 'cross_entropy', 'activation': 'selu'}. Best is trial 47 with value: 0.9882352948188782.\n"
          ]
        },
        {
          "output_type": "stream",
          "name": "stdout",
          "text": [
            "Train Accuracy: 0.9764705896377563, Test Accuracy: 0.523809552192688\n"
          ]
        },
        {
          "output_type": "stream",
          "name": "stderr",
          "text": [
            "[I 2024-06-02 06:03:08,413] Trial 73 finished with value: 0.9647058844566345 and parameters: {'output_features': 18, 'optimizer': 'Adam', 'percentile': 0.231, 'learning_rate': 0.1, 'loss': 'cross_entropy', 'activation': 'selu'}. Best is trial 47 with value: 0.9882352948188782.\n"
          ]
        },
        {
          "output_type": "stream",
          "name": "stdout",
          "text": [
            "Train Accuracy: 0.9647058844566345, Test Accuracy: 0.4761904776096344\n"
          ]
        },
        {
          "output_type": "stream",
          "name": "stderr",
          "text": [
            "[I 2024-06-02 06:03:09,452] Trial 74 finished with value: 0.8117647171020508 and parameters: {'output_features': 18, 'optimizer': 'Adam', 'percentile': 0.231, 'learning_rate': 200, 'loss': 'cross_entropy', 'activation': 'selu'}. Best is trial 47 with value: 0.9882352948188782.\n"
          ]
        },
        {
          "output_type": "stream",
          "name": "stdout",
          "text": [
            "Train Accuracy: 0.8117647171020508, Test Accuracy: 0.4285714328289032\n"
          ]
        },
        {
          "output_type": "stream",
          "name": "stderr",
          "text": [
            "[I 2024-06-02 06:03:10,273] Trial 75 finished with value: 0.9647058844566345 and parameters: {'output_features': 18, 'optimizer': 'Adam', 'percentile': 0.231, 'learning_rate': 0.1, 'loss': 'cross_entropy', 'activation': 'selu'}. Best is trial 47 with value: 0.9882352948188782.\n"
          ]
        },
        {
          "output_type": "stream",
          "name": "stdout",
          "text": [
            "Train Accuracy: 0.9647058844566345, Test Accuracy: 0.4761904776096344\n"
          ]
        },
        {
          "output_type": "stream",
          "name": "stderr",
          "text": [
            "[I 2024-06-02 06:03:11,055] Trial 76 finished with value: 0.929411768913269 and parameters: {'output_features': 18, 'optimizer': 'RMSprop', 'percentile': 0.231, 'learning_rate': 0.1, 'loss': 'cross_entropy', 'activation': 'leaky_relu'}. Best is trial 47 with value: 0.9882352948188782.\n"
          ]
        },
        {
          "output_type": "stream",
          "name": "stdout",
          "text": [
            "Train Accuracy: 0.929411768913269, Test Accuracy: 0.6666666865348816\n"
          ]
        },
        {
          "output_type": "stream",
          "name": "stderr",
          "text": [
            "[I 2024-06-02 06:03:11,871] Trial 77 finished with value: 0.7764706015586853 and parameters: {'output_features': 10, 'optimizer': 'Adam', 'percentile': 0.231, 'learning_rate': 100, 'loss': 'cross_entropy', 'activation': 'selu'}. Best is trial 47 with value: 0.9882352948188782.\n"
          ]
        },
        {
          "output_type": "stream",
          "name": "stdout",
          "text": [
            "Train Accuracy: 0.7764706015586853, Test Accuracy: 0.6190476417541504\n"
          ]
        },
        {
          "output_type": "stream",
          "name": "stderr",
          "text": [
            "[I 2024-06-02 06:03:12,702] Trial 78 finished with value: 0.9764705896377563 and parameters: {'output_features': 18, 'optimizer': 'Adam', 'percentile': 0.231, 'learning_rate': 0.1, 'loss': 'cross_entropy', 'activation': 'elu'}. Best is trial 47 with value: 0.9882352948188782.\n"
          ]
        },
        {
          "output_type": "stream",
          "name": "stdout",
          "text": [
            "Train Accuracy: 0.9764705896377563, Test Accuracy: 0.2857142984867096\n"
          ]
        },
        {
          "output_type": "stream",
          "name": "stderr",
          "text": [
            "[I 2024-06-02 06:03:13,543] Trial 79 finished with value: 0.7882353067398071 and parameters: {'output_features': 16, 'optimizer': 'Adam', 'percentile': 0.231, 'learning_rate': 1, 'loss': 'cross_entropy', 'activation': 'selu'}. Best is trial 47 with value: 0.9882352948188782.\n"
          ]
        },
        {
          "output_type": "stream",
          "name": "stdout",
          "text": [
            "Train Accuracy: 0.7882353067398071, Test Accuracy: 0.761904776096344\n"
          ]
        },
        {
          "output_type": "stream",
          "name": "stderr",
          "text": [
            "[I 2024-06-02 06:03:14,319] Trial 80 finished with value: 0.8235294222831726 and parameters: {'output_features': 18, 'optimizer': 'SGD', 'percentile': 0.231, 'learning_rate': 0.1, 'loss': 'cross_entropy', 'activation': 'leaky_relu'}. Best is trial 47 with value: 0.9882352948188782.\n"
          ]
        },
        {
          "output_type": "stream",
          "name": "stdout",
          "text": [
            "Train Accuracy: 0.8235294222831726, Test Accuracy: 0.6666666865348816\n"
          ]
        },
        {
          "output_type": "stream",
          "name": "stderr",
          "text": [
            "[I 2024-06-02 06:03:15,137] Trial 81 finished with value: 0.9882352948188782 and parameters: {'output_features': 18, 'optimizer': 'Adam', 'percentile': 0.231, 'learning_rate': 0.1, 'loss': 'cross_entropy', 'activation': 'selu'}. Best is trial 47 with value: 0.9882352948188782.\n"
          ]
        },
        {
          "output_type": "stream",
          "name": "stdout",
          "text": [
            "Train Accuracy: 0.9882352948188782, Test Accuracy: 0.380952388048172\n"
          ]
        },
        {
          "output_type": "stream",
          "name": "stderr",
          "text": [
            "[I 2024-06-02 06:03:15,982] Trial 82 finished with value: 0.9647058844566345 and parameters: {'output_features': 18, 'optimizer': 'Adam', 'percentile': 0.231, 'learning_rate': 0.1, 'loss': 'cross_entropy', 'activation': 'selu'}. Best is trial 47 with value: 0.9882352948188782.\n"
          ]
        },
        {
          "output_type": "stream",
          "name": "stdout",
          "text": [
            "Train Accuracy: 0.9647058844566345, Test Accuracy: 0.523809552192688\n"
          ]
        },
        {
          "output_type": "stream",
          "name": "stderr",
          "text": [
            "[I 2024-06-02 06:03:16,828] Trial 83 finished with value: 0.9764705896377563 and parameters: {'output_features': 18, 'optimizer': 'Adam', 'percentile': 0.231, 'learning_rate': 0.1, 'loss': 'cross_entropy', 'activation': 'selu'}. Best is trial 47 with value: 0.9882352948188782.\n"
          ]
        },
        {
          "output_type": "stream",
          "name": "stdout",
          "text": [
            "Train Accuracy: 0.9764705896377563, Test Accuracy: 0.6190476417541504\n"
          ]
        },
        {
          "output_type": "stream",
          "name": "stderr",
          "text": [
            "[I 2024-06-02 06:03:17,668] Trial 84 finished with value: 0.9647058844566345 and parameters: {'output_features': 18, 'optimizer': 'Adam', 'percentile': 0.231, 'learning_rate': 0.1, 'loss': 'cross_entropy', 'activation': 'selu'}. Best is trial 47 with value: 0.9882352948188782.\n"
          ]
        },
        {
          "output_type": "stream",
          "name": "stdout",
          "text": [
            "Train Accuracy: 0.9647058844566345, Test Accuracy: 0.2857142984867096\n"
          ]
        },
        {
          "output_type": "stream",
          "name": "stderr",
          "text": [
            "[I 2024-06-02 06:03:18,482] Trial 85 finished with value: 0.9764705896377563 and parameters: {'output_features': 14, 'optimizer': 'Adam', 'percentile': 0.231, 'learning_rate': 0.1, 'loss': 'cross_entropy', 'activation': 'selu'}. Best is trial 47 with value: 0.9882352948188782.\n"
          ]
        },
        {
          "output_type": "stream",
          "name": "stdout",
          "text": [
            "Train Accuracy: 0.9764705896377563, Test Accuracy: 0.6190476417541504\n"
          ]
        },
        {
          "output_type": "stream",
          "name": "stderr",
          "text": [
            "[I 2024-06-02 06:03:19,436] Trial 86 finished with value: 0.929411768913269 and parameters: {'output_features': 12, 'optimizer': 'Adam', 'percentile': 0.231, 'learning_rate': 0.1, 'loss': 'cross_entropy', 'activation': 'tanh'}. Best is trial 47 with value: 0.9882352948188782.\n"
          ]
        },
        {
          "output_type": "stream",
          "name": "stdout",
          "text": [
            "Train Accuracy: 0.929411768913269, Test Accuracy: 0.4761904776096344\n"
          ]
        },
        {
          "output_type": "stream",
          "name": "stderr",
          "text": [
            "[I 2024-06-02 06:03:21,425] Trial 87 finished with value: 0.800000011920929 and parameters: {'output_features': 18, 'optimizer': 'Adam', 'percentile': 0.231, 'learning_rate': 10, 'loss': 'cross_entropy', 'activation': 'selu'}. Best is trial 47 with value: 0.9882352948188782.\n"
          ]
        },
        {
          "output_type": "stream",
          "name": "stdout",
          "text": [
            "Train Accuracy: 0.800000011920929, Test Accuracy: 0.8095238208770752\n"
          ]
        },
        {
          "output_type": "stream",
          "name": "stderr",
          "text": [
            "[I 2024-06-02 06:03:23,728] Trial 88 finished with value: 0.9764705896377563 and parameters: {'output_features': 22, 'optimizer': 'Adam', 'percentile': 0.231, 'learning_rate': 0.1, 'loss': 'cross_entropy', 'activation': 'selu'}. Best is trial 47 with value: 0.9882352948188782.\n"
          ]
        },
        {
          "output_type": "stream",
          "name": "stdout",
          "text": [
            "Train Accuracy: 0.9764705896377563, Test Accuracy: 0.5714285969734192\n"
          ]
        },
        {
          "output_type": "stream",
          "name": "stderr",
          "text": [
            "[I 2024-06-02 06:03:25,313] Trial 89 finished with value: 0.8941176533699036 and parameters: {'output_features': 20, 'optimizer': 'RMSprop', 'percentile': 0.231, 'learning_rate': 0.01, 'loss': 'cross_entropy', 'activation': 'relu'}. Best is trial 47 with value: 0.9882352948188782.\n"
          ]
        },
        {
          "output_type": "stream",
          "name": "stdout",
          "text": [
            "Train Accuracy: 0.8941176533699036, Test Accuracy: 0.7142857313156128\n"
          ]
        },
        {
          "output_type": "stream",
          "name": "stderr",
          "text": [
            "[I 2024-06-02 06:03:26,914] Trial 90 finished with value: 0.9764705896377563 and parameters: {'output_features': 18, 'optimizer': 'Adam', 'percentile': 0.231, 'learning_rate': 0.1, 'loss': 'cross_entropy', 'activation': 'leaky_relu'}. Best is trial 47 with value: 0.9882352948188782.\n"
          ]
        },
        {
          "output_type": "stream",
          "name": "stdout",
          "text": [
            "Train Accuracy: 0.9764705896377563, Test Accuracy: 0.523809552192688\n"
          ]
        },
        {
          "output_type": "stream",
          "name": "stderr",
          "text": [
            "[I 2024-06-02 06:03:27,758] Trial 91 finished with value: 0.9647058844566345 and parameters: {'output_features': 18, 'optimizer': 'Adam', 'percentile': 0.231, 'learning_rate': 0.1, 'loss': 'cross_entropy', 'activation': 'selu'}. Best is trial 47 with value: 0.9882352948188782.\n"
          ]
        },
        {
          "output_type": "stream",
          "name": "stdout",
          "text": [
            "Train Accuracy: 0.9647058844566345, Test Accuracy: 0.6190476417541504\n"
          ]
        },
        {
          "output_type": "stream",
          "name": "stderr",
          "text": [
            "[I 2024-06-02 06:03:28,607] Trial 92 finished with value: 0.9411764740943909 and parameters: {'output_features': 18, 'optimizer': 'Adam', 'percentile': 0.231, 'learning_rate': 0.1, 'loss': 'cross_entropy', 'activation': 'selu'}. Best is trial 47 with value: 0.9882352948188782.\n"
          ]
        },
        {
          "output_type": "stream",
          "name": "stdout",
          "text": [
            "Train Accuracy: 0.9411764740943909, Test Accuracy: 0.4761904776096344\n"
          ]
        },
        {
          "output_type": "stream",
          "name": "stderr",
          "text": [
            "[I 2024-06-02 06:03:29,436] Trial 93 finished with value: 0.9647058844566345 and parameters: {'output_features': 18, 'optimizer': 'Adam', 'percentile': 0.231, 'learning_rate': 0.1, 'loss': 'cross_entropy', 'activation': 'selu'}. Best is trial 47 with value: 0.9882352948188782.\n"
          ]
        },
        {
          "output_type": "stream",
          "name": "stdout",
          "text": [
            "Train Accuracy: 0.9647058844566345, Test Accuracy: 0.6666666865348816\n"
          ]
        },
        {
          "output_type": "stream",
          "name": "stderr",
          "text": [
            "[I 2024-06-02 06:03:30,238] Trial 94 finished with value: 0.9764705896377563 and parameters: {'output_features': 16, 'optimizer': 'Adam', 'percentile': 0.231, 'learning_rate': 0.1, 'loss': 'cross_entropy', 'activation': 'selu'}. Best is trial 47 with value: 0.9882352948188782.\n"
          ]
        },
        {
          "output_type": "stream",
          "name": "stdout",
          "text": [
            "Train Accuracy: 0.9764705896377563, Test Accuracy: 0.4761904776096344\n"
          ]
        },
        {
          "output_type": "stream",
          "name": "stderr",
          "text": [
            "[I 2024-06-02 06:03:31,100] Trial 95 finished with value: 0.7529411911964417 and parameters: {'output_features': 18, 'optimizer': 'Adam', 'percentile': 0.231, 'learning_rate': 200, 'loss': 'cross_entropy', 'activation': 'selu'}. Best is trial 47 with value: 0.9882352948188782.\n"
          ]
        },
        {
          "output_type": "stream",
          "name": "stdout",
          "text": [
            "Train Accuracy: 0.7529411911964417, Test Accuracy: 0.4285714328289032\n"
          ]
        },
        {
          "output_type": "stream",
          "name": "stderr",
          "text": [
            "[I 2024-06-02 06:03:31,930] Trial 96 finished with value: 0.9764705896377563 and parameters: {'output_features': 18, 'optimizer': 'Adam', 'percentile': 0.231, 'learning_rate': 0.1, 'loss': 'cross_entropy', 'activation': 'selu'}. Best is trial 47 with value: 0.9882352948188782.\n"
          ]
        },
        {
          "output_type": "stream",
          "name": "stdout",
          "text": [
            "Train Accuracy: 0.9764705896377563, Test Accuracy: 0.6666666865348816\n"
          ]
        },
        {
          "output_type": "stream",
          "name": "stderr",
          "text": [
            "[I 2024-06-02 06:03:32,789] Trial 97 finished with value: 0.9882352948188782 and parameters: {'output_features': 22, 'optimizer': 'Adam', 'percentile': 0.231, 'learning_rate': 0.1, 'loss': 'cross_entropy', 'activation': 'leaky_relu'}. Best is trial 47 with value: 0.9882352948188782.\n"
          ]
        },
        {
          "output_type": "stream",
          "name": "stdout",
          "text": [
            "Train Accuracy: 0.9882352948188782, Test Accuracy: 0.6190476417541504\n"
          ]
        },
        {
          "output_type": "stream",
          "name": "stderr",
          "text": [
            "[I 2024-06-02 06:03:33,621] Trial 98 finished with value: 0.8705882430076599 and parameters: {'output_features': 22, 'optimizer': 'Adam', 'percentile': 0.231, 'learning_rate': 100, 'loss': 'cross_entropy', 'activation': 'leaky_relu'}. Best is trial 47 with value: 0.9882352948188782.\n"
          ]
        },
        {
          "output_type": "stream",
          "name": "stdout",
          "text": [
            "Train Accuracy: 0.8705882430076599, Test Accuracy: 0.761904776096344\n"
          ]
        },
        {
          "output_type": "stream",
          "name": "stderr",
          "text": [
            "[I 2024-06-02 06:03:34,411] Trial 99 finished with value: 0.8117647171020508 and parameters: {'output_features': 22, 'optimizer': 'SGD', 'percentile': 0.231, 'learning_rate': 0.1, 'loss': 'cross_entropy', 'activation': 'leaky_relu'}. Best is trial 47 with value: 0.9882352948188782.\n"
          ]
        },
        {
          "output_type": "stream",
          "name": "stdout",
          "text": [
            "Train Accuracy: 0.8117647171020508, Test Accuracy: 0.7142857313156128\n"
          ]
        },
        {
          "output_type": "stream",
          "name": "stderr",
          "text": [
            "[I 2024-06-02 06:03:35,516] Trial 100 finished with value: 0.9411764740943909 and parameters: {'output_features': 22, 'optimizer': 'Adam', 'percentile': 0.231, 'learning_rate': 1, 'loss': 'cross_entropy', 'activation': 'leaky_relu'}. Best is trial 47 with value: 0.9882352948188782.\n"
          ]
        },
        {
          "output_type": "stream",
          "name": "stdout",
          "text": [
            "Train Accuracy: 0.9411764740943909, Test Accuracy: 0.7142857313156128\n"
          ]
        },
        {
          "output_type": "stream",
          "name": "stderr",
          "text": [
            "[I 2024-06-02 06:03:36,687] Trial 101 finished with value: 0.9764705896377563 and parameters: {'output_features': 22, 'optimizer': 'Adam', 'percentile': 0.231, 'learning_rate': 0.1, 'loss': 'cross_entropy', 'activation': 'leaky_relu'}. Best is trial 47 with value: 0.9882352948188782.\n"
          ]
        },
        {
          "output_type": "stream",
          "name": "stdout",
          "text": [
            "Train Accuracy: 0.9764705896377563, Test Accuracy: 0.761904776096344\n"
          ]
        },
        {
          "output_type": "stream",
          "name": "stderr",
          "text": [
            "[I 2024-06-02 06:03:37,853] Trial 102 finished with value: 0.9882352948188782 and parameters: {'output_features': 18, 'optimizer': 'Adam', 'percentile': 0.231, 'learning_rate': 0.1, 'loss': 'cross_entropy', 'activation': 'elu'}. Best is trial 47 with value: 0.9882352948188782.\n"
          ]
        },
        {
          "output_type": "stream",
          "name": "stdout",
          "text": [
            "Train Accuracy: 0.9882352948188782, Test Accuracy: 0.380952388048172\n"
          ]
        },
        {
          "output_type": "stream",
          "name": "stderr",
          "text": [
            "[I 2024-06-02 06:03:38,857] Trial 103 finished with value: 0.9764705896377563 and parameters: {'output_features': 10, 'optimizer': 'Adam', 'percentile': 0.231, 'learning_rate': 0.1, 'loss': 'cross_entropy', 'activation': 'elu'}. Best is trial 47 with value: 0.9882352948188782.\n"
          ]
        },
        {
          "output_type": "stream",
          "name": "stdout",
          "text": [
            "Train Accuracy: 0.9764705896377563, Test Accuracy: 0.5714285969734192\n"
          ]
        },
        {
          "output_type": "stream",
          "name": "stderr",
          "text": [
            "[I 2024-06-02 06:03:39,714] Trial 104 finished with value: 0.9882352948188782 and parameters: {'output_features': 18, 'optimizer': 'Adam', 'percentile': 0.231, 'learning_rate': 0.1, 'loss': 'cross_entropy', 'activation': 'elu'}. Best is trial 47 with value: 0.9882352948188782.\n"
          ]
        },
        {
          "output_type": "stream",
          "name": "stdout",
          "text": [
            "Train Accuracy: 0.9882352948188782, Test Accuracy: 0.4761904776096344\n"
          ]
        },
        {
          "output_type": "stream",
          "name": "stderr",
          "text": [
            "[I 2024-06-02 06:03:40,540] Trial 105 finished with value: 0.9882352948188782 and parameters: {'output_features': 16, 'optimizer': 'Adam', 'percentile': 0.231, 'learning_rate': 0.1, 'loss': 'cross_entropy', 'activation': 'elu'}. Best is trial 47 with value: 0.9882352948188782.\n"
          ]
        },
        {
          "output_type": "stream",
          "name": "stdout",
          "text": [
            "Train Accuracy: 0.9882352948188782, Test Accuracy: 0.3333333432674408\n"
          ]
        },
        {
          "output_type": "stream",
          "name": "stderr",
          "text": [
            "[I 2024-06-02 06:03:41,341] Trial 106 finished with value: 0.9764705896377563 and parameters: {'output_features': 16, 'optimizer': 'Adam', 'percentile': 0.231, 'learning_rate': 0.1, 'loss': 'cross_entropy', 'activation': 'elu'}. Best is trial 47 with value: 0.9882352948188782.\n"
          ]
        },
        {
          "output_type": "stream",
          "name": "stdout",
          "text": [
            "Train Accuracy: 0.9764705896377563, Test Accuracy: 0.4761904776096344\n"
          ]
        },
        {
          "output_type": "stream",
          "name": "stderr",
          "text": [
            "[I 2024-06-02 06:03:42,156] Trial 107 finished with value: 0.9882352948188782 and parameters: {'output_features': 16, 'optimizer': 'Adam', 'percentile': 0.231, 'learning_rate': 0.1, 'loss': 'cross_entropy', 'activation': 'elu'}. Best is trial 47 with value: 0.9882352948188782.\n"
          ]
        },
        {
          "output_type": "stream",
          "name": "stdout",
          "text": [
            "Train Accuracy: 0.9882352948188782, Test Accuracy: 0.5714285969734192\n"
          ]
        },
        {
          "output_type": "stream",
          "name": "stderr",
          "text": [
            "[I 2024-06-02 06:03:42,978] Trial 108 finished with value: 0.9882352948188782 and parameters: {'output_features': 16, 'optimizer': 'Adam', 'percentile': 0.231, 'learning_rate': 0.1, 'loss': 'cross_entropy', 'activation': 'elu'}. Best is trial 47 with value: 0.9882352948188782.\n"
          ]
        },
        {
          "output_type": "stream",
          "name": "stdout",
          "text": [
            "Train Accuracy: 0.9882352948188782, Test Accuracy: 0.4285714328289032\n"
          ]
        },
        {
          "output_type": "stream",
          "name": "stderr",
          "text": [
            "[I 2024-06-02 06:03:43,811] Trial 109 finished with value: 0.9882352948188782 and parameters: {'output_features': 16, 'optimizer': 'Adam', 'percentile': 0.231, 'learning_rate': 0.1, 'loss': 'cross_entropy', 'activation': 'elu'}. Best is trial 47 with value: 0.9882352948188782.\n"
          ]
        },
        {
          "output_type": "stream",
          "name": "stdout",
          "text": [
            "Train Accuracy: 0.9882352948188782, Test Accuracy: 0.6666666865348816\n"
          ]
        },
        {
          "output_type": "stream",
          "name": "stderr",
          "text": [
            "[I 2024-06-02 06:03:44,648] Trial 110 finished with value: 0.9764705896377563 and parameters: {'output_features': 16, 'optimizer': 'Adam', 'percentile': 0.231, 'learning_rate': 0.1, 'loss': 'cross_entropy', 'activation': 'elu'}. Best is trial 47 with value: 0.9882352948188782.\n"
          ]
        },
        {
          "output_type": "stream",
          "name": "stdout",
          "text": [
            "Train Accuracy: 0.9764705896377563, Test Accuracy: 0.523809552192688\n"
          ]
        },
        {
          "output_type": "stream",
          "name": "stderr",
          "text": [
            "[I 2024-06-02 06:03:45,460] Trial 111 finished with value: 0.9882352948188782 and parameters: {'output_features': 16, 'optimizer': 'Adam', 'percentile': 0.231, 'learning_rate': 0.1, 'loss': 'cross_entropy', 'activation': 'elu'}. Best is trial 47 with value: 0.9882352948188782.\n"
          ]
        },
        {
          "output_type": "stream",
          "name": "stdout",
          "text": [
            "Train Accuracy: 0.9882352948188782, Test Accuracy: 0.5714285969734192\n"
          ]
        },
        {
          "output_type": "stream",
          "name": "stderr",
          "text": [
            "[I 2024-06-02 06:03:46,294] Trial 112 finished with value: 0.9882352948188782 and parameters: {'output_features': 16, 'optimizer': 'Adam', 'percentile': 0.231, 'learning_rate': 0.1, 'loss': 'cross_entropy', 'activation': 'elu'}. Best is trial 47 with value: 0.9882352948188782.\n"
          ]
        },
        {
          "output_type": "stream",
          "name": "stdout",
          "text": [
            "Train Accuracy: 0.9882352948188782, Test Accuracy: 0.5714285969734192\n"
          ]
        },
        {
          "output_type": "stream",
          "name": "stderr",
          "text": [
            "[I 2024-06-02 06:03:47,123] Trial 113 finished with value: 0.9882352948188782 and parameters: {'output_features': 16, 'optimizer': 'Adam', 'percentile': 0.231, 'learning_rate': 0.1, 'loss': 'cross_entropy', 'activation': 'elu'}. Best is trial 47 with value: 0.9882352948188782.\n"
          ]
        },
        {
          "output_type": "stream",
          "name": "stdout",
          "text": [
            "Train Accuracy: 0.9882352948188782, Test Accuracy: 0.523809552192688\n"
          ]
        },
        {
          "output_type": "stream",
          "name": "stderr",
          "text": [
            "[I 2024-06-02 06:03:47,940] Trial 114 finished with value: 0.9764705896377563 and parameters: {'output_features': 16, 'optimizer': 'Adam', 'percentile': 0.231, 'learning_rate': 0.1, 'loss': 'cross_entropy', 'activation': 'elu'}. Best is trial 47 with value: 0.9882352948188782.\n"
          ]
        },
        {
          "output_type": "stream",
          "name": "stdout",
          "text": [
            "Train Accuracy: 0.9764705896377563, Test Accuracy: 0.523809552192688\n"
          ]
        },
        {
          "output_type": "stream",
          "name": "stderr",
          "text": [
            "[I 2024-06-02 06:03:48,866] Trial 115 finished with value: 0.9764705896377563 and parameters: {'output_features': 16, 'optimizer': 'Adam', 'percentile': 0.231, 'learning_rate': 0.1, 'loss': 'cross_entropy', 'activation': 'elu'}. Best is trial 47 with value: 0.9882352948188782.\n"
          ]
        },
        {
          "output_type": "stream",
          "name": "stdout",
          "text": [
            "Train Accuracy: 0.9764705896377563, Test Accuracy: 0.5714285969734192\n"
          ]
        },
        {
          "output_type": "stream",
          "name": "stderr",
          "text": [
            "[I 2024-06-02 06:03:49,963] Trial 116 finished with value: 0.9647058844566345 and parameters: {'output_features': 16, 'optimizer': 'Adam', 'percentile': 0.231, 'learning_rate': 0.1, 'loss': 'cross_entropy', 'activation': 'elu'}. Best is trial 47 with value: 0.9882352948188782.\n"
          ]
        },
        {
          "output_type": "stream",
          "name": "stdout",
          "text": [
            "Train Accuracy: 0.9647058844566345, Test Accuracy: 0.523809552192688\n"
          ]
        },
        {
          "output_type": "stream",
          "name": "stderr",
          "text": [
            "[I 2024-06-02 06:03:51,133] Trial 117 finished with value: 0.8941176533699036 and parameters: {'output_features': 16, 'optimizer': 'RMSprop', 'percentile': 0.231, 'learning_rate': 0.01, 'loss': 'cross_entropy', 'activation': 'elu'}. Best is trial 47 with value: 0.9882352948188782.\n"
          ]
        },
        {
          "output_type": "stream",
          "name": "stdout",
          "text": [
            "Train Accuracy: 0.8941176533699036, Test Accuracy: 0.6666666865348816\n"
          ]
        },
        {
          "output_type": "stream",
          "name": "stderr",
          "text": [
            "[I 2024-06-02 06:03:52,231] Trial 118 finished with value: 0.9882352948188782 and parameters: {'output_features': 16, 'optimizer': 'Adam', 'percentile': 0.231, 'learning_rate': 0.1, 'loss': 'cross_entropy', 'activation': 'elu'}. Best is trial 47 with value: 0.9882352948188782.\n"
          ]
        },
        {
          "output_type": "stream",
          "name": "stdout",
          "text": [
            "Train Accuracy: 0.9882352948188782, Test Accuracy: 0.4285714328289032\n"
          ]
        },
        {
          "output_type": "stream",
          "name": "stderr",
          "text": [
            "[I 2024-06-02 06:03:53,062] Trial 119 finished with value: 0.9764705896377563 and parameters: {'output_features': 16, 'optimizer': 'Adam', 'percentile': 0.231, 'learning_rate': 0.1, 'loss': 'cross_entropy', 'activation': 'elu'}. Best is trial 47 with value: 0.9882352948188782.\n"
          ]
        },
        {
          "output_type": "stream",
          "name": "stdout",
          "text": [
            "Train Accuracy: 0.9764705896377563, Test Accuracy: 0.4761904776096344\n"
          ]
        },
        {
          "output_type": "stream",
          "name": "stderr",
          "text": [
            "[I 2024-06-02 06:03:53,878] Trial 120 finished with value: 0.9882352948188782 and parameters: {'output_features': 16, 'optimizer': 'Adam', 'percentile': 0.231, 'learning_rate': 0.1, 'loss': 'cross_entropy', 'activation': 'elu'}. Best is trial 47 with value: 0.9882352948188782.\n"
          ]
        },
        {
          "output_type": "stream",
          "name": "stdout",
          "text": [
            "Train Accuracy: 0.9882352948188782, Test Accuracy: 0.523809552192688\n"
          ]
        },
        {
          "output_type": "stream",
          "name": "stderr",
          "text": [
            "[I 2024-06-02 06:03:54,703] Trial 121 finished with value: 0.9764705896377563 and parameters: {'output_features': 16, 'optimizer': 'Adam', 'percentile': 0.231, 'learning_rate': 0.1, 'loss': 'cross_entropy', 'activation': 'elu'}. Best is trial 47 with value: 0.9882352948188782.\n"
          ]
        },
        {
          "output_type": "stream",
          "name": "stdout",
          "text": [
            "Train Accuracy: 0.9764705896377563, Test Accuracy: 0.4761904776096344\n"
          ]
        },
        {
          "output_type": "stream",
          "name": "stderr",
          "text": [
            "[I 2024-06-02 06:03:55,537] Trial 122 finished with value: 0.9764705896377563 and parameters: {'output_features': 16, 'optimizer': 'Adam', 'percentile': 0.231, 'learning_rate': 0.1, 'loss': 'cross_entropy', 'activation': 'elu'}. Best is trial 47 with value: 0.9882352948188782.\n"
          ]
        },
        {
          "output_type": "stream",
          "name": "stdout",
          "text": [
            "Train Accuracy: 0.9764705896377563, Test Accuracy: 0.6666666865348816\n"
          ]
        },
        {
          "output_type": "stream",
          "name": "stderr",
          "text": [
            "[I 2024-06-02 06:03:56,420] Trial 123 finished with value: 0.7764706015586853 and parameters: {'output_features': 16, 'optimizer': 'Adam', 'percentile': 0.231, 'learning_rate': 10, 'loss': 'cross_entropy', 'activation': 'elu'}. Best is trial 47 with value: 0.9882352948188782.\n"
          ]
        },
        {
          "output_type": "stream",
          "name": "stdout",
          "text": [
            "Train Accuracy: 0.7764706015586853, Test Accuracy: 0.6190476417541504\n"
          ]
        },
        {
          "output_type": "stream",
          "name": "stderr",
          "text": [
            "[I 2024-06-02 06:03:57,248] Trial 124 finished with value: 0.9529411792755127 and parameters: {'output_features': 16, 'optimizer': 'Adam', 'percentile': 0.231, 'learning_rate': 0.1, 'loss': 'cross_entropy', 'activation': 'elu'}. Best is trial 47 with value: 0.9882352948188782.\n"
          ]
        },
        {
          "output_type": "stream",
          "name": "stdout",
          "text": [
            "Train Accuracy: 0.9529411792755127, Test Accuracy: 0.380952388048172\n"
          ]
        },
        {
          "output_type": "stream",
          "name": "stderr",
          "text": [
            "[I 2024-06-02 06:03:58,070] Trial 125 finished with value: 0.9882352948188782 and parameters: {'output_features': 16, 'optimizer': 'Adam', 'percentile': 0.231, 'learning_rate': 0.1, 'loss': 'cross_entropy', 'activation': 'elu'}. Best is trial 47 with value: 0.9882352948188782.\n"
          ]
        },
        {
          "output_type": "stream",
          "name": "stdout",
          "text": [
            "Train Accuracy: 0.9882352948188782, Test Accuracy: 0.4285714328289032\n"
          ]
        },
        {
          "output_type": "stream",
          "name": "stderr",
          "text": [
            "[I 2024-06-02 06:03:58,887] Trial 126 finished with value: 0.9882352948188782 and parameters: {'output_features': 16, 'optimizer': 'Adam', 'percentile': 0.231, 'learning_rate': 0.1, 'loss': 'cross_entropy', 'activation': 'elu'}. Best is trial 47 with value: 0.9882352948188782.\n"
          ]
        },
        {
          "output_type": "stream",
          "name": "stdout",
          "text": [
            "Train Accuracy: 0.9882352948188782, Test Accuracy: 0.523809552192688\n"
          ]
        },
        {
          "output_type": "stream",
          "name": "stderr",
          "text": [
            "[I 2024-06-02 06:03:59,753] Trial 127 finished with value: 0.7529411911964417 and parameters: {'output_features': 22, 'optimizer': 'Adam', 'percentile': 0.231, 'learning_rate': 200, 'loss': 'cross_entropy', 'activation': 'elu'}. Best is trial 47 with value: 0.9882352948188782.\n"
          ]
        },
        {
          "output_type": "stream",
          "name": "stdout",
          "text": [
            "Train Accuracy: 0.7529411911964417, Test Accuracy: 0.761904776096344\n"
          ]
        },
        {
          "output_type": "stream",
          "name": "stderr",
          "text": [
            "[I 2024-06-02 06:04:00,521] Trial 128 finished with value: 0.8117647171020508 and parameters: {'output_features': 14, 'optimizer': 'SGD', 'percentile': 0.231, 'learning_rate': 0.1, 'loss': 'cross_entropy', 'activation': 'elu'}. Best is trial 47 with value: 0.9882352948188782.\n"
          ]
        },
        {
          "output_type": "stream",
          "name": "stdout",
          "text": [
            "Train Accuracy: 0.8117647171020508, Test Accuracy: 0.6666666865348816\n"
          ]
        },
        {
          "output_type": "stream",
          "name": "stderr",
          "text": [
            "[I 2024-06-02 06:04:01,385] Trial 129 finished with value: 0.9882352948188782 and parameters: {'output_features': 12, 'optimizer': 'Adam', 'percentile': 0.231, 'learning_rate': 0.1, 'loss': 'cross_entropy', 'activation': 'elu'}. Best is trial 47 with value: 0.9882352948188782.\n"
          ]
        },
        {
          "output_type": "stream",
          "name": "stdout",
          "text": [
            "Train Accuracy: 0.9882352948188782, Test Accuracy: 0.2857142984867096\n"
          ]
        },
        {
          "output_type": "stream",
          "name": "stderr",
          "text": [
            "[I 2024-06-02 06:04:02,408] Trial 130 finished with value: 0.8117647171020508 and parameters: {'output_features': 20, 'optimizer': 'Adam', 'percentile': 0.231, 'learning_rate': 100, 'loss': 'cross_entropy', 'activation': 'elu'}. Best is trial 47 with value: 0.9882352948188782.\n"
          ]
        },
        {
          "output_type": "stream",
          "name": "stdout",
          "text": [
            "Train Accuracy: 0.8117647171020508, Test Accuracy: 0.6190476417541504\n"
          ]
        },
        {
          "output_type": "stream",
          "name": "stderr",
          "text": [
            "[I 2024-06-02 06:04:03,519] Trial 131 finished with value: 0.9764705896377563 and parameters: {'output_features': 16, 'optimizer': 'Adam', 'percentile': 0.231, 'learning_rate': 0.1, 'loss': 'cross_entropy', 'activation': 'elu'}. Best is trial 47 with value: 0.9882352948188782.\n"
          ]
        },
        {
          "output_type": "stream",
          "name": "stdout",
          "text": [
            "Train Accuracy: 0.9764705896377563, Test Accuracy: 0.380952388048172\n"
          ]
        },
        {
          "output_type": "stream",
          "name": "stderr",
          "text": [
            "[I 2024-06-02 06:04:04,696] Trial 132 finished with value: 0.9882352948188782 and parameters: {'output_features': 16, 'optimizer': 'Adam', 'percentile': 0.231, 'learning_rate': 0.1, 'loss': 'cross_entropy', 'activation': 'elu'}. Best is trial 47 with value: 0.9882352948188782.\n"
          ]
        },
        {
          "output_type": "stream",
          "name": "stdout",
          "text": [
            "Train Accuracy: 0.9882352948188782, Test Accuracy: 0.2857142984867096\n"
          ]
        },
        {
          "output_type": "stream",
          "name": "stderr",
          "text": [
            "[I 2024-06-02 06:04:05,708] Trial 133 finished with value: 0.9764705896377563 and parameters: {'output_features': 16, 'optimizer': 'Adam', 'percentile': 0.231, 'learning_rate': 0.1, 'loss': 'cross_entropy', 'activation': 'elu'}. Best is trial 47 with value: 0.9882352948188782.\n"
          ]
        },
        {
          "output_type": "stream",
          "name": "stdout",
          "text": [
            "Train Accuracy: 0.9764705896377563, Test Accuracy: 0.3333333432674408\n"
          ]
        },
        {
          "output_type": "stream",
          "name": "stderr",
          "text": [
            "[I 2024-06-02 06:04:06,546] Trial 134 finished with value: 0.9647058844566345 and parameters: {'output_features': 16, 'optimizer': 'Adam', 'percentile': 0.231, 'learning_rate': 0.1, 'loss': 'cross_entropy', 'activation': 'elu'}. Best is trial 47 with value: 0.9882352948188782.\n"
          ]
        },
        {
          "output_type": "stream",
          "name": "stdout",
          "text": [
            "Train Accuracy: 0.9647058844566345, Test Accuracy: 0.5714285969734192\n"
          ]
        },
        {
          "output_type": "stream",
          "name": "stderr",
          "text": [
            "[I 2024-06-02 06:04:07,370] Trial 135 finished with value: 0.9882352948188782 and parameters: {'output_features': 16, 'optimizer': 'Adam', 'percentile': 0.231, 'learning_rate': 0.1, 'loss': 'cross_entropy', 'activation': 'elu'}. Best is trial 47 with value: 0.9882352948188782.\n"
          ]
        },
        {
          "output_type": "stream",
          "name": "stdout",
          "text": [
            "Train Accuracy: 0.9882352948188782, Test Accuracy: 0.4285714328289032\n"
          ]
        },
        {
          "output_type": "stream",
          "name": "stderr",
          "text": [
            "[I 2024-06-02 06:04:08,217] Trial 136 finished with value: 0.929411768913269 and parameters: {'output_features': 22, 'optimizer': 'Adam', 'percentile': 0.231, 'learning_rate': 0.1, 'loss': 'cross_entropy', 'activation': 'tanh'}. Best is trial 47 with value: 0.9882352948188782.\n"
          ]
        },
        {
          "output_type": "stream",
          "name": "stdout",
          "text": [
            "Train Accuracy: 0.929411768913269, Test Accuracy: 0.523809552192688\n"
          ]
        },
        {
          "output_type": "stream",
          "name": "stderr",
          "text": [
            "[I 2024-06-02 06:04:09,062] Trial 137 finished with value: 0.8588235378265381 and parameters: {'output_features': 16, 'optimizer': 'Adam', 'percentile': 0.231, 'learning_rate': 1, 'loss': 'cross_entropy', 'activation': 'elu'}. Best is trial 47 with value: 0.9882352948188782.\n"
          ]
        },
        {
          "output_type": "stream",
          "name": "stdout",
          "text": [
            "Train Accuracy: 0.8588235378265381, Test Accuracy: 0.761904776096344\n"
          ]
        },
        {
          "output_type": "stream",
          "name": "stderr",
          "text": [
            "[I 2024-06-02 06:04:09,928] Trial 138 finished with value: 0.9176470637321472 and parameters: {'output_features': 16, 'optimizer': 'Adam', 'percentile': 0.231, 'learning_rate': 0.1, 'loss': 'cross_entropy', 'activation': 'relu'}. Best is trial 47 with value: 0.9882352948188782.\n"
          ]
        },
        {
          "output_type": "stream",
          "name": "stdout",
          "text": [
            "Train Accuracy: 0.9176470637321472, Test Accuracy: 0.5714285969734192\n"
          ]
        },
        {
          "output_type": "stream",
          "name": "stderr",
          "text": [
            "[I 2024-06-02 06:04:10,772] Trial 139 finished with value: 0.9882352948188782 and parameters: {'output_features': 10, 'optimizer': 'Adam', 'percentile': 0.231, 'learning_rate': 0.1, 'loss': 'cross_entropy', 'activation': 'elu'}. Best is trial 47 with value: 0.9882352948188782.\n"
          ]
        },
        {
          "output_type": "stream",
          "name": "stdout",
          "text": [
            "Train Accuracy: 0.9882352948188782, Test Accuracy: 0.5714285969734192\n"
          ]
        },
        {
          "output_type": "stream",
          "name": "stderr",
          "text": [
            "[I 2024-06-02 06:04:11,596] Trial 140 finished with value: 0.9176470637321472 and parameters: {'output_features': 22, 'optimizer': 'RMSprop', 'percentile': 0.231, 'learning_rate': 0.1, 'loss': 'cross_entropy', 'activation': 'elu'}. Best is trial 47 with value: 0.9882352948188782.\n"
          ]
        },
        {
          "output_type": "stream",
          "name": "stdout",
          "text": [
            "Train Accuracy: 0.9176470637321472, Test Accuracy: 0.4761904776096344\n"
          ]
        },
        {
          "output_type": "stream",
          "name": "stderr",
          "text": [
            "[I 2024-06-02 06:04:12,428] Trial 141 finished with value: 0.9882352948188782 and parameters: {'output_features': 16, 'optimizer': 'Adam', 'percentile': 0.231, 'learning_rate': 0.1, 'loss': 'cross_entropy', 'activation': 'elu'}. Best is trial 47 with value: 0.9882352948188782.\n"
          ]
        },
        {
          "output_type": "stream",
          "name": "stdout",
          "text": [
            "Train Accuracy: 0.9882352948188782, Test Accuracy: 0.4761904776096344\n"
          ]
        },
        {
          "output_type": "stream",
          "name": "stderr",
          "text": [
            "[I 2024-06-02 06:04:13,265] Trial 142 finished with value: 0.9764705896377563 and parameters: {'output_features': 16, 'optimizer': 'Adam', 'percentile': 0.231, 'learning_rate': 0.1, 'loss': 'cross_entropy', 'activation': 'elu'}. Best is trial 47 with value: 0.9882352948188782.\n"
          ]
        },
        {
          "output_type": "stream",
          "name": "stdout",
          "text": [
            "Train Accuracy: 0.9764705896377563, Test Accuracy: 0.5714285969734192\n"
          ]
        },
        {
          "output_type": "stream",
          "name": "stderr",
          "text": [
            "[I 2024-06-02 06:04:14,136] Trial 143 finished with value: 0.9882352948188782 and parameters: {'output_features': 16, 'optimizer': 'Adam', 'percentile': 0.231, 'learning_rate': 0.1, 'loss': 'cross_entropy', 'activation': 'elu'}. Best is trial 47 with value: 0.9882352948188782.\n"
          ]
        },
        {
          "output_type": "stream",
          "name": "stdout",
          "text": [
            "Train Accuracy: 0.9882352948188782, Test Accuracy: 0.5714285969734192\n"
          ]
        },
        {
          "output_type": "stream",
          "name": "stderr",
          "text": [
            "[I 2024-06-02 06:04:14,985] Trial 144 finished with value: 0.9882352948188782 and parameters: {'output_features': 16, 'optimizer': 'Adam', 'percentile': 0.231, 'learning_rate': 0.1, 'loss': 'cross_entropy', 'activation': 'elu'}. Best is trial 47 with value: 0.9882352948188782.\n"
          ]
        },
        {
          "output_type": "stream",
          "name": "stdout",
          "text": [
            "Train Accuracy: 0.9882352948188782, Test Accuracy: 0.2857142984867096\n"
          ]
        },
        {
          "output_type": "stream",
          "name": "stderr",
          "text": [
            "[I 2024-06-02 06:04:16,057] Trial 145 finished with value: 0.9882352948188782 and parameters: {'output_features': 16, 'optimizer': 'Adam', 'percentile': 0.231, 'learning_rate': 0.1, 'loss': 'cross_entropy', 'activation': 'elu'}. Best is trial 47 with value: 0.9882352948188782.\n"
          ]
        },
        {
          "output_type": "stream",
          "name": "stdout",
          "text": [
            "Train Accuracy: 0.9882352948188782, Test Accuracy: 0.2857142984867096\n"
          ]
        },
        {
          "output_type": "stream",
          "name": "stderr",
          "text": [
            "[I 2024-06-02 06:04:17,224] Trial 146 finished with value: 0.9882352948188782 and parameters: {'output_features': 16, 'optimizer': 'Adam', 'percentile': 0.231, 'learning_rate': 0.1, 'loss': 'cross_entropy', 'activation': 'elu'}. Best is trial 47 with value: 0.9882352948188782.\n"
          ]
        },
        {
          "output_type": "stream",
          "name": "stdout",
          "text": [
            "Train Accuracy: 0.9882352948188782, Test Accuracy: 0.2857142984867096\n"
          ]
        },
        {
          "output_type": "stream",
          "name": "stderr",
          "text": [
            "[I 2024-06-02 06:04:18,417] Trial 147 finished with value: 0.9882352948188782 and parameters: {'output_features': 14, 'optimizer': 'Adam', 'percentile': 0.231, 'learning_rate': 0.1, 'loss': 'cross_entropy', 'activation': 'elu'}. Best is trial 47 with value: 0.9882352948188782.\n"
          ]
        },
        {
          "output_type": "stream",
          "name": "stdout",
          "text": [
            "Train Accuracy: 0.9882352948188782, Test Accuracy: 0.5714285969734192\n"
          ]
        },
        {
          "output_type": "stream",
          "name": "stderr",
          "text": [
            "[I 2024-06-02 06:04:19,401] Trial 148 finished with value: 0.9176470637321472 and parameters: {'output_features': 16, 'optimizer': 'Adam', 'percentile': 0.231, 'learning_rate': 0.01, 'loss': 'cross_entropy', 'activation': 'elu'}. Best is trial 47 with value: 0.9882352948188782.\n"
          ]
        },
        {
          "output_type": "stream",
          "name": "stdout",
          "text": [
            "Train Accuracy: 0.9176470637321472, Test Accuracy: 0.4761904776096344\n"
          ]
        },
        {
          "output_type": "stream",
          "name": "stderr",
          "text": [
            "[I 2024-06-02 06:04:20,266] Trial 149 finished with value: 0.800000011920929 and parameters: {'output_features': 12, 'optimizer': 'Adam', 'percentile': 0.231, 'learning_rate': 10, 'loss': 'cross_entropy', 'activation': 'elu'}. Best is trial 47 with value: 0.9882352948188782.\n"
          ]
        },
        {
          "output_type": "stream",
          "name": "stdout",
          "text": [
            "Train Accuracy: 0.800000011920929, Test Accuracy: 0.5714285969734192\n"
          ]
        },
        {
          "output_type": "stream",
          "name": "stderr",
          "text": [
            "[I 2024-06-02 06:04:21,133] Trial 150 finished with value: 0.9176470637321472 and parameters: {'output_features': 22, 'optimizer': 'Adam', 'percentile': 0.231, 'learning_rate': 0.1, 'loss': 'cross_entropy', 'activation': 'tanh'}. Best is trial 47 with value: 0.9882352948188782.\n"
          ]
        },
        {
          "output_type": "stream",
          "name": "stdout",
          "text": [
            "Train Accuracy: 0.9176470637321472, Test Accuracy: 0.5714285969734192\n"
          ]
        },
        {
          "output_type": "stream",
          "name": "stderr",
          "text": [
            "[I 2024-06-02 06:04:21,954] Trial 151 finished with value: 0.9764705896377563 and parameters: {'output_features': 16, 'optimizer': 'Adam', 'percentile': 0.231, 'learning_rate': 0.1, 'loss': 'cross_entropy', 'activation': 'elu'}. Best is trial 47 with value: 0.9882352948188782.\n"
          ]
        },
        {
          "output_type": "stream",
          "name": "stdout",
          "text": [
            "Train Accuracy: 0.9764705896377563, Test Accuracy: 0.6190476417541504\n"
          ]
        },
        {
          "output_type": "stream",
          "name": "stderr",
          "text": [
            "[I 2024-06-02 06:04:22,818] Trial 152 finished with value: 0.9764705896377563 and parameters: {'output_features': 16, 'optimizer': 'Adam', 'percentile': 0.231, 'learning_rate': 0.1, 'loss': 'cross_entropy', 'activation': 'elu'}. Best is trial 47 with value: 0.9882352948188782.\n"
          ]
        },
        {
          "output_type": "stream",
          "name": "stdout",
          "text": [
            "Train Accuracy: 0.9764705896377563, Test Accuracy: 0.6190476417541504\n"
          ]
        },
        {
          "output_type": "stream",
          "name": "stderr",
          "text": [
            "[I 2024-06-02 06:04:23,647] Trial 153 finished with value: 0.9764705896377563 and parameters: {'output_features': 16, 'optimizer': 'Adam', 'percentile': 0.231, 'learning_rate': 0.1, 'loss': 'cross_entropy', 'activation': 'elu'}. Best is trial 47 with value: 0.9882352948188782.\n"
          ]
        },
        {
          "output_type": "stream",
          "name": "stdout",
          "text": [
            "Train Accuracy: 0.9764705896377563, Test Accuracy: 0.5714285969734192\n"
          ]
        },
        {
          "output_type": "stream",
          "name": "stderr",
          "text": [
            "[I 2024-06-02 06:04:24,519] Trial 154 finished with value: 0.9764705896377563 and parameters: {'output_features': 16, 'optimizer': 'Adam', 'percentile': 0.231, 'learning_rate': 0.1, 'loss': 'cross_entropy', 'activation': 'elu'}. Best is trial 47 with value: 0.9882352948188782.\n"
          ]
        },
        {
          "output_type": "stream",
          "name": "stdout",
          "text": [
            "Train Accuracy: 0.9764705896377563, Test Accuracy: 0.761904776096344\n"
          ]
        },
        {
          "output_type": "stream",
          "name": "stderr",
          "text": [
            "[I 2024-06-02 06:04:25,392] Trial 155 finished with value: 0.9176470637321472 and parameters: {'output_features': 18, 'optimizer': 'Adam', 'percentile': 0.231, 'learning_rate': 0.1, 'loss': 'cross_entropy', 'activation': 'relu'}. Best is trial 47 with value: 0.9882352948188782.\n"
          ]
        },
        {
          "output_type": "stream",
          "name": "stdout",
          "text": [
            "Train Accuracy: 0.9176470637321472, Test Accuracy: 0.6190476417541504\n"
          ]
        },
        {
          "output_type": "stream",
          "name": "stderr",
          "text": [
            "[I 2024-06-02 06:04:26,246] Trial 156 finished with value: 0.9764705896377563 and parameters: {'output_features': 16, 'optimizer': 'Adam', 'percentile': 0.231, 'learning_rate': 0.1, 'loss': 'cross_entropy', 'activation': 'elu'}. Best is trial 47 with value: 0.9882352948188782.\n"
          ]
        },
        {
          "output_type": "stream",
          "name": "stdout",
          "text": [
            "Train Accuracy: 0.9764705896377563, Test Accuracy: 0.5714285969734192\n"
          ]
        },
        {
          "output_type": "stream",
          "name": "stderr",
          "text": [
            "[I 2024-06-02 06:04:27,039] Trial 157 finished with value: 0.8352941274642944 and parameters: {'output_features': 20, 'optimizer': 'SGD', 'percentile': 0.231, 'learning_rate': 0.1, 'loss': 'cross_entropy', 'activation': 'selu'}. Best is trial 47 with value: 0.9882352948188782.\n"
          ]
        },
        {
          "output_type": "stream",
          "name": "stdout",
          "text": [
            "Train Accuracy: 0.8352941274642944, Test Accuracy: 0.761904776096344\n"
          ]
        },
        {
          "output_type": "stream",
          "name": "stderr",
          "text": [
            "[I 2024-06-02 06:04:27,895] Trial 158 finished with value: 0.9882352948188782 and parameters: {'output_features': 18, 'optimizer': 'Adam', 'percentile': 0.231, 'learning_rate': 0.1, 'loss': 'cross_entropy', 'activation': 'elu'}. Best is trial 47 with value: 0.9882352948188782.\n"
          ]
        },
        {
          "output_type": "stream",
          "name": "stdout",
          "text": [
            "Train Accuracy: 0.9882352948188782, Test Accuracy: 0.2857142984867096\n"
          ]
        },
        {
          "output_type": "stream",
          "name": "stderr",
          "text": [
            "[I 2024-06-02 06:04:28,736] Trial 159 finished with value: 0.7882353067398071 and parameters: {'output_features': 16, 'optimizer': 'Adam', 'percentile': 0.231, 'learning_rate': 200, 'loss': 'cross_entropy', 'activation': 'elu'}. Best is trial 47 with value: 0.9882352948188782.\n"
          ]
        },
        {
          "output_type": "stream",
          "name": "stdout",
          "text": [
            "Train Accuracy: 0.7882353067398071, Test Accuracy: 0.4761904776096344\n"
          ]
        },
        {
          "output_type": "stream",
          "name": "stderr",
          "text": [
            "[I 2024-06-02 06:04:29,823] Trial 160 finished with value: 0.9764705896377563 and parameters: {'output_features': 16, 'optimizer': 'Adam', 'percentile': 0.231, 'learning_rate': 0.1, 'loss': 'cross_entropy', 'activation': 'selu'}. Best is trial 47 with value: 0.9882352948188782.\n"
          ]
        },
        {
          "output_type": "stream",
          "name": "stdout",
          "text": [
            "Train Accuracy: 0.9764705896377563, Test Accuracy: 0.4285714328289032\n"
          ]
        },
        {
          "output_type": "stream",
          "name": "stderr",
          "text": [
            "[I 2024-06-02 06:04:30,982] Trial 161 finished with value: 0.9882352948188782 and parameters: {'output_features': 16, 'optimizer': 'Adam', 'percentile': 0.231, 'learning_rate': 0.1, 'loss': 'cross_entropy', 'activation': 'elu'}. Best is trial 47 with value: 0.9882352948188782.\n"
          ]
        },
        {
          "output_type": "stream",
          "name": "stdout",
          "text": [
            "Train Accuracy: 0.9882352948188782, Test Accuracy: 0.4285714328289032\n"
          ]
        },
        {
          "output_type": "stream",
          "name": "stderr",
          "text": [
            "[I 2024-06-02 06:04:32,185] Trial 162 finished with value: 0.9882352948188782 and parameters: {'output_features': 16, 'optimizer': 'Adam', 'percentile': 0.231, 'learning_rate': 0.1, 'loss': 'cross_entropy', 'activation': 'elu'}. Best is trial 47 with value: 0.9882352948188782.\n"
          ]
        },
        {
          "output_type": "stream",
          "name": "stdout",
          "text": [
            "Train Accuracy: 0.9882352948188782, Test Accuracy: 0.2380952388048172\n"
          ]
        },
        {
          "output_type": "stream",
          "name": "stderr",
          "text": [
            "[I 2024-06-02 06:04:33,022] Trial 163 finished with value: 0.9882352948188782 and parameters: {'output_features': 16, 'optimizer': 'Adam', 'percentile': 0.231, 'learning_rate': 0.1, 'loss': 'cross_entropy', 'activation': 'elu'}. Best is trial 47 with value: 0.9882352948188782.\n"
          ]
        },
        {
          "output_type": "stream",
          "name": "stdout",
          "text": [
            "Train Accuracy: 0.9882352948188782, Test Accuracy: 0.4285714328289032\n"
          ]
        },
        {
          "output_type": "stream",
          "name": "stderr",
          "text": [
            "[I 2024-06-02 06:04:33,848] Trial 164 finished with value: 0.9882352948188782 and parameters: {'output_features': 16, 'optimizer': 'Adam', 'percentile': 0.231, 'learning_rate': 0.1, 'loss': 'cross_entropy', 'activation': 'elu'}. Best is trial 47 with value: 0.9882352948188782.\n"
          ]
        },
        {
          "output_type": "stream",
          "name": "stdout",
          "text": [
            "Train Accuracy: 0.9882352948188782, Test Accuracy: 0.380952388048172\n"
          ]
        },
        {
          "output_type": "stream",
          "name": "stderr",
          "text": [
            "[I 2024-06-02 06:04:34,705] Trial 165 finished with value: 0.8117647171020508 and parameters: {'output_features': 18, 'optimizer': 'Adam', 'percentile': 0.231, 'learning_rate': 100, 'loss': 'cross_entropy', 'activation': 'elu'}. Best is trial 47 with value: 0.9882352948188782.\n"
          ]
        },
        {
          "output_type": "stream",
          "name": "stdout",
          "text": [
            "Train Accuracy: 0.8117647171020508, Test Accuracy: 0.761904776096344\n"
          ]
        },
        {
          "output_type": "stream",
          "name": "stderr",
          "text": [
            "[I 2024-06-02 06:04:35,549] Trial 166 finished with value: 0.9882352948188782 and parameters: {'output_features': 22, 'optimizer': 'Adam', 'percentile': 0.231, 'learning_rate': 0.1, 'loss': 'cross_entropy', 'activation': 'elu'}. Best is trial 47 with value: 0.9882352948188782.\n"
          ]
        },
        {
          "output_type": "stream",
          "name": "stdout",
          "text": [
            "Train Accuracy: 0.9882352948188782, Test Accuracy: 0.4761904776096344\n"
          ]
        },
        {
          "output_type": "stream",
          "name": "stderr",
          "text": [
            "[I 2024-06-02 06:04:36,374] Trial 167 finished with value: 0.9882352948188782 and parameters: {'output_features': 16, 'optimizer': 'Adam', 'percentile': 0.231, 'learning_rate': 0.1, 'loss': 'cross_entropy', 'activation': 'selu'}. Best is trial 47 with value: 0.9882352948188782.\n"
          ]
        },
        {
          "output_type": "stream",
          "name": "stdout",
          "text": [
            "Train Accuracy: 0.9882352948188782, Test Accuracy: 0.380952388048172\n"
          ]
        },
        {
          "output_type": "stream",
          "name": "stderr",
          "text": [
            "[I 2024-06-02 06:04:37,329] Trial 168 finished with value: 0.8588235378265381 and parameters: {'output_features': 18, 'optimizer': 'RMSprop', 'percentile': 0.231, 'learning_rate': 1, 'loss': 'cross_entropy', 'activation': 'elu'}. Best is trial 47 with value: 0.9882352948188782.\n"
          ]
        },
        {
          "output_type": "stream",
          "name": "stdout",
          "text": [
            "Train Accuracy: 0.8588235378265381, Test Accuracy: 0.5714285969734192\n"
          ]
        },
        {
          "output_type": "stream",
          "name": "stderr",
          "text": [
            "[I 2024-06-02 06:04:38,146] Trial 169 finished with value: 0.9764705896377563 and parameters: {'output_features': 16, 'optimizer': 'Adam', 'percentile': 0.231, 'learning_rate': 0.1, 'loss': 'cross_entropy', 'activation': 'selu'}. Best is trial 47 with value: 0.9882352948188782.\n"
          ]
        },
        {
          "output_type": "stream",
          "name": "stdout",
          "text": [
            "Train Accuracy: 0.9764705896377563, Test Accuracy: 0.3333333432674408\n"
          ]
        },
        {
          "output_type": "stream",
          "name": "stderr",
          "text": [
            "[I 2024-06-02 06:04:38,974] Trial 170 finished with value: 0.9882352948188782 and parameters: {'output_features': 16, 'optimizer': 'Adam', 'percentile': 0.231, 'learning_rate': 0.1, 'loss': 'cross_entropy', 'activation': 'elu'}. Best is trial 47 with value: 0.9882352948188782.\n"
          ]
        },
        {
          "output_type": "stream",
          "name": "stdout",
          "text": [
            "Train Accuracy: 0.9882352948188782, Test Accuracy: 0.6666666865348816\n"
          ]
        },
        {
          "output_type": "stream",
          "name": "stderr",
          "text": [
            "[I 2024-06-02 06:04:39,792] Trial 171 finished with value: 0.9411764740943909 and parameters: {'output_features': 16, 'optimizer': 'Adam', 'percentile': 0.231, 'learning_rate': 0.1, 'loss': 'cross_entropy', 'activation': 'elu'}. Best is trial 47 with value: 0.9882352948188782.\n"
          ]
        },
        {
          "output_type": "stream",
          "name": "stdout",
          "text": [
            "Train Accuracy: 0.9411764740943909, Test Accuracy: 0.5714285969734192\n"
          ]
        },
        {
          "output_type": "stream",
          "name": "stderr",
          "text": [
            "[I 2024-06-02 06:04:40,598] Trial 172 finished with value: 0.9882352948188782 and parameters: {'output_features': 16, 'optimizer': 'Adam', 'percentile': 0.231, 'learning_rate': 0.1, 'loss': 'cross_entropy', 'activation': 'elu'}. Best is trial 47 with value: 0.9882352948188782.\n"
          ]
        },
        {
          "output_type": "stream",
          "name": "stdout",
          "text": [
            "Train Accuracy: 0.9882352948188782, Test Accuracy: 0.523809552192688\n"
          ]
        },
        {
          "output_type": "stream",
          "name": "stderr",
          "text": [
            "[I 2024-06-02 06:04:41,428] Trial 173 finished with value: 0.9882352948188782 and parameters: {'output_features': 16, 'optimizer': 'Adam', 'percentile': 0.231, 'learning_rate': 0.1, 'loss': 'cross_entropy', 'activation': 'elu'}. Best is trial 47 with value: 0.9882352948188782.\n"
          ]
        },
        {
          "output_type": "stream",
          "name": "stdout",
          "text": [
            "Train Accuracy: 0.9882352948188782, Test Accuracy: 0.523809552192688\n"
          ]
        },
        {
          "output_type": "stream",
          "name": "stderr",
          "text": [
            "[I 2024-06-02 06:04:42,346] Trial 174 finished with value: 0.9882352948188782 and parameters: {'output_features': 16, 'optimizer': 'Adam', 'percentile': 0.231, 'learning_rate': 0.1, 'loss': 'cross_entropy', 'activation': 'elu'}. Best is trial 47 with value: 0.9882352948188782.\n"
          ]
        },
        {
          "output_type": "stream",
          "name": "stdout",
          "text": [
            "Train Accuracy: 0.9882352948188782, Test Accuracy: 0.4761904776096344\n"
          ]
        },
        {
          "output_type": "stream",
          "name": "stderr",
          "text": [
            "[I 2024-06-02 06:04:43,427] Trial 175 finished with value: 0.9882352948188782 and parameters: {'output_features': 10, 'optimizer': 'Adam', 'percentile': 0.231, 'learning_rate': 0.1, 'loss': 'cross_entropy', 'activation': 'elu'}. Best is trial 47 with value: 0.9882352948188782.\n"
          ]
        },
        {
          "output_type": "stream",
          "name": "stdout",
          "text": [
            "Train Accuracy: 0.9882352948188782, Test Accuracy: 0.523809552192688\n"
          ]
        },
        {
          "output_type": "stream",
          "name": "stderr",
          "text": [
            "[I 2024-06-02 06:04:44,686] Trial 176 finished with value: 0.9764705896377563 and parameters: {'output_features': 18, 'optimizer': 'Adam', 'percentile': 0.231, 'learning_rate': 0.1, 'loss': 'cross_entropy', 'activation': 'elu'}. Best is trial 47 with value: 0.9882352948188782.\n"
          ]
        },
        {
          "output_type": "stream",
          "name": "stdout",
          "text": [
            "Train Accuracy: 0.9764705896377563, Test Accuracy: 0.523809552192688\n"
          ]
        },
        {
          "output_type": "stream",
          "name": "stderr",
          "text": [
            "[I 2024-06-02 06:04:45,655] Trial 177 finished with value: 0.9882352948188782 and parameters: {'output_features': 16, 'optimizer': 'Adam', 'percentile': 0.231, 'learning_rate': 0.1, 'loss': 'cross_entropy', 'activation': 'selu'}. Best is trial 47 with value: 0.9882352948188782.\n"
          ]
        },
        {
          "output_type": "stream",
          "name": "stdout",
          "text": [
            "Train Accuracy: 0.9882352948188782, Test Accuracy: 0.6190476417541504\n"
          ]
        },
        {
          "output_type": "stream",
          "name": "stderr",
          "text": [
            "[I 2024-06-02 06:04:46,509] Trial 178 finished with value: 0.9176470637321472 and parameters: {'output_features': 22, 'optimizer': 'Adam', 'percentile': 0.231, 'learning_rate': 0.1, 'loss': 'cross_entropy', 'activation': 'tanh'}. Best is trial 47 with value: 0.9882352948188782.\n"
          ]
        },
        {
          "output_type": "stream",
          "name": "stdout",
          "text": [
            "Train Accuracy: 0.9176470637321472, Test Accuracy: 0.6666666865348816\n"
          ]
        },
        {
          "output_type": "stream",
          "name": "stderr",
          "text": [
            "[I 2024-06-02 06:04:47,359] Trial 179 finished with value: 0.9764705896377563 and parameters: {'output_features': 16, 'optimizer': 'Adam', 'percentile': 0.231, 'learning_rate': 0.1, 'loss': 'cross_entropy', 'activation': 'elu'}. Best is trial 47 with value: 0.9882352948188782.\n"
          ]
        },
        {
          "output_type": "stream",
          "name": "stdout",
          "text": [
            "Train Accuracy: 0.9764705896377563, Test Accuracy: 0.5714285969734192\n"
          ]
        },
        {
          "output_type": "stream",
          "name": "stderr",
          "text": [
            "[I 2024-06-02 06:04:48,250] Trial 180 finished with value: 0.800000011920929 and parameters: {'output_features': 18, 'optimizer': 'Adam', 'percentile': 0.231, 'learning_rate': 10, 'loss': 'cross_entropy', 'activation': 'elu'}. Best is trial 47 with value: 0.9882352948188782.\n"
          ]
        },
        {
          "output_type": "stream",
          "name": "stdout",
          "text": [
            "Train Accuracy: 0.800000011920929, Test Accuracy: 0.6190476417541504\n"
          ]
        },
        {
          "output_type": "stream",
          "name": "stderr",
          "text": [
            "[I 2024-06-02 06:04:49,092] Trial 181 finished with value: 0.9882352948188782 and parameters: {'output_features': 16, 'optimizer': 'Adam', 'percentile': 0.231, 'learning_rate': 0.1, 'loss': 'cross_entropy', 'activation': 'elu'}. Best is trial 47 with value: 0.9882352948188782.\n"
          ]
        },
        {
          "output_type": "stream",
          "name": "stdout",
          "text": [
            "Train Accuracy: 0.9882352948188782, Test Accuracy: 0.3333333432674408\n"
          ]
        },
        {
          "output_type": "stream",
          "name": "stderr",
          "text": [
            "[I 2024-06-02 06:04:49,908] Trial 182 finished with value: 0.9764705896377563 and parameters: {'output_features': 16, 'optimizer': 'Adam', 'percentile': 0.231, 'learning_rate': 0.1, 'loss': 'cross_entropy', 'activation': 'elu'}. Best is trial 47 with value: 0.9882352948188782.\n"
          ]
        },
        {
          "output_type": "stream",
          "name": "stdout",
          "text": [
            "Train Accuracy: 0.9764705896377563, Test Accuracy: 0.380952388048172\n"
          ]
        },
        {
          "output_type": "stream",
          "name": "stderr",
          "text": [
            "[I 2024-06-02 06:04:50,759] Trial 183 finished with value: 0.9764705896377563 and parameters: {'output_features': 16, 'optimizer': 'Adam', 'percentile': 0.231, 'learning_rate': 0.1, 'loss': 'cross_entropy', 'activation': 'elu'}. Best is trial 47 with value: 0.9882352948188782.\n"
          ]
        },
        {
          "output_type": "stream",
          "name": "stdout",
          "text": [
            "Train Accuracy: 0.9764705896377563, Test Accuracy: 0.4285714328289032\n"
          ]
        },
        {
          "output_type": "stream",
          "name": "stderr",
          "text": [
            "[I 2024-06-02 06:04:51,593] Trial 184 finished with value: 0.9764705896377563 and parameters: {'output_features': 16, 'optimizer': 'Adam', 'percentile': 0.231, 'learning_rate': 0.1, 'loss': 'cross_entropy', 'activation': 'elu'}. Best is trial 47 with value: 0.9882352948188782.\n"
          ]
        },
        {
          "output_type": "stream",
          "name": "stdout",
          "text": [
            "Train Accuracy: 0.9764705896377563, Test Accuracy: 0.3333333432674408\n"
          ]
        },
        {
          "output_type": "stream",
          "name": "stderr",
          "text": [
            "[I 2024-06-02 06:04:52,431] Trial 185 finished with value: 0.929411768913269 and parameters: {'output_features': 14, 'optimizer': 'Adam', 'percentile': 0.231, 'learning_rate': 0.01, 'loss': 'cross_entropy', 'activation': 'selu'}. Best is trial 47 with value: 0.9882352948188782.\n"
          ]
        },
        {
          "output_type": "stream",
          "name": "stdout",
          "text": [
            "Train Accuracy: 0.929411768913269, Test Accuracy: 0.5714285969734192\n"
          ]
        },
        {
          "output_type": "stream",
          "name": "stderr",
          "text": [
            "[I 2024-06-02 06:04:53,209] Trial 186 finished with value: 0.7882353067398071 and parameters: {'output_features': 16, 'optimizer': 'SGD', 'percentile': 0.231, 'learning_rate': 0.1, 'loss': 'cross_entropy', 'activation': 'relu'}. Best is trial 47 with value: 0.9882352948188782.\n"
          ]
        },
        {
          "output_type": "stream",
          "name": "stdout",
          "text": [
            "Train Accuracy: 0.7882353067398071, Test Accuracy: 0.6666666865348816\n"
          ]
        },
        {
          "output_type": "stream",
          "name": "stderr",
          "text": [
            "[I 2024-06-02 06:04:54,049] Trial 187 finished with value: 0.9882352948188782 and parameters: {'output_features': 12, 'optimizer': 'Adam', 'percentile': 0.231, 'learning_rate': 0.1, 'loss': 'cross_entropy', 'activation': 'elu'}. Best is trial 47 with value: 0.9882352948188782.\n"
          ]
        },
        {
          "output_type": "stream",
          "name": "stdout",
          "text": [
            "Train Accuracy: 0.9882352948188782, Test Accuracy: 0.4761904776096344\n"
          ]
        },
        {
          "output_type": "stream",
          "name": "stderr",
          "text": [
            "[I 2024-06-02 06:04:54,891] Trial 188 finished with value: 0.9764705896377563 and parameters: {'output_features': 16, 'optimizer': 'Adam', 'percentile': 0.231, 'learning_rate': 0.1, 'loss': 'cross_entropy', 'activation': 'elu'}. Best is trial 47 with value: 0.9882352948188782.\n"
          ]
        },
        {
          "output_type": "stream",
          "name": "stdout",
          "text": [
            "Train Accuracy: 0.9764705896377563, Test Accuracy: 0.4285714328289032\n"
          ]
        },
        {
          "output_type": "stream",
          "name": "stderr",
          "text": [
            "[I 2024-06-02 06:04:55,979] Trial 189 finished with value: 0.9529411792755127 and parameters: {'output_features': 20, 'optimizer': 'Adam', 'percentile': 0.231, 'learning_rate': 0.1, 'loss': 'cross_entropy', 'activation': 'selu'}. Best is trial 47 with value: 0.9882352948188782.\n"
          ]
        },
        {
          "output_type": "stream",
          "name": "stdout",
          "text": [
            "Train Accuracy: 0.9529411792755127, Test Accuracy: 0.4761904776096344\n"
          ]
        },
        {
          "output_type": "stream",
          "name": "stderr",
          "text": [
            "[I 2024-06-02 06:04:57,140] Trial 190 finished with value: 0.9764705896377563 and parameters: {'output_features': 18, 'optimizer': 'Adam', 'percentile': 0.231, 'learning_rate': 0.1, 'loss': 'cross_entropy', 'activation': 'elu'}. Best is trial 47 with value: 0.9882352948188782.\n"
          ]
        },
        {
          "output_type": "stream",
          "name": "stdout",
          "text": [
            "Train Accuracy: 0.9764705896377563, Test Accuracy: 0.5714285969734192\n"
          ]
        },
        {
          "output_type": "stream",
          "name": "stderr",
          "text": [
            "[I 2024-06-02 06:04:58,285] Trial 191 finished with value: 0.9764705896377563 and parameters: {'output_features': 12, 'optimizer': 'Adam', 'percentile': 0.231, 'learning_rate': 0.1, 'loss': 'cross_entropy', 'activation': 'elu'}. Best is trial 47 with value: 0.9882352948188782.\n"
          ]
        },
        {
          "output_type": "stream",
          "name": "stdout",
          "text": [
            "Train Accuracy: 0.9764705896377563, Test Accuracy: 0.4761904776096344\n"
          ]
        },
        {
          "output_type": "stream",
          "name": "stderr",
          "text": [
            "[I 2024-06-02 06:04:59,274] Trial 192 finished with value: 0.9882352948188782 and parameters: {'output_features': 12, 'optimizer': 'Adam', 'percentile': 0.231, 'learning_rate': 0.1, 'loss': 'cross_entropy', 'activation': 'elu'}. Best is trial 47 with value: 0.9882352948188782.\n"
          ]
        },
        {
          "output_type": "stream",
          "name": "stdout",
          "text": [
            "Train Accuracy: 0.9882352948188782, Test Accuracy: 0.4285714328289032\n"
          ]
        },
        {
          "output_type": "stream",
          "name": "stderr",
          "text": [
            "[I 2024-06-02 06:05:00,105] Trial 193 finished with value: 0.9764705896377563 and parameters: {'output_features': 12, 'optimizer': 'Adam', 'percentile': 0.231, 'learning_rate': 0.1, 'loss': 'cross_entropy', 'activation': 'elu'}. Best is trial 47 with value: 0.9882352948188782.\n"
          ]
        },
        {
          "output_type": "stream",
          "name": "stdout",
          "text": [
            "Train Accuracy: 0.9764705896377563, Test Accuracy: 0.2857142984867096\n"
          ]
        },
        {
          "output_type": "stream",
          "name": "stderr",
          "text": [
            "[I 2024-06-02 06:05:00,934] Trial 194 finished with value: 0.9882352948188782 and parameters: {'output_features': 12, 'optimizer': 'Adam', 'percentile': 0.231, 'learning_rate': 0.1, 'loss': 'cross_entropy', 'activation': 'elu'}. Best is trial 47 with value: 0.9882352948188782.\n"
          ]
        },
        {
          "output_type": "stream",
          "name": "stdout",
          "text": [
            "Train Accuracy: 0.9882352948188782, Test Accuracy: 0.380952388048172\n"
          ]
        },
        {
          "output_type": "stream",
          "name": "stderr",
          "text": [
            "[I 2024-06-02 06:05:01,811] Trial 195 finished with value: 0.7882353067398071 and parameters: {'output_features': 22, 'optimizer': 'Adam', 'percentile': 0.231, 'learning_rate': 200, 'loss': 'cross_entropy', 'activation': 'elu'}. Best is trial 47 with value: 0.9882352948188782.\n"
          ]
        },
        {
          "output_type": "stream",
          "name": "stdout",
          "text": [
            "Train Accuracy: 0.7882353067398071, Test Accuracy: 0.761904776096344\n"
          ]
        },
        {
          "output_type": "stream",
          "name": "stderr",
          "text": [
            "[I 2024-06-02 06:05:02,651] Trial 196 finished with value: 0.9411764740943909 and parameters: {'output_features': 16, 'optimizer': 'Adam', 'percentile': 0.231, 'learning_rate': 0.1, 'loss': 'cross_entropy', 'activation': 'leaky_relu'}. Best is trial 47 with value: 0.9882352948188782.\n"
          ]
        },
        {
          "output_type": "stream",
          "name": "stdout",
          "text": [
            "Train Accuracy: 0.9411764740943909, Test Accuracy: 0.8571428656578064\n"
          ]
        },
        {
          "output_type": "stream",
          "name": "stderr",
          "text": [
            "[I 2024-06-02 06:05:03,486] Trial 197 finished with value: 0.9882352948188782 and parameters: {'output_features': 16, 'optimizer': 'Adam', 'percentile': 0.231, 'learning_rate': 0.1, 'loss': 'cross_entropy', 'activation': 'elu'}. Best is trial 47 with value: 0.9882352948188782.\n"
          ]
        },
        {
          "output_type": "stream",
          "name": "stdout",
          "text": [
            "Train Accuracy: 0.9882352948188782, Test Accuracy: 0.6190476417541504\n"
          ]
        },
        {
          "output_type": "stream",
          "name": "stderr",
          "text": [
            "[I 2024-06-02 06:05:04,311] Trial 198 finished with value: 0.9647058844566345 and parameters: {'output_features': 18, 'optimizer': 'Adam', 'percentile': 0.231, 'learning_rate': 0.1, 'loss': 'cross_entropy', 'activation': 'selu'}. Best is trial 47 with value: 0.9882352948188782.\n"
          ]
        },
        {
          "output_type": "stream",
          "name": "stdout",
          "text": [
            "Train Accuracy: 0.9647058844566345, Test Accuracy: 0.523809552192688\n"
          ]
        },
        {
          "output_type": "stream",
          "name": "stderr",
          "text": [
            "[I 2024-06-02 06:05:05,131] Trial 199 finished with value: 0.8941176533699036 and parameters: {'output_features': 16, 'optimizer': 'RMSprop', 'percentile': 0.231, 'learning_rate': 0.1, 'loss': 'cross_entropy', 'activation': 'elu'}. Best is trial 47 with value: 0.9882352948188782.\n"
          ]
        },
        {
          "output_type": "stream",
          "name": "stdout",
          "text": [
            "Train Accuracy: 0.8941176533699036, Test Accuracy: 0.4285714328289032\n"
          ]
        },
        {
          "output_type": "stream",
          "name": "stderr",
          "text": [
            "[I 2024-06-02 06:05:05,966] Trial 200 finished with value: 0.7647058963775635 and parameters: {'output_features': 16, 'optimizer': 'Adam', 'percentile': 0.231, 'learning_rate': 100, 'loss': 'cross_entropy', 'activation': 'elu'}. Best is trial 47 with value: 0.9882352948188782.\n"
          ]
        },
        {
          "output_type": "stream",
          "name": "stdout",
          "text": [
            "Train Accuracy: 0.7647058963775635, Test Accuracy: 0.761904776096344\n"
          ]
        },
        {
          "output_type": "stream",
          "name": "stderr",
          "text": [
            "[I 2024-06-02 06:05:06,797] Trial 201 finished with value: 0.9882352948188782 and parameters: {'output_features': 16, 'optimizer': 'Adam', 'percentile': 0.231, 'learning_rate': 0.1, 'loss': 'cross_entropy', 'activation': 'elu'}. Best is trial 47 with value: 0.9882352948188782.\n"
          ]
        },
        {
          "output_type": "stream",
          "name": "stdout",
          "text": [
            "Train Accuracy: 0.9882352948188782, Test Accuracy: 0.4285714328289032\n"
          ]
        },
        {
          "output_type": "stream",
          "name": "stderr",
          "text": [
            "[I 2024-06-02 06:05:07,607] Trial 202 finished with value: 0.9882352948188782 and parameters: {'output_features': 16, 'optimizer': 'Adam', 'percentile': 0.231, 'learning_rate': 0.1, 'loss': 'cross_entropy', 'activation': 'elu'}. Best is trial 47 with value: 0.9882352948188782.\n"
          ]
        },
        {
          "output_type": "stream",
          "name": "stdout",
          "text": [
            "Train Accuracy: 0.9882352948188782, Test Accuracy: 0.2857142984867096\n"
          ]
        },
        {
          "output_type": "stream",
          "name": "stderr",
          "text": [
            "[I 2024-06-02 06:05:08,419] Trial 203 finished with value: 0.9764705896377563 and parameters: {'output_features': 16, 'optimizer': 'Adam', 'percentile': 0.231, 'learning_rate': 0.1, 'loss': 'cross_entropy', 'activation': 'elu'}. Best is trial 47 with value: 0.9882352948188782.\n"
          ]
        },
        {
          "output_type": "stream",
          "name": "stdout",
          "text": [
            "Train Accuracy: 0.9764705896377563, Test Accuracy: 0.523809552192688\n"
          ]
        },
        {
          "output_type": "stream",
          "name": "stderr",
          "text": [
            "[I 2024-06-02 06:05:09,454] Trial 204 finished with value: 0.9882352948188782 and parameters: {'output_features': 16, 'optimizer': 'Adam', 'percentile': 0.231, 'learning_rate': 0.1, 'loss': 'cross_entropy', 'activation': 'elu'}. Best is trial 47 with value: 0.9882352948188782.\n"
          ]
        },
        {
          "output_type": "stream",
          "name": "stdout",
          "text": [
            "Train Accuracy: 0.9882352948188782, Test Accuracy: 0.4761904776096344\n"
          ]
        },
        {
          "output_type": "stream",
          "name": "stderr",
          "text": [
            "[I 2024-06-02 06:05:10,571] Trial 205 finished with value: 0.9764705896377563 and parameters: {'output_features': 16, 'optimizer': 'Adam', 'percentile': 0.231, 'learning_rate': 0.1, 'loss': 'cross_entropy', 'activation': 'elu'}. Best is trial 47 with value: 0.9882352948188782.\n"
          ]
        },
        {
          "output_type": "stream",
          "name": "stdout",
          "text": [
            "Train Accuracy: 0.9764705896377563, Test Accuracy: 0.6666666865348816\n"
          ]
        },
        {
          "output_type": "stream",
          "name": "stderr",
          "text": [
            "[I 2024-06-02 06:05:11,804] Trial 206 finished with value: 0.9764705896377563 and parameters: {'output_features': 22, 'optimizer': 'Adam', 'percentile': 0.231, 'learning_rate': 0.1, 'loss': 'cross_entropy', 'activation': 'selu'}. Best is trial 47 with value: 0.9882352948188782.\n"
          ]
        },
        {
          "output_type": "stream",
          "name": "stdout",
          "text": [
            "Train Accuracy: 0.9764705896377563, Test Accuracy: 0.6666666865348816\n"
          ]
        },
        {
          "output_type": "stream",
          "name": "stderr",
          "text": [
            "[I 2024-06-02 06:05:12,950] Trial 207 finished with value: 0.9764705896377563 and parameters: {'output_features': 18, 'optimizer': 'Adam', 'percentile': 0.231, 'learning_rate': 0.1, 'loss': 'cross_entropy', 'activation': 'elu'}. Best is trial 47 with value: 0.9882352948188782.\n"
          ]
        },
        {
          "output_type": "stream",
          "name": "stdout",
          "text": [
            "Train Accuracy: 0.9764705896377563, Test Accuracy: 0.523809552192688\n"
          ]
        },
        {
          "output_type": "stream",
          "name": "stderr",
          "text": [
            "[I 2024-06-02 06:05:13,818] Trial 208 finished with value: 0.8235294222831726 and parameters: {'output_features': 16, 'optimizer': 'Adam', 'percentile': 0.231, 'learning_rate': 1, 'loss': 'cross_entropy', 'activation': 'elu'}. Best is trial 47 with value: 0.9882352948188782.\n"
          ]
        },
        {
          "output_type": "stream",
          "name": "stdout",
          "text": [
            "Train Accuracy: 0.8235294222831726, Test Accuracy: 0.7142857313156128\n"
          ]
        },
        {
          "output_type": "stream",
          "name": "stderr",
          "text": [
            "[I 2024-06-02 06:05:14,651] Trial 209 finished with value: 0.9882352948188782 and parameters: {'output_features': 12, 'optimizer': 'Adam', 'percentile': 0.231, 'learning_rate': 0.1, 'loss': 'cross_entropy', 'activation': 'selu'}. Best is trial 47 with value: 0.9882352948188782.\n"
          ]
        },
        {
          "output_type": "stream",
          "name": "stdout",
          "text": [
            "Train Accuracy: 0.9882352948188782, Test Accuracy: 0.4285714328289032\n"
          ]
        },
        {
          "output_type": "stream",
          "name": "stderr",
          "text": [
            "[I 2024-06-02 06:05:15,482] Trial 210 finished with value: 0.9764705896377563 and parameters: {'output_features': 10, 'optimizer': 'Adam', 'percentile': 0.231, 'learning_rate': 0.1, 'loss': 'cross_entropy', 'activation': 'elu'}. Best is trial 47 with value: 0.9882352948188782.\n"
          ]
        },
        {
          "output_type": "stream",
          "name": "stdout",
          "text": [
            "Train Accuracy: 0.9764705896377563, Test Accuracy: 0.4761904776096344\n"
          ]
        },
        {
          "output_type": "stream",
          "name": "stderr",
          "text": [
            "[I 2024-06-02 06:05:16,324] Trial 211 finished with value: 0.9882352948188782 and parameters: {'output_features': 16, 'optimizer': 'Adam', 'percentile': 0.231, 'learning_rate': 0.1, 'loss': 'cross_entropy', 'activation': 'elu'}. Best is trial 47 with value: 0.9882352948188782.\n"
          ]
        },
        {
          "output_type": "stream",
          "name": "stdout",
          "text": [
            "Train Accuracy: 0.9882352948188782, Test Accuracy: 0.6190476417541504\n"
          ]
        },
        {
          "output_type": "stream",
          "name": "stderr",
          "text": [
            "[I 2024-06-02 06:05:17,204] Trial 212 finished with value: 0.9882352948188782 and parameters: {'output_features': 16, 'optimizer': 'Adam', 'percentile': 0.231, 'learning_rate': 0.1, 'loss': 'cross_entropy', 'activation': 'elu'}. Best is trial 47 with value: 0.9882352948188782.\n"
          ]
        },
        {
          "output_type": "stream",
          "name": "stdout",
          "text": [
            "Train Accuracy: 0.9882352948188782, Test Accuracy: 0.4761904776096344\n"
          ]
        },
        {
          "output_type": "stream",
          "name": "stderr",
          "text": [
            "[I 2024-06-02 06:05:18,020] Trial 213 finished with value: 0.9764705896377563 and parameters: {'output_features': 16, 'optimizer': 'Adam', 'percentile': 0.231, 'learning_rate': 0.1, 'loss': 'cross_entropy', 'activation': 'elu'}. Best is trial 47 with value: 0.9882352948188782.\n"
          ]
        },
        {
          "output_type": "stream",
          "name": "stdout",
          "text": [
            "Train Accuracy: 0.9764705896377563, Test Accuracy: 0.6666666865348816\n"
          ]
        },
        {
          "output_type": "stream",
          "name": "stderr",
          "text": [
            "[I 2024-06-02 06:05:18,826] Trial 214 finished with value: 0.9882352948188782 and parameters: {'output_features': 16, 'optimizer': 'Adam', 'percentile': 0.231, 'learning_rate': 0.1, 'loss': 'cross_entropy', 'activation': 'elu'}. Best is trial 47 with value: 0.9882352948188782.\n"
          ]
        },
        {
          "output_type": "stream",
          "name": "stdout",
          "text": [
            "Train Accuracy: 0.9882352948188782, Test Accuracy: 0.380952388048172\n"
          ]
        },
        {
          "output_type": "stream",
          "name": "stderr",
          "text": [
            "[I 2024-06-02 06:05:19,657] Trial 215 finished with value: 0.9764705896377563 and parameters: {'output_features': 16, 'optimizer': 'Adam', 'percentile': 0.231, 'learning_rate': 0.1, 'loss': 'cross_entropy', 'activation': 'elu'}. Best is trial 47 with value: 0.9882352948188782.\n"
          ]
        },
        {
          "output_type": "stream",
          "name": "stdout",
          "text": [
            "Train Accuracy: 0.9764705896377563, Test Accuracy: 0.7142857313156128\n"
          ]
        },
        {
          "output_type": "stream",
          "name": "stderr",
          "text": [
            "[I 2024-06-02 06:05:20,508] Trial 216 finished with value: 0.9764705896377563 and parameters: {'output_features': 18, 'optimizer': 'Adam', 'percentile': 0.231, 'learning_rate': 0.1, 'loss': 'cross_entropy', 'activation': 'leaky_relu'}. Best is trial 47 with value: 0.9882352948188782.\n"
          ]
        },
        {
          "output_type": "stream",
          "name": "stdout",
          "text": [
            "Train Accuracy: 0.9764705896377563, Test Accuracy: 0.8095238208770752\n"
          ]
        },
        {
          "output_type": "stream",
          "name": "stderr",
          "text": [
            "[I 2024-06-02 06:05:21,360] Trial 217 finished with value: 0.9058823585510254 and parameters: {'output_features': 16, 'optimizer': 'Adam', 'percentile': 0.231, 'learning_rate': 0.1, 'loss': 'cross_entropy', 'activation': 'tanh'}. Best is trial 47 with value: 0.9882352948188782.\n"
          ]
        },
        {
          "output_type": "stream",
          "name": "stdout",
          "text": [
            "Train Accuracy: 0.9058823585510254, Test Accuracy: 0.7142857313156128\n"
          ]
        },
        {
          "output_type": "stream",
          "name": "stderr",
          "text": [
            "[I 2024-06-02 06:05:22,172] Trial 218 finished with value: 0.9764705896377563 and parameters: {'output_features': 16, 'optimizer': 'Adam', 'percentile': 0.231, 'learning_rate': 0.1, 'loss': 'cross_entropy', 'activation': 'elu'}. Best is trial 47 with value: 0.9882352948188782.\n"
          ]
        },
        {
          "output_type": "stream",
          "name": "stdout",
          "text": [
            "Train Accuracy: 0.9764705896377563, Test Accuracy: 0.6190476417541504\n"
          ]
        },
        {
          "output_type": "stream",
          "name": "stderr",
          "text": [
            "[I 2024-06-02 06:05:23,221] Trial 219 finished with value: 0.9647058844566345 and parameters: {'output_features': 16, 'optimizer': 'Adam', 'percentile': 0.231, 'learning_rate': 0.1, 'loss': 'cross_entropy', 'activation': 'selu'}. Best is trial 47 with value: 0.9882352948188782.\n"
          ]
        },
        {
          "output_type": "stream",
          "name": "stdout",
          "text": [
            "Train Accuracy: 0.9647058844566345, Test Accuracy: 0.523809552192688\n"
          ]
        },
        {
          "output_type": "stream",
          "name": "stderr",
          "text": [
            "[I 2024-06-02 06:05:24,405] Trial 220 finished with value: 0.9411764740943909 and parameters: {'output_features': 22, 'optimizer': 'Adam', 'percentile': 0.231, 'learning_rate': 0.01, 'loss': 'cross_entropy', 'activation': 'elu'}. Best is trial 47 with value: 0.9882352948188782.\n"
          ]
        },
        {
          "output_type": "stream",
          "name": "stdout",
          "text": [
            "Train Accuracy: 0.9411764740943909, Test Accuracy: 0.5714285969734192\n"
          ]
        },
        {
          "output_type": "stream",
          "name": "stderr",
          "text": [
            "[I 2024-06-02 06:05:25,578] Trial 221 finished with value: 0.9647058844566345 and parameters: {'output_features': 10, 'optimizer': 'Adam', 'percentile': 0.231, 'learning_rate': 0.1, 'loss': 'cross_entropy', 'activation': 'elu'}. Best is trial 47 with value: 0.9882352948188782.\n"
          ]
        },
        {
          "output_type": "stream",
          "name": "stdout",
          "text": [
            "Train Accuracy: 0.9647058844566345, Test Accuracy: 0.4761904776096344\n"
          ]
        },
        {
          "output_type": "stream",
          "name": "stderr",
          "text": [
            "[I 2024-06-02 06:05:26,682] Trial 222 finished with value: 0.9647058844566345 and parameters: {'output_features': 18, 'optimizer': 'Adam', 'percentile': 0.231, 'learning_rate': 0.1, 'loss': 'cross_entropy', 'activation': 'elu'}. Best is trial 47 with value: 0.9882352948188782.\n"
          ]
        },
        {
          "output_type": "stream",
          "name": "stdout",
          "text": [
            "Train Accuracy: 0.9647058844566345, Test Accuracy: 0.4285714328289032\n"
          ]
        },
        {
          "output_type": "stream",
          "name": "stderr",
          "text": [
            "[I 2024-06-02 06:05:27,466] Trial 223 finished with value: 0.8352941274642944 and parameters: {'output_features': 10, 'optimizer': 'SGD', 'percentile': 0.231, 'learning_rate': 0.1, 'loss': 'cross_entropy', 'activation': 'elu'}. Best is trial 47 with value: 0.9882352948188782.\n"
          ]
        },
        {
          "output_type": "stream",
          "name": "stdout",
          "text": [
            "Train Accuracy: 0.8352941274642944, Test Accuracy: 0.7142857313156128\n"
          ]
        },
        {
          "output_type": "stream",
          "name": "stderr",
          "text": [
            "[I 2024-06-02 06:05:28,289] Trial 224 finished with value: 0.9882352948188782 and parameters: {'output_features': 10, 'optimizer': 'Adam', 'percentile': 0.231, 'learning_rate': 0.1, 'loss': 'cross_entropy', 'activation': 'elu'}. Best is trial 47 with value: 0.9882352948188782.\n"
          ]
        },
        {
          "output_type": "stream",
          "name": "stdout",
          "text": [
            "Train Accuracy: 0.9882352948188782, Test Accuracy: 0.5714285969734192\n"
          ]
        },
        {
          "output_type": "stream",
          "name": "stderr",
          "text": [
            "[I 2024-06-02 06:05:29,127] Trial 225 finished with value: 0.9764705896377563 and parameters: {'output_features': 10, 'optimizer': 'Adam', 'percentile': 0.231, 'learning_rate': 0.1, 'loss': 'cross_entropy', 'activation': 'elu'}. Best is trial 47 with value: 0.9882352948188782.\n"
          ]
        },
        {
          "output_type": "stream",
          "name": "stdout",
          "text": [
            "Train Accuracy: 0.9764705896377563, Test Accuracy: 0.4761904776096344\n"
          ]
        },
        {
          "output_type": "stream",
          "name": "stderr",
          "text": [
            "[I 2024-06-02 06:05:29,984] Trial 226 finished with value: 0.800000011920929 and parameters: {'output_features': 16, 'optimizer': 'Adam', 'percentile': 0.231, 'learning_rate': 10, 'loss': 'cross_entropy', 'activation': 'elu'}. Best is trial 47 with value: 0.9882352948188782.\n"
          ]
        },
        {
          "output_type": "stream",
          "name": "stdout",
          "text": [
            "Train Accuracy: 0.800000011920929, Test Accuracy: 0.6190476417541504\n"
          ]
        },
        {
          "output_type": "stream",
          "name": "stderr",
          "text": [
            "[I 2024-06-02 06:05:30,804] Trial 227 finished with value: 0.9882352948188782 and parameters: {'output_features': 16, 'optimizer': 'Adam', 'percentile': 0.231, 'learning_rate': 0.1, 'loss': 'cross_entropy', 'activation': 'elu'}. Best is trial 47 with value: 0.9882352948188782.\n"
          ]
        },
        {
          "output_type": "stream",
          "name": "stdout",
          "text": [
            "Train Accuracy: 0.9882352948188782, Test Accuracy: 0.380952388048172\n"
          ]
        },
        {
          "output_type": "stream",
          "name": "stderr",
          "text": [
            "[I 2024-06-02 06:05:31,693] Trial 228 finished with value: 0.929411768913269 and parameters: {'output_features': 18, 'optimizer': 'Adam', 'percentile': 0.231, 'learning_rate': 0.1, 'loss': 'cross_entropy', 'activation': 'relu'}. Best is trial 47 with value: 0.9882352948188782.\n"
          ]
        },
        {
          "output_type": "stream",
          "name": "stdout",
          "text": [
            "Train Accuracy: 0.929411768913269, Test Accuracy: 0.6666666865348816\n"
          ]
        },
        {
          "output_type": "stream",
          "name": "stderr",
          "text": [
            "[I 2024-06-02 06:05:32,520] Trial 229 finished with value: 0.9764705896377563 and parameters: {'output_features': 14, 'optimizer': 'Adam', 'percentile': 0.231, 'learning_rate': 0.1, 'loss': 'cross_entropy', 'activation': 'selu'}. Best is trial 47 with value: 0.9882352948188782.\n"
          ]
        },
        {
          "output_type": "stream",
          "name": "stdout",
          "text": [
            "Train Accuracy: 0.9764705896377563, Test Accuracy: 0.4761904776096344\n"
          ]
        },
        {
          "output_type": "stream",
          "name": "stderr",
          "text": [
            "[I 2024-06-02 06:05:33,340] Trial 230 finished with value: 0.9764705896377563 and parameters: {'output_features': 16, 'optimizer': 'Adam', 'percentile': 0.231, 'learning_rate': 0.1, 'loss': 'cross_entropy', 'activation': 'elu'}. Best is trial 47 with value: 0.9882352948188782.\n"
          ]
        },
        {
          "output_type": "stream",
          "name": "stdout",
          "text": [
            "Train Accuracy: 0.9764705896377563, Test Accuracy: 0.6666666865348816\n"
          ]
        },
        {
          "output_type": "stream",
          "name": "stderr",
          "text": [
            "[I 2024-06-02 06:05:34,168] Trial 231 finished with value: 0.9882352948188782 and parameters: {'output_features': 16, 'optimizer': 'Adam', 'percentile': 0.231, 'learning_rate': 0.1, 'loss': 'cross_entropy', 'activation': 'elu'}. Best is trial 47 with value: 0.9882352948188782.\n"
          ]
        },
        {
          "output_type": "stream",
          "name": "stdout",
          "text": [
            "Train Accuracy: 0.9882352948188782, Test Accuracy: 0.4285714328289032\n"
          ]
        },
        {
          "output_type": "stream",
          "name": "stderr",
          "text": [
            "[I 2024-06-02 06:05:35,040] Trial 232 finished with value: 0.9647058844566345 and parameters: {'output_features': 16, 'optimizer': 'Adam', 'percentile': 0.231, 'learning_rate': 0.1, 'loss': 'cross_entropy', 'activation': 'elu'}. Best is trial 47 with value: 0.9882352948188782.\n"
          ]
        },
        {
          "output_type": "stream",
          "name": "stdout",
          "text": [
            "Train Accuracy: 0.9647058844566345, Test Accuracy: 0.4761904776096344\n"
          ]
        },
        {
          "output_type": "stream",
          "name": "stderr",
          "text": [
            "[I 2024-06-02 06:05:35,873] Trial 233 finished with value: 0.9882352948188782 and parameters: {'output_features': 16, 'optimizer': 'Adam', 'percentile': 0.231, 'learning_rate': 0.1, 'loss': 'cross_entropy', 'activation': 'elu'}. Best is trial 47 with value: 0.9882352948188782.\n"
          ]
        },
        {
          "output_type": "stream",
          "name": "stdout",
          "text": [
            "Train Accuracy: 0.9882352948188782, Test Accuracy: 0.4761904776096344\n"
          ]
        },
        {
          "output_type": "stream",
          "name": "stderr",
          "text": [
            "[I 2024-06-02 06:05:36,870] Trial 234 finished with value: 0.9764705896377563 and parameters: {'output_features': 16, 'optimizer': 'Adam', 'percentile': 0.231, 'learning_rate': 0.1, 'loss': 'cross_entropy', 'activation': 'elu'}. Best is trial 47 with value: 0.9882352948188782.\n"
          ]
        },
        {
          "output_type": "stream",
          "name": "stdout",
          "text": [
            "Train Accuracy: 0.9764705896377563, Test Accuracy: 0.523809552192688\n"
          ]
        },
        {
          "output_type": "stream",
          "name": "stderr",
          "text": [
            "[I 2024-06-02 06:05:37,979] Trial 235 finished with value: 0.9647058844566345 and parameters: {'output_features': 16, 'optimizer': 'Adam', 'percentile': 0.231, 'learning_rate': 0.1, 'loss': 'cross_entropy', 'activation': 'elu'}. Best is trial 47 with value: 0.9882352948188782.\n"
          ]
        },
        {
          "output_type": "stream",
          "name": "stdout",
          "text": [
            "Train Accuracy: 0.9647058844566345, Test Accuracy: 0.6190476417541504\n"
          ]
        },
        {
          "output_type": "stream",
          "name": "stderr",
          "text": [
            "[I 2024-06-02 06:05:39,266] Trial 236 finished with value: 0.9882352948188782 and parameters: {'output_features': 20, 'optimizer': 'Adam', 'percentile': 0.231, 'learning_rate': 0.1, 'loss': 'cross_entropy', 'activation': 'elu'}. Best is trial 47 with value: 0.9882352948188782.\n"
          ]
        },
        {
          "output_type": "stream",
          "name": "stdout",
          "text": [
            "Train Accuracy: 0.9882352948188782, Test Accuracy: 0.6666666865348816\n"
          ]
        },
        {
          "output_type": "stream",
          "name": "stderr",
          "text": [
            "[I 2024-06-02 06:05:40,205] Trial 237 finished with value: 0.8588235378265381 and parameters: {'output_features': 12, 'optimizer': 'RMSprop', 'percentile': 0.231, 'learning_rate': 0.1, 'loss': 'cross_entropy', 'activation': 'selu'}. Best is trial 47 with value: 0.9882352948188782.\n"
          ]
        },
        {
          "output_type": "stream",
          "name": "stdout",
          "text": [
            "Train Accuracy: 0.8588235378265381, Test Accuracy: 0.4285714328289032\n"
          ]
        },
        {
          "output_type": "stream",
          "name": "stderr",
          "text": [
            "[I 2024-06-02 06:05:41,101] Trial 238 finished with value: 0.7764706015586853 and parameters: {'output_features': 22, 'optimizer': 'Adam', 'percentile': 0.231, 'learning_rate': 200, 'loss': 'cross_entropy', 'activation': 'elu'}. Best is trial 47 with value: 0.9882352948188782.\n"
          ]
        },
        {
          "output_type": "stream",
          "name": "stdout",
          "text": [
            "Train Accuracy: 0.7764706015586853, Test Accuracy: 0.2380952388048172\n"
          ]
        },
        {
          "output_type": "stream",
          "name": "stderr",
          "text": [
            "[I 2024-06-02 06:05:41,914] Trial 239 finished with value: 0.9647058844566345 and parameters: {'output_features': 16, 'optimizer': 'Adam', 'percentile': 0.231, 'learning_rate': 0.1, 'loss': 'cross_entropy', 'activation': 'leaky_relu'}. Best is trial 47 with value: 0.9882352948188782.\n"
          ]
        },
        {
          "output_type": "stream",
          "name": "stdout",
          "text": [
            "Train Accuracy: 0.9647058844566345, Test Accuracy: 0.6666666865348816\n"
          ]
        },
        {
          "output_type": "stream",
          "name": "stderr",
          "text": [
            "[I 2024-06-02 06:05:42,770] Trial 240 finished with value: 0.9882352948188782 and parameters: {'output_features': 18, 'optimizer': 'Adam', 'percentile': 0.231, 'learning_rate': 0.1, 'loss': 'cross_entropy', 'activation': 'elu'}. Best is trial 47 with value: 0.9882352948188782.\n"
          ]
        },
        {
          "output_type": "stream",
          "name": "stdout",
          "text": [
            "Train Accuracy: 0.9882352948188782, Test Accuracy: 0.5714285969734192\n"
          ]
        },
        {
          "output_type": "stream",
          "name": "stderr",
          "text": [
            "[I 2024-06-02 06:05:43,621] Trial 241 finished with value: 0.9647058844566345 and parameters: {'output_features': 16, 'optimizer': 'Adam', 'percentile': 0.231, 'learning_rate': 0.1, 'loss': 'cross_entropy', 'activation': 'elu'}. Best is trial 47 with value: 0.9882352948188782.\n"
          ]
        },
        {
          "output_type": "stream",
          "name": "stdout",
          "text": [
            "Train Accuracy: 0.9647058844566345, Test Accuracy: 0.380952388048172\n"
          ]
        },
        {
          "output_type": "stream",
          "name": "stderr",
          "text": [
            "[I 2024-06-02 06:05:44,460] Trial 242 finished with value: 0.9882352948188782 and parameters: {'output_features': 16, 'optimizer': 'Adam', 'percentile': 0.231, 'learning_rate': 0.1, 'loss': 'cross_entropy', 'activation': 'elu'}. Best is trial 47 with value: 0.9882352948188782.\n"
          ]
        },
        {
          "output_type": "stream",
          "name": "stdout",
          "text": [
            "Train Accuracy: 0.9882352948188782, Test Accuracy: 0.5714285969734192\n"
          ]
        },
        {
          "output_type": "stream",
          "name": "stderr",
          "text": [
            "[I 2024-06-02 06:05:45,308] Trial 243 finished with value: 0.9647058844566345 and parameters: {'output_features': 16, 'optimizer': 'Adam', 'percentile': 0.231, 'learning_rate': 0.1, 'loss': 'cross_entropy', 'activation': 'elu'}. Best is trial 47 with value: 0.9882352948188782.\n"
          ]
        },
        {
          "output_type": "stream",
          "name": "stdout",
          "text": [
            "Train Accuracy: 0.9647058844566345, Test Accuracy: 0.6190476417541504\n"
          ]
        },
        {
          "output_type": "stream",
          "name": "stderr",
          "text": [
            "[I 2024-06-02 06:05:46,178] Trial 244 finished with value: 0.9882352948188782 and parameters: {'output_features': 16, 'optimizer': 'Adam', 'percentile': 0.231, 'learning_rate': 0.1, 'loss': 'cross_entropy', 'activation': 'elu'}. Best is trial 47 with value: 0.9882352948188782.\n"
          ]
        },
        {
          "output_type": "stream",
          "name": "stdout",
          "text": [
            "Train Accuracy: 0.9882352948188782, Test Accuracy: 0.2380952388048172\n"
          ]
        },
        {
          "output_type": "stream",
          "name": "stderr",
          "text": [
            "[I 2024-06-02 06:05:47,013] Trial 245 finished with value: 0.9764705896377563 and parameters: {'output_features': 16, 'optimizer': 'Adam', 'percentile': 0.231, 'learning_rate': 0.1, 'loss': 'cross_entropy', 'activation': 'elu'}. Best is trial 47 with value: 0.9882352948188782.\n"
          ]
        },
        {
          "output_type": "stream",
          "name": "stdout",
          "text": [
            "Train Accuracy: 0.9764705896377563, Test Accuracy: 0.5714285969734192\n"
          ]
        },
        {
          "output_type": "stream",
          "name": "stderr",
          "text": [
            "[I 2024-06-02 06:05:47,847] Trial 246 finished with value: 0.9882352948188782 and parameters: {'output_features': 10, 'optimizer': 'Adam', 'percentile': 0.231, 'learning_rate': 0.1, 'loss': 'cross_entropy', 'activation': 'elu'}. Best is trial 47 with value: 0.9882352948188782.\n"
          ]
        },
        {
          "output_type": "stream",
          "name": "stdout",
          "text": [
            "Train Accuracy: 0.9882352948188782, Test Accuracy: 0.6190476417541504\n"
          ]
        },
        {
          "output_type": "stream",
          "name": "stderr",
          "text": [
            "[I 2024-06-02 06:05:48,698] Trial 247 finished with value: 0.9647058844566345 and parameters: {'output_features': 16, 'optimizer': 'Adam', 'percentile': 0.231, 'learning_rate': 0.1, 'loss': 'cross_entropy', 'activation': 'selu'}. Best is trial 47 with value: 0.9882352948188782.\n"
          ]
        },
        {
          "output_type": "stream",
          "name": "stdout",
          "text": [
            "Train Accuracy: 0.9647058844566345, Test Accuracy: 0.5714285969734192\n"
          ]
        },
        {
          "output_type": "stream",
          "name": "stderr",
          "text": [
            "[I 2024-06-02 06:05:49,554] Trial 248 finished with value: 0.7764706015586853 and parameters: {'output_features': 16, 'optimizer': 'Adam', 'percentile': 0.231, 'learning_rate': 100, 'loss': 'cross_entropy', 'activation': 'elu'}. Best is trial 47 with value: 0.9882352948188782.\n"
          ]
        },
        {
          "output_type": "stream",
          "name": "stdout",
          "text": [
            "Train Accuracy: 0.7764706015586853, Test Accuracy: 0.6190476417541504\n"
          ]
        },
        {
          "output_type": "stream",
          "name": "stderr",
          "text": [
            "[I 2024-06-02 06:05:50,690] Trial 249 finished with value: 0.9764705896377563 and parameters: {'output_features': 18, 'optimizer': 'Adam', 'percentile': 0.231, 'learning_rate': 0.1, 'loss': 'cross_entropy', 'activation': 'elu'}. Best is trial 47 with value: 0.9882352948188782.\n"
          ]
        },
        {
          "output_type": "stream",
          "name": "stdout",
          "text": [
            "Train Accuracy: 0.9764705896377563, Test Accuracy: 0.4761904776096344\n"
          ]
        },
        {
          "output_type": "stream",
          "name": "stderr",
          "text": [
            "[I 2024-06-02 06:05:51,953] Trial 250 finished with value: 0.8235294222831726 and parameters: {'output_features': 16, 'optimizer': 'Adam', 'percentile': 0.231, 'learning_rate': 1, 'loss': 'cross_entropy', 'activation': 'elu'}. Best is trial 47 with value: 0.9882352948188782.\n"
          ]
        },
        {
          "output_type": "stream",
          "name": "stdout",
          "text": [
            "Train Accuracy: 0.8235294222831726, Test Accuracy: 0.7142857313156128\n"
          ]
        },
        {
          "output_type": "stream",
          "name": "stderr",
          "text": [
            "[I 2024-06-02 06:05:53,144] Trial 251 finished with value: 0.9764705896377563 and parameters: {'output_features': 16, 'optimizer': 'Adam', 'percentile': 0.231, 'learning_rate': 0.1, 'loss': 'cross_entropy', 'activation': 'selu'}. Best is trial 47 with value: 0.9882352948188782.\n"
          ]
        },
        {
          "output_type": "stream",
          "name": "stdout",
          "text": [
            "Train Accuracy: 0.9764705896377563, Test Accuracy: 0.6666666865348816\n"
          ]
        },
        {
          "output_type": "stream",
          "name": "stderr",
          "text": [
            "[I 2024-06-02 06:05:54,035] Trial 252 finished with value: 0.9882352948188782 and parameters: {'output_features': 22, 'optimizer': 'Adam', 'percentile': 0.231, 'learning_rate': 0.1, 'loss': 'cross_entropy', 'activation': 'elu'}. Best is trial 47 with value: 0.9882352948188782.\n"
          ]
        },
        {
          "output_type": "stream",
          "name": "stdout",
          "text": [
            "Train Accuracy: 0.9882352948188782, Test Accuracy: 0.3333333432674408\n"
          ]
        },
        {
          "output_type": "stream",
          "name": "stderr",
          "text": [
            "[I 2024-06-02 06:05:54,925] Trial 253 finished with value: 0.9764705896377563 and parameters: {'output_features': 18, 'optimizer': 'Adam', 'percentile': 0.231, 'learning_rate': 0.1, 'loss': 'cross_entropy', 'activation': 'elu'}. Best is trial 47 with value: 0.9882352948188782.\n"
          ]
        },
        {
          "output_type": "stream",
          "name": "stdout",
          "text": [
            "Train Accuracy: 0.9764705896377563, Test Accuracy: 0.523809552192688\n"
          ]
        },
        {
          "output_type": "stream",
          "name": "stderr",
          "text": [
            "[I 2024-06-02 06:05:55,791] Trial 254 finished with value: 0.8705882430076599 and parameters: {'output_features': 16, 'optimizer': 'Adam', 'percentile': 0.231, 'learning_rate': 0.1, 'loss': 'cross_entropy', 'activation': 'tanh'}. Best is trial 47 with value: 0.9882352948188782.\n"
          ]
        },
        {
          "output_type": "stream",
          "name": "stdout",
          "text": [
            "Train Accuracy: 0.8705882430076599, Test Accuracy: 0.761904776096344\n"
          ]
        },
        {
          "output_type": "stream",
          "name": "stderr",
          "text": [
            "[I 2024-06-02 06:05:56,626] Trial 255 finished with value: 0.9882352948188782 and parameters: {'output_features': 16, 'optimizer': 'Adam', 'percentile': 0.231, 'learning_rate': 0.1, 'loss': 'cross_entropy', 'activation': 'elu'}. Best is trial 47 with value: 0.9882352948188782.\n"
          ]
        },
        {
          "output_type": "stream",
          "name": "stdout",
          "text": [
            "Train Accuracy: 0.9882352948188782, Test Accuracy: 0.4761904776096344\n"
          ]
        },
        {
          "output_type": "stream",
          "name": "stderr",
          "text": [
            "[I 2024-06-02 06:05:57,403] Trial 256 finished with value: 0.8352941274642944 and parameters: {'output_features': 12, 'optimizer': 'SGD', 'percentile': 0.231, 'learning_rate': 0.1, 'loss': 'cross_entropy', 'activation': 'selu'}. Best is trial 47 with value: 0.9882352948188782.\n"
          ]
        },
        {
          "output_type": "stream",
          "name": "stdout",
          "text": [
            "Train Accuracy: 0.8352941274642944, Test Accuracy: 0.6666666865348816\n"
          ]
        },
        {
          "output_type": "stream",
          "name": "stderr",
          "text": [
            "[I 2024-06-02 06:05:58,240] Trial 257 finished with value: 0.9882352948188782 and parameters: {'output_features': 16, 'optimizer': 'Adam', 'percentile': 0.231, 'learning_rate': 0.1, 'loss': 'cross_entropy', 'activation': 'elu'}. Best is trial 47 with value: 0.9882352948188782.\n"
          ]
        },
        {
          "output_type": "stream",
          "name": "stdout",
          "text": [
            "Train Accuracy: 0.9882352948188782, Test Accuracy: 0.4761904776096344\n"
          ]
        },
        {
          "output_type": "stream",
          "name": "stderr",
          "text": [
            "[I 2024-06-02 06:05:59,097] Trial 258 finished with value: 0.9764705896377563 and parameters: {'output_features': 18, 'optimizer': 'Adam', 'percentile': 0.231, 'learning_rate': 0.1, 'loss': 'cross_entropy', 'activation': 'leaky_relu'}. Best is trial 47 with value: 0.9882352948188782.\n"
          ]
        },
        {
          "output_type": "stream",
          "name": "stdout",
          "text": [
            "Train Accuracy: 0.9764705896377563, Test Accuracy: 0.6190476417541504\n"
          ]
        },
        {
          "output_type": "stream",
          "name": "stderr",
          "text": [
            "[I 2024-06-02 06:05:59,961] Trial 259 finished with value: 0.9764705896377563 and parameters: {'output_features': 16, 'optimizer': 'Adam', 'percentile': 0.231, 'learning_rate': 0.1, 'loss': 'cross_entropy', 'activation': 'elu'}. Best is trial 47 with value: 0.9882352948188782.\n"
          ]
        },
        {
          "output_type": "stream",
          "name": "stdout",
          "text": [
            "Train Accuracy: 0.9764705896377563, Test Accuracy: 0.523809552192688\n"
          ]
        },
        {
          "output_type": "stream",
          "name": "stderr",
          "text": [
            "[I 2024-06-02 06:06:00,815] Trial 260 finished with value: 0.8941176533699036 and parameters: {'output_features': 10, 'optimizer': 'Adam', 'percentile': 0.231, 'learning_rate': 0.01, 'loss': 'cross_entropy', 'activation': 'relu'}. Best is trial 47 with value: 0.9882352948188782.\n"
          ]
        },
        {
          "output_type": "stream",
          "name": "stdout",
          "text": [
            "Train Accuracy: 0.8941176533699036, Test Accuracy: 0.4761904776096344\n"
          ]
        },
        {
          "output_type": "stream",
          "name": "stderr",
          "text": [
            "[I 2024-06-02 06:06:01,710] Trial 261 finished with value: 0.7882353067398071 and parameters: {'output_features': 16, 'optimizer': 'Adam', 'percentile': 0.231, 'learning_rate': 10, 'loss': 'cross_entropy', 'activation': 'elu'}. Best is trial 47 with value: 0.9882352948188782.\n"
          ]
        },
        {
          "output_type": "stream",
          "name": "stdout",
          "text": [
            "Train Accuracy: 0.7882353067398071, Test Accuracy: 0.6190476417541504\n"
          ]
        },
        {
          "output_type": "stream",
          "name": "stderr",
          "text": [
            "[I 2024-06-02 06:06:02,600] Trial 262 finished with value: 0.9647058844566345 and parameters: {'output_features': 22, 'optimizer': 'Adam', 'percentile': 0.231, 'learning_rate': 0.1, 'loss': 'cross_entropy', 'activation': 'selu'}. Best is trial 47 with value: 0.9882352948188782.\n"
          ]
        },
        {
          "output_type": "stream",
          "name": "stdout",
          "text": [
            "Train Accuracy: 0.9647058844566345, Test Accuracy: 0.2857142984867096\n"
          ]
        },
        {
          "output_type": "stream",
          "name": "stderr",
          "text": [
            "[I 2024-06-02 06:06:03,626] Trial 263 finished with value: 0.9764705896377563 and parameters: {'output_features': 16, 'optimizer': 'Adam', 'percentile': 0.231, 'learning_rate': 0.1, 'loss': 'cross_entropy', 'activation': 'elu'}. Best is trial 47 with value: 0.9882352948188782.\n"
          ]
        },
        {
          "output_type": "stream",
          "name": "stdout",
          "text": [
            "Train Accuracy: 0.9764705896377563, Test Accuracy: 0.6190476417541504\n"
          ]
        },
        {
          "output_type": "stream",
          "name": "stderr",
          "text": [
            "[I 2024-06-02 06:06:04,768] Trial 264 finished with value: 0.8941176533699036 and parameters: {'output_features': 18, 'optimizer': 'RMSprop', 'percentile': 0.231, 'learning_rate': 0.1, 'loss': 'cross_entropy', 'activation': 'elu'}. Best is trial 47 with value: 0.9882352948188782.\n"
          ]
        },
        {
          "output_type": "stream",
          "name": "stdout",
          "text": [
            "Train Accuracy: 0.8941176533699036, Test Accuracy: 0.4761904776096344\n"
          ]
        },
        {
          "output_type": "stream",
          "name": "stderr",
          "text": [
            "[I 2024-06-02 06:06:05,948] Trial 265 finished with value: 0.9882352948188782 and parameters: {'output_features': 14, 'optimizer': 'Adam', 'percentile': 0.231, 'learning_rate': 0.1, 'loss': 'cross_entropy', 'activation': 'elu'}. Best is trial 47 with value: 0.9882352948188782.\n"
          ]
        },
        {
          "output_type": "stream",
          "name": "stdout",
          "text": [
            "Train Accuracy: 0.9882352948188782, Test Accuracy: 0.3333333432674408\n"
          ]
        },
        {
          "output_type": "stream",
          "name": "stderr",
          "text": [
            "[I 2024-06-02 06:06:07,070] Trial 266 finished with value: 0.9647058844566345 and parameters: {'output_features': 16, 'optimizer': 'Adam', 'percentile': 0.231, 'learning_rate': 0.1, 'loss': 'cross_entropy', 'activation': 'selu'}. Best is trial 47 with value: 0.9882352948188782.\n"
          ]
        },
        {
          "output_type": "stream",
          "name": "stdout",
          "text": [
            "Train Accuracy: 0.9647058844566345, Test Accuracy: 0.4761904776096344\n"
          ]
        },
        {
          "output_type": "stream",
          "name": "stderr",
          "text": [
            "[I 2024-06-02 06:06:07,893] Trial 267 finished with value: 0.9882352948188782 and parameters: {'output_features': 16, 'optimizer': 'Adam', 'percentile': 0.231, 'learning_rate': 0.1, 'loss': 'cross_entropy', 'activation': 'elu'}. Best is trial 47 with value: 0.9882352948188782.\n"
          ]
        },
        {
          "output_type": "stream",
          "name": "stdout",
          "text": [
            "Train Accuracy: 0.9882352948188782, Test Accuracy: 0.4761904776096344\n"
          ]
        },
        {
          "output_type": "stream",
          "name": "stderr",
          "text": [
            "[I 2024-06-02 06:06:08,762] Trial 268 finished with value: 0.9764705896377563 and parameters: {'output_features': 20, 'optimizer': 'Adam', 'percentile': 0.231, 'learning_rate': 0.1, 'loss': 'cross_entropy', 'activation': 'elu'}. Best is trial 47 with value: 0.9882352948188782.\n"
          ]
        },
        {
          "output_type": "stream",
          "name": "stdout",
          "text": [
            "Train Accuracy: 0.9764705896377563, Test Accuracy: 0.5714285969734192\n"
          ]
        },
        {
          "output_type": "stream",
          "name": "stderr",
          "text": [
            "[I 2024-06-02 06:06:09,674] Trial 269 finished with value: 0.9647058844566345 and parameters: {'output_features': 18, 'optimizer': 'Adam', 'percentile': 0.231, 'learning_rate': 0.1, 'loss': 'cross_entropy', 'activation': 'elu'}. Best is trial 47 with value: 0.9882352948188782.\n"
          ]
        },
        {
          "output_type": "stream",
          "name": "stdout",
          "text": [
            "Train Accuracy: 0.9647058844566345, Test Accuracy: 0.6190476417541504\n"
          ]
        },
        {
          "output_type": "stream",
          "name": "stderr",
          "text": [
            "[I 2024-06-02 06:06:10,510] Trial 270 finished with value: 0.9529411792755127 and parameters: {'output_features': 16, 'optimizer': 'Adam', 'percentile': 0.231, 'learning_rate': 0.1, 'loss': 'cross_entropy', 'activation': 'leaky_relu'}. Best is trial 47 with value: 0.9882352948188782.\n"
          ]
        },
        {
          "output_type": "stream",
          "name": "stdout",
          "text": [
            "Train Accuracy: 0.9529411792755127, Test Accuracy: 0.5714285969734192\n"
          ]
        },
        {
          "output_type": "stream",
          "name": "stderr",
          "text": [
            "[I 2024-06-02 06:06:11,368] Trial 271 finished with value: 0.9764705896377563 and parameters: {'output_features': 16, 'optimizer': 'Adam', 'percentile': 0.231, 'learning_rate': 0.1, 'loss': 'cross_entropy', 'activation': 'selu'}. Best is trial 47 with value: 0.9882352948188782.\n"
          ]
        },
        {
          "output_type": "stream",
          "name": "stdout",
          "text": [
            "Train Accuracy: 0.9764705896377563, Test Accuracy: 0.523809552192688\n"
          ]
        },
        {
          "output_type": "stream",
          "name": "stderr",
          "text": [
            "[I 2024-06-02 06:06:12,227] Trial 272 finished with value: 0.7647058963775635 and parameters: {'output_features': 12, 'optimizer': 'Adam', 'percentile': 0.231, 'learning_rate': 200, 'loss': 'cross_entropy', 'activation': 'elu'}. Best is trial 47 with value: 0.9882352948188782.\n"
          ]
        },
        {
          "output_type": "stream",
          "name": "stdout",
          "text": [
            "Train Accuracy: 0.7647058963775635, Test Accuracy: 0.6666666865348816\n"
          ]
        },
        {
          "output_type": "stream",
          "name": "stderr",
          "text": [
            "[I 2024-06-02 06:06:13,108] Trial 273 finished with value: 0.9647058844566345 and parameters: {'output_features': 22, 'optimizer': 'Adam', 'percentile': 0.231, 'learning_rate': 0.1, 'loss': 'cross_entropy', 'activation': 'elu'}. Best is trial 47 with value: 0.9882352948188782.\n"
          ]
        },
        {
          "output_type": "stream",
          "name": "stdout",
          "text": [
            "Train Accuracy: 0.9647058844566345, Test Accuracy: 0.6666666865348816\n"
          ]
        },
        {
          "output_type": "stream",
          "name": "stderr",
          "text": [
            "[I 2024-06-02 06:06:13,967] Trial 274 finished with value: 0.7882353067398071 and parameters: {'output_features': 16, 'optimizer': 'Adam', 'percentile': 0.231, 'learning_rate': 100, 'loss': 'cross_entropy', 'activation': 'elu'}. Best is trial 47 with value: 0.9882352948188782.\n"
          ]
        },
        {
          "output_type": "stream",
          "name": "stdout",
          "text": [
            "Train Accuracy: 0.7882353067398071, Test Accuracy: 0.6666666865348816\n"
          ]
        },
        {
          "output_type": "stream",
          "name": "stderr",
          "text": [
            "[I 2024-06-02 06:06:14,852] Trial 275 finished with value: 0.9647058844566345 and parameters: {'output_features': 18, 'optimizer': 'Adam', 'percentile': 0.231, 'learning_rate': 0.1, 'loss': 'cross_entropy', 'activation': 'elu'}. Best is trial 47 with value: 0.9882352948188782.\n"
          ]
        },
        {
          "output_type": "stream",
          "name": "stdout",
          "text": [
            "Train Accuracy: 0.9647058844566345, Test Accuracy: 0.5714285969734192\n"
          ]
        },
        {
          "output_type": "stream",
          "name": "stderr",
          "text": [
            "[I 2024-06-02 06:06:15,683] Trial 276 finished with value: 0.8352941274642944 and parameters: {'output_features': 16, 'optimizer': 'SGD', 'percentile': 0.231, 'learning_rate': 0.1, 'loss': 'cross_entropy', 'activation': 'selu'}. Best is trial 47 with value: 0.9882352948188782.\n"
          ]
        },
        {
          "output_type": "stream",
          "name": "stdout",
          "text": [
            "Train Accuracy: 0.8352941274642944, Test Accuracy: 0.7142857313156128\n"
          ]
        },
        {
          "output_type": "stream",
          "name": "stderr",
          "text": [
            "[I 2024-06-02 06:06:16,527] Trial 277 finished with value: 0.9882352948188782 and parameters: {'output_features': 10, 'optimizer': 'Adam', 'percentile': 0.231, 'learning_rate': 0.1, 'loss': 'cross_entropy', 'activation': 'elu'}. Best is trial 47 with value: 0.9882352948188782.\n"
          ]
        },
        {
          "output_type": "stream",
          "name": "stdout",
          "text": [
            "Train Accuracy: 0.9882352948188782, Test Accuracy: 0.2857142984867096\n"
          ]
        },
        {
          "output_type": "stream",
          "name": "stderr",
          "text": [
            "[I 2024-06-02 06:06:17,602] Trial 278 finished with value: 0.8941176533699036 and parameters: {'output_features': 16, 'optimizer': 'Adam', 'percentile': 0.231, 'learning_rate': 1, 'loss': 'cross_entropy', 'activation': 'elu'}. Best is trial 47 with value: 0.9882352948188782.\n"
          ]
        },
        {
          "output_type": "stream",
          "name": "stdout",
          "text": [
            "Train Accuracy: 0.8941176533699036, Test Accuracy: 0.761904776096344\n"
          ]
        },
        {
          "output_type": "stream",
          "name": "stderr",
          "text": [
            "[I 2024-06-02 06:06:18,720] Trial 279 finished with value: 0.9882352948188782 and parameters: {'output_features': 16, 'optimizer': 'Adam', 'percentile': 0.231, 'learning_rate': 0.1, 'loss': 'cross_entropy', 'activation': 'elu'}. Best is trial 47 with value: 0.9882352948188782.\n"
          ]
        },
        {
          "output_type": "stream",
          "name": "stdout",
          "text": [
            "Train Accuracy: 0.9882352948188782, Test Accuracy: 0.5714285969734192\n"
          ]
        },
        {
          "output_type": "stream",
          "name": "stderr",
          "text": [
            "[I 2024-06-02 06:06:19,974] Trial 280 finished with value: 0.9058823585510254 and parameters: {'output_features': 18, 'optimizer': 'Adam', 'percentile': 0.231, 'learning_rate': 0.1, 'loss': 'cross_entropy', 'activation': 'tanh'}. Best is trial 47 with value: 0.9882352948188782.\n"
          ]
        },
        {
          "output_type": "stream",
          "name": "stdout",
          "text": [
            "Train Accuracy: 0.9058823585510254, Test Accuracy: 0.6190476417541504\n"
          ]
        },
        {
          "output_type": "stream",
          "name": "stderr",
          "text": [
            "[I 2024-06-02 06:06:20,866] Trial 281 finished with value: 0.9764705896377563 and parameters: {'output_features': 16, 'optimizer': 'Adam', 'percentile': 0.231, 'learning_rate': 0.1, 'loss': 'cross_entropy', 'activation': 'selu'}. Best is trial 47 with value: 0.9882352948188782.\n"
          ]
        },
        {
          "output_type": "stream",
          "name": "stdout",
          "text": [
            "Train Accuracy: 0.9764705896377563, Test Accuracy: 0.4761904776096344\n"
          ]
        },
        {
          "output_type": "stream",
          "name": "stderr",
          "text": [
            "[I 2024-06-02 06:06:21,745] Trial 282 finished with value: 0.9882352948188782 and parameters: {'output_features': 16, 'optimizer': 'Adam', 'percentile': 0.231, 'learning_rate': 0.1, 'loss': 'cross_entropy', 'activation': 'elu'}. Best is trial 47 with value: 0.9882352948188782.\n"
          ]
        },
        {
          "output_type": "stream",
          "name": "stdout",
          "text": [
            "Train Accuracy: 0.9882352948188782, Test Accuracy: 0.4761904776096344\n"
          ]
        },
        {
          "output_type": "stream",
          "name": "stderr",
          "text": [
            "[I 2024-06-02 06:06:22,619] Trial 283 finished with value: 0.9764705896377563 and parameters: {'output_features': 22, 'optimizer': 'Adam', 'percentile': 0.231, 'learning_rate': 0.1, 'loss': 'cross_entropy', 'activation': 'elu'}. Best is trial 47 with value: 0.9882352948188782.\n"
          ]
        },
        {
          "output_type": "stream",
          "name": "stdout",
          "text": [
            "Train Accuracy: 0.9764705896377563, Test Accuracy: 0.7142857313156128\n"
          ]
        },
        {
          "output_type": "stream",
          "name": "stderr",
          "text": [
            "[I 2024-06-02 06:06:23,452] Trial 284 finished with value: 0.9882352948188782 and parameters: {'output_features': 16, 'optimizer': 'Adam', 'percentile': 0.231, 'learning_rate': 0.1, 'loss': 'cross_entropy', 'activation': 'elu'}. Best is trial 47 with value: 0.9882352948188782.\n"
          ]
        },
        {
          "output_type": "stream",
          "name": "stdout",
          "text": [
            "Train Accuracy: 0.9882352948188782, Test Accuracy: 0.5714285969734192\n"
          ]
        },
        {
          "output_type": "stream",
          "name": "stderr",
          "text": [
            "[I 2024-06-02 06:06:24,336] Trial 285 finished with value: 0.9647058844566345 and parameters: {'output_features': 18, 'optimizer': 'Adam', 'percentile': 0.231, 'learning_rate': 0.1, 'loss': 'cross_entropy', 'activation': 'leaky_relu'}. Best is trial 47 with value: 0.9882352948188782.\n"
          ]
        },
        {
          "output_type": "stream",
          "name": "stdout",
          "text": [
            "Train Accuracy: 0.9647058844566345, Test Accuracy: 0.6190476417541504\n"
          ]
        },
        {
          "output_type": "stream",
          "name": "stderr",
          "text": [
            "[I 2024-06-02 06:06:25,156] Trial 286 finished with value: 0.8470588326454163 and parameters: {'output_features': 16, 'optimizer': 'RMSprop', 'percentile': 0.231, 'learning_rate': 0.1, 'loss': 'cross_entropy', 'activation': 'selu'}. Best is trial 47 with value: 0.9882352948188782.\n"
          ]
        },
        {
          "output_type": "stream",
          "name": "stdout",
          "text": [
            "Train Accuracy: 0.8470588326454163, Test Accuracy: 0.4761904776096344\n"
          ]
        },
        {
          "output_type": "stream",
          "name": "stderr",
          "text": [
            "[I 2024-06-02 06:06:26,023] Trial 287 finished with value: 0.929411768913269 and parameters: {'output_features': 12, 'optimizer': 'Adam', 'percentile': 0.231, 'learning_rate': 0.01, 'loss': 'cross_entropy', 'activation': 'relu'}. Best is trial 47 with value: 0.9882352948188782.\n"
          ]
        },
        {
          "output_type": "stream",
          "name": "stdout",
          "text": [
            "Train Accuracy: 0.929411768913269, Test Accuracy: 0.3333333432674408\n"
          ]
        },
        {
          "output_type": "stream",
          "name": "stderr",
          "text": [
            "[I 2024-06-02 06:06:26,903] Trial 288 finished with value: 0.9882352948188782 and parameters: {'output_features': 16, 'optimizer': 'Adam', 'percentile': 0.231, 'learning_rate': 0.1, 'loss': 'cross_entropy', 'activation': 'elu'}. Best is trial 47 with value: 0.9882352948188782.\n"
          ]
        },
        {
          "output_type": "stream",
          "name": "stdout",
          "text": [
            "Train Accuracy: 0.9882352948188782, Test Accuracy: 0.5714285969734192\n"
          ]
        },
        {
          "output_type": "stream",
          "name": "stderr",
          "text": [
            "[I 2024-06-02 06:06:27,791] Trial 289 finished with value: 0.9882352948188782 and parameters: {'output_features': 16, 'optimizer': 'Adam', 'percentile': 0.231, 'learning_rate': 0.1, 'loss': 'cross_entropy', 'activation': 'elu'}. Best is trial 47 with value: 0.9882352948188782.\n"
          ]
        },
        {
          "output_type": "stream",
          "name": "stdout",
          "text": [
            "Train Accuracy: 0.9882352948188782, Test Accuracy: 0.523809552192688\n"
          ]
        },
        {
          "output_type": "stream",
          "name": "stderr",
          "text": [
            "[I 2024-06-02 06:06:28,662] Trial 290 finished with value: 0.9764705896377563 and parameters: {'output_features': 18, 'optimizer': 'Adam', 'percentile': 0.231, 'learning_rate': 0.1, 'loss': 'cross_entropy', 'activation': 'elu'}. Best is trial 47 with value: 0.9882352948188782.\n"
          ]
        },
        {
          "output_type": "stream",
          "name": "stdout",
          "text": [
            "Train Accuracy: 0.9764705896377563, Test Accuracy: 0.380952388048172\n"
          ]
        },
        {
          "output_type": "stream",
          "name": "stderr",
          "text": [
            "[I 2024-06-02 06:06:29,491] Trial 291 finished with value: 0.9529411792755127 and parameters: {'output_features': 10, 'optimizer': 'Adam', 'percentile': 0.231, 'learning_rate': 0.1, 'loss': 'cross_entropy', 'activation': 'selu'}. Best is trial 47 with value: 0.9882352948188782.\n"
          ]
        },
        {
          "output_type": "stream",
          "name": "stdout",
          "text": [
            "Train Accuracy: 0.9529411792755127, Test Accuracy: 0.4761904776096344\n"
          ]
        },
        {
          "output_type": "stream",
          "name": "stderr",
          "text": [
            "[I 2024-06-02 06:06:30,413] Trial 292 finished with value: 0.9882352948188782 and parameters: {'output_features': 16, 'optimizer': 'Adam', 'percentile': 0.231, 'learning_rate': 0.1, 'loss': 'cross_entropy', 'activation': 'elu'}. Best is trial 47 with value: 0.9882352948188782.\n"
          ]
        },
        {
          "output_type": "stream",
          "name": "stdout",
          "text": [
            "Train Accuracy: 0.9882352948188782, Test Accuracy: 0.4761904776096344\n"
          ]
        },
        {
          "output_type": "stream",
          "name": "stderr",
          "text": [
            "[I 2024-06-02 06:06:31,562] Trial 293 finished with value: 0.9882352948188782 and parameters: {'output_features': 14, 'optimizer': 'Adam', 'percentile': 0.231, 'learning_rate': 0.1, 'loss': 'cross_entropy', 'activation': 'elu'}. Best is trial 47 with value: 0.9882352948188782.\n"
          ]
        },
        {
          "output_type": "stream",
          "name": "stdout",
          "text": [
            "Train Accuracy: 0.9882352948188782, Test Accuracy: 0.4761904776096344\n"
          ]
        },
        {
          "output_type": "stream",
          "name": "stderr",
          "text": [
            "[I 2024-06-02 06:06:32,940] Trial 294 finished with value: 0.7529411911964417 and parameters: {'output_features': 22, 'optimizer': 'Adam', 'percentile': 0.231, 'learning_rate': 10, 'loss': 'cross_entropy', 'activation': 'elu'}. Best is trial 47 with value: 0.9882352948188782.\n"
          ]
        },
        {
          "output_type": "stream",
          "name": "stdout",
          "text": [
            "Train Accuracy: 0.7529411911964417, Test Accuracy: 0.8095238208770752\n"
          ]
        },
        {
          "output_type": "stream",
          "name": "stderr",
          "text": [
            "[I 2024-06-02 06:06:34,123] Trial 295 finished with value: 0.9764705896377563 and parameters: {'output_features': 16, 'optimizer': 'Adam', 'percentile': 0.231, 'learning_rate': 0.1, 'loss': 'cross_entropy', 'activation': 'elu'}. Best is trial 47 with value: 0.9882352948188782.\n"
          ]
        },
        {
          "output_type": "stream",
          "name": "stdout",
          "text": [
            "Train Accuracy: 0.9764705896377563, Test Accuracy: 0.523809552192688\n"
          ]
        },
        {
          "output_type": "stream",
          "name": "stderr",
          "text": [
            "[I 2024-06-02 06:06:34,997] Trial 296 finished with value: 0.9529411792755127 and parameters: {'output_features': 18, 'optimizer': 'Adam', 'percentile': 0.231, 'learning_rate': 0.1, 'loss': 'cross_entropy', 'activation': 'selu'}. Best is trial 47 with value: 0.9882352948188782.\n"
          ]
        },
        {
          "output_type": "stream",
          "name": "stdout",
          "text": [
            "Train Accuracy: 0.9529411792755127, Test Accuracy: 0.6190476417541504\n"
          ]
        },
        {
          "output_type": "stream",
          "name": "stderr",
          "text": [
            "[I 2024-06-02 06:06:35,858] Trial 297 finished with value: 0.9882352948188782 and parameters: {'output_features': 16, 'optimizer': 'Adam', 'percentile': 0.231, 'learning_rate': 0.1, 'loss': 'cross_entropy', 'activation': 'elu'}. Best is trial 47 with value: 0.9882352948188782.\n"
          ]
        },
        {
          "output_type": "stream",
          "name": "stdout",
          "text": [
            "Train Accuracy: 0.9882352948188782, Test Accuracy: 0.5714285969734192\n"
          ]
        },
        {
          "output_type": "stream",
          "name": "stderr",
          "text": [
            "[I 2024-06-02 06:06:36,773] Trial 298 finished with value: 0.9882352948188782 and parameters: {'output_features': 16, 'optimizer': 'Adam', 'percentile': 0.231, 'learning_rate': 0.1, 'loss': 'cross_entropy', 'activation': 'elu'}. Best is trial 47 with value: 0.9882352948188782.\n"
          ]
        },
        {
          "output_type": "stream",
          "name": "stdout",
          "text": [
            "Train Accuracy: 0.9882352948188782, Test Accuracy: 0.380952388048172\n"
          ]
        },
        {
          "output_type": "stream",
          "name": "stderr",
          "text": [
            "[I 2024-06-02 06:06:37,617] Trial 299 finished with value: 0.9529411792755127 and parameters: {'output_features': 16, 'optimizer': 'Adam', 'percentile': 0.231, 'learning_rate': 0.1, 'loss': 'cross_entropy', 'activation': 'leaky_relu'}. Best is trial 47 with value: 0.9882352948188782.\n"
          ]
        },
        {
          "output_type": "stream",
          "name": "stdout",
          "text": [
            "Train Accuracy: 0.9529411792755127, Test Accuracy: 0.6666666865348816\n"
          ]
        },
        {
          "output_type": "stream",
          "name": "stderr",
          "text": [
            "[I 2024-06-02 06:06:38,499] Trial 300 finished with value: 0.9882352948188782 and parameters: {'output_features': 18, 'optimizer': 'Adam', 'percentile': 0.231, 'learning_rate': 0.1, 'loss': 'cross_entropy', 'activation': 'elu'}. Best is trial 47 with value: 0.9882352948188782.\n"
          ]
        },
        {
          "output_type": "stream",
          "name": "stdout",
          "text": [
            "Train Accuracy: 0.9882352948188782, Test Accuracy: 0.380952388048172\n"
          ]
        },
        {
          "output_type": "stream",
          "name": "stderr",
          "text": [
            "[I 2024-06-02 06:06:39,306] Trial 301 finished with value: 0.7176470756530762 and parameters: {'output_features': 20, 'optimizer': 'SGD', 'percentile': 0.231, 'learning_rate': 200, 'loss': 'cross_entropy', 'activation': 'selu'}. Best is trial 47 with value: 0.9882352948188782.\n"
          ]
        },
        {
          "output_type": "stream",
          "name": "stdout",
          "text": [
            "Train Accuracy: 0.7176470756530762, Test Accuracy: 0.761904776096344\n"
          ]
        },
        {
          "output_type": "stream",
          "name": "stderr",
          "text": [
            "[I 2024-06-02 06:06:40,164] Trial 302 finished with value: 0.7647058963775635 and parameters: {'output_features': 16, 'optimizer': 'Adam', 'percentile': 0.231, 'learning_rate': 100, 'loss': 'cross_entropy', 'activation': 'elu'}. Best is trial 47 with value: 0.9882352948188782.\n"
          ]
        },
        {
          "output_type": "stream",
          "name": "stdout",
          "text": [
            "Train Accuracy: 0.7647058963775635, Test Accuracy: 0.523809552192688\n"
          ]
        },
        {
          "output_type": "stream",
          "name": "stderr",
          "text": [
            "[I 2024-06-02 06:06:41,018] Trial 303 finished with value: 0.9882352948188782 and parameters: {'output_features': 12, 'optimizer': 'Adam', 'percentile': 0.231, 'learning_rate': 0.1, 'loss': 'cross_entropy', 'activation': 'elu'}. Best is trial 47 with value: 0.9882352948188782.\n"
          ]
        },
        {
          "output_type": "stream",
          "name": "stdout",
          "text": [
            "Train Accuracy: 0.9882352948188782, Test Accuracy: 0.4285714328289032\n"
          ]
        },
        {
          "output_type": "stream",
          "name": "stderr",
          "text": [
            "[I 2024-06-02 06:06:41,901] Trial 304 finished with value: 0.9764705896377563 and parameters: {'output_features': 16, 'optimizer': 'Adam', 'percentile': 0.231, 'learning_rate': 0.1, 'loss': 'cross_entropy', 'activation': 'elu'}. Best is trial 47 with value: 0.9882352948188782.\n"
          ]
        },
        {
          "output_type": "stream",
          "name": "stdout",
          "text": [
            "Train Accuracy: 0.9764705896377563, Test Accuracy: 0.6190476417541504\n"
          ]
        },
        {
          "output_type": "stream",
          "name": "stderr",
          "text": [
            "[I 2024-06-02 06:06:42,819] Trial 305 finished with value: 0.9647058844566345 and parameters: {'output_features': 22, 'optimizer': 'Adam', 'percentile': 0.231, 'learning_rate': 0.1, 'loss': 'cross_entropy', 'activation': 'selu'}. Best is trial 47 with value: 0.9882352948188782.\n"
          ]
        },
        {
          "output_type": "stream",
          "name": "stdout",
          "text": [
            "Train Accuracy: 0.9647058844566345, Test Accuracy: 0.5714285969734192\n"
          ]
        },
        {
          "output_type": "stream",
          "name": "stderr",
          "text": [
            "[I 2024-06-02 06:06:43,744] Trial 306 finished with value: 0.9882352948188782 and parameters: {'output_features': 16, 'optimizer': 'Adam', 'percentile': 0.231, 'learning_rate': 0.1, 'loss': 'cross_entropy', 'activation': 'elu'}. Best is trial 47 with value: 0.9882352948188782.\n"
          ]
        },
        {
          "output_type": "stream",
          "name": "stdout",
          "text": [
            "Train Accuracy: 0.9882352948188782, Test Accuracy: 0.5714285969734192\n"
          ]
        },
        {
          "output_type": "stream",
          "name": "stderr",
          "text": [
            "[I 2024-06-02 06:06:44,882] Trial 307 finished with value: 0.9176470637321472 and parameters: {'output_features': 18, 'optimizer': 'Adam', 'percentile': 0.231, 'learning_rate': 0.1, 'loss': 'cross_entropy', 'activation': 'tanh'}. Best is trial 47 with value: 0.9882352948188782.\n"
          ]
        },
        {
          "output_type": "stream",
          "name": "stdout",
          "text": [
            "Train Accuracy: 0.9176470637321472, Test Accuracy: 0.6190476417541504\n"
          ]
        },
        {
          "output_type": "stream",
          "name": "stderr",
          "text": [
            "[I 2024-06-02 06:06:46,094] Trial 308 finished with value: 0.8235294222831726 and parameters: {'output_features': 10, 'optimizer': 'Adam', 'percentile': 0.231, 'learning_rate': 1, 'loss': 'cross_entropy', 'activation': 'elu'}. Best is trial 47 with value: 0.9882352948188782.\n"
          ]
        },
        {
          "output_type": "stream",
          "name": "stdout",
          "text": [
            "Train Accuracy: 0.8235294222831726, Test Accuracy: 0.8095238208770752\n"
          ]
        },
        {
          "output_type": "stream",
          "name": "stderr",
          "text": [
            "[I 2024-06-02 06:06:47,324] Trial 309 finished with value: 0.9882352948188782 and parameters: {'output_features': 16, 'optimizer': 'Adam', 'percentile': 0.231, 'learning_rate': 0.1, 'loss': 'cross_entropy', 'activation': 'elu'}. Best is trial 47 with value: 0.9882352948188782.\n"
          ]
        },
        {
          "output_type": "stream",
          "name": "stdout",
          "text": [
            "Train Accuracy: 0.9882352948188782, Test Accuracy: 0.4761904776096344\n"
          ]
        },
        {
          "output_type": "stream",
          "name": "stderr",
          "text": [
            "[I 2024-06-02 06:06:48,337] Trial 310 finished with value: 0.8352941274642944 and parameters: {'output_features': 16, 'optimizer': 'RMSprop', 'percentile': 0.231, 'learning_rate': 0.1, 'loss': 'cross_entropy', 'activation': 'selu'}. Best is trial 47 with value: 0.9882352948188782.\n"
          ]
        },
        {
          "output_type": "stream",
          "name": "stdout",
          "text": [
            "Train Accuracy: 0.8352941274642944, Test Accuracy: 0.5714285969734192\n"
          ]
        },
        {
          "output_type": "stream",
          "name": "stderr",
          "text": [
            "[I 2024-06-02 06:06:49,188] Trial 311 finished with value: 0.9882352948188782 and parameters: {'output_features': 16, 'optimizer': 'Adam', 'percentile': 0.231, 'learning_rate': 0.1, 'loss': 'cross_entropy', 'activation': 'elu'}. Best is trial 47 with value: 0.9882352948188782.\n"
          ]
        },
        {
          "output_type": "stream",
          "name": "stdout",
          "text": [
            "Train Accuracy: 0.9882352948188782, Test Accuracy: 0.4761904776096344\n"
          ]
        },
        {
          "output_type": "stream",
          "name": "stderr",
          "text": [
            "[I 2024-06-02 06:06:50,106] Trial 312 finished with value: 0.9647058844566345 and parameters: {'output_features': 18, 'optimizer': 'Adam', 'percentile': 0.231, 'learning_rate': 0.1, 'loss': 'cross_entropy', 'activation': 'relu'}. Best is trial 47 with value: 0.9882352948188782.\n"
          ]
        },
        {
          "output_type": "stream",
          "name": "stdout",
          "text": [
            "Train Accuracy: 0.9647058844566345, Test Accuracy: 0.523809552192688\n"
          ]
        },
        {
          "output_type": "stream",
          "name": "stderr",
          "text": [
            "[I 2024-06-02 06:06:50,979] Trial 313 finished with value: 0.9764705896377563 and parameters: {'output_features': 16, 'optimizer': 'Adam', 'percentile': 0.231, 'learning_rate': 0.1, 'loss': 'cross_entropy', 'activation': 'elu'}. Best is trial 47 with value: 0.9882352948188782.\n"
          ]
        },
        {
          "output_type": "stream",
          "name": "stdout",
          "text": [
            "Train Accuracy: 0.9764705896377563, Test Accuracy: 0.6666666865348816\n"
          ]
        },
        {
          "output_type": "stream",
          "name": "stderr",
          "text": [
            "[I 2024-06-02 06:06:51,870] Trial 314 finished with value: 0.9764705896377563 and parameters: {'output_features': 22, 'optimizer': 'Adam', 'percentile': 0.231, 'learning_rate': 0.1, 'loss': 'cross_entropy', 'activation': 'leaky_relu'}. Best is trial 47 with value: 0.9882352948188782.\n"
          ]
        },
        {
          "output_type": "stream",
          "name": "stdout",
          "text": [
            "Train Accuracy: 0.9764705896377563, Test Accuracy: 0.523809552192688\n"
          ]
        },
        {
          "output_type": "stream",
          "name": "stderr",
          "text": [
            "[I 2024-06-02 06:06:52,743] Trial 315 finished with value: 0.9647058844566345 and parameters: {'output_features': 16, 'optimizer': 'Adam', 'percentile': 0.231, 'learning_rate': 0.1, 'loss': 'cross_entropy', 'activation': 'elu'}. Best is trial 47 with value: 0.9882352948188782.\n"
          ]
        },
        {
          "output_type": "stream",
          "name": "stdout",
          "text": [
            "Train Accuracy: 0.9647058844566345, Test Accuracy: 0.7142857313156128\n"
          ]
        },
        {
          "output_type": "stream",
          "name": "stderr",
          "text": [
            "[I 2024-06-02 06:06:53,641] Trial 316 finished with value: 0.7647058963775635 and parameters: {'output_features': 16, 'optimizer': 'Adam', 'percentile': 0.231, 'learning_rate': 10, 'loss': 'cross_entropy', 'activation': 'elu'}. Best is trial 47 with value: 0.9882352948188782.\n"
          ]
        },
        {
          "output_type": "stream",
          "name": "stdout",
          "text": [
            "Train Accuracy: 0.7647058963775635, Test Accuracy: 0.6666666865348816\n"
          ]
        },
        {
          "output_type": "stream",
          "name": "stderr",
          "text": [
            "[I 2024-06-02 06:06:54,521] Trial 317 finished with value: 0.9764705896377563 and parameters: {'output_features': 18, 'optimizer': 'Adam', 'percentile': 0.231, 'learning_rate': 0.1, 'loss': 'cross_entropy', 'activation': 'selu'}. Best is trial 47 with value: 0.9882352948188782.\n"
          ]
        },
        {
          "output_type": "stream",
          "name": "stdout",
          "text": [
            "Train Accuracy: 0.9764705896377563, Test Accuracy: 0.523809552192688\n"
          ]
        },
        {
          "output_type": "stream",
          "name": "stderr",
          "text": [
            "[I 2024-06-02 06:06:55,384] Trial 318 finished with value: 0.9058823585510254 and parameters: {'output_features': 12, 'optimizer': 'Adam', 'percentile': 0.231, 'learning_rate': 0.01, 'loss': 'cross_entropy', 'activation': 'elu'}. Best is trial 47 with value: 0.9882352948188782.\n"
          ]
        },
        {
          "output_type": "stream",
          "name": "stdout",
          "text": [
            "Train Accuracy: 0.9058823585510254, Test Accuracy: 0.6666666865348816\n"
          ]
        },
        {
          "output_type": "stream",
          "name": "stderr",
          "text": [
            "[I 2024-06-02 06:06:56,291] Trial 319 finished with value: 0.9882352948188782 and parameters: {'output_features': 16, 'optimizer': 'Adam', 'percentile': 0.231, 'learning_rate': 0.1, 'loss': 'cross_entropy', 'activation': 'elu'}. Best is trial 47 with value: 0.9882352948188782.\n"
          ]
        },
        {
          "output_type": "stream",
          "name": "stdout",
          "text": [
            "Train Accuracy: 0.9882352948188782, Test Accuracy: 0.4761904776096344\n"
          ]
        },
        {
          "output_type": "stream",
          "name": "stderr",
          "text": [
            "[I 2024-06-02 06:06:57,133] Trial 320 finished with value: 0.9882352948188782 and parameters: {'output_features': 16, 'optimizer': 'Adam', 'percentile': 0.231, 'learning_rate': 0.1, 'loss': 'cross_entropy', 'activation': 'elu'}. Best is trial 47 with value: 0.9882352948188782.\n"
          ]
        },
        {
          "output_type": "stream",
          "name": "stdout",
          "text": [
            "Train Accuracy: 0.9882352948188782, Test Accuracy: 0.6190476417541504\n"
          ]
        },
        {
          "output_type": "stream",
          "name": "stderr",
          "text": [
            "[I 2024-06-02 06:06:59,042] Trial 322 finished with value: 0.9882352948188782 and parameters: {'output_features': 14, 'optimizer': 'Adam', 'percentile': 0.231, 'learning_rate': 0.1, 'loss': 'cross_entropy', 'activation': 'elu'}. Best is trial 47 with value: 0.9882352948188782.\n"
          ]
        },
        {
          "output_type": "stream",
          "name": "stdout",
          "text": [
            "Train Accuracy: 0.9882352948188782, Test Accuracy: 0.380952388048172\n"
          ]
        },
        {
          "output_type": "stream",
          "name": "stderr",
          "text": [
            "[I 2024-06-02 06:07:00,273] Trial 323 finished with value: 0.9882352948188782 and parameters: {'output_features': 18, 'optimizer': 'Adam', 'percentile': 0.231, 'learning_rate': 0.1, 'loss': 'cross_entropy', 'activation': 'elu'}. Best is trial 47 with value: 0.9882352948188782.\n"
          ]
        },
        {
          "output_type": "stream",
          "name": "stdout",
          "text": [
            "Train Accuracy: 0.9882352948188782, Test Accuracy: 0.3333333432674408\n"
          ]
        },
        {
          "output_type": "stream",
          "name": "stderr",
          "text": [
            "[I 2024-06-02 06:07:01,430] Trial 324 finished with value: 0.9882352948188782 and parameters: {'output_features': 16, 'optimizer': 'Adam', 'percentile': 0.231, 'learning_rate': 0.1, 'loss': 'cross_entropy', 'activation': 'elu'}. Best is trial 47 with value: 0.9882352948188782.\n"
          ]
        },
        {
          "output_type": "stream",
          "name": "stdout",
          "text": [
            "Train Accuracy: 0.9882352948188782, Test Accuracy: 0.7142857313156128\n"
          ]
        },
        {
          "output_type": "stream",
          "name": "stderr",
          "text": [
            "[I 2024-06-02 06:07:02,428] Trial 325 finished with value: 0.9647058844566345 and parameters: {'output_features': 16, 'optimizer': 'Adam', 'percentile': 0.231, 'learning_rate': 0.1, 'loss': 'cross_entropy', 'activation': 'selu'}. Best is trial 47 with value: 0.9882352948188782.\n"
          ]
        },
        {
          "output_type": "stream",
          "name": "stdout",
          "text": [
            "Train Accuracy: 0.9647058844566345, Test Accuracy: 0.4761904776096344\n"
          ]
        },
        {
          "output_type": "stream",
          "name": "stderr",
          "text": [
            "[I 2024-06-02 06:07:03,281] Trial 326 finished with value: 0.7764706015586853 and parameters: {'output_features': 22, 'optimizer': 'Adam', 'percentile': 0.231, 'learning_rate': 200, 'loss': 'cross_entropy', 'activation': 'elu'}. Best is trial 47 with value: 0.9882352948188782.\n"
          ]
        },
        {
          "output_type": "stream",
          "name": "stdout",
          "text": [
            "Train Accuracy: 0.7764706015586853, Test Accuracy: 0.2857142984867096\n"
          ]
        },
        {
          "output_type": "stream",
          "name": "stderr",
          "text": [
            "[I 2024-06-02 06:07:04,124] Trial 327 finished with value: 0.9764705896377563 and parameters: {'output_features': 16, 'optimizer': 'Adam', 'percentile': 0.231, 'learning_rate': 0.1, 'loss': 'cross_entropy', 'activation': 'leaky_relu'}. Best is trial 47 with value: 0.9882352948188782.\n"
          ]
        },
        {
          "output_type": "stream",
          "name": "stdout",
          "text": [
            "Train Accuracy: 0.9764705896377563, Test Accuracy: 0.523809552192688\n"
          ]
        },
        {
          "output_type": "stream",
          "name": "stderr",
          "text": [
            "[I 2024-06-02 06:07:04,965] Trial 328 finished with value: 0.9764705896377563 and parameters: {'output_features': 20, 'optimizer': 'Adam', 'percentile': 0.231, 'learning_rate': 0.1, 'loss': 'cross_entropy', 'activation': 'elu'}. Best is trial 47 with value: 0.9882352948188782.\n"
          ]
        },
        {
          "output_type": "stream",
          "name": "stdout",
          "text": [
            "Train Accuracy: 0.9764705896377563, Test Accuracy: 0.523809552192688\n"
          ]
        },
        {
          "output_type": "stream",
          "name": "stderr",
          "text": [
            "[I 2024-06-02 06:07:05,811] Trial 329 finished with value: 0.9882352948188782 and parameters: {'output_features': 18, 'optimizer': 'Adam', 'percentile': 0.231, 'learning_rate': 0.1, 'loss': 'cross_entropy', 'activation': 'elu'}. Best is trial 47 with value: 0.9882352948188782.\n"
          ]
        },
        {
          "output_type": "stream",
          "name": "stdout",
          "text": [
            "Train Accuracy: 0.9882352948188782, Test Accuracy: 0.4761904776096344\n"
          ]
        },
        {
          "output_type": "stream",
          "name": "stderr",
          "text": [
            "[I 2024-06-02 06:07:06,655] Trial 330 finished with value: 0.9882352948188782 and parameters: {'output_features': 16, 'optimizer': 'Adam', 'percentile': 0.231, 'learning_rate': 0.1, 'loss': 'cross_entropy', 'activation': 'elu'}. Best is trial 47 with value: 0.9882352948188782.\n"
          ]
        },
        {
          "output_type": "stream",
          "name": "stdout",
          "text": [
            "Train Accuracy: 0.9882352948188782, Test Accuracy: 0.4285714328289032\n"
          ]
        },
        {
          "output_type": "stream",
          "name": "stderr",
          "text": [
            "[I 2024-06-02 06:07:07,484] Trial 331 finished with value: 0.8823529481887817 and parameters: {'output_features': 16, 'optimizer': 'RMSprop', 'percentile': 0.231, 'learning_rate': 100, 'loss': 'cross_entropy', 'activation': 'selu'}. Best is trial 47 with value: 0.9882352948188782.\n"
          ]
        },
        {
          "output_type": "stream",
          "name": "stdout",
          "text": [
            "Train Accuracy: 0.8823529481887817, Test Accuracy: 0.380952388048172\n"
          ]
        },
        {
          "output_type": "stream",
          "name": "stderr",
          "text": [
            "[I 2024-06-02 06:07:08,310] Trial 332 finished with value: 0.9764705896377563 and parameters: {'output_features': 16, 'optimizer': 'Adam', 'percentile': 0.231, 'learning_rate': 0.1, 'loss': 'cross_entropy', 'activation': 'elu'}. Best is trial 47 with value: 0.9882352948188782.\n"
          ]
        },
        {
          "output_type": "stream",
          "name": "stdout",
          "text": [
            "Train Accuracy: 0.9764705896377563, Test Accuracy: 0.5714285969734192\n"
          ]
        },
        {
          "output_type": "stream",
          "name": "stderr",
          "text": [
            "[I 2024-06-02 06:07:09,144] Trial 333 finished with value: 0.9058823585510254 and parameters: {'output_features': 18, 'optimizer': 'Adam', 'percentile': 0.231, 'learning_rate': 0.1, 'loss': 'cross_entropy', 'activation': 'tanh'}. Best is trial 47 with value: 0.9882352948188782.\n"
          ]
        },
        {
          "output_type": "stream",
          "name": "stdout",
          "text": [
            "Train Accuracy: 0.9058823585510254, Test Accuracy: 0.5714285969734192\n"
          ]
        },
        {
          "output_type": "stream",
          "name": "stderr",
          "text": [
            "[I 2024-06-02 06:07:09,951] Trial 334 finished with value: 0.9764705896377563 and parameters: {'output_features': 12, 'optimizer': 'Adam', 'percentile': 0.231, 'learning_rate': 0.1, 'loss': 'cross_entropy', 'activation': 'elu'}. Best is trial 47 with value: 0.9882352948188782.\n"
          ]
        },
        {
          "output_type": "stream",
          "name": "stdout",
          "text": [
            "Train Accuracy: 0.9764705896377563, Test Accuracy: 0.4761904776096344\n"
          ]
        },
        {
          "output_type": "stream",
          "name": "stderr",
          "text": [
            "[I 2024-06-02 06:07:10,811] Trial 335 finished with value: 0.8352941274642944 and parameters: {'output_features': 16, 'optimizer': 'Adam', 'percentile': 0.231, 'learning_rate': 1, 'loss': 'cross_entropy', 'activation': 'elu'}. Best is trial 47 with value: 0.9882352948188782.\n"
          ]
        },
        {
          "output_type": "stream",
          "name": "stdout",
          "text": [
            "Train Accuracy: 0.8352941274642944, Test Accuracy: 0.761904776096344\n"
          ]
        },
        {
          "output_type": "stream",
          "name": "stderr",
          "text": [
            "[I 2024-06-02 06:07:11,667] Trial 336 finished with value: 0.9764705896377563 and parameters: {'output_features': 22, 'optimizer': 'Adam', 'percentile': 0.231, 'learning_rate': 0.1, 'loss': 'cross_entropy', 'activation': 'selu'}. Best is trial 47 with value: 0.9882352948188782.\n"
          ]
        },
        {
          "output_type": "stream",
          "name": "stdout",
          "text": [
            "Train Accuracy: 0.9764705896377563, Test Accuracy: 0.7142857313156128\n"
          ]
        },
        {
          "output_type": "stream",
          "name": "stderr",
          "text": [
            "[I 2024-06-02 06:07:12,778] Trial 337 finished with value: 0.9882352948188782 and parameters: {'output_features': 16, 'optimizer': 'Adam', 'percentile': 0.231, 'learning_rate': 0.1, 'loss': 'cross_entropy', 'activation': 'elu'}. Best is trial 47 with value: 0.9882352948188782.\n"
          ]
        },
        {
          "output_type": "stream",
          "name": "stdout",
          "text": [
            "Train Accuracy: 0.9882352948188782, Test Accuracy: 0.4761904776096344\n"
          ]
        },
        {
          "output_type": "stream",
          "name": "stderr",
          "text": [
            "[I 2024-06-02 06:07:13,937] Trial 338 finished with value: 0.9882352948188782 and parameters: {'output_features': 10, 'optimizer': 'Adam', 'percentile': 0.231, 'learning_rate': 0.1, 'loss': 'cross_entropy', 'activation': 'elu'}. Best is trial 47 with value: 0.9882352948188782.\n"
          ]
        },
        {
          "output_type": "stream",
          "name": "stdout",
          "text": [
            "Train Accuracy: 0.9882352948188782, Test Accuracy: 0.5714285969734192\n"
          ]
        },
        {
          "output_type": "stream",
          "name": "stderr",
          "text": [
            "[I 2024-06-02 06:07:15,139] Trial 339 finished with value: 0.9882352948188782 and parameters: {'output_features': 16, 'optimizer': 'Adam', 'percentile': 0.231, 'learning_rate': 0.1, 'loss': 'cross_entropy', 'activation': 'elu'}. Best is trial 47 with value: 0.9882352948188782.\n"
          ]
        },
        {
          "output_type": "stream",
          "name": "stdout",
          "text": [
            "Train Accuracy: 0.9882352948188782, Test Accuracy: 0.523809552192688\n"
          ]
        },
        {
          "output_type": "stream",
          "name": "stderr",
          "text": [
            "[I 2024-06-02 06:07:16,037] Trial 340 finished with value: 0.9411764740943909 and parameters: {'output_features': 18, 'optimizer': 'Adam', 'percentile': 0.231, 'learning_rate': 0.1, 'loss': 'cross_entropy', 'activation': 'relu'}. Best is trial 47 with value: 0.9882352948188782.\n"
          ]
        },
        {
          "output_type": "stream",
          "name": "stdout",
          "text": [
            "Train Accuracy: 0.9411764740943909, Test Accuracy: 0.6190476417541504\n"
          ]
        },
        {
          "output_type": "stream",
          "name": "stderr",
          "text": [
            "[I 2024-06-02 06:07:16,869] Trial 341 finished with value: 0.9764705896377563 and parameters: {'output_features': 16, 'optimizer': 'Adam', 'percentile': 0.231, 'learning_rate': 0.1, 'loss': 'cross_entropy', 'activation': 'selu'}. Best is trial 47 with value: 0.9882352948188782.\n"
          ]
        },
        {
          "output_type": "stream",
          "name": "stdout",
          "text": [
            "Train Accuracy: 0.9764705896377563, Test Accuracy: 0.380952388048172\n"
          ]
        },
        {
          "output_type": "stream",
          "name": "stderr",
          "text": [
            "[I 2024-06-02 06:07:17,706] Trial 342 finished with value: 0.9764705896377563 and parameters: {'output_features': 16, 'optimizer': 'Adam', 'percentile': 0.231, 'learning_rate': 0.1, 'loss': 'cross_entropy', 'activation': 'elu'}. Best is trial 47 with value: 0.9882352948188782.\n"
          ]
        },
        {
          "output_type": "stream",
          "name": "stdout",
          "text": [
            "Train Accuracy: 0.9764705896377563, Test Accuracy: 0.380952388048172\n"
          ]
        },
        {
          "output_type": "stream",
          "name": "stderr",
          "text": [
            "[I 2024-06-02 06:07:18,509] Trial 343 finished with value: 0.7764706015586853 and parameters: {'output_features': 16, 'optimizer': 'SGD', 'percentile': 0.231, 'learning_rate': 0.01, 'loss': 'cross_entropy', 'activation': 'leaky_relu'}. Best is trial 47 with value: 0.9882352948188782.\n"
          ]
        },
        {
          "output_type": "stream",
          "name": "stdout",
          "text": [
            "Train Accuracy: 0.7764706015586853, Test Accuracy: 0.523809552192688\n"
          ]
        },
        {
          "output_type": "stream",
          "name": "stderr",
          "text": [
            "[I 2024-06-02 06:07:19,366] Trial 344 finished with value: 0.9529411792755127 and parameters: {'output_features': 18, 'optimizer': 'Adam', 'percentile': 0.231, 'learning_rate': 0.1, 'loss': 'cross_entropy', 'activation': 'elu'}. Best is trial 47 with value: 0.9882352948188782.\n"
          ]
        },
        {
          "output_type": "stream",
          "name": "stdout",
          "text": [
            "Train Accuracy: 0.9529411792755127, Test Accuracy: 0.5714285969734192\n"
          ]
        },
        {
          "output_type": "stream",
          "name": "stderr",
          "text": [
            "[I 2024-06-02 06:07:20,209] Trial 345 finished with value: 0.9882352948188782 and parameters: {'output_features': 16, 'optimizer': 'Adam', 'percentile': 0.231, 'learning_rate': 0.1, 'loss': 'cross_entropy', 'activation': 'elu'}. Best is trial 47 with value: 0.9882352948188782.\n"
          ]
        },
        {
          "output_type": "stream",
          "name": "stdout",
          "text": [
            "Train Accuracy: 0.9882352948188782, Test Accuracy: 0.5714285969734192\n"
          ]
        },
        {
          "output_type": "stream",
          "name": "stderr",
          "text": [
            "[I 2024-06-02 06:07:21,136] Trial 346 finished with value: 0.8235294222831726 and parameters: {'output_features': 22, 'optimizer': 'Adam', 'percentile': 0.231, 'learning_rate': 10, 'loss': 'cross_entropy', 'activation': 'selu'}. Best is trial 47 with value: 0.9882352948188782.\n"
          ]
        },
        {
          "output_type": "stream",
          "name": "stdout",
          "text": [
            "Train Accuracy: 0.8235294222831726, Test Accuracy: 0.6666666865348816\n"
          ]
        },
        {
          "output_type": "stream",
          "name": "stderr",
          "text": [
            "[I 2024-06-02 06:07:21,954] Trial 347 finished with value: 0.9764705896377563 and parameters: {'output_features': 16, 'optimizer': 'Adam', 'percentile': 0.231, 'learning_rate': 0.1, 'loss': 'cross_entropy', 'activation': 'elu'}. Best is trial 47 with value: 0.9882352948188782.\n"
          ]
        },
        {
          "output_type": "stream",
          "name": "stdout",
          "text": [
            "Train Accuracy: 0.9764705896377563, Test Accuracy: 0.380952388048172\n"
          ]
        },
        {
          "output_type": "stream",
          "name": "stderr",
          "text": [
            "[I 2024-06-02 06:07:22,792] Trial 348 finished with value: 0.9764705896377563 and parameters: {'output_features': 12, 'optimizer': 'Adam', 'percentile': 0.231, 'learning_rate': 0.1, 'loss': 'cross_entropy', 'activation': 'elu'}. Best is trial 47 with value: 0.9882352948188782.\n"
          ]
        },
        {
          "output_type": "stream",
          "name": "stdout",
          "text": [
            "Train Accuracy: 0.9764705896377563, Test Accuracy: 0.761904776096344\n"
          ]
        },
        {
          "output_type": "stream",
          "name": "stderr",
          "text": [
            "[I 2024-06-02 06:07:23,645] Trial 349 finished with value: 0.9764705896377563 and parameters: {'output_features': 18, 'optimizer': 'Adam', 'percentile': 0.231, 'learning_rate': 0.1, 'loss': 'cross_entropy', 'activation': 'elu'}. Best is trial 47 with value: 0.9882352948188782.\n"
          ]
        },
        {
          "output_type": "stream",
          "name": "stdout",
          "text": [
            "Train Accuracy: 0.9764705896377563, Test Accuracy: 0.3333333432674408\n"
          ]
        },
        {
          "output_type": "stream",
          "name": "stderr",
          "text": [
            "[I 2024-06-02 06:07:24,495] Trial 350 finished with value: 0.9882352948188782 and parameters: {'output_features': 16, 'optimizer': 'Adam', 'percentile': 0.231, 'learning_rate': 0.1, 'loss': 'cross_entropy', 'activation': 'elu'}. Best is trial 47 with value: 0.9882352948188782.\n"
          ]
        },
        {
          "output_type": "stream",
          "name": "stdout",
          "text": [
            "Train Accuracy: 0.9882352948188782, Test Accuracy: 0.4285714328289032\n"
          ]
        },
        {
          "output_type": "stream",
          "name": "stderr",
          "text": [
            "[I 2024-06-02 06:07:25,402] Trial 351 finished with value: 0.9647058844566345 and parameters: {'output_features': 16, 'optimizer': 'Adam', 'percentile': 0.231, 'learning_rate': 0.1, 'loss': 'cross_entropy', 'activation': 'selu'}. Best is trial 47 with value: 0.9882352948188782.\n"
          ]
        },
        {
          "output_type": "stream",
          "name": "stdout",
          "text": [
            "Train Accuracy: 0.9647058844566345, Test Accuracy: 0.4761904776096344\n"
          ]
        },
        {
          "output_type": "stream",
          "name": "stderr",
          "text": [
            "[I 2024-06-02 06:07:26,602] Trial 352 finished with value: 0.9882352948188782 and parameters: {'output_features': 10, 'optimizer': 'Adam', 'percentile': 0.231, 'learning_rate': 0.1, 'loss': 'cross_entropy', 'activation': 'elu'}. Best is trial 47 with value: 0.9882352948188782.\n"
          ]
        },
        {
          "output_type": "stream",
          "name": "stdout",
          "text": [
            "Train Accuracy: 0.9882352948188782, Test Accuracy: 0.380952388048172\n"
          ]
        },
        {
          "output_type": "stream",
          "name": "stderr",
          "text": [
            "[I 2024-06-02 06:07:27,749] Trial 353 finished with value: 0.8470588326454163 and parameters: {'output_features': 16, 'optimizer': 'RMSprop', 'percentile': 0.231, 'learning_rate': 200, 'loss': 'cross_entropy', 'activation': 'elu'}. Best is trial 47 with value: 0.9882352948188782.\n"
          ]
        },
        {
          "output_type": "stream",
          "name": "stdout",
          "text": [
            "Train Accuracy: 0.8470588326454163, Test Accuracy: 0.3333333432674408\n"
          ]
        },
        {
          "output_type": "stream",
          "name": "stderr",
          "text": [
            "[I 2024-06-02 06:07:28,735] Trial 354 finished with value: 0.9647058844566345 and parameters: {'output_features': 18, 'optimizer': 'Adam', 'percentile': 0.231, 'learning_rate': 0.1, 'loss': 'cross_entropy', 'activation': 'elu'}. Best is trial 47 with value: 0.9882352948188782.\n"
          ]
        },
        {
          "output_type": "stream",
          "name": "stdout",
          "text": [
            "Train Accuracy: 0.9647058844566345, Test Accuracy: 0.5714285969734192\n"
          ]
        },
        {
          "output_type": "stream",
          "name": "stderr",
          "text": [
            "[I 2024-06-02 06:07:29,572] Trial 355 finished with value: 0.9647058844566345 and parameters: {'output_features': 16, 'optimizer': 'Adam', 'percentile': 0.231, 'learning_rate': 0.1, 'loss': 'cross_entropy', 'activation': 'leaky_relu'}. Best is trial 47 with value: 0.9882352948188782.\n"
          ]
        },
        {
          "output_type": "stream",
          "name": "stdout",
          "text": [
            "Train Accuracy: 0.9647058844566345, Test Accuracy: 0.523809552192688\n"
          ]
        },
        {
          "output_type": "stream",
          "name": "stderr",
          "text": [
            "[I 2024-06-02 06:07:30,446] Trial 356 finished with value: 0.9647058844566345 and parameters: {'output_features': 22, 'optimizer': 'Adam', 'percentile': 0.231, 'learning_rate': 0.1, 'loss': 'cross_entropy', 'activation': 'selu'}. Best is trial 47 with value: 0.9882352948188782.\n"
          ]
        },
        {
          "output_type": "stream",
          "name": "stdout",
          "text": [
            "Train Accuracy: 0.9647058844566345, Test Accuracy: 0.4285714328289032\n"
          ]
        },
        {
          "output_type": "stream",
          "name": "stderr",
          "text": [
            "[I 2024-06-02 06:07:31,300] Trial 357 finished with value: 0.9882352948188782 and parameters: {'output_features': 14, 'optimizer': 'Adam', 'percentile': 0.231, 'learning_rate': 0.1, 'loss': 'cross_entropy', 'activation': 'elu'}. Best is trial 47 with value: 0.9882352948188782.\n"
          ]
        },
        {
          "output_type": "stream",
          "name": "stdout",
          "text": [
            "Train Accuracy: 0.9882352948188782, Test Accuracy: 0.523809552192688\n"
          ]
        },
        {
          "output_type": "stream",
          "name": "stderr",
          "text": [
            "[I 2024-06-02 06:07:32,153] Trial 358 finished with value: 0.7529411911964417 and parameters: {'output_features': 16, 'optimizer': 'Adam', 'percentile': 0.231, 'learning_rate': 100, 'loss': 'cross_entropy', 'activation': 'elu'}. Best is trial 47 with value: 0.9882352948188782.\n"
          ]
        },
        {
          "output_type": "stream",
          "name": "stdout",
          "text": [
            "Train Accuracy: 0.7529411911964417, Test Accuracy: 0.761904776096344\n"
          ]
        },
        {
          "output_type": "stream",
          "name": "stderr",
          "text": [
            "[I 2024-06-02 06:07:33,006] Trial 359 finished with value: 0.8941176533699036 and parameters: {'output_features': 16, 'optimizer': 'Adam', 'percentile': 0.231, 'learning_rate': 0.1, 'loss': 'cross_entropy', 'activation': 'tanh'}. Best is trial 47 with value: 0.9882352948188782.\n"
          ]
        },
        {
          "output_type": "stream",
          "name": "stdout",
          "text": [
            "Train Accuracy: 0.8941176533699036, Test Accuracy: 0.4761904776096344\n"
          ]
        },
        {
          "output_type": "stream",
          "name": "stderr",
          "text": [
            "[I 2024-06-02 06:07:33,834] Trial 360 finished with value: 0.9764705896377563 and parameters: {'output_features': 20, 'optimizer': 'Adam', 'percentile': 0.231, 'learning_rate': 0.1, 'loss': 'cross_entropy', 'activation': 'elu'}. Best is trial 47 with value: 0.9882352948188782.\n"
          ]
        },
        {
          "output_type": "stream",
          "name": "stdout",
          "text": [
            "Train Accuracy: 0.9764705896377563, Test Accuracy: 0.4285714328289032\n"
          ]
        },
        {
          "output_type": "stream",
          "name": "stderr",
          "text": [
            "[I 2024-06-02 06:07:34,679] Trial 361 finished with value: 0.9764705896377563 and parameters: {'output_features': 18, 'optimizer': 'Adam', 'percentile': 0.231, 'learning_rate': 0.1, 'loss': 'cross_entropy', 'activation': 'selu'}. Best is trial 47 with value: 0.9882352948188782.\n"
          ]
        },
        {
          "output_type": "stream",
          "name": "stdout",
          "text": [
            "Train Accuracy: 0.9764705896377563, Test Accuracy: 0.523809552192688\n"
          ]
        },
        {
          "output_type": "stream",
          "name": "stderr",
          "text": [
            "[I 2024-06-02 06:07:35,552] Trial 362 finished with value: 0.8235294222831726 and parameters: {'output_features': 16, 'optimizer': 'Adam', 'percentile': 0.231, 'learning_rate': 1, 'loss': 'cross_entropy', 'activation': 'elu'}. Best is trial 47 with value: 0.9882352948188782.\n"
          ]
        },
        {
          "output_type": "stream",
          "name": "stdout",
          "text": [
            "Train Accuracy: 0.8235294222831726, Test Accuracy: 0.380952388048172\n"
          ]
        },
        {
          "output_type": "stream",
          "name": "stderr",
          "text": [
            "[I 2024-06-02 06:07:36,385] Trial 363 finished with value: 0.9882352948188782 and parameters: {'output_features': 16, 'optimizer': 'Adam', 'percentile': 0.231, 'learning_rate': 0.1, 'loss': 'cross_entropy', 'activation': 'elu'}. Best is trial 47 with value: 0.9882352948188782.\n"
          ]
        },
        {
          "output_type": "stream",
          "name": "stdout",
          "text": [
            "Train Accuracy: 0.9882352948188782, Test Accuracy: 0.5714285969734192\n"
          ]
        },
        {
          "output_type": "stream",
          "name": "stderr",
          "text": [
            "[I 2024-06-02 06:07:37,220] Trial 364 finished with value: 0.9882352948188782 and parameters: {'output_features': 12, 'optimizer': 'Adam', 'percentile': 0.231, 'learning_rate': 0.1, 'loss': 'cross_entropy', 'activation': 'elu'}. Best is trial 47 with value: 0.9882352948188782.\n"
          ]
        },
        {
          "output_type": "stream",
          "name": "stdout",
          "text": [
            "Train Accuracy: 0.9882352948188782, Test Accuracy: 0.380952388048172\n"
          ]
        },
        {
          "output_type": "stream",
          "name": "stderr",
          "text": [
            "[I 2024-06-02 06:07:37,998] Trial 365 finished with value: 0.8235294222831726 and parameters: {'output_features': 16, 'optimizer': 'SGD', 'percentile': 0.231, 'learning_rate': 0.1, 'loss': 'cross_entropy', 'activation': 'relu'}. Best is trial 47 with value: 0.9882352948188782.\n"
          ]
        },
        {
          "output_type": "stream",
          "name": "stdout",
          "text": [
            "Train Accuracy: 0.8235294222831726, Test Accuracy: 0.7142857313156128\n"
          ]
        },
        {
          "output_type": "stream",
          "name": "stderr",
          "text": [
            "[I 2024-06-02 06:07:39,101] Trial 366 finished with value: 0.9764705896377563 and parameters: {'output_features': 18, 'optimizer': 'Adam', 'percentile': 0.231, 'learning_rate': 0.1, 'loss': 'cross_entropy', 'activation': 'selu'}. Best is trial 47 with value: 0.9882352948188782.\n"
          ]
        },
        {
          "output_type": "stream",
          "name": "stdout",
          "text": [
            "Train Accuracy: 0.9764705896377563, Test Accuracy: 0.4285714328289032\n"
          ]
        },
        {
          "output_type": "stream",
          "name": "stderr",
          "text": [
            "[I 2024-06-02 06:07:40,250] Trial 367 finished with value: 0.9882352948188782 and parameters: {'output_features': 16, 'optimizer': 'Adam', 'percentile': 0.231, 'learning_rate': 0.1, 'loss': 'cross_entropy', 'activation': 'elu'}. Best is trial 47 with value: 0.9882352948188782.\n"
          ]
        },
        {
          "output_type": "stream",
          "name": "stdout",
          "text": [
            "Train Accuracy: 0.9882352948188782, Test Accuracy: 0.4285714328289032\n"
          ]
        },
        {
          "output_type": "stream",
          "name": "stderr",
          "text": [
            "[I 2024-06-02 06:07:41,473] Trial 368 finished with value: 0.9882352948188782 and parameters: {'output_features': 22, 'optimizer': 'Adam', 'percentile': 0.231, 'learning_rate': 0.1, 'loss': 'cross_entropy', 'activation': 'elu'}. Best is trial 47 with value: 0.9882352948188782.\n"
          ]
        },
        {
          "output_type": "stream",
          "name": "stdout",
          "text": [
            "Train Accuracy: 0.9882352948188782, Test Accuracy: 0.5714285969734192\n"
          ]
        },
        {
          "output_type": "stream",
          "name": "stderr",
          "text": [
            "[I 2024-06-02 06:07:42,397] Trial 369 finished with value: 0.9764705896377563 and parameters: {'output_features': 16, 'optimizer': 'Adam', 'percentile': 0.231, 'learning_rate': 0.1, 'loss': 'cross_entropy', 'activation': 'elu'}. Best is trial 47 with value: 0.9882352948188782.\n"
          ]
        },
        {
          "output_type": "stream",
          "name": "stdout",
          "text": [
            "Train Accuracy: 0.9764705896377563, Test Accuracy: 0.6666666865348816\n"
          ]
        },
        {
          "output_type": "stream",
          "name": "stderr",
          "text": [
            "[I 2024-06-02 06:07:43,209] Trial 370 finished with value: 0.9411764740943909 and parameters: {'output_features': 10, 'optimizer': 'Adam', 'percentile': 0.231, 'learning_rate': 0.1, 'loss': 'cross_entropy', 'activation': 'leaky_relu'}. Best is trial 47 with value: 0.9882352948188782.\n"
          ]
        },
        {
          "output_type": "stream",
          "name": "stdout",
          "text": [
            "Train Accuracy: 0.9411764740943909, Test Accuracy: 0.6666666865348816\n"
          ]
        },
        {
          "output_type": "stream",
          "name": "stderr",
          "text": [
            "[I 2024-06-02 06:07:44,038] Trial 371 finished with value: 0.9647058844566345 and parameters: {'output_features': 16, 'optimizer': 'Adam', 'percentile': 0.231, 'learning_rate': 0.1, 'loss': 'cross_entropy', 'activation': 'elu'}. Best is trial 47 with value: 0.9882352948188782.\n"
          ]
        },
        {
          "output_type": "stream",
          "name": "stdout",
          "text": [
            "Train Accuracy: 0.9647058844566345, Test Accuracy: 0.5714285969734192\n"
          ]
        },
        {
          "output_type": "stream",
          "name": "stderr",
          "text": [
            "[I 2024-06-02 06:07:44,955] Trial 372 finished with value: 0.8588235378265381 and parameters: {'output_features': 18, 'optimizer': 'Adam', 'percentile': 0.231, 'learning_rate': 10, 'loss': 'cross_entropy', 'activation': 'selu'}. Best is trial 47 with value: 0.9882352948188782.\n"
          ]
        },
        {
          "output_type": "stream",
          "name": "stdout",
          "text": [
            "Train Accuracy: 0.8588235378265381, Test Accuracy: 0.7142857313156128\n"
          ]
        },
        {
          "output_type": "stream",
          "name": "stderr",
          "text": [
            "[I 2024-06-02 06:07:45,803] Trial 373 finished with value: 0.9882352948188782 and parameters: {'output_features': 16, 'optimizer': 'Adam', 'percentile': 0.231, 'learning_rate': 0.1, 'loss': 'cross_entropy', 'activation': 'elu'}. Best is trial 47 with value: 0.9882352948188782.\n"
          ]
        },
        {
          "output_type": "stream",
          "name": "stdout",
          "text": [
            "Train Accuracy: 0.9882352948188782, Test Accuracy: 0.523809552192688\n"
          ]
        },
        {
          "output_type": "stream",
          "name": "stderr",
          "text": [
            "[I 2024-06-02 06:07:46,645] Trial 374 finished with value: 0.9058823585510254 and parameters: {'output_features': 16, 'optimizer': 'Adam', 'percentile': 0.231, 'learning_rate': 0.01, 'loss': 'cross_entropy', 'activation': 'elu'}. Best is trial 47 with value: 0.9882352948188782.\n"
          ]
        },
        {
          "output_type": "stream",
          "name": "stdout",
          "text": [
            "Train Accuracy: 0.9058823585510254, Test Accuracy: 0.523809552192688\n"
          ]
        },
        {
          "output_type": "stream",
          "name": "stderr",
          "text": [
            "[I 2024-06-02 06:07:47,509] Trial 375 finished with value: 0.9882352948188782 and parameters: {'output_features': 18, 'optimizer': 'Adam', 'percentile': 0.231, 'learning_rate': 0.1, 'loss': 'cross_entropy', 'activation': 'elu'}. Best is trial 47 with value: 0.9882352948188782.\n"
          ]
        },
        {
          "output_type": "stream",
          "name": "stdout",
          "text": [
            "Train Accuracy: 0.9882352948188782, Test Accuracy: 0.4285714328289032\n"
          ]
        },
        {
          "output_type": "stream",
          "name": "stderr",
          "text": [
            "[I 2024-06-02 06:07:48,301] Trial 376 finished with value: 0.8352941274642944 and parameters: {'output_features': 16, 'optimizer': 'RMSprop', 'percentile': 0.231, 'learning_rate': 0.1, 'loss': 'cross_entropy', 'activation': 'selu'}. Best is trial 47 with value: 0.9882352948188782.\n"
          ]
        },
        {
          "output_type": "stream",
          "name": "stdout",
          "text": [
            "Train Accuracy: 0.8352941274642944, Test Accuracy: 0.4761904776096344\n"
          ]
        },
        {
          "output_type": "stream",
          "name": "stderr",
          "text": [
            "[I 2024-06-02 06:07:49,161] Trial 377 finished with value: 0.9764705896377563 and parameters: {'output_features': 22, 'optimizer': 'Adam', 'percentile': 0.231, 'learning_rate': 0.1, 'loss': 'cross_entropy', 'activation': 'elu'}. Best is trial 47 with value: 0.9882352948188782.\n"
          ]
        },
        {
          "output_type": "stream",
          "name": "stdout",
          "text": [
            "Train Accuracy: 0.9764705896377563, Test Accuracy: 0.4761904776096344\n"
          ]
        },
        {
          "output_type": "stream",
          "name": "stderr",
          "text": [
            "[I 2024-06-02 06:07:49,993] Trial 378 finished with value: 0.9764705896377563 and parameters: {'output_features': 16, 'optimizer': 'Adam', 'percentile': 0.231, 'learning_rate': 0.1, 'loss': 'cross_entropy', 'activation': 'elu'}. Best is trial 47 with value: 0.9882352948188782.\n"
          ]
        },
        {
          "output_type": "stream",
          "name": "stdout",
          "text": [
            "Train Accuracy: 0.9764705896377563, Test Accuracy: 0.4285714328289032\n"
          ]
        },
        {
          "output_type": "stream",
          "name": "stderr",
          "text": [
            "[I 2024-06-02 06:07:50,825] Trial 379 finished with value: 0.9882352948188782 and parameters: {'output_features': 12, 'optimizer': 'Adam', 'percentile': 0.231, 'learning_rate': 0.1, 'loss': 'cross_entropy', 'activation': 'elu'}. Best is trial 47 with value: 0.9882352948188782.\n"
          ]
        },
        {
          "output_type": "stream",
          "name": "stdout",
          "text": [
            "Train Accuracy: 0.9882352948188782, Test Accuracy: 0.4285714328289032\n"
          ]
        },
        {
          "output_type": "stream",
          "name": "stderr",
          "text": [
            "[I 2024-06-02 06:07:51,665] Trial 380 finished with value: 0.9764705896377563 and parameters: {'output_features': 16, 'optimizer': 'Adam', 'percentile': 0.231, 'learning_rate': 0.1, 'loss': 'cross_entropy', 'activation': 'selu'}. Best is trial 47 with value: 0.9882352948188782.\n"
          ]
        },
        {
          "output_type": "stream",
          "name": "stdout",
          "text": [
            "Train Accuracy: 0.9764705896377563, Test Accuracy: 0.380952388048172\n"
          ]
        },
        {
          "output_type": "stream",
          "name": "stderr",
          "text": [
            "[I 2024-06-02 06:07:52,802] Trial 381 finished with value: 0.800000011920929 and parameters: {'output_features': 14, 'optimizer': 'Adam', 'percentile': 0.231, 'learning_rate': 200, 'loss': 'cross_entropy', 'activation': 'elu'}. Best is trial 47 with value: 0.9882352948188782.\n"
          ]
        },
        {
          "output_type": "stream",
          "name": "stdout",
          "text": [
            "Train Accuracy: 0.800000011920929, Test Accuracy: 0.6190476417541504\n"
          ]
        },
        {
          "output_type": "stream",
          "name": "stderr",
          "text": [
            "[I 2024-06-02 06:07:54,064] Trial 382 finished with value: 0.9882352948188782 and parameters: {'output_features': 18, 'optimizer': 'Adam', 'percentile': 0.231, 'learning_rate': 0.1, 'loss': 'cross_entropy', 'activation': 'elu'}. Best is trial 47 with value: 0.9882352948188782.\n"
          ]
        },
        {
          "output_type": "stream",
          "name": "stdout",
          "text": [
            "Train Accuracy: 0.9882352948188782, Test Accuracy: 0.4285714328289032\n"
          ]
        },
        {
          "output_type": "stream",
          "name": "stderr",
          "text": [
            "[I 2024-06-02 06:07:55,280] Trial 383 finished with value: 0.9647058844566345 and parameters: {'output_features': 16, 'optimizer': 'Adam', 'percentile': 0.231, 'learning_rate': 0.1, 'loss': 'cross_entropy', 'activation': 'leaky_relu'}. Best is trial 47 with value: 0.9882352948188782.\n"
          ]
        },
        {
          "output_type": "stream",
          "name": "stdout",
          "text": [
            "Train Accuracy: 0.9647058844566345, Test Accuracy: 0.4285714328289032\n"
          ]
        },
        {
          "output_type": "stream",
          "name": "stderr",
          "text": [
            "[I 2024-06-02 06:07:56,222] Trial 384 finished with value: 0.9882352948188782 and parameters: {'output_features': 10, 'optimizer': 'Adam', 'percentile': 0.231, 'learning_rate': 0.1, 'loss': 'cross_entropy', 'activation': 'elu'}. Best is trial 47 with value: 0.9882352948188782.\n"
          ]
        },
        {
          "output_type": "stream",
          "name": "stdout",
          "text": [
            "Train Accuracy: 0.9882352948188782, Test Accuracy: 0.5714285969734192\n"
          ]
        },
        {
          "output_type": "stream",
          "name": "stderr",
          "text": [
            "[I 2024-06-02 06:07:57,057] Trial 385 finished with value: 0.9647058844566345 and parameters: {'output_features': 16, 'optimizer': 'Adam', 'percentile': 0.231, 'learning_rate': 0.1, 'loss': 'cross_entropy', 'activation': 'selu'}. Best is trial 47 with value: 0.9882352948188782.\n"
          ]
        },
        {
          "output_type": "stream",
          "name": "stdout",
          "text": [
            "Train Accuracy: 0.9647058844566345, Test Accuracy: 0.4761904776096344\n"
          ]
        },
        {
          "output_type": "stream",
          "name": "stderr",
          "text": [
            "[I 2024-06-02 06:07:57,899] Trial 386 finished with value: 0.9882352948188782 and parameters: {'output_features': 16, 'optimizer': 'Adam', 'percentile': 0.231, 'learning_rate': 0.1, 'loss': 'cross_entropy', 'activation': 'elu'}. Best is trial 47 with value: 0.9882352948188782.\n"
          ]
        },
        {
          "output_type": "stream",
          "name": "stdout",
          "text": [
            "Train Accuracy: 0.9882352948188782, Test Accuracy: 0.4285714328289032\n"
          ]
        },
        {
          "output_type": "stream",
          "name": "stderr",
          "text": [
            "[I 2024-06-02 06:07:58,773] Trial 387 finished with value: 0.8352941274642944 and parameters: {'output_features': 20, 'optimizer': 'Adam', 'percentile': 0.231, 'learning_rate': 100, 'loss': 'cross_entropy', 'activation': 'elu'}. Best is trial 47 with value: 0.9882352948188782.\n"
          ]
        },
        {
          "output_type": "stream",
          "name": "stdout",
          "text": [
            "Train Accuracy: 0.8352941274642944, Test Accuracy: 0.8095238208770752\n"
          ]
        },
        {
          "output_type": "stream",
          "name": "stderr",
          "text": [
            "[I 2024-06-02 06:07:59,643] Trial 388 finished with value: 0.9764705896377563 and parameters: {'output_features': 18, 'optimizer': 'Adam', 'percentile': 0.231, 'learning_rate': 0.1, 'loss': 'cross_entropy', 'activation': 'elu'}. Best is trial 47 with value: 0.9882352948188782.\n"
          ]
        },
        {
          "output_type": "stream",
          "name": "stdout",
          "text": [
            "Train Accuracy: 0.9764705896377563, Test Accuracy: 0.523809552192688\n"
          ]
        },
        {
          "output_type": "stream",
          "name": "stderr",
          "text": [
            "[I 2024-06-02 06:08:00,505] Trial 389 finished with value: 0.8117647171020508 and parameters: {'output_features': 16, 'optimizer': 'Adam', 'percentile': 0.231, 'learning_rate': 1, 'loss': 'cross_entropy', 'activation': 'tanh'}. Best is trial 47 with value: 0.9882352948188782.\n"
          ]
        },
        {
          "output_type": "stream",
          "name": "stdout",
          "text": [
            "Train Accuracy: 0.8117647171020508, Test Accuracy: 0.4761904776096344\n"
          ]
        },
        {
          "output_type": "stream",
          "name": "stderr",
          "text": [
            "[I 2024-06-02 06:08:01,297] Trial 390 finished with value: 0.8352941274642944 and parameters: {'output_features': 16, 'optimizer': 'SGD', 'percentile': 0.231, 'learning_rate': 0.1, 'loss': 'cross_entropy', 'activation': 'elu'}. Best is trial 47 with value: 0.9882352948188782.\n"
          ]
        },
        {
          "output_type": "stream",
          "name": "stdout",
          "text": [
            "Train Accuracy: 0.8352941274642944, Test Accuracy: 0.761904776096344\n"
          ]
        },
        {
          "output_type": "stream",
          "name": "stderr",
          "text": [
            "[I 2024-06-02 06:08:02,175] Trial 391 finished with value: 0.9529411792755127 and parameters: {'output_features': 22, 'optimizer': 'Adam', 'percentile': 0.231, 'learning_rate': 0.1, 'loss': 'cross_entropy', 'activation': 'selu'}. Best is trial 47 with value: 0.9882352948188782.\n"
          ]
        },
        {
          "output_type": "stream",
          "name": "stdout",
          "text": [
            "Train Accuracy: 0.9529411792755127, Test Accuracy: 0.5714285969734192\n"
          ]
        },
        {
          "output_type": "stream",
          "name": "stderr",
          "text": [
            "[I 2024-06-02 06:08:03,067] Trial 392 finished with value: 0.9411764740943909 and parameters: {'output_features': 16, 'optimizer': 'Adam', 'percentile': 0.231, 'learning_rate': 0.1, 'loss': 'cross_entropy', 'activation': 'relu'}. Best is trial 47 with value: 0.9882352948188782.\n"
          ]
        },
        {
          "output_type": "stream",
          "name": "stdout",
          "text": [
            "Train Accuracy: 0.9411764740943909, Test Accuracy: 0.6666666865348816\n"
          ]
        },
        {
          "output_type": "stream",
          "name": "stderr",
          "text": [
            "[I 2024-06-02 06:08:03,958] Trial 393 finished with value: 0.9882352948188782 and parameters: {'output_features': 18, 'optimizer': 'Adam', 'percentile': 0.231, 'learning_rate': 0.1, 'loss': 'cross_entropy', 'activation': 'elu'}. Best is trial 47 with value: 0.9882352948188782.\n"
          ]
        },
        {
          "output_type": "stream",
          "name": "stdout",
          "text": [
            "Train Accuracy: 0.9882352948188782, Test Accuracy: 0.3333333432674408\n"
          ]
        },
        {
          "output_type": "stream",
          "name": "stderr",
          "text": [
            "[I 2024-06-02 06:08:04,893] Trial 394 finished with value: 0.9882352948188782 and parameters: {'output_features': 16, 'optimizer': 'Adam', 'percentile': 0.231, 'learning_rate': 0.1, 'loss': 'cross_entropy', 'activation': 'elu'}. Best is trial 47 with value: 0.9882352948188782.\n"
          ]
        },
        {
          "output_type": "stream",
          "name": "stdout",
          "text": [
            "Train Accuracy: 0.9882352948188782, Test Accuracy: 0.5714285969734192\n"
          ]
        },
        {
          "output_type": "stream",
          "name": "stderr",
          "text": [
            "[I 2024-06-02 06:08:05,878] Trial 395 finished with value: 0.9882352948188782 and parameters: {'output_features': 12, 'optimizer': 'Adam', 'percentile': 0.231, 'learning_rate': 0.1, 'loss': 'cross_entropy', 'activation': 'elu'}. Best is trial 47 with value: 0.9882352948188782.\n"
          ]
        },
        {
          "output_type": "stream",
          "name": "stdout",
          "text": [
            "Train Accuracy: 0.9882352948188782, Test Accuracy: 0.5714285969734192\n"
          ]
        },
        {
          "output_type": "stream",
          "name": "stderr",
          "text": [
            "[I 2024-06-02 06:08:07,006] Trial 396 finished with value: 0.9647058844566345 and parameters: {'output_features': 16, 'optimizer': 'Adam', 'percentile': 0.231, 'learning_rate': 0.1, 'loss': 'cross_entropy', 'activation': 'selu'}. Best is trial 47 with value: 0.9882352948188782.\n"
          ]
        },
        {
          "output_type": "stream",
          "name": "stdout",
          "text": [
            "Train Accuracy: 0.9647058844566345, Test Accuracy: 0.7142857313156128\n"
          ]
        },
        {
          "output_type": "stream",
          "name": "stderr",
          "text": [
            "[I 2024-06-02 06:08:08,248] Trial 397 finished with value: 0.9058823585510254 and parameters: {'output_features': 18, 'optimizer': 'RMSprop', 'percentile': 0.231, 'learning_rate': 0.1, 'loss': 'cross_entropy', 'activation': 'elu'}. Best is trial 47 with value: 0.9882352948188782.\n"
          ]
        },
        {
          "output_type": "stream",
          "name": "stdout",
          "text": [
            "Train Accuracy: 0.9058823585510254, Test Accuracy: 0.190476194024086\n"
          ]
        },
        {
          "output_type": "stream",
          "name": "stderr",
          "text": [
            "[I 2024-06-02 06:08:09,433] Trial 398 finished with value: 0.9882352948188782 and parameters: {'output_features': 16, 'optimizer': 'Adam', 'percentile': 0.231, 'learning_rate': 0.1, 'loss': 'cross_entropy', 'activation': 'elu'}. Best is trial 47 with value: 0.9882352948188782.\n"
          ]
        },
        {
          "output_type": "stream",
          "name": "stdout",
          "text": [
            "Train Accuracy: 0.9882352948188782, Test Accuracy: 0.4761904776096344\n"
          ]
        },
        {
          "output_type": "stream",
          "name": "stderr",
          "text": [
            "[I 2024-06-02 06:08:10,287] Trial 399 finished with value: 0.9529411792755127 and parameters: {'output_features': 22, 'optimizer': 'Adam', 'percentile': 0.231, 'learning_rate': 0.01, 'loss': 'cross_entropy', 'activation': 'leaky_relu'}. Best is trial 47 with value: 0.9882352948188782.\n"
          ]
        },
        {
          "output_type": "stream",
          "name": "stdout",
          "text": [
            "Train Accuracy: 0.9529411792755127, Test Accuracy: 0.5714285969734192\n"
          ]
        },
        {
          "output_type": "stream",
          "name": "stderr",
          "text": [
            "[I 2024-06-02 06:08:11,146] Trial 400 finished with value: 0.9882352948188782 and parameters: {'output_features': 10, 'optimizer': 'Adam', 'percentile': 0.231, 'learning_rate': 0.1, 'loss': 'cross_entropy', 'activation': 'elu'}. Best is trial 47 with value: 0.9882352948188782.\n"
          ]
        },
        {
          "output_type": "stream",
          "name": "stdout",
          "text": [
            "Train Accuracy: 0.9882352948188782, Test Accuracy: 0.523809552192688\n"
          ]
        },
        {
          "output_type": "stream",
          "name": "stderr",
          "text": [
            "[I 2024-06-02 06:08:12,006] Trial 401 finished with value: 0.9647058844566345 and parameters: {'output_features': 16, 'optimizer': 'Adam', 'percentile': 0.231, 'learning_rate': 0.1, 'loss': 'cross_entropy', 'activation': 'selu'}. Best is trial 47 with value: 0.9882352948188782.\n"
          ]
        },
        {
          "output_type": "stream",
          "name": "stdout",
          "text": [
            "Train Accuracy: 0.9647058844566345, Test Accuracy: 0.523809552192688\n"
          ]
        },
        {
          "output_type": "stream",
          "name": "stderr",
          "text": [
            "[I 2024-06-02 06:08:12,925] Trial 402 finished with value: 0.8235294222831726 and parameters: {'output_features': 16, 'optimizer': 'Adam', 'percentile': 0.231, 'learning_rate': 10, 'loss': 'cross_entropy', 'activation': 'elu'}. Best is trial 47 with value: 0.9882352948188782.\n"
          ]
        },
        {
          "output_type": "stream",
          "name": "stdout",
          "text": [
            "Train Accuracy: 0.8235294222831726, Test Accuracy: 0.761904776096344\n"
          ]
        },
        {
          "output_type": "stream",
          "name": "stderr",
          "text": [
            "[I 2024-06-02 06:08:13,823] Trial 403 finished with value: 0.9882352948188782 and parameters: {'output_features': 18, 'optimizer': 'Adam', 'percentile': 0.231, 'learning_rate': 0.1, 'loss': 'cross_entropy', 'activation': 'elu'}. Best is trial 47 with value: 0.9882352948188782.\n"
          ]
        },
        {
          "output_type": "stream",
          "name": "stdout",
          "text": [
            "Train Accuracy: 0.9882352948188782, Test Accuracy: 0.4761904776096344\n"
          ]
        },
        {
          "output_type": "stream",
          "name": "stderr",
          "text": [
            "[I 2024-06-02 06:08:14,689] Trial 404 finished with value: 0.9764705896377563 and parameters: {'output_features': 16, 'optimizer': 'Adam', 'percentile': 0.231, 'learning_rate': 0.1, 'loss': 'cross_entropy', 'activation': 'elu'}. Best is trial 47 with value: 0.9882352948188782.\n"
          ]
        },
        {
          "output_type": "stream",
          "name": "stdout",
          "text": [
            "Train Accuracy: 0.9764705896377563, Test Accuracy: 0.5714285969734192\n"
          ]
        },
        {
          "output_type": "stream",
          "name": "stderr",
          "text": [
            "[I 2024-06-02 06:08:15,548] Trial 405 finished with value: 0.9882352948188782 and parameters: {'output_features': 16, 'optimizer': 'Adam', 'percentile': 0.231, 'learning_rate': 0.1, 'loss': 'cross_entropy', 'activation': 'elu'}. Best is trial 47 with value: 0.9882352948188782.\n"
          ]
        },
        {
          "output_type": "stream",
          "name": "stdout",
          "text": [
            "Train Accuracy: 0.9882352948188782, Test Accuracy: 0.6190476417541504\n"
          ]
        },
        {
          "output_type": "stream",
          "name": "stderr",
          "text": [
            "[I 2024-06-02 06:08:16,415] Trial 406 finished with value: 0.9647058844566345 and parameters: {'output_features': 16, 'optimizer': 'Adam', 'percentile': 0.231, 'learning_rate': 0.1, 'loss': 'cross_entropy', 'activation': 'selu'}. Best is trial 47 with value: 0.9882352948188782.\n"
          ]
        },
        {
          "output_type": "stream",
          "name": "stdout",
          "text": [
            "Train Accuracy: 0.9647058844566345, Test Accuracy: 0.5714285969734192\n"
          ]
        },
        {
          "output_type": "stream",
          "name": "stderr",
          "text": [
            "[I 2024-06-02 06:08:17,318] Trial 407 finished with value: 0.9764705896377563 and parameters: {'output_features': 18, 'optimizer': 'Adam', 'percentile': 0.231, 'learning_rate': 0.1, 'loss': 'cross_entropy', 'activation': 'elu'}. Best is trial 47 with value: 0.9882352948188782.\n"
          ]
        },
        {
          "output_type": "stream",
          "name": "stdout",
          "text": [
            "Train Accuracy: 0.9764705896377563, Test Accuracy: 0.7142857313156128\n"
          ]
        },
        {
          "output_type": "stream",
          "name": "stderr",
          "text": [
            "[I 2024-06-02 06:08:18,153] Trial 408 finished with value: 0.9764705896377563 and parameters: {'output_features': 16, 'optimizer': 'Adam', 'percentile': 0.231, 'learning_rate': 0.1, 'loss': 'cross_entropy', 'activation': 'elu'}. Best is trial 47 with value: 0.9882352948188782.\n"
          ]
        },
        {
          "output_type": "stream",
          "name": "stdout",
          "text": [
            "Train Accuracy: 0.9764705896377563, Test Accuracy: 0.4761904776096344\n"
          ]
        },
        {
          "output_type": "stream",
          "name": "stderr",
          "text": [
            "[I 2024-06-02 06:08:19,023] Trial 409 finished with value: 0.8352941274642944 and parameters: {'output_features': 22, 'optimizer': 'Adam', 'percentile': 0.231, 'learning_rate': 200, 'loss': 'cross_entropy', 'activation': 'elu'}. Best is trial 47 with value: 0.9882352948188782.\n"
          ]
        },
        {
          "output_type": "stream",
          "name": "stdout",
          "text": [
            "Train Accuracy: 0.8352941274642944, Test Accuracy: 0.8095238208770752\n"
          ]
        },
        {
          "output_type": "stream",
          "name": "stderr",
          "text": [
            "[I 2024-06-02 06:08:19,993] Trial 410 finished with value: 0.8352941274642944 and parameters: {'output_features': 12, 'optimizer': 'SGD', 'percentile': 0.231, 'learning_rate': 0.1, 'loss': 'cross_entropy', 'activation': 'selu'}. Best is trial 47 with value: 0.9882352948188782.\n"
          ]
        },
        {
          "output_type": "stream",
          "name": "stdout",
          "text": [
            "Train Accuracy: 0.8352941274642944, Test Accuracy: 0.6666666865348816\n"
          ]
        },
        {
          "output_type": "stream",
          "name": "stderr",
          "text": [
            "[I 2024-06-02 06:08:21,156] Trial 411 finished with value: 0.9647058844566345 and parameters: {'output_features': 14, 'optimizer': 'Adam', 'percentile': 0.231, 'learning_rate': 0.1, 'loss': 'cross_entropy', 'activation': 'elu'}. Best is trial 47 with value: 0.9882352948188782.\n"
          ]
        },
        {
          "output_type": "stream",
          "name": "stdout",
          "text": [
            "Train Accuracy: 0.9647058844566345, Test Accuracy: 0.380952388048172\n"
          ]
        },
        {
          "output_type": "stream",
          "name": "stderr",
          "text": [
            "[I 2024-06-02 06:08:22,362] Trial 412 finished with value: 0.929411768913269 and parameters: {'output_features': 16, 'optimizer': 'Adam', 'percentile': 0.231, 'learning_rate': 0.1, 'loss': 'cross_entropy', 'activation': 'tanh'}. Best is trial 47 with value: 0.9882352948188782.\n"
          ]
        },
        {
          "output_type": "stream",
          "name": "stdout",
          "text": [
            "Train Accuracy: 0.929411768913269, Test Accuracy: 0.5714285969734192\n"
          ]
        },
        {
          "output_type": "stream",
          "name": "stderr",
          "text": [
            "[I 2024-06-02 06:08:23,489] Trial 413 finished with value: 0.9882352948188782 and parameters: {'output_features': 16, 'optimizer': 'Adam', 'percentile': 0.231, 'learning_rate': 0.1, 'loss': 'cross_entropy', 'activation': 'elu'}. Best is trial 47 with value: 0.9882352948188782.\n"
          ]
        },
        {
          "output_type": "stream",
          "name": "stdout",
          "text": [
            "Train Accuracy: 0.9882352948188782, Test Accuracy: 0.523809552192688\n"
          ]
        },
        {
          "output_type": "stream",
          "name": "stderr",
          "text": [
            "[I 2024-06-02 06:08:24,382] Trial 414 finished with value: 0.8705882430076599 and parameters: {'output_features': 18, 'optimizer': 'Adam', 'percentile': 0.231, 'learning_rate': 100, 'loss': 'cross_entropy', 'activation': 'leaky_relu'}. Best is trial 47 with value: 0.9882352948188782.\n"
          ]
        },
        {
          "output_type": "stream",
          "name": "stdout",
          "text": [
            "Train Accuracy: 0.8705882430076599, Test Accuracy: 0.6190476417541504\n"
          ]
        },
        {
          "output_type": "stream",
          "name": "stderr",
          "text": [
            "[I 2024-06-02 06:08:25,218] Trial 415 finished with value: 0.9882352948188782 and parameters: {'output_features': 10, 'optimizer': 'Adam', 'percentile': 0.231, 'learning_rate': 0.1, 'loss': 'cross_entropy', 'activation': 'elu'}. Best is trial 47 with value: 0.9882352948188782.\n"
          ]
        },
        {
          "output_type": "stream",
          "name": "stdout",
          "text": [
            "Train Accuracy: 0.9882352948188782, Test Accuracy: 0.523809552192688\n"
          ]
        },
        {
          "output_type": "stream",
          "name": "stderr",
          "text": [
            "[I 2024-06-02 06:08:26,104] Trial 416 finished with value: 0.9764705896377563 and parameters: {'output_features': 20, 'optimizer': 'Adam', 'percentile': 0.231, 'learning_rate': 0.1, 'loss': 'cross_entropy', 'activation': 'selu'}. Best is trial 47 with value: 0.9882352948188782.\n"
          ]
        },
        {
          "output_type": "stream",
          "name": "stdout",
          "text": [
            "Train Accuracy: 0.9764705896377563, Test Accuracy: 0.2380952388048172\n"
          ]
        },
        {
          "output_type": "stream",
          "name": "stderr",
          "text": [
            "[I 2024-06-02 06:08:26,997] Trial 417 finished with value: 0.8117647171020508 and parameters: {'output_features': 16, 'optimizer': 'Adam', 'percentile': 0.231, 'learning_rate': 1, 'loss': 'cross_entropy', 'activation': 'elu'}. Best is trial 47 with value: 0.9882352948188782.\n"
          ]
        },
        {
          "output_type": "stream",
          "name": "stdout",
          "text": [
            "Train Accuracy: 0.8117647171020508, Test Accuracy: 0.8095238208770752\n"
          ]
        },
        {
          "output_type": "stream",
          "name": "stderr",
          "text": [
            "[I 2024-06-02 06:08:27,846] Trial 418 finished with value: 0.9882352948188782 and parameters: {'output_features': 16, 'optimizer': 'Adam', 'percentile': 0.231, 'learning_rate': 0.1, 'loss': 'cross_entropy', 'activation': 'relu'}. Best is trial 47 with value: 0.9882352948188782.\n"
          ]
        },
        {
          "output_type": "stream",
          "name": "stdout",
          "text": [
            "Train Accuracy: 0.9882352948188782, Test Accuracy: 0.4285714328289032\n"
          ]
        },
        {
          "output_type": "stream",
          "name": "stderr",
          "text": [
            "[I 2024-06-02 06:08:28,683] Trial 419 finished with value: 0.8941176533699036 and parameters: {'output_features': 16, 'optimizer': 'RMSprop', 'percentile': 0.231, 'learning_rate': 0.1, 'loss': 'cross_entropy', 'activation': 'elu'}. Best is trial 47 with value: 0.9882352948188782.\n"
          ]
        },
        {
          "output_type": "stream",
          "name": "stdout",
          "text": [
            "Train Accuracy: 0.8941176533699036, Test Accuracy: 0.4761904776096344\n"
          ]
        },
        {
          "output_type": "stream",
          "name": "stderr",
          "text": [
            "[I 2024-06-02 06:08:29,554] Trial 420 finished with value: 0.9764705896377563 and parameters: {'output_features': 18, 'optimizer': 'Adam', 'percentile': 0.231, 'learning_rate': 0.1, 'loss': 'cross_entropy', 'activation': 'elu'}. Best is trial 47 with value: 0.9882352948188782.\n"
          ]
        },
        {
          "output_type": "stream",
          "name": "stdout",
          "text": [
            "Train Accuracy: 0.9764705896377563, Test Accuracy: 0.4285714328289032\n"
          ]
        },
        {
          "output_type": "stream",
          "name": "stderr",
          "text": [
            "[I 2024-06-02 06:08:30,423] Trial 421 finished with value: 0.9647058844566345 and parameters: {'output_features': 22, 'optimizer': 'Adam', 'percentile': 0.231, 'learning_rate': 0.1, 'loss': 'cross_entropy', 'activation': 'selu'}. Best is trial 47 with value: 0.9882352948188782.\n"
          ]
        },
        {
          "output_type": "stream",
          "name": "stdout",
          "text": [
            "Train Accuracy: 0.9647058844566345, Test Accuracy: 0.523809552192688\n"
          ]
        },
        {
          "output_type": "stream",
          "name": "stderr",
          "text": [
            "[I 2024-06-02 06:08:31,272] Trial 422 finished with value: 0.9647058844566345 and parameters: {'output_features': 16, 'optimizer': 'Adam', 'percentile': 0.231, 'learning_rate': 0.1, 'loss': 'cross_entropy', 'activation': 'elu'}. Best is trial 47 with value: 0.9882352948188782.\n"
          ]
        },
        {
          "output_type": "stream",
          "name": "stdout",
          "text": [
            "Train Accuracy: 0.9647058844566345, Test Accuracy: 0.523809552192688\n"
          ]
        },
        {
          "output_type": "stream",
          "name": "stderr",
          "text": [
            "[I 2024-06-02 06:08:32,113] Trial 423 finished with value: 0.9764705896377563 and parameters: {'output_features': 16, 'optimizer': 'Adam', 'percentile': 0.231, 'learning_rate': 0.1, 'loss': 'cross_entropy', 'activation': 'elu'}. Best is trial 47 with value: 0.9882352948188782.\n"
          ]
        },
        {
          "output_type": "stream",
          "name": "stdout",
          "text": [
            "Train Accuracy: 0.9764705896377563, Test Accuracy: 0.6190476417541504\n"
          ]
        },
        {
          "output_type": "stream",
          "name": "stderr",
          "text": [
            "[I 2024-06-02 06:08:33,010] Trial 424 finished with value: 0.9882352948188782 and parameters: {'output_features': 18, 'optimizer': 'Adam', 'percentile': 0.231, 'learning_rate': 0.1, 'loss': 'cross_entropy', 'activation': 'elu'}. Best is trial 47 with value: 0.9882352948188782.\n"
          ]
        },
        {
          "output_type": "stream",
          "name": "stdout",
          "text": [
            "Train Accuracy: 0.9882352948188782, Test Accuracy: 0.4285714328289032\n"
          ]
        },
        {
          "output_type": "stream",
          "name": "stderr",
          "text": [
            "[I 2024-06-02 06:08:34,083] Trial 425 finished with value: 0.9882352948188782 and parameters: {'output_features': 16, 'optimizer': 'Adam', 'percentile': 0.231, 'learning_rate': 0.1, 'loss': 'cross_entropy', 'activation': 'elu'}. Best is trial 47 with value: 0.9882352948188782.\n"
          ]
        },
        {
          "output_type": "stream",
          "name": "stdout",
          "text": [
            "Train Accuracy: 0.9882352948188782, Test Accuracy: 0.6190476417541504\n"
          ]
        },
        {
          "output_type": "stream",
          "name": "stderr",
          "text": [
            "[I 2024-06-02 06:08:35,343] Trial 426 finished with value: 0.929411768913269 and parameters: {'output_features': 16, 'optimizer': 'Adam', 'percentile': 0.231, 'learning_rate': 0.01, 'loss': 'cross_entropy', 'activation': 'selu'}. Best is trial 47 with value: 0.9882352948188782.\n"
          ]
        },
        {
          "output_type": "stream",
          "name": "stdout",
          "text": [
            "Train Accuracy: 0.929411768913269, Test Accuracy: 0.6666666865348816\n"
          ]
        },
        {
          "output_type": "stream",
          "name": "stderr",
          "text": [
            "[I 2024-06-02 06:08:36,558] Trial 427 finished with value: 0.9764705896377563 and parameters: {'output_features': 16, 'optimizer': 'Adam', 'percentile': 0.231, 'learning_rate': 0.1, 'loss': 'cross_entropy', 'activation': 'leaky_relu'}. Best is trial 47 with value: 0.9882352948188782.\n"
          ]
        },
        {
          "output_type": "stream",
          "name": "stdout",
          "text": [
            "Train Accuracy: 0.9764705896377563, Test Accuracy: 0.6666666865348816\n"
          ]
        },
        {
          "output_type": "stream",
          "name": "stderr",
          "text": [
            "[I 2024-06-02 06:08:37,552] Trial 428 finished with value: 0.7529411911964417 and parameters: {'output_features': 12, 'optimizer': 'Adam', 'percentile': 0.231, 'learning_rate': 10, 'loss': 'cross_entropy', 'activation': 'elu'}. Best is trial 47 with value: 0.9882352948188782.\n"
          ]
        },
        {
          "output_type": "stream",
          "name": "stdout",
          "text": [
            "Train Accuracy: 0.7529411911964417, Test Accuracy: 0.4761904776096344\n"
          ]
        },
        {
          "output_type": "stream",
          "name": "stderr",
          "text": [
            "[I 2024-06-02 06:08:38,426] Trial 429 finished with value: 0.9764705896377563 and parameters: {'output_features': 18, 'optimizer': 'Adam', 'percentile': 0.231, 'learning_rate': 0.1, 'loss': 'cross_entropy', 'activation': 'elu'}. Best is trial 47 with value: 0.9882352948188782.\n"
          ]
        },
        {
          "output_type": "stream",
          "name": "stdout",
          "text": [
            "Train Accuracy: 0.9764705896377563, Test Accuracy: 0.4761904776096344\n"
          ]
        },
        {
          "output_type": "stream",
          "name": "stderr",
          "text": [
            "[I 2024-06-02 06:08:39,278] Trial 430 finished with value: 0.9764705896377563 and parameters: {'output_features': 10, 'optimizer': 'Adam', 'percentile': 0.231, 'learning_rate': 0.1, 'loss': 'cross_entropy', 'activation': 'elu'}. Best is trial 47 with value: 0.9882352948188782.\n"
          ]
        },
        {
          "output_type": "stream",
          "name": "stdout",
          "text": [
            "Train Accuracy: 0.9764705896377563, Test Accuracy: 0.6190476417541504\n"
          ]
        },
        {
          "output_type": "stream",
          "name": "stderr",
          "text": [
            "[I 2024-06-02 06:08:40,127] Trial 431 finished with value: 0.9764705896377563 and parameters: {'output_features': 16, 'optimizer': 'Adam', 'percentile': 0.231, 'learning_rate': 0.1, 'loss': 'cross_entropy', 'activation': 'selu'}. Best is trial 47 with value: 0.9882352948188782.\n"
          ]
        },
        {
          "output_type": "stream",
          "name": "stdout",
          "text": [
            "Train Accuracy: 0.9764705896377563, Test Accuracy: 0.4285714328289032\n"
          ]
        },
        {
          "output_type": "stream",
          "name": "stderr",
          "text": [
            "[I 2024-06-02 06:08:40,958] Trial 432 finished with value: 0.8117647171020508 and parameters: {'output_features': 22, 'optimizer': 'SGD', 'percentile': 0.231, 'learning_rate': 0.1, 'loss': 'cross_entropy', 'activation': 'elu'}. Best is trial 47 with value: 0.9882352948188782.\n"
          ]
        },
        {
          "output_type": "stream",
          "name": "stdout",
          "text": [
            "Train Accuracy: 0.8117647171020508, Test Accuracy: 0.7142857313156128\n"
          ]
        },
        {
          "output_type": "stream",
          "name": "stderr",
          "text": [
            "[I 2024-06-02 06:08:41,809] Trial 433 finished with value: 0.9882352948188782 and parameters: {'output_features': 16, 'optimizer': 'Adam', 'percentile': 0.231, 'learning_rate': 0.1, 'loss': 'cross_entropy', 'activation': 'elu'}. Best is trial 47 with value: 0.9882352948188782.\n"
          ]
        },
        {
          "output_type": "stream",
          "name": "stdout",
          "text": [
            "Train Accuracy: 0.9882352948188782, Test Accuracy: 0.4761904776096344\n"
          ]
        },
        {
          "output_type": "stream",
          "name": "stderr",
          "text": [
            "[I 2024-06-02 06:08:42,679] Trial 434 finished with value: 0.9882352948188782 and parameters: {'output_features': 16, 'optimizer': 'Adam', 'percentile': 0.231, 'learning_rate': 0.1, 'loss': 'cross_entropy', 'activation': 'elu'}. Best is trial 47 with value: 0.9882352948188782.\n"
          ]
        },
        {
          "output_type": "stream",
          "name": "stdout",
          "text": [
            "Train Accuracy: 0.9882352948188782, Test Accuracy: 0.5714285969734192\n"
          ]
        },
        {
          "output_type": "stream",
          "name": "stderr",
          "text": [
            "[I 2024-06-02 06:08:43,569] Trial 435 finished with value: 0.9647058844566345 and parameters: {'output_features': 18, 'optimizer': 'Adam', 'percentile': 0.231, 'learning_rate': 0.1, 'loss': 'cross_entropy', 'activation': 'selu'}. Best is trial 47 with value: 0.9882352948188782.\n"
          ]
        },
        {
          "output_type": "stream",
          "name": "stdout",
          "text": [
            "Train Accuracy: 0.9647058844566345, Test Accuracy: 0.6666666865348816\n"
          ]
        },
        {
          "output_type": "stream",
          "name": "stderr",
          "text": [
            "[I 2024-06-02 06:08:44,438] Trial 436 finished with value: 0.7764706015586853 and parameters: {'output_features': 16, 'optimizer': 'Adam', 'percentile': 0.231, 'learning_rate': 200, 'loss': 'cross_entropy', 'activation': 'elu'}. Best is trial 47 with value: 0.9882352948188782.\n"
          ]
        },
        {
          "output_type": "stream",
          "name": "stdout",
          "text": [
            "Train Accuracy: 0.7764706015586853, Test Accuracy: 0.380952388048172\n"
          ]
        },
        {
          "output_type": "stream",
          "name": "stderr",
          "text": [
            "[I 2024-06-02 06:08:45,288] Trial 437 finished with value: 0.9411764740943909 and parameters: {'output_features': 16, 'optimizer': 'Adam', 'percentile': 0.231, 'learning_rate': 0.1, 'loss': 'cross_entropy', 'activation': 'tanh'}. Best is trial 47 with value: 0.9882352948188782.\n"
          ]
        },
        {
          "output_type": "stream",
          "name": "stdout",
          "text": [
            "Train Accuracy: 0.9411764740943909, Test Accuracy: 0.5714285969734192\n"
          ]
        },
        {
          "output_type": "stream",
          "name": "stderr",
          "text": [
            "[I 2024-06-02 06:08:46,161] Trial 438 finished with value: 0.9882352948188782 and parameters: {'output_features': 16, 'optimizer': 'Adam', 'percentile': 0.231, 'learning_rate': 0.1, 'loss': 'cross_entropy', 'activation': 'elu'}. Best is trial 47 with value: 0.9882352948188782.\n"
          ]
        },
        {
          "output_type": "stream",
          "name": "stdout",
          "text": [
            "Train Accuracy: 0.9882352948188782, Test Accuracy: 0.4285714328289032\n"
          ]
        },
        {
          "output_type": "stream",
          "name": "stderr",
          "text": [
            "[I 2024-06-02 06:08:47,106] Trial 439 finished with value: 0.9176470637321472 and parameters: {'output_features': 14, 'optimizer': 'Adam', 'percentile': 0.231, 'learning_rate': 0.1, 'loss': 'cross_entropy', 'activation': 'elu'}. Best is trial 47 with value: 0.9882352948188782.\n"
          ]
        },
        {
          "output_type": "stream",
          "name": "stdout",
          "text": [
            "Train Accuracy: 0.9176470637321472, Test Accuracy: 0.8095238208770752\n"
          ]
        },
        {
          "output_type": "stream",
          "name": "stderr",
          "text": [
            "[I 2024-06-02 06:08:48,347] Trial 440 finished with value: 0.9647058844566345 and parameters: {'output_features': 18, 'optimizer': 'Adam', 'percentile': 0.231, 'learning_rate': 0.1, 'loss': 'cross_entropy', 'activation': 'leaky_relu'}. Best is trial 47 with value: 0.9882352948188782.\n"
          ]
        },
        {
          "output_type": "stream",
          "name": "stdout",
          "text": [
            "Train Accuracy: 0.9647058844566345, Test Accuracy: 0.4761904776096344\n"
          ]
        },
        {
          "output_type": "stream",
          "name": "stderr",
          "text": [
            "[I 2024-06-02 06:08:49,562] Trial 441 finished with value: 0.9058823585510254 and parameters: {'output_features': 22, 'optimizer': 'RMSprop', 'percentile': 0.231, 'learning_rate': 0.1, 'loss': 'cross_entropy', 'activation': 'selu'}. Best is trial 47 with value: 0.9882352948188782.\n"
          ]
        },
        {
          "output_type": "stream",
          "name": "stdout",
          "text": [
            "Train Accuracy: 0.9058823585510254, Test Accuracy: 0.5714285969734192\n"
          ]
        },
        {
          "output_type": "stream",
          "name": "stderr",
          "text": [
            "[I 2024-06-02 06:08:50,820] Trial 442 finished with value: 0.9647058844566345 and parameters: {'output_features': 12, 'optimizer': 'Adam', 'percentile': 0.231, 'learning_rate': 0.1, 'loss': 'cross_entropy', 'activation': 'elu'}. Best is trial 47 with value: 0.9882352948188782.\n"
          ]
        },
        {
          "output_type": "stream",
          "name": "stdout",
          "text": [
            "Train Accuracy: 0.9647058844566345, Test Accuracy: 0.523809552192688\n"
          ]
        },
        {
          "output_type": "stream",
          "name": "stderr",
          "text": [
            "[I 2024-06-02 06:08:51,697] Trial 443 finished with value: 0.9882352948188782 and parameters: {'output_features': 16, 'optimizer': 'Adam', 'percentile': 0.231, 'learning_rate': 0.1, 'loss': 'cross_entropy', 'activation': 'elu'}. Best is trial 47 with value: 0.9882352948188782.\n"
          ]
        },
        {
          "output_type": "stream",
          "name": "stdout",
          "text": [
            "Train Accuracy: 0.9882352948188782, Test Accuracy: 0.6666666865348816\n"
          ]
        },
        {
          "output_type": "stream",
          "name": "stderr",
          "text": [
            "[I 2024-06-02 06:08:52,581] Trial 444 finished with value: 0.8117647171020508 and parameters: {'output_features': 16, 'optimizer': 'Adam', 'percentile': 0.231, 'learning_rate': 1, 'loss': 'cross_entropy', 'activation': 'relu'}. Best is trial 47 with value: 0.9882352948188782.\n"
          ]
        },
        {
          "output_type": "stream",
          "name": "stdout",
          "text": [
            "Train Accuracy: 0.8117647171020508, Test Accuracy: 0.4285714328289032\n"
          ]
        },
        {
          "output_type": "stream",
          "name": "stderr",
          "text": [
            "[I 2024-06-02 06:08:53,452] Trial 445 finished with value: 0.9882352948188782 and parameters: {'output_features': 20, 'optimizer': 'Adam', 'percentile': 0.231, 'learning_rate': 0.1, 'loss': 'cross_entropy', 'activation': 'elu'}. Best is trial 47 with value: 0.9882352948188782.\n"
          ]
        },
        {
          "output_type": "stream",
          "name": "stdout",
          "text": [
            "Train Accuracy: 0.9882352948188782, Test Accuracy: 0.6190476417541504\n"
          ]
        },
        {
          "output_type": "stream",
          "name": "stderr",
          "text": [
            "[I 2024-06-02 06:08:54,327] Trial 446 finished with value: 0.7882353067398071 and parameters: {'output_features': 16, 'optimizer': 'Adam', 'percentile': 0.231, 'learning_rate': 100, 'loss': 'cross_entropy', 'activation': 'elu'}. Best is trial 47 with value: 0.9882352948188782.\n"
          ]
        },
        {
          "output_type": "stream",
          "name": "stdout",
          "text": [
            "Train Accuracy: 0.7882353067398071, Test Accuracy: 0.761904776096344\n"
          ]
        },
        {
          "output_type": "stream",
          "name": "stderr",
          "text": [
            "[I 2024-06-02 06:08:55,179] Trial 447 finished with value: 0.9647058844566345 and parameters: {'output_features': 10, 'optimizer': 'Adam', 'percentile': 0.231, 'learning_rate': 0.1, 'loss': 'cross_entropy', 'activation': 'selu'}. Best is trial 47 with value: 0.9882352948188782.\n"
          ]
        },
        {
          "output_type": "stream",
          "name": "stdout",
          "text": [
            "Train Accuracy: 0.9647058844566345, Test Accuracy: 0.6666666865348816\n"
          ]
        },
        {
          "output_type": "stream",
          "name": "stderr",
          "text": [
            "[I 2024-06-02 06:08:56,064] Trial 448 finished with value: 0.9882352948188782 and parameters: {'output_features': 18, 'optimizer': 'Adam', 'percentile': 0.231, 'learning_rate': 0.1, 'loss': 'cross_entropy', 'activation': 'elu'}. Best is trial 47 with value: 0.9882352948188782.\n"
          ]
        },
        {
          "output_type": "stream",
          "name": "stdout",
          "text": [
            "Train Accuracy: 0.9882352948188782, Test Accuracy: 0.4761904776096344\n"
          ]
        },
        {
          "output_type": "stream",
          "name": "stderr",
          "text": [
            "[I 2024-06-02 06:08:56,903] Trial 449 finished with value: 0.9882352948188782 and parameters: {'output_features': 16, 'optimizer': 'Adam', 'percentile': 0.231, 'learning_rate': 0.1, 'loss': 'cross_entropy', 'activation': 'elu'}. Best is trial 47 with value: 0.9882352948188782.\n"
          ]
        },
        {
          "output_type": "stream",
          "name": "stdout",
          "text": [
            "Train Accuracy: 0.9882352948188782, Test Accuracy: 0.4285714328289032\n"
          ]
        },
        {
          "output_type": "stream",
          "name": "stderr",
          "text": [
            "[I 2024-06-02 06:08:57,755] Trial 450 finished with value: 0.9882352948188782 and parameters: {'output_features': 16, 'optimizer': 'Adam', 'percentile': 0.231, 'learning_rate': 0.1, 'loss': 'cross_entropy', 'activation': 'elu'}. Best is trial 47 with value: 0.9882352948188782.\n"
          ]
        },
        {
          "output_type": "stream",
          "name": "stdout",
          "text": [
            "Train Accuracy: 0.9882352948188782, Test Accuracy: 0.4761904776096344\n"
          ]
        },
        {
          "output_type": "stream",
          "name": "stderr",
          "text": [
            "[I 2024-06-02 06:08:58,636] Trial 451 finished with value: 0.9647058844566345 and parameters: {'output_features': 18, 'optimizer': 'Adam', 'percentile': 0.231, 'learning_rate': 0.1, 'loss': 'cross_entropy', 'activation': 'selu'}. Best is trial 47 with value: 0.9882352948188782.\n"
          ]
        },
        {
          "output_type": "stream",
          "name": "stdout",
          "text": [
            "Train Accuracy: 0.9647058844566345, Test Accuracy: 0.6190476417541504\n"
          ]
        },
        {
          "output_type": "stream",
          "name": "stderr",
          "text": [
            "[I 2024-06-02 06:08:59,508] Trial 452 finished with value: 0.9882352948188782 and parameters: {'output_features': 16, 'optimizer': 'Adam', 'percentile': 0.231, 'learning_rate': 0.1, 'loss': 'cross_entropy', 'activation': 'elu'}. Best is trial 47 with value: 0.9882352948188782.\n"
          ]
        },
        {
          "output_type": "stream",
          "name": "stdout",
          "text": [
            "Train Accuracy: 0.9882352948188782, Test Accuracy: 0.4285714328289032\n"
          ]
        },
        {
          "output_type": "stream",
          "name": "stderr",
          "text": [
            "[I 2024-06-02 06:09:00,398] Trial 453 finished with value: 0.9882352948188782 and parameters: {'output_features': 22, 'optimizer': 'Adam', 'percentile': 0.231, 'learning_rate': 0.1, 'loss': 'cross_entropy', 'activation': 'elu'}. Best is trial 47 with value: 0.9882352948188782.\n"
          ]
        },
        {
          "output_type": "stream",
          "name": "stdout",
          "text": [
            "Train Accuracy: 0.9882352948188782, Test Accuracy: 0.6190476417541504\n"
          ]
        },
        {
          "output_type": "stream",
          "name": "stderr",
          "text": [
            "[I 2024-06-02 06:09:01,368] Trial 454 finished with value: 0.7764706015586853 and parameters: {'output_features': 16, 'optimizer': 'SGD', 'percentile': 0.231, 'learning_rate': 0.01, 'loss': 'cross_entropy', 'activation': 'elu'}. Best is trial 47 with value: 0.9882352948188782.\n"
          ]
        },
        {
          "output_type": "stream",
          "name": "stdout",
          "text": [
            "Train Accuracy: 0.7764706015586853, Test Accuracy: 0.4285714328289032\n"
          ]
        },
        {
          "output_type": "stream",
          "name": "stderr",
          "text": [
            "[I 2024-06-02 06:09:02,554] Trial 455 finished with value: 0.9764705896377563 and parameters: {'output_features': 16, 'optimizer': 'Adam', 'percentile': 0.231, 'learning_rate': 0.1, 'loss': 'cross_entropy', 'activation': 'selu'}. Best is trial 47 with value: 0.9882352948188782.\n"
          ]
        },
        {
          "output_type": "stream",
          "name": "stdout",
          "text": [
            "Train Accuracy: 0.9764705896377563, Test Accuracy: 0.523809552192688\n"
          ]
        },
        {
          "output_type": "stream",
          "name": "stderr",
          "text": [
            "[I 2024-06-02 06:09:03,845] Trial 456 finished with value: 0.9647058844566345 and parameters: {'output_features': 18, 'optimizer': 'Adam', 'percentile': 0.231, 'learning_rate': 0.1, 'loss': 'cross_entropy', 'activation': 'leaky_relu'}. Best is trial 47 with value: 0.9882352948188782.\n"
          ]
        },
        {
          "output_type": "stream",
          "name": "stdout",
          "text": [
            "Train Accuracy: 0.9647058844566345, Test Accuracy: 0.8571428656578064\n"
          ]
        },
        {
          "output_type": "stream",
          "name": "stderr",
          "text": [
            "[I 2024-06-02 06:09:04,929] Trial 457 finished with value: 0.9882352948188782 and parameters: {'output_features': 12, 'optimizer': 'Adam', 'percentile': 0.231, 'learning_rate': 0.1, 'loss': 'cross_entropy', 'activation': 'elu'}. Best is trial 47 with value: 0.9882352948188782.\n"
          ]
        },
        {
          "output_type": "stream",
          "name": "stdout",
          "text": [
            "Train Accuracy: 0.9882352948188782, Test Accuracy: 0.4761904776096344\n"
          ]
        },
        {
          "output_type": "stream",
          "name": "stderr",
          "text": [
            "[I 2024-06-02 06:09:05,819] Trial 458 finished with value: 0.7647058963775635 and parameters: {'output_features': 16, 'optimizer': 'Adam', 'percentile': 0.231, 'learning_rate': 10, 'loss': 'cross_entropy', 'activation': 'elu'}. Best is trial 47 with value: 0.9882352948188782.\n"
          ]
        },
        {
          "output_type": "stream",
          "name": "stdout",
          "text": [
            "Train Accuracy: 0.7647058963775635, Test Accuracy: 0.8095238208770752\n"
          ]
        },
        {
          "output_type": "stream",
          "name": "stderr",
          "text": [
            "[I 2024-06-02 06:09:06,688] Trial 459 finished with value: 0.9764705896377563 and parameters: {'output_features': 16, 'optimizer': 'Adam', 'percentile': 0.231, 'learning_rate': 0.1, 'loss': 'cross_entropy', 'activation': 'elu'}. Best is trial 47 with value: 0.9882352948188782.\n"
          ]
        },
        {
          "output_type": "stream",
          "name": "stdout",
          "text": [
            "Train Accuracy: 0.9764705896377563, Test Accuracy: 0.523809552192688\n"
          ]
        },
        {
          "output_type": "stream",
          "name": "stderr",
          "text": [
            "[I 2024-06-02 06:09:07,540] Trial 460 finished with value: 0.9647058844566345 and parameters: {'output_features': 16, 'optimizer': 'Adam', 'percentile': 0.231, 'learning_rate': 0.1, 'loss': 'cross_entropy', 'activation': 'selu'}. Best is trial 47 with value: 0.9882352948188782.\n"
          ]
        },
        {
          "output_type": "stream",
          "name": "stdout",
          "text": [
            "Train Accuracy: 0.9647058844566345, Test Accuracy: 0.4761904776096344\n"
          ]
        },
        {
          "output_type": "stream",
          "name": "stderr",
          "text": [
            "[I 2024-06-02 06:09:08,424] Trial 461 finished with value: 0.9764705896377563 and parameters: {'output_features': 18, 'optimizer': 'Adam', 'percentile': 0.231, 'learning_rate': 0.1, 'loss': 'cross_entropy', 'activation': 'elu'}. Best is trial 47 with value: 0.9882352948188782.\n"
          ]
        },
        {
          "output_type": "stream",
          "name": "stdout",
          "text": [
            "Train Accuracy: 0.9764705896377563, Test Accuracy: 0.523809552192688\n"
          ]
        },
        {
          "output_type": "stream",
          "name": "stderr",
          "text": [
            "[I 2024-06-02 06:09:09,273] Trial 462 finished with value: 0.9882352948188782 and parameters: {'output_features': 10, 'optimizer': 'Adam', 'percentile': 0.231, 'learning_rate': 0.1, 'loss': 'cross_entropy', 'activation': 'elu'}. Best is trial 47 with value: 0.9882352948188782.\n"
          ]
        },
        {
          "output_type": "stream",
          "name": "stdout",
          "text": [
            "Train Accuracy: 0.9882352948188782, Test Accuracy: 0.523809552192688\n"
          ]
        },
        {
          "output_type": "stream",
          "name": "stderr",
          "text": [
            "[I 2024-06-02 06:09:10,124] Trial 463 finished with value: 0.8470588326454163 and parameters: {'output_features': 22, 'optimizer': 'RMSprop', 'percentile': 0.231, 'learning_rate': 0.1, 'loss': 'cross_entropy', 'activation': 'tanh'}. Best is trial 47 with value: 0.9882352948188782.\n"
          ]
        },
        {
          "output_type": "stream",
          "name": "stdout",
          "text": [
            "Train Accuracy: 0.8470588326454163, Test Accuracy: 0.6190476417541504\n"
          ]
        },
        {
          "output_type": "stream",
          "name": "stderr",
          "text": [
            "[I 2024-06-02 06:09:11,025] Trial 464 finished with value: 0.7764706015586853 and parameters: {'output_features': 16, 'optimizer': 'Adam', 'percentile': 0.231, 'learning_rate': 200, 'loss': 'cross_entropy', 'activation': 'elu'}. Best is trial 47 with value: 0.9882352948188782.\n"
          ]
        },
        {
          "output_type": "stream",
          "name": "stdout",
          "text": [
            "Train Accuracy: 0.7764706015586853, Test Accuracy: 0.7142857313156128\n"
          ]
        },
        {
          "output_type": "stream",
          "name": "stderr",
          "text": [
            "[I 2024-06-02 06:09:11,958] Trial 465 finished with value: 0.9764705896377563 and parameters: {'output_features': 16, 'optimizer': 'Adam', 'percentile': 0.231, 'learning_rate': 0.1, 'loss': 'cross_entropy', 'activation': 'elu'}. Best is trial 47 with value: 0.9882352948188782.\n"
          ]
        },
        {
          "output_type": "stream",
          "name": "stdout",
          "text": [
            "Train Accuracy: 0.9764705896377563, Test Accuracy: 0.6666666865348816\n"
          ]
        },
        {
          "output_type": "stream",
          "name": "stderr",
          "text": [
            "[I 2024-06-02 06:09:12,868] Trial 466 finished with value: 0.9647058844566345 and parameters: {'output_features': 16, 'optimizer': 'Adam', 'percentile': 0.231, 'learning_rate': 0.1, 'loss': 'cross_entropy', 'activation': 'selu'}. Best is trial 47 with value: 0.9882352948188782.\n"
          ]
        },
        {
          "output_type": "stream",
          "name": "stdout",
          "text": [
            "Train Accuracy: 0.9647058844566345, Test Accuracy: 0.6190476417541504\n"
          ]
        },
        {
          "output_type": "stream",
          "name": "stderr",
          "text": [
            "[I 2024-06-02 06:09:13,786] Trial 467 finished with value: 0.9882352948188782 and parameters: {'output_features': 18, 'optimizer': 'Adam', 'percentile': 0.231, 'learning_rate': 0.1, 'loss': 'cross_entropy', 'activation': 'elu'}. Best is trial 47 with value: 0.9882352948188782.\n"
          ]
        },
        {
          "output_type": "stream",
          "name": "stdout",
          "text": [
            "Train Accuracy: 0.9882352948188782, Test Accuracy: 0.523809552192688\n"
          ]
        },
        {
          "output_type": "stream",
          "name": "stderr",
          "text": [
            "[I 2024-06-02 06:09:14,754] Trial 468 finished with value: 0.9764705896377563 and parameters: {'output_features': 14, 'optimizer': 'Adam', 'percentile': 0.231, 'learning_rate': 0.1, 'loss': 'cross_entropy', 'activation': 'elu'}. Best is trial 47 with value: 0.9882352948188782.\n"
          ]
        },
        {
          "output_type": "stream",
          "name": "stdout",
          "text": [
            "Train Accuracy: 0.9764705896377563, Test Accuracy: 0.523809552192688\n"
          ]
        },
        {
          "output_type": "stream",
          "name": "stderr",
          "text": [
            "[I 2024-06-02 06:09:15,895] Trial 469 finished with value: 0.8823529481887817 and parameters: {'output_features': 16, 'optimizer': 'Adam', 'percentile': 0.231, 'learning_rate': 100, 'loss': 'cross_entropy', 'activation': 'leaky_relu'}. Best is trial 47 with value: 0.9882352948188782.\n"
          ]
        },
        {
          "output_type": "stream",
          "name": "stdout",
          "text": [
            "Train Accuracy: 0.8823529481887817, Test Accuracy: 0.7142857313156128\n"
          ]
        },
        {
          "output_type": "stream",
          "name": "stderr",
          "text": [
            "[I 2024-06-02 06:09:17,158] Trial 470 finished with value: 0.9411764740943909 and parameters: {'output_features': 16, 'optimizer': 'Adam', 'percentile': 0.231, 'learning_rate': 0.1, 'loss': 'cross_entropy', 'activation': 'relu'}. Best is trial 47 with value: 0.9882352948188782.\n"
          ]
        },
        {
          "output_type": "stream",
          "name": "stdout",
          "text": [
            "Train Accuracy: 0.9411764740943909, Test Accuracy: 0.5714285969734192\n"
          ]
        },
        {
          "output_type": "stream",
          "name": "stderr",
          "text": [
            "[I 2024-06-02 06:09:18,215] Trial 471 finished with value: 0.9764705896377563 and parameters: {'output_features': 12, 'optimizer': 'Adam', 'percentile': 0.231, 'learning_rate': 0.1, 'loss': 'cross_entropy', 'activation': 'elu'}. Best is trial 47 with value: 0.9882352948188782.\n"
          ]
        },
        {
          "output_type": "stream",
          "name": "stdout",
          "text": [
            "Train Accuracy: 0.9764705896377563, Test Accuracy: 0.6666666865348816\n"
          ]
        },
        {
          "output_type": "stream",
          "name": "stderr",
          "text": [
            "[I 2024-06-02 06:09:19,099] Trial 472 finished with value: 0.9058823585510254 and parameters: {'output_features': 16, 'optimizer': 'Adam', 'percentile': 0.231, 'learning_rate': 1, 'loss': 'cross_entropy', 'activation': 'selu'}. Best is trial 47 with value: 0.9882352948188782.\n"
          ]
        },
        {
          "output_type": "stream",
          "name": "stdout",
          "text": [
            "Train Accuracy: 0.9058823585510254, Test Accuracy: 0.761904776096344\n"
          ]
        },
        {
          "output_type": "stream",
          "name": "stderr",
          "text": [
            "[I 2024-06-02 06:09:19,981] Trial 473 finished with value: 0.9764705896377563 and parameters: {'output_features': 18, 'optimizer': 'Adam', 'percentile': 0.231, 'learning_rate': 0.1, 'loss': 'cross_entropy', 'activation': 'elu'}. Best is trial 47 with value: 0.9882352948188782.\n"
          ]
        },
        {
          "output_type": "stream",
          "name": "stdout",
          "text": [
            "Train Accuracy: 0.9764705896377563, Test Accuracy: 0.5714285969734192\n"
          ]
        },
        {
          "output_type": "stream",
          "name": "stderr",
          "text": [
            "[I 2024-06-02 06:09:20,870] Trial 474 finished with value: 0.9882352948188782 and parameters: {'output_features': 22, 'optimizer': 'Adam', 'percentile': 0.231, 'learning_rate': 0.1, 'loss': 'cross_entropy', 'activation': 'elu'}. Best is trial 47 with value: 0.9882352948188782.\n"
          ]
        },
        {
          "output_type": "stream",
          "name": "stdout",
          "text": [
            "Train Accuracy: 0.9882352948188782, Test Accuracy: 0.4761904776096344\n"
          ]
        },
        {
          "output_type": "stream",
          "name": "stderr",
          "text": [
            "[I 2024-06-02 06:09:21,725] Trial 475 finished with value: 0.9764705896377563 and parameters: {'output_features': 16, 'optimizer': 'Adam', 'percentile': 0.231, 'learning_rate': 0.1, 'loss': 'cross_entropy', 'activation': 'elu'}. Best is trial 47 with value: 0.9882352948188782.\n"
          ]
        },
        {
          "output_type": "stream",
          "name": "stdout",
          "text": [
            "Train Accuracy: 0.9764705896377563, Test Accuracy: 0.7142857313156128\n"
          ]
        },
        {
          "output_type": "stream",
          "name": "stderr",
          "text": [
            "[I 2024-06-02 06:09:22,520] Trial 476 finished with value: 0.8352941274642944 and parameters: {'output_features': 16, 'optimizer': 'SGD', 'percentile': 0.231, 'learning_rate': 0.1, 'loss': 'cross_entropy', 'activation': 'selu'}. Best is trial 47 with value: 0.9882352948188782.\n"
          ]
        },
        {
          "output_type": "stream",
          "name": "stdout",
          "text": [
            "Train Accuracy: 0.8352941274642944, Test Accuracy: 0.5714285969734192\n"
          ]
        },
        {
          "output_type": "stream",
          "name": "stderr",
          "text": [
            "[I 2024-06-02 06:09:23,419] Trial 477 finished with value: 0.9764705896377563 and parameters: {'output_features': 20, 'optimizer': 'Adam', 'percentile': 0.231, 'learning_rate': 0.1, 'loss': 'cross_entropy', 'activation': 'elu'}. Best is trial 47 with value: 0.9882352948188782.\n"
          ]
        },
        {
          "output_type": "stream",
          "name": "stdout",
          "text": [
            "Train Accuracy: 0.9764705896377563, Test Accuracy: 0.4761904776096344\n"
          ]
        },
        {
          "output_type": "stream",
          "name": "stderr",
          "text": [
            "[I 2024-06-02 06:09:24,315] Trial 478 finished with value: 0.9882352948188782 and parameters: {'output_features': 10, 'optimizer': 'Adam', 'percentile': 0.231, 'learning_rate': 0.1, 'loss': 'cross_entropy', 'activation': 'elu'}. Best is trial 47 with value: 0.9882352948188782.\n"
          ]
        },
        {
          "output_type": "stream",
          "name": "stdout",
          "text": [
            "Train Accuracy: 0.9882352948188782, Test Accuracy: 0.6190476417541504\n"
          ]
        },
        {
          "output_type": "stream",
          "name": "stderr",
          "text": [
            "[I 2024-06-02 06:09:25,283] Trial 479 finished with value: 0.9647058844566345 and parameters: {'output_features': 18, 'optimizer': 'Adam', 'percentile': 0.231, 'learning_rate': 0.1, 'loss': 'cross_entropy', 'activation': 'elu'}. Best is trial 47 with value: 0.9882352948188782.\n"
          ]
        },
        {
          "output_type": "stream",
          "name": "stdout",
          "text": [
            "Train Accuracy: 0.9647058844566345, Test Accuracy: 0.761904776096344\n"
          ]
        },
        {
          "output_type": "stream",
          "name": "stderr",
          "text": [
            "[I 2024-06-02 06:09:26,234] Trial 480 finished with value: 0.9764705896377563 and parameters: {'output_features': 16, 'optimizer': 'Adam', 'percentile': 0.231, 'learning_rate': 0.1, 'loss': 'cross_entropy', 'activation': 'selu'}. Best is trial 47 with value: 0.9882352948188782.\n"
          ]
        },
        {
          "output_type": "stream",
          "name": "stdout",
          "text": [
            "Train Accuracy: 0.9764705896377563, Test Accuracy: 0.4761904776096344\n"
          ]
        },
        {
          "output_type": "stream",
          "name": "stderr",
          "text": [
            "[I 2024-06-02 06:09:27,140] Trial 481 finished with value: 0.9882352948188782 and parameters: {'output_features': 16, 'optimizer': 'Adam', 'percentile': 0.231, 'learning_rate': 0.1, 'loss': 'cross_entropy', 'activation': 'elu'}. Best is trial 47 with value: 0.9882352948188782.\n"
          ]
        },
        {
          "output_type": "stream",
          "name": "stdout",
          "text": [
            "Train Accuracy: 0.9882352948188782, Test Accuracy: 0.3333333432674408\n"
          ]
        },
        {
          "output_type": "stream",
          "name": "stderr",
          "text": [
            "[I 2024-06-02 06:09:28,104] Trial 482 finished with value: 0.9882352948188782 and parameters: {'output_features': 16, 'optimizer': 'Adam', 'percentile': 0.231, 'learning_rate': 0.1, 'loss': 'cross_entropy', 'activation': 'elu'}. Best is trial 47 with value: 0.9882352948188782.\n"
          ]
        },
        {
          "output_type": "stream",
          "name": "stdout",
          "text": [
            "Train Accuracy: 0.9882352948188782, Test Accuracy: 0.5714285969734192\n"
          ]
        },
        {
          "output_type": "stream",
          "name": "stderr",
          "text": [
            "[I 2024-06-02 06:09:29,255] Trial 483 finished with value: 0.9764705896377563 and parameters: {'output_features': 22, 'optimizer': 'Adam', 'percentile': 0.231, 'learning_rate': 0.01, 'loss': 'cross_entropy', 'activation': 'leaky_relu'}. Best is trial 47 with value: 0.9882352948188782.\n"
          ]
        },
        {
          "output_type": "stream",
          "name": "stdout",
          "text": [
            "Train Accuracy: 0.9764705896377563, Test Accuracy: 0.5714285969734192\n"
          ]
        },
        {
          "output_type": "stream",
          "name": "stderr",
          "text": [
            "[I 2024-06-02 06:09:30,547] Trial 484 finished with value: 0.7647058963775635 and parameters: {'output_features': 18, 'optimizer': 'Adam', 'percentile': 0.231, 'learning_rate': 10, 'loss': 'cross_entropy', 'activation': 'elu'}. Best is trial 47 with value: 0.9882352948188782.\n"
          ]
        },
        {
          "output_type": "stream",
          "name": "stdout",
          "text": [
            "Train Accuracy: 0.7647058963775635, Test Accuracy: 0.761904776096344\n"
          ]
        },
        {
          "output_type": "stream",
          "name": "stderr",
          "text": [
            "[I 2024-06-02 06:09:31,604] Trial 485 finished with value: 0.9882352948188782 and parameters: {'output_features': 16, 'optimizer': 'Adam', 'percentile': 0.231, 'learning_rate': 0.1, 'loss': 'cross_entropy', 'activation': 'elu'}. Best is trial 47 with value: 0.9882352948188782.\n"
          ]
        },
        {
          "output_type": "stream",
          "name": "stdout",
          "text": [
            "Train Accuracy: 0.9882352948188782, Test Accuracy: 0.7142857313156128\n"
          ]
        },
        {
          "output_type": "stream",
          "name": "stderr",
          "text": [
            "[I 2024-06-02 06:09:32,476] Trial 486 finished with value: 0.9764705896377563 and parameters: {'output_features': 16, 'optimizer': 'Adam', 'percentile': 0.231, 'learning_rate': 0.1, 'loss': 'cross_entropy', 'activation': 'selu'}. Best is trial 47 with value: 0.9882352948188782.\n"
          ]
        },
        {
          "output_type": "stream",
          "name": "stdout",
          "text": [
            "Train Accuracy: 0.9764705896377563, Test Accuracy: 0.380952388048172\n"
          ]
        },
        {
          "output_type": "stream",
          "name": "stderr",
          "text": [
            "[I 2024-06-02 06:09:33,340] Trial 487 finished with value: 0.9764705896377563 and parameters: {'output_features': 12, 'optimizer': 'Adam', 'percentile': 0.231, 'learning_rate': 0.1, 'loss': 'cross_entropy', 'activation': 'elu'}. Best is trial 47 with value: 0.9882352948188782.\n"
          ]
        },
        {
          "output_type": "stream",
          "name": "stdout",
          "text": [
            "Train Accuracy: 0.9764705896377563, Test Accuracy: 0.5714285969734192\n"
          ]
        },
        {
          "output_type": "stream",
          "name": "stderr",
          "text": [
            "[I 2024-06-02 06:09:34,176] Trial 488 finished with value: 0.8823529481887817 and parameters: {'output_features': 16, 'optimizer': 'RMSprop', 'percentile': 0.231, 'learning_rate': 0.1, 'loss': 'cross_entropy', 'activation': 'elu'}. Best is trial 47 with value: 0.9882352948188782.\n"
          ]
        },
        {
          "output_type": "stream",
          "name": "stdout",
          "text": [
            "Train Accuracy: 0.8823529481887817, Test Accuracy: 0.523809552192688\n"
          ]
        },
        {
          "output_type": "stream",
          "name": "stderr",
          "text": [
            "[I 2024-06-02 06:09:35,060] Trial 489 finished with value: 0.9058823585510254 and parameters: {'output_features': 18, 'optimizer': 'Adam', 'percentile': 0.231, 'learning_rate': 0.1, 'loss': 'cross_entropy', 'activation': 'tanh'}. Best is trial 47 with value: 0.9882352948188782.\n"
          ]
        },
        {
          "output_type": "stream",
          "name": "stdout",
          "text": [
            "Train Accuracy: 0.9058823585510254, Test Accuracy: 0.4761904776096344\n"
          ]
        },
        {
          "output_type": "stream",
          "name": "stderr",
          "text": [
            "[I 2024-06-02 06:09:35,929] Trial 490 finished with value: 0.9882352948188782 and parameters: {'output_features': 16, 'optimizer': 'Adam', 'percentile': 0.231, 'learning_rate': 0.1, 'loss': 'cross_entropy', 'activation': 'elu'}. Best is trial 47 with value: 0.9882352948188782.\n"
          ]
        },
        {
          "output_type": "stream",
          "name": "stdout",
          "text": [
            "Train Accuracy: 0.9882352948188782, Test Accuracy: 0.2380952388048172\n"
          ]
        },
        {
          "output_type": "stream",
          "name": "stderr",
          "text": [
            "[I 2024-06-02 06:09:36,831] Trial 491 finished with value: 0.7647058963775635 and parameters: {'output_features': 16, 'optimizer': 'Adam', 'percentile': 0.231, 'learning_rate': 200, 'loss': 'cross_entropy', 'activation': 'selu'}. Best is trial 47 with value: 0.9882352948188782.\n"
          ]
        },
        {
          "output_type": "stream",
          "name": "stdout",
          "text": [
            "Train Accuracy: 0.7647058963775635, Test Accuracy: 0.7142857313156128\n"
          ]
        },
        {
          "output_type": "stream",
          "name": "stderr",
          "text": [
            "[I 2024-06-02 06:09:37,726] Trial 492 finished with value: 0.9882352948188782 and parameters: {'output_features': 10, 'optimizer': 'Adam', 'percentile': 0.231, 'learning_rate': 0.1, 'loss': 'cross_entropy', 'activation': 'elu'}. Best is trial 47 with value: 0.9882352948188782.\n"
          ]
        },
        {
          "output_type": "stream",
          "name": "stdout",
          "text": [
            "Train Accuracy: 0.9882352948188782, Test Accuracy: 0.6190476417541504\n"
          ]
        },
        {
          "output_type": "stream",
          "name": "stderr",
          "text": [
            "[I 2024-06-02 06:09:38,611] Trial 493 finished with value: 0.9529411792755127 and parameters: {'output_features': 22, 'optimizer': 'Adam', 'percentile': 0.231, 'learning_rate': 0.1, 'loss': 'cross_entropy', 'activation': 'elu'}. Best is trial 47 with value: 0.9882352948188782.\n"
          ]
        },
        {
          "output_type": "stream",
          "name": "stdout",
          "text": [
            "Train Accuracy: 0.9529411792755127, Test Accuracy: 0.523809552192688\n"
          ]
        },
        {
          "output_type": "stream",
          "name": "stderr",
          "text": [
            "[I 2024-06-02 06:09:39,464] Trial 494 finished with value: 0.9764705896377563 and parameters: {'output_features': 16, 'optimizer': 'Adam', 'percentile': 0.231, 'learning_rate': 0.1, 'loss': 'cross_entropy', 'activation': 'elu'}. Best is trial 47 with value: 0.9882352948188782.\n"
          ]
        },
        {
          "output_type": "stream",
          "name": "stdout",
          "text": [
            "Train Accuracy: 0.9764705896377563, Test Accuracy: 0.4285714328289032\n"
          ]
        },
        {
          "output_type": "stream",
          "name": "stderr",
          "text": [
            "[I 2024-06-02 06:09:40,331] Trial 495 finished with value: 0.9529411792755127 and parameters: {'output_features': 18, 'optimizer': 'Adam', 'percentile': 0.231, 'learning_rate': 0.1, 'loss': 'cross_entropy', 'activation': 'relu'}. Best is trial 47 with value: 0.9882352948188782.\n"
          ]
        },
        {
          "output_type": "stream",
          "name": "stdout",
          "text": [
            "Train Accuracy: 0.9529411792755127, Test Accuracy: 0.3333333432674408\n"
          ]
        },
        {
          "output_type": "stream",
          "name": "stderr",
          "text": [
            "[I 2024-06-02 06:09:41,261] Trial 496 finished with value: 0.9647058844566345 and parameters: {'output_features': 16, 'optimizer': 'Adam', 'percentile': 0.231, 'learning_rate': 0.1, 'loss': 'cross_entropy', 'activation': 'selu'}. Best is trial 47 with value: 0.9882352948188782.\n"
          ]
        },
        {
          "output_type": "stream",
          "name": "stdout",
          "text": [
            "Train Accuracy: 0.9647058844566345, Test Accuracy: 0.523809552192688\n"
          ]
        },
        {
          "output_type": "stream",
          "name": "stderr",
          "text": [
            "[I 2024-06-02 06:09:42,415] Trial 497 finished with value: 0.7764706015586853 and parameters: {'output_features': 16, 'optimizer': 'Adam', 'percentile': 0.231, 'learning_rate': 100, 'loss': 'cross_entropy', 'activation': 'elu'}. Best is trial 47 with value: 0.9882352948188782.\n"
          ]
        },
        {
          "output_type": "stream",
          "name": "stdout",
          "text": [
            "Train Accuracy: 0.7764706015586853, Test Accuracy: 0.6666666865348816\n"
          ]
        },
        {
          "output_type": "stream",
          "name": "stderr",
          "text": [
            "[I 2024-06-02 06:09:43,635] Trial 498 finished with value: 0.8117647171020508 and parameters: {'output_features': 16, 'optimizer': 'SGD', 'percentile': 0.231, 'learning_rate': 0.1, 'loss': 'cross_entropy', 'activation': 'leaky_relu'}. Best is trial 47 with value: 0.9882352948188782.\n"
          ]
        },
        {
          "output_type": "stream",
          "name": "stdout",
          "text": [
            "Train Accuracy: 0.8117647171020508, Test Accuracy: 0.5714285969734192\n"
          ]
        },
        {
          "output_type": "stream",
          "name": "stderr",
          "text": [
            "[I 2024-06-02 06:09:44,906] Trial 499 finished with value: 0.9882352948188782 and parameters: {'output_features': 14, 'optimizer': 'Adam', 'percentile': 0.231, 'learning_rate': 0.1, 'loss': 'cross_entropy', 'activation': 'elu'}. Best is trial 47 with value: 0.9882352948188782.\n"
          ]
        },
        {
          "output_type": "stream",
          "name": "stdout",
          "text": [
            "Train Accuracy: 0.9882352948188782, Test Accuracy: 0.380952388048172\n"
          ]
        },
        {
          "output_type": "stream",
          "name": "stderr",
          "text": [
            "[I 2024-06-02 06:09:45,890] Trial 500 finished with value: 0.8352941274642944 and parameters: {'output_features': 18, 'optimizer': 'Adam', 'percentile': 0.231, 'learning_rate': 1, 'loss': 'cross_entropy', 'activation': 'elu'}. Best is trial 47 with value: 0.9882352948188782.\n"
          ]
        },
        {
          "output_type": "stream",
          "name": "stdout",
          "text": [
            "Train Accuracy: 0.8352941274642944, Test Accuracy: 0.5714285969734192\n"
          ]
        },
        {
          "output_type": "stream",
          "name": "stderr",
          "text": [
            "[I 2024-06-02 06:09:46,800] Trial 501 finished with value: 0.9882352948188782 and parameters: {'output_features': 16, 'optimizer': 'Adam', 'percentile': 0.231, 'learning_rate': 0.1, 'loss': 'cross_entropy', 'activation': 'elu'}. Best is trial 47 with value: 0.9882352948188782.\n"
          ]
        },
        {
          "output_type": "stream",
          "name": "stdout",
          "text": [
            "Train Accuracy: 0.9882352948188782, Test Accuracy: 0.5714285969734192\n"
          ]
        },
        {
          "output_type": "stream",
          "name": "stderr",
          "text": [
            "[I 2024-06-02 06:09:47,689] Trial 502 finished with value: 0.9647058844566345 and parameters: {'output_features': 12, 'optimizer': 'Adam', 'percentile': 0.231, 'learning_rate': 0.1, 'loss': 'cross_entropy', 'activation': 'selu'}. Best is trial 47 with value: 0.9882352948188782.\n"
          ]
        },
        {
          "output_type": "stream",
          "name": "stdout",
          "text": [
            "Train Accuracy: 0.9647058844566345, Test Accuracy: 0.5714285969734192\n"
          ]
        },
        {
          "output_type": "stream",
          "name": "stderr",
          "text": [
            "[I 2024-06-02 06:09:48,637] Trial 503 finished with value: 0.9764705896377563 and parameters: {'output_features': 20, 'optimizer': 'Adam', 'percentile': 0.231, 'learning_rate': 0.1, 'loss': 'cross_entropy', 'activation': 'elu'}. Best is trial 47 with value: 0.9882352948188782.\n"
          ]
        },
        {
          "output_type": "stream",
          "name": "stdout",
          "text": [
            "Train Accuracy: 0.9764705896377563, Test Accuracy: 0.4761904776096344\n"
          ]
        },
        {
          "output_type": "stream",
          "name": "stderr",
          "text": [
            "[I 2024-06-02 06:09:49,546] Trial 504 finished with value: 0.9882352948188782 and parameters: {'output_features': 16, 'optimizer': 'Adam', 'percentile': 0.231, 'learning_rate': 0.1, 'loss': 'cross_entropy', 'activation': 'elu'}. Best is trial 47 with value: 0.9882352948188782.\n"
          ]
        },
        {
          "output_type": "stream",
          "name": "stdout",
          "text": [
            "Train Accuracy: 0.9882352948188782, Test Accuracy: 0.523809552192688\n"
          ]
        },
        {
          "output_type": "stream",
          "name": "stderr",
          "text": [
            "[I 2024-06-02 06:09:50,467] Trial 505 finished with value: 0.9764705896377563 and parameters: {'output_features': 18, 'optimizer': 'Adam', 'percentile': 0.231, 'learning_rate': 0.1, 'loss': 'cross_entropy', 'activation': 'elu'}. Best is trial 47 with value: 0.9882352948188782.\n"
          ]
        },
        {
          "output_type": "stream",
          "name": "stdout",
          "text": [
            "Train Accuracy: 0.9764705896377563, Test Accuracy: 0.4761904776096344\n"
          ]
        },
        {
          "output_type": "stream",
          "name": "stderr",
          "text": [
            "[I 2024-06-02 06:09:51,340] Trial 506 finished with value: 0.9529411792755127 and parameters: {'output_features': 16, 'optimizer': 'Adam', 'percentile': 0.231, 'learning_rate': 0.1, 'loss': 'cross_entropy', 'activation': 'selu'}. Best is trial 47 with value: 0.9882352948188782.\n"
          ]
        },
        {
          "output_type": "stream",
          "name": "stdout",
          "text": [
            "Train Accuracy: 0.9529411792755127, Test Accuracy: 0.380952388048172\n"
          ]
        },
        {
          "output_type": "stream",
          "name": "stderr",
          "text": [
            "[I 2024-06-02 06:09:52,253] Trial 507 finished with value: 0.9764705896377563 and parameters: {'output_features': 22, 'optimizer': 'Adam', 'percentile': 0.231, 'learning_rate': 0.1, 'loss': 'cross_entropy', 'activation': 'elu'}. Best is trial 47 with value: 0.9882352948188782.\n"
          ]
        },
        {
          "output_type": "stream",
          "name": "stdout",
          "text": [
            "Train Accuracy: 0.9764705896377563, Test Accuracy: 0.4761904776096344\n"
          ]
        },
        {
          "output_type": "stream",
          "name": "stderr",
          "text": [
            "[I 2024-06-02 06:09:53,112] Trial 508 finished with value: 0.8941176533699036 and parameters: {'output_features': 16, 'optimizer': 'RMSprop', 'percentile': 0.231, 'learning_rate': 0.1, 'loss': 'cross_entropy', 'activation': 'elu'}. Best is trial 47 with value: 0.9882352948188782.\n"
          ]
        },
        {
          "output_type": "stream",
          "name": "stdout",
          "text": [
            "Train Accuracy: 0.8941176533699036, Test Accuracy: 0.190476194024086\n"
          ]
        },
        {
          "output_type": "stream",
          "name": "stderr",
          "text": [
            "[I 2024-06-02 06:09:54,021] Trial 509 finished with value: 0.9882352948188782 and parameters: {'output_features': 10, 'optimizer': 'Adam', 'percentile': 0.231, 'learning_rate': 0.1, 'loss': 'cross_entropy', 'activation': 'elu'}. Best is trial 47 with value: 0.9882352948188782.\n"
          ]
        },
        {
          "output_type": "stream",
          "name": "stdout",
          "text": [
            "Train Accuracy: 0.9882352948188782, Test Accuracy: 0.523809552192688\n"
          ]
        },
        {
          "output_type": "stream",
          "name": "stderr",
          "text": [
            "[I 2024-06-02 06:09:54,901] Trial 510 finished with value: 0.9764705896377563 and parameters: {'output_features': 16, 'optimizer': 'Adam', 'percentile': 0.231, 'learning_rate': 0.1, 'loss': 'cross_entropy', 'activation': 'selu'}. Best is trial 47 with value: 0.9882352948188782.\n"
          ]
        },
        {
          "output_type": "stream",
          "name": "stdout",
          "text": [
            "Train Accuracy: 0.9764705896377563, Test Accuracy: 0.6190476417541504\n"
          ]
        },
        {
          "output_type": "stream",
          "name": "stderr",
          "text": [
            "[I 2024-06-02 06:09:56,163] Trial 511 finished with value: 0.7764706015586853 and parameters: {'output_features': 18, 'optimizer': 'Adam', 'percentile': 0.231, 'learning_rate': 10, 'loss': 'cross_entropy', 'activation': 'elu'}. Best is trial 47 with value: 0.9882352948188782.\n"
          ]
        },
        {
          "output_type": "stream",
          "name": "stdout",
          "text": [
            "Train Accuracy: 0.7764706015586853, Test Accuracy: 0.761904776096344\n"
          ]
        },
        {
          "output_type": "stream",
          "name": "stderr",
          "text": [
            "[I 2024-06-02 06:09:57,426] Trial 512 finished with value: 0.9411764740943909 and parameters: {'output_features': 16, 'optimizer': 'Adam', 'percentile': 0.231, 'learning_rate': 0.01, 'loss': 'cross_entropy', 'activation': 'leaky_relu'}. Best is trial 47 with value: 0.9882352948188782.\n"
          ]
        },
        {
          "output_type": "stream",
          "name": "stdout",
          "text": [
            "Train Accuracy: 0.9411764740943909, Test Accuracy: 0.4761904776096344\n"
          ]
        },
        {
          "output_type": "stream",
          "name": "stderr",
          "text": [
            "[I 2024-06-02 06:09:58,636] Trial 513 finished with value: 0.9764705896377563 and parameters: {'output_features': 16, 'optimizer': 'Adam', 'percentile': 0.231, 'learning_rate': 0.1, 'loss': 'cross_entropy', 'activation': 'elu'}. Best is trial 47 with value: 0.9882352948188782.\n"
          ]
        },
        {
          "output_type": "stream",
          "name": "stdout",
          "text": [
            "Train Accuracy: 0.9764705896377563, Test Accuracy: 0.4761904776096344\n"
          ]
        },
        {
          "output_type": "stream",
          "name": "stderr",
          "text": [
            "[I 2024-06-02 06:09:59,642] Trial 514 finished with value: 0.9764705896377563 and parameters: {'output_features': 22, 'optimizer': 'Adam', 'percentile': 0.231, 'learning_rate': 0.1, 'loss': 'cross_entropy', 'activation': 'elu'}. Best is trial 47 with value: 0.9882352948188782.\n"
          ]
        },
        {
          "output_type": "stream",
          "name": "stdout",
          "text": [
            "Train Accuracy: 0.9764705896377563, Test Accuracy: 0.4761904776096344\n"
          ]
        },
        {
          "output_type": "stream",
          "name": "stderr",
          "text": [
            "[I 2024-06-02 06:10:00,718] Trial 515 finished with value: 0.9529411792755127 and parameters: {'output_features': 16, 'optimizer': 'Adam', 'percentile': 0.231, 'learning_rate': 0.1, 'loss': 'cross_entropy', 'activation': 'selu'}. Best is trial 47 with value: 0.9882352948188782.\n"
          ]
        },
        {
          "output_type": "stream",
          "name": "stdout",
          "text": [
            "Train Accuracy: 0.9529411792755127, Test Accuracy: 0.523809552192688\n"
          ]
        },
        {
          "output_type": "stream",
          "name": "stderr",
          "text": [
            "[I 2024-06-02 06:10:01,748] Trial 516 finished with value: 0.9882352948188782 and parameters: {'output_features': 18, 'optimizer': 'Adam', 'percentile': 0.231, 'learning_rate': 0.1, 'loss': 'cross_entropy', 'activation': 'elu'}. Best is trial 47 with value: 0.9882352948188782.\n"
          ]
        },
        {
          "output_type": "stream",
          "name": "stdout",
          "text": [
            "Train Accuracy: 0.9882352948188782, Test Accuracy: 0.4285714328289032\n"
          ]
        },
        {
          "output_type": "stream",
          "name": "stderr",
          "text": [
            "[I 2024-06-02 06:10:02,764] Trial 517 finished with value: 0.9058823585510254 and parameters: {'output_features': 16, 'optimizer': 'Adam', 'percentile': 0.231, 'learning_rate': 0.1, 'loss': 'cross_entropy', 'activation': 'tanh'}. Best is trial 47 with value: 0.9882352948188782.\n"
          ]
        },
        {
          "output_type": "stream",
          "name": "stdout",
          "text": [
            "Train Accuracy: 0.9058823585510254, Test Accuracy: 0.6666666865348816\n"
          ]
        },
        {
          "output_type": "stream",
          "name": "stderr",
          "text": [
            "[I 2024-06-02 06:10:03,653] Trial 518 finished with value: 0.9882352948188782 and parameters: {'output_features': 12, 'optimizer': 'Adam', 'percentile': 0.231, 'learning_rate': 0.1, 'loss': 'cross_entropy', 'activation': 'elu'}. Best is trial 47 with value: 0.9882352948188782.\n"
          ]
        },
        {
          "output_type": "stream",
          "name": "stdout",
          "text": [
            "Train Accuracy: 0.9882352948188782, Test Accuracy: 0.3333333432674408\n"
          ]
        },
        {
          "output_type": "stream",
          "name": "stderr",
          "text": [
            "[I 2024-06-02 06:10:04,580] Trial 519 finished with value: 0.7882353067398071 and parameters: {'output_features': 16, 'optimizer': 'Adam', 'percentile': 0.231, 'learning_rate': 200, 'loss': 'cross_entropy', 'activation': 'elu'}. Best is trial 47 with value: 0.9882352948188782.\n"
          ]
        },
        {
          "output_type": "stream",
          "name": "stdout",
          "text": [
            "Train Accuracy: 0.7882353067398071, Test Accuracy: 0.380952388048172\n"
          ]
        },
        {
          "output_type": "stream",
          "name": "stderr",
          "text": [
            "[I 2024-06-02 06:10:05,399] Trial 520 finished with value: 0.8235294222831726 and parameters: {'output_features': 16, 'optimizer': 'SGD', 'percentile': 0.231, 'learning_rate': 0.1, 'loss': 'cross_entropy', 'activation': 'elu'}. Best is trial 47 with value: 0.9882352948188782.\n"
          ]
        },
        {
          "output_type": "stream",
          "name": "stdout",
          "text": [
            "Train Accuracy: 0.8235294222831726, Test Accuracy: 0.6190476417541504\n"
          ]
        },
        {
          "output_type": "stream",
          "name": "stderr",
          "text": [
            "[I 2024-06-02 06:10:06,311] Trial 521 finished with value: 0.9882352948188782 and parameters: {'output_features': 18, 'optimizer': 'Adam', 'percentile': 0.231, 'learning_rate': 0.1, 'loss': 'cross_entropy', 'activation': 'selu'}. Best is trial 47 with value: 0.9882352948188782.\n"
          ]
        },
        {
          "output_type": "stream",
          "name": "stdout",
          "text": [
            "Train Accuracy: 0.9882352948188782, Test Accuracy: 0.6666666865348816\n"
          ]
        },
        {
          "output_type": "stream",
          "name": "stderr",
          "text": [
            "[I 2024-06-02 06:10:07,205] Trial 522 finished with value: 0.9647058844566345 and parameters: {'output_features': 16, 'optimizer': 'Adam', 'percentile': 0.231, 'learning_rate': 0.1, 'loss': 'cross_entropy', 'activation': 'relu'}. Best is trial 47 with value: 0.9882352948188782.\n"
          ]
        },
        {
          "output_type": "stream",
          "name": "stdout",
          "text": [
            "Train Accuracy: 0.9647058844566345, Test Accuracy: 0.4761904776096344\n"
          ]
        },
        {
          "output_type": "stream",
          "name": "stderr",
          "text": [
            "[I 2024-06-02 06:10:08,099] Trial 523 finished with value: 0.9882352948188782 and parameters: {'output_features': 16, 'optimizer': 'Adam', 'percentile': 0.231, 'learning_rate': 0.1, 'loss': 'cross_entropy', 'activation': 'elu'}. Best is trial 47 with value: 0.9882352948188782.\n"
          ]
        },
        {
          "output_type": "stream",
          "name": "stdout",
          "text": [
            "Train Accuracy: 0.9882352948188782, Test Accuracy: 0.5714285969734192\n"
          ]
        },
        {
          "output_type": "stream",
          "name": "stderr",
          "text": [
            "[I 2024-06-02 06:10:09,058] Trial 524 finished with value: 0.7764706015586853 and parameters: {'output_features': 22, 'optimizer': 'Adam', 'percentile': 0.231, 'learning_rate': 100, 'loss': 'cross_entropy', 'activation': 'elu'}. Best is trial 47 with value: 0.9882352948188782.\n"
          ]
        },
        {
          "output_type": "stream",
          "name": "stdout",
          "text": [
            "Train Accuracy: 0.7764706015586853, Test Accuracy: 0.761904776096344\n"
          ]
        },
        {
          "output_type": "stream",
          "name": "stderr",
          "text": [
            "[I 2024-06-02 06:10:10,280] Trial 525 finished with value: 0.9764705896377563 and parameters: {'output_features': 10, 'optimizer': 'Adam', 'percentile': 0.231, 'learning_rate': 0.1, 'loss': 'cross_entropy', 'activation': 'elu'}. Best is trial 47 with value: 0.9882352948188782.\n"
          ]
        },
        {
          "output_type": "stream",
          "name": "stdout",
          "text": [
            "Train Accuracy: 0.9764705896377563, Test Accuracy: 0.4285714328289032\n"
          ]
        },
        {
          "output_type": "stream",
          "name": "stderr",
          "text": [
            "[I 2024-06-02 06:10:11,561] Trial 526 finished with value: 0.9176470637321472 and parameters: {'output_features': 16, 'optimizer': 'Adam', 'percentile': 0.231, 'learning_rate': 0.1, 'loss': 'cross_entropy', 'activation': 'leaky_relu'}. Best is trial 47 with value: 0.9882352948188782.\n"
          ]
        },
        {
          "output_type": "stream",
          "name": "stdout",
          "text": [
            "Train Accuracy: 0.9176470637321472, Test Accuracy: 0.523809552192688\n"
          ]
        },
        {
          "output_type": "stream",
          "name": "stderr",
          "text": [
            "[I 2024-06-02 06:10:12,630] Trial 527 finished with value: 0.9882352948188782 and parameters: {'output_features': 14, 'optimizer': 'Adam', 'percentile': 0.231, 'learning_rate': 0.1, 'loss': 'cross_entropy', 'activation': 'selu'}. Best is trial 47 with value: 0.9882352948188782.\n"
          ]
        },
        {
          "output_type": "stream",
          "name": "stdout",
          "text": [
            "Train Accuracy: 0.9882352948188782, Test Accuracy: 0.380952388048172\n"
          ]
        },
        {
          "output_type": "stream",
          "name": "stderr",
          "text": [
            "[I 2024-06-02 06:10:13,558] Trial 528 finished with value: 0.9882352948188782 and parameters: {'output_features': 18, 'optimizer': 'Adam', 'percentile': 0.231, 'learning_rate': 0.1, 'loss': 'cross_entropy', 'activation': 'elu'}. Best is trial 47 with value: 0.9882352948188782.\n"
          ]
        },
        {
          "output_type": "stream",
          "name": "stdout",
          "text": [
            "Train Accuracy: 0.9882352948188782, Test Accuracy: 0.380952388048172\n"
          ]
        },
        {
          "output_type": "stream",
          "name": "stderr",
          "text": [
            "[I 2024-06-02 06:10:14,512] Trial 529 finished with value: 0.8235294222831726 and parameters: {'output_features': 16, 'optimizer': 'Adam', 'percentile': 0.231, 'learning_rate': 1, 'loss': 'cross_entropy', 'activation': 'elu'}. Best is trial 47 with value: 0.9882352948188782.\n"
          ]
        },
        {
          "output_type": "stream",
          "name": "stdout",
          "text": [
            "Train Accuracy: 0.8235294222831726, Test Accuracy: 0.6666666865348816\n"
          ]
        },
        {
          "output_type": "stream",
          "name": "stderr",
          "text": [
            "[I 2024-06-02 06:10:15,376] Trial 530 finished with value: 0.9764705896377563 and parameters: {'output_features': 16, 'optimizer': 'Adam', 'percentile': 0.231, 'learning_rate': 0.1, 'loss': 'cross_entropy', 'activation': 'elu'}. Best is trial 47 with value: 0.9882352948188782.\n"
          ]
        },
        {
          "output_type": "stream",
          "name": "stdout",
          "text": [
            "Train Accuracy: 0.9764705896377563, Test Accuracy: 0.5714285969734192\n"
          ]
        },
        {
          "output_type": "stream",
          "name": "stderr",
          "text": [
            "[I 2024-06-02 06:10:16,273] Trial 531 finished with value: 0.9411764740943909 and parameters: {'output_features': 18, 'optimizer': 'Adam', 'percentile': 0.231, 'learning_rate': 0.1, 'loss': 'cross_entropy', 'activation': 'selu'}. Best is trial 47 with value: 0.9882352948188782.\n"
          ]
        },
        {
          "output_type": "stream",
          "name": "stdout",
          "text": [
            "Train Accuracy: 0.9411764740943909, Test Accuracy: 0.5714285969734192\n"
          ]
        },
        {
          "output_type": "stream",
          "name": "stderr",
          "text": [
            "[I 2024-06-02 06:10:17,201] Trial 532 finished with value: 0.9764705896377563 and parameters: {'output_features': 20, 'optimizer': 'Adam', 'percentile': 0.231, 'learning_rate': 0.1, 'loss': 'cross_entropy', 'activation': 'elu'}. Best is trial 47 with value: 0.9882352948188782.\n"
          ]
        },
        {
          "output_type": "stream",
          "name": "stdout",
          "text": [
            "Train Accuracy: 0.9764705896377563, Test Accuracy: 0.523809552192688\n"
          ]
        },
        {
          "output_type": "stream",
          "name": "stderr",
          "text": [
            "[I 2024-06-02 06:10:18,062] Trial 533 finished with value: 0.8941176533699036 and parameters: {'output_features': 16, 'optimizer': 'RMSprop', 'percentile': 0.231, 'learning_rate': 0.1, 'loss': 'cross_entropy', 'activation': 'elu'}. Best is trial 47 with value: 0.9882352948188782.\n"
          ]
        },
        {
          "output_type": "stream",
          "name": "stdout",
          "text": [
            "Train Accuracy: 0.8941176533699036, Test Accuracy: 0.4285714328289032\n"
          ]
        },
        {
          "output_type": "stream",
          "name": "stderr",
          "text": [
            "[I 2024-06-02 06:10:18,925] Trial 534 finished with value: 0.9764705896377563 and parameters: {'output_features': 12, 'optimizer': 'Adam', 'percentile': 0.231, 'learning_rate': 0.1, 'loss': 'cross_entropy', 'activation': 'elu'}. Best is trial 47 with value: 0.9882352948188782.\n"
          ]
        },
        {
          "output_type": "stream",
          "name": "stdout",
          "text": [
            "Train Accuracy: 0.9764705896377563, Test Accuracy: 0.5714285969734192\n"
          ]
        },
        {
          "output_type": "stream",
          "name": "stderr",
          "text": [
            "[I 2024-06-02 06:10:19,768] Trial 535 finished with value: 0.9764705896377563 and parameters: {'output_features': 16, 'optimizer': 'Adam', 'percentile': 0.231, 'learning_rate': 0.1, 'loss': 'cross_entropy', 'activation': 'selu'}. Best is trial 47 with value: 0.9882352948188782.\n"
          ]
        },
        {
          "output_type": "stream",
          "name": "stdout",
          "text": [
            "Train Accuracy: 0.9764705896377563, Test Accuracy: 0.380952388048172\n"
          ]
        },
        {
          "output_type": "stream",
          "name": "stderr",
          "text": [
            "[I 2024-06-02 06:10:20,665] Trial 536 finished with value: 0.9647058844566345 and parameters: {'output_features': 22, 'optimizer': 'Adam', 'percentile': 0.231, 'learning_rate': 0.1, 'loss': 'cross_entropy', 'activation': 'elu'}. Best is trial 47 with value: 0.9882352948188782.\n"
          ]
        },
        {
          "output_type": "stream",
          "name": "stdout",
          "text": [
            "Train Accuracy: 0.9647058844566345, Test Accuracy: 0.380952388048172\n"
          ]
        },
        {
          "output_type": "stream",
          "name": "stderr",
          "text": [
            "[I 2024-06-02 06:10:21,554] Trial 537 finished with value: 0.9176470637321472 and parameters: {'output_features': 16, 'optimizer': 'Adam', 'percentile': 0.231, 'learning_rate': 0.01, 'loss': 'cross_entropy', 'activation': 'elu'}. Best is trial 47 with value: 0.9882352948188782.\n"
          ]
        },
        {
          "output_type": "stream",
          "name": "stdout",
          "text": [
            "Train Accuracy: 0.9176470637321472, Test Accuracy: 0.5714285969734192\n"
          ]
        },
        {
          "output_type": "stream",
          "name": "stderr",
          "text": [
            "[I 2024-06-02 06:10:22,602] Trial 538 finished with value: 0.9882352948188782 and parameters: {'output_features': 18, 'optimizer': 'Adam', 'percentile': 0.231, 'learning_rate': 0.1, 'loss': 'cross_entropy', 'activation': 'elu'}. Best is trial 47 with value: 0.9882352948188782.\n"
          ]
        },
        {
          "output_type": "stream",
          "name": "stdout",
          "text": [
            "Train Accuracy: 0.9882352948188782, Test Accuracy: 0.523809552192688\n"
          ]
        },
        {
          "output_type": "stream",
          "name": "stderr",
          "text": [
            "[I 2024-06-02 06:10:23,852] Trial 539 finished with value: 0.7764706015586853 and parameters: {'output_features': 16, 'optimizer': 'Adam', 'percentile': 0.231, 'learning_rate': 10, 'loss': 'cross_entropy', 'activation': 'elu'}. Best is trial 47 with value: 0.9882352948188782.\n"
          ]
        },
        {
          "output_type": "stream",
          "name": "stdout",
          "text": [
            "Train Accuracy: 0.7764706015586853, Test Accuracy: 0.8095238208770752\n"
          ]
        },
        {
          "output_type": "stream",
          "name": "stderr",
          "text": [
            "[I 2024-06-02 06:10:25,111] Trial 540 finished with value: 0.9764705896377563 and parameters: {'output_features': 16, 'optimizer': 'Adam', 'percentile': 0.231, 'learning_rate': 0.1, 'loss': 'cross_entropy', 'activation': 'selu'}. Best is trial 47 with value: 0.9882352948188782.\n"
          ]
        },
        {
          "output_type": "stream",
          "name": "stdout",
          "text": [
            "Train Accuracy: 0.9764705896377563, Test Accuracy: 0.4285714328289032\n"
          ]
        },
        {
          "output_type": "stream",
          "name": "stderr",
          "text": [
            "[I 2024-06-02 06:10:26,317] Trial 541 finished with value: 0.929411768913269 and parameters: {'output_features': 10, 'optimizer': 'Adam', 'percentile': 0.231, 'learning_rate': 0.1, 'loss': 'cross_entropy', 'activation': 'leaky_relu'}. Best is trial 47 with value: 0.9882352948188782.\n"
          ]
        },
        {
          "output_type": "stream",
          "name": "stdout",
          "text": [
            "Train Accuracy: 0.929411768913269, Test Accuracy: 0.6190476417541504\n"
          ]
        },
        {
          "output_type": "stream",
          "name": "stderr",
          "text": [
            "[I 2024-06-02 06:10:27,122] Trial 542 finished with value: 0.8352941274642944 and parameters: {'output_features': 16, 'optimizer': 'SGD', 'percentile': 0.231, 'learning_rate': 0.1, 'loss': 'cross_entropy', 'activation': 'tanh'}. Best is trial 47 with value: 0.9882352948188782.\n"
          ]
        },
        {
          "output_type": "stream",
          "name": "stdout",
          "text": [
            "Train Accuracy: 0.8352941274642944, Test Accuracy: 0.7142857313156128\n"
          ]
        },
        {
          "output_type": "stream",
          "name": "stderr",
          "text": [
            "[I 2024-06-02 06:10:28,000] Trial 543 finished with value: 0.9882352948188782 and parameters: {'output_features': 18, 'optimizer': 'Adam', 'percentile': 0.231, 'learning_rate': 0.1, 'loss': 'cross_entropy', 'activation': 'elu'}. Best is trial 47 with value: 0.9882352948188782.\n"
          ]
        },
        {
          "output_type": "stream",
          "name": "stdout",
          "text": [
            "Train Accuracy: 0.9882352948188782, Test Accuracy: 0.380952388048172\n"
          ]
        },
        {
          "output_type": "stream",
          "name": "stderr",
          "text": [
            "[I 2024-06-02 06:10:28,870] Trial 544 finished with value: 0.9882352948188782 and parameters: {'output_features': 16, 'optimizer': 'Adam', 'percentile': 0.231, 'learning_rate': 0.1, 'loss': 'cross_entropy', 'activation': 'elu'}. Best is trial 47 with value: 0.9882352948188782.\n"
          ]
        },
        {
          "output_type": "stream",
          "name": "stdout",
          "text": [
            "Train Accuracy: 0.9882352948188782, Test Accuracy: 0.2380952388048172\n"
          ]
        },
        {
          "output_type": "stream",
          "name": "stderr",
          "text": [
            "[I 2024-06-02 06:10:29,754] Trial 545 finished with value: 0.9647058844566345 and parameters: {'output_features': 16, 'optimizer': 'Adam', 'percentile': 0.231, 'learning_rate': 0.1, 'loss': 'cross_entropy', 'activation': 'elu'}. Best is trial 47 with value: 0.9882352948188782.\n"
          ]
        },
        {
          "output_type": "stream",
          "name": "stdout",
          "text": [
            "Train Accuracy: 0.9647058844566345, Test Accuracy: 0.4761904776096344\n"
          ]
        },
        {
          "output_type": "stream",
          "name": "stderr",
          "text": [
            "[I 2024-06-02 06:10:30,670] Trial 546 finished with value: 0.9764705896377563 and parameters: {'output_features': 22, 'optimizer': 'Adam', 'percentile': 0.231, 'learning_rate': 0.1, 'loss': 'cross_entropy', 'activation': 'selu'}. Best is trial 47 with value: 0.9882352948188782.\n"
          ]
        },
        {
          "output_type": "stream",
          "name": "stdout",
          "text": [
            "Train Accuracy: 0.9764705896377563, Test Accuracy: 0.380952388048172\n"
          ]
        },
        {
          "output_type": "stream",
          "name": "stderr",
          "text": [
            "[I 2024-06-02 06:10:31,546] Trial 547 finished with value: 0.7882353067398071 and parameters: {'output_features': 16, 'optimizer': 'Adam', 'percentile': 0.231, 'learning_rate': 200, 'loss': 'cross_entropy', 'activation': 'elu'}. Best is trial 47 with value: 0.9882352948188782.\n"
          ]
        },
        {
          "output_type": "stream",
          "name": "stdout",
          "text": [
            "Train Accuracy: 0.7882353067398071, Test Accuracy: 0.523809552192688\n"
          ]
        },
        {
          "output_type": "stream",
          "name": "stderr",
          "text": [
            "[I 2024-06-02 06:10:32,483] Trial 548 finished with value: 0.9529411792755127 and parameters: {'output_features': 18, 'optimizer': 'Adam', 'percentile': 0.231, 'learning_rate': 0.1, 'loss': 'cross_entropy', 'activation': 'relu'}. Best is trial 47 with value: 0.9882352948188782.\n"
          ]
        },
        {
          "output_type": "stream",
          "name": "stdout",
          "text": [
            "Train Accuracy: 0.9529411792755127, Test Accuracy: 0.4761904776096344\n"
          ]
        },
        {
          "output_type": "stream",
          "name": "stderr",
          "text": [
            "[I 2024-06-02 06:10:33,348] Trial 549 finished with value: 0.9882352948188782 and parameters: {'output_features': 12, 'optimizer': 'Adam', 'percentile': 0.231, 'learning_rate': 0.1, 'loss': 'cross_entropy', 'activation': 'elu'}. Best is trial 47 with value: 0.9882352948188782.\n"
          ]
        },
        {
          "output_type": "stream",
          "name": "stdout",
          "text": [
            "Train Accuracy: 0.9882352948188782, Test Accuracy: 0.5714285969734192\n"
          ]
        },
        {
          "output_type": "stream",
          "name": "stderr",
          "text": [
            "[I 2024-06-02 06:10:34,281] Trial 550 finished with value: 0.9764705896377563 and parameters: {'output_features': 16, 'optimizer': 'Adam', 'percentile': 0.231, 'learning_rate': 0.1, 'loss': 'cross_entropy', 'activation': 'elu'}. Best is trial 47 with value: 0.9882352948188782.\n"
          ]
        },
        {
          "output_type": "stream",
          "name": "stdout",
          "text": [
            "Train Accuracy: 0.9764705896377563, Test Accuracy: 0.6190476417541504\n"
          ]
        },
        {
          "output_type": "stream",
          "name": "stderr",
          "text": [
            "[I 2024-06-02 06:10:35,184] Trial 551 finished with value: 0.9764705896377563 and parameters: {'output_features': 16, 'optimizer': 'Adam', 'percentile': 0.231, 'learning_rate': 0.1, 'loss': 'cross_entropy', 'activation': 'selu'}. Best is trial 47 with value: 0.9882352948188782.\n"
          ]
        },
        {
          "output_type": "stream",
          "name": "stdout",
          "text": [
            "Train Accuracy: 0.9764705896377563, Test Accuracy: 0.4761904776096344\n"
          ]
        },
        {
          "output_type": "stream",
          "name": "stderr",
          "text": [
            "[I 2024-06-02 06:10:36,071] Trial 552 finished with value: 0.8588235378265381 and parameters: {'output_features': 16, 'optimizer': 'RMSprop', 'percentile': 0.231, 'learning_rate': 100, 'loss': 'cross_entropy', 'activation': 'elu'}. Best is trial 47 with value: 0.9882352948188782.\n"
          ]
        },
        {
          "output_type": "stream",
          "name": "stdout",
          "text": [
            "Train Accuracy: 0.8588235378265381, Test Accuracy: 0.4761904776096344\n"
          ]
        },
        {
          "output_type": "stream",
          "name": "stderr",
          "text": [
            "[I 2024-06-02 06:10:37,304] Trial 553 finished with value: 0.9647058844566345 and parameters: {'output_features': 18, 'optimizer': 'Adam', 'percentile': 0.231, 'learning_rate': 0.1, 'loss': 'cross_entropy', 'activation': 'elu'}. Best is trial 47 with value: 0.9882352948188782.\n"
          ]
        },
        {
          "output_type": "stream",
          "name": "stdout",
          "text": [
            "Train Accuracy: 0.9647058844566345, Test Accuracy: 0.7142857313156128\n"
          ]
        },
        {
          "output_type": "stream",
          "name": "stderr",
          "text": [
            "[I 2024-06-02 06:10:38,557] Trial 554 finished with value: 0.9411764740943909 and parameters: {'output_features': 10, 'optimizer': 'Adam', 'percentile': 0.231, 'learning_rate': 0.1, 'loss': 'cross_entropy', 'activation': 'leaky_relu'}. Best is trial 47 with value: 0.9882352948188782.\n"
          ]
        },
        {
          "output_type": "stream",
          "name": "stdout",
          "text": [
            "Train Accuracy: 0.9411764740943909, Test Accuracy: 0.6666666865348816\n"
          ]
        },
        {
          "output_type": "stream",
          "name": "stderr",
          "text": [
            "[I 2024-06-02 06:10:39,796] Trial 555 finished with value: 0.9764705896377563 and parameters: {'output_features': 16, 'optimizer': 'Adam', 'percentile': 0.231, 'learning_rate': 0.1, 'loss': 'cross_entropy', 'activation': 'elu'}. Best is trial 47 with value: 0.9882352948188782.\n"
          ]
        },
        {
          "output_type": "stream",
          "name": "stdout",
          "text": [
            "Train Accuracy: 0.9764705896377563, Test Accuracy: 0.4761904776096344\n"
          ]
        },
        {
          "output_type": "stream",
          "name": "stderr",
          "text": [
            "[I 2024-06-02 06:10:40,794] Trial 556 finished with value: 0.8235294222831726 and parameters: {'output_features': 14, 'optimizer': 'Adam', 'percentile': 0.231, 'learning_rate': 1, 'loss': 'cross_entropy', 'activation': 'selu'}. Best is trial 47 with value: 0.9882352948188782.\n"
          ]
        },
        {
          "output_type": "stream",
          "name": "stdout",
          "text": [
            "Train Accuracy: 0.8235294222831726, Test Accuracy: 0.4285714328289032\n"
          ]
        },
        {
          "output_type": "stream",
          "name": "stderr",
          "text": [
            "[I 2024-06-02 06:10:41,676] Trial 557 finished with value: 0.9764705896377563 and parameters: {'output_features': 16, 'optimizer': 'Adam', 'percentile': 0.231, 'learning_rate': 0.1, 'loss': 'cross_entropy', 'activation': 'elu'}. Best is trial 47 with value: 0.9882352948188782.\n"
          ]
        },
        {
          "output_type": "stream",
          "name": "stdout",
          "text": [
            "Train Accuracy: 0.9764705896377563, Test Accuracy: 0.5714285969734192\n"
          ]
        },
        {
          "output_type": "stream",
          "name": "stderr",
          "text": [
            "[I 2024-06-02 06:10:42,615] Trial 558 finished with value: 0.9647058844566345 and parameters: {'output_features': 22, 'optimizer': 'Adam', 'percentile': 0.231, 'learning_rate': 0.1, 'loss': 'cross_entropy', 'activation': 'elu'}. Best is trial 47 with value: 0.9882352948188782.\n"
          ]
        },
        {
          "output_type": "stream",
          "name": "stdout",
          "text": [
            "Train Accuracy: 0.9647058844566345, Test Accuracy: 0.5714285969734192\n"
          ]
        },
        {
          "output_type": "stream",
          "name": "stderr",
          "text": [
            "[I 2024-06-02 06:10:43,524] Trial 559 finished with value: 0.9764705896377563 and parameters: {'output_features': 18, 'optimizer': 'Adam', 'percentile': 0.231, 'learning_rate': 0.1, 'loss': 'cross_entropy', 'activation': 'elu'}. Best is trial 47 with value: 0.9882352948188782.\n"
          ]
        },
        {
          "output_type": "stream",
          "name": "stdout",
          "text": [
            "Train Accuracy: 0.9764705896377563, Test Accuracy: 0.2857142984867096\n"
          ]
        },
        {
          "output_type": "stream",
          "name": "stderr",
          "text": [
            "[I 2024-06-02 06:10:44,417] Trial 560 finished with value: 0.9882352948188782 and parameters: {'output_features': 16, 'optimizer': 'Adam', 'percentile': 0.231, 'learning_rate': 0.1, 'loss': 'cross_entropy', 'activation': 'elu'}. Best is trial 47 with value: 0.9882352948188782.\n"
          ]
        },
        {
          "output_type": "stream",
          "name": "stdout",
          "text": [
            "Train Accuracy: 0.9882352948188782, Test Accuracy: 0.4285714328289032\n"
          ]
        },
        {
          "output_type": "stream",
          "name": "stderr",
          "text": [
            "[I 2024-06-02 06:10:45,301] Trial 561 finished with value: 0.9764705896377563 and parameters: {'output_features': 16, 'optimizer': 'Adam', 'percentile': 0.231, 'learning_rate': 0.1, 'loss': 'cross_entropy', 'activation': 'selu'}. Best is trial 47 with value: 0.9882352948188782.\n"
          ]
        },
        {
          "output_type": "stream",
          "name": "stdout",
          "text": [
            "Train Accuracy: 0.9764705896377563, Test Accuracy: 0.4761904776096344\n"
          ]
        },
        {
          "output_type": "stream",
          "name": "stderr",
          "text": [
            "[I 2024-06-02 06:10:46,217] Trial 562 finished with value: 0.9647058844566345 and parameters: {'output_features': 16, 'optimizer': 'Adam', 'percentile': 0.231, 'learning_rate': 0.1, 'loss': 'cross_entropy', 'activation': 'elu'}. Best is trial 47 with value: 0.9882352948188782.\n"
          ]
        },
        {
          "output_type": "stream",
          "name": "stdout",
          "text": [
            "Train Accuracy: 0.9647058844566345, Test Accuracy: 0.5714285969734192\n"
          ]
        },
        {
          "output_type": "stream",
          "name": "stderr",
          "text": [
            "[I 2024-06-02 06:10:47,131] Trial 563 finished with value: 0.9882352948188782 and parameters: {'output_features': 18, 'optimizer': 'Adam', 'percentile': 0.231, 'learning_rate': 0.1, 'loss': 'cross_entropy', 'activation': 'elu'}. Best is trial 47 with value: 0.9882352948188782.\n"
          ]
        },
        {
          "output_type": "stream",
          "name": "stdout",
          "text": [
            "Train Accuracy: 0.9882352948188782, Test Accuracy: 0.3333333432674408\n"
          ]
        },
        {
          "output_type": "stream",
          "name": "stderr",
          "text": [
            "[I 2024-06-02 06:10:47,981] Trial 564 finished with value: 0.8117647171020508 and parameters: {'output_features': 20, 'optimizer': 'SGD', 'percentile': 0.231, 'learning_rate': 0.1, 'loss': 'cross_entropy', 'activation': 'elu'}. Best is trial 47 with value: 0.9882352948188782.\n"
          ]
        },
        {
          "output_type": "stream",
          "name": "stdout",
          "text": [
            "Train Accuracy: 0.8117647171020508, Test Accuracy: 0.7142857313156128\n"
          ]
        },
        {
          "output_type": "stream",
          "name": "stderr",
          "text": [
            "[I 2024-06-02 06:10:48,870] Trial 565 finished with value: 0.9411764740943909 and parameters: {'output_features': 12, 'optimizer': 'Adam', 'percentile': 0.231, 'learning_rate': 0.01, 'loss': 'cross_entropy', 'activation': 'selu'}. Best is trial 47 with value: 0.9882352948188782.\n"
          ]
        },
        {
          "output_type": "stream",
          "name": "stdout",
          "text": [
            "Train Accuracy: 0.9411764740943909, Test Accuracy: 0.523809552192688\n"
          ]
        },
        {
          "output_type": "stream",
          "name": "stderr",
          "text": [
            "[I 2024-06-02 06:10:49,773] Trial 566 finished with value: 0.9882352948188782 and parameters: {'output_features': 16, 'optimizer': 'Adam', 'percentile': 0.231, 'learning_rate': 0.1, 'loss': 'cross_entropy', 'activation': 'elu'}. Best is trial 47 with value: 0.9882352948188782.\n"
          ]
        },
        {
          "output_type": "stream",
          "name": "stdout",
          "text": [
            "Train Accuracy: 0.9882352948188782, Test Accuracy: 0.6190476417541504\n"
          ]
        },
        {
          "output_type": "stream",
          "name": "stderr",
          "text": [
            "[I 2024-06-02 06:10:50,950] Trial 567 finished with value: 0.800000011920929 and parameters: {'output_features': 16, 'optimizer': 'Adam', 'percentile': 0.231, 'learning_rate': 10, 'loss': 'cross_entropy', 'activation': 'tanh'}. Best is trial 47 with value: 0.9882352948188782.\n"
          ]
        },
        {
          "output_type": "stream",
          "name": "stdout",
          "text": [
            "Train Accuracy: 0.800000011920929, Test Accuracy: 0.523809552192688\n"
          ]
        },
        {
          "output_type": "stream",
          "name": "stderr",
          "text": [
            "[I 2024-06-02 06:10:52,247] Trial 568 finished with value: 0.9647058844566345 and parameters: {'output_features': 22, 'optimizer': 'Adam', 'percentile': 0.231, 'learning_rate': 0.1, 'loss': 'cross_entropy', 'activation': 'leaky_relu'}. Best is trial 47 with value: 0.9882352948188782.\n"
          ]
        },
        {
          "output_type": "stream",
          "name": "stdout",
          "text": [
            "Train Accuracy: 0.9647058844566345, Test Accuracy: 0.8095238208770752\n"
          ]
        },
        {
          "output_type": "stream",
          "name": "stderr",
          "text": [
            "[I 2024-06-02 06:10:53,505] Trial 569 finished with value: 0.9882352948188782 and parameters: {'output_features': 16, 'optimizer': 'Adam', 'percentile': 0.231, 'learning_rate': 0.1, 'loss': 'cross_entropy', 'activation': 'elu'}. Best is trial 47 with value: 0.9882352948188782.\n"
          ]
        },
        {
          "output_type": "stream",
          "name": "stdout",
          "text": [
            "Train Accuracy: 0.9882352948188782, Test Accuracy: 0.6666666865348816\n"
          ]
        },
        {
          "output_type": "stream",
          "name": "stderr",
          "text": [
            "[I 2024-06-02 06:10:54,604] Trial 570 finished with value: 0.9882352948188782 and parameters: {'output_features': 10, 'optimizer': 'Adam', 'percentile': 0.231, 'learning_rate': 0.1, 'loss': 'cross_entropy', 'activation': 'elu'}. Best is trial 47 with value: 0.9882352948188782.\n"
          ]
        },
        {
          "output_type": "stream",
          "name": "stdout",
          "text": [
            "Train Accuracy: 0.9882352948188782, Test Accuracy: 0.380952388048172\n"
          ]
        },
        {
          "output_type": "stream",
          "name": "stderr",
          "text": [
            "[I 2024-06-02 06:10:55,528] Trial 571 finished with value: 0.9647058844566345 and parameters: {'output_features': 18, 'optimizer': 'Adam', 'percentile': 0.231, 'learning_rate': 0.1, 'loss': 'cross_entropy', 'activation': 'selu'}. Best is trial 47 with value: 0.9882352948188782.\n"
          ]
        },
        {
          "output_type": "stream",
          "name": "stdout",
          "text": [
            "Train Accuracy: 0.9647058844566345, Test Accuracy: 0.4285714328289032\n"
          ]
        },
        {
          "output_type": "stream",
          "name": "stderr",
          "text": [
            "[I 2024-06-02 06:10:56,407] Trial 572 finished with value: 0.9764705896377563 and parameters: {'output_features': 16, 'optimizer': 'Adam', 'percentile': 0.231, 'learning_rate': 0.1, 'loss': 'cross_entropy', 'activation': 'elu'}. Best is trial 47 with value: 0.9882352948188782.\n"
          ]
        },
        {
          "output_type": "stream",
          "name": "stdout",
          "text": [
            "Train Accuracy: 0.9764705896377563, Test Accuracy: 0.5714285969734192\n"
          ]
        },
        {
          "output_type": "stream",
          "name": "stderr",
          "text": [
            "[I 2024-06-02 06:10:57,266] Trial 573 finished with value: 0.9764705896377563 and parameters: {'output_features': 16, 'optimizer': 'Adam', 'percentile': 0.231, 'learning_rate': 0.1, 'loss': 'cross_entropy', 'activation': 'elu'}. Best is trial 47 with value: 0.9882352948188782.\n"
          ]
        },
        {
          "output_type": "stream",
          "name": "stdout",
          "text": [
            "Train Accuracy: 0.9764705896377563, Test Accuracy: 0.380952388048172\n"
          ]
        },
        {
          "output_type": "stream",
          "name": "stderr",
          "text": [
            "[I 2024-06-02 06:10:58,144] Trial 574 finished with value: 0.729411780834198 and parameters: {'output_features': 16, 'optimizer': 'RMSprop', 'percentile': 0.231, 'learning_rate': 200, 'loss': 'cross_entropy', 'activation': 'relu'}. Best is trial 47 with value: 0.9882352948188782.\n"
          ]
        },
        {
          "output_type": "stream",
          "name": "stdout",
          "text": [
            "Train Accuracy: 0.729411780834198, Test Accuracy: 0.7142857313156128\n"
          ]
        },
        {
          "output_type": "stream",
          "name": "stderr",
          "text": [
            "[I 2024-06-02 06:10:59,057] Trial 575 finished with value: 0.9882352948188782 and parameters: {'output_features': 18, 'optimizer': 'Adam', 'percentile': 0.231, 'learning_rate': 0.1, 'loss': 'cross_entropy', 'activation': 'elu'}. Best is trial 47 with value: 0.9882352948188782.\n"
          ]
        },
        {
          "output_type": "stream",
          "name": "stdout",
          "text": [
            "Train Accuracy: 0.9882352948188782, Test Accuracy: 0.761904776096344\n"
          ]
        },
        {
          "output_type": "stream",
          "name": "stderr",
          "text": [
            "[I 2024-06-02 06:10:59,948] Trial 576 finished with value: 0.9647058844566345 and parameters: {'output_features': 16, 'optimizer': 'Adam', 'percentile': 0.231, 'learning_rate': 0.1, 'loss': 'cross_entropy', 'activation': 'selu'}. Best is trial 47 with value: 0.9882352948188782.\n"
          ]
        },
        {
          "output_type": "stream",
          "name": "stdout",
          "text": [
            "Train Accuracy: 0.9647058844566345, Test Accuracy: 0.5714285969734192\n"
          ]
        },
        {
          "output_type": "stream",
          "name": "stderr",
          "text": [
            "[I 2024-06-02 06:11:00,899] Trial 577 finished with value: 0.9764705896377563 and parameters: {'output_features': 22, 'optimizer': 'Adam', 'percentile': 0.231, 'learning_rate': 0.1, 'loss': 'cross_entropy', 'activation': 'elu'}. Best is trial 47 with value: 0.9882352948188782.\n"
          ]
        },
        {
          "output_type": "stream",
          "name": "stdout",
          "text": [
            "Train Accuracy: 0.9764705896377563, Test Accuracy: 0.5714285969734192\n"
          ]
        },
        {
          "output_type": "stream",
          "name": "stderr",
          "text": [
            "[I 2024-06-02 06:11:01,798] Trial 578 finished with value: 0.9882352948188782 and parameters: {'output_features': 16, 'optimizer': 'Adam', 'percentile': 0.231, 'learning_rate': 0.1, 'loss': 'cross_entropy', 'activation': 'elu'}. Best is trial 47 with value: 0.9882352948188782.\n"
          ]
        },
        {
          "output_type": "stream",
          "name": "stdout",
          "text": [
            "Train Accuracy: 0.9882352948188782, Test Accuracy: 0.6190476417541504\n"
          ]
        },
        {
          "output_type": "stream",
          "name": "stderr",
          "text": [
            "[I 2024-06-02 06:11:02,695] Trial 579 finished with value: 0.7882353067398071 and parameters: {'output_features': 16, 'optimizer': 'Adam', 'percentile': 0.231, 'learning_rate': 100, 'loss': 'cross_entropy', 'activation': 'elu'}. Best is trial 47 with value: 0.9882352948188782.\n"
          ]
        },
        {
          "output_type": "stream",
          "name": "stdout",
          "text": [
            "Train Accuracy: 0.7882353067398071, Test Accuracy: 0.761904776096344\n"
          ]
        },
        {
          "output_type": "stream",
          "name": "stderr",
          "text": [
            "[I 2024-06-02 06:11:03,590] Trial 580 finished with value: 0.9882352948188782 and parameters: {'output_features': 18, 'optimizer': 'Adam', 'percentile': 0.231, 'learning_rate': 0.1, 'loss': 'cross_entropy', 'activation': 'elu'}. Best is trial 47 with value: 0.9882352948188782.\n"
          ]
        },
        {
          "output_type": "stream",
          "name": "stdout",
          "text": [
            "Train Accuracy: 0.9882352948188782, Test Accuracy: 0.523809552192688\n"
          ]
        },
        {
          "output_type": "stream",
          "name": "stderr",
          "text": [
            "[I 2024-06-02 06:11:04,720] Trial 581 finished with value: 0.9764705896377563 and parameters: {'output_features': 16, 'optimizer': 'Adam', 'percentile': 0.231, 'learning_rate': 0.1, 'loss': 'cross_entropy', 'activation': 'selu'}. Best is trial 47 with value: 0.9882352948188782.\n"
          ]
        },
        {
          "output_type": "stream",
          "name": "stdout",
          "text": [
            "Train Accuracy: 0.9764705896377563, Test Accuracy: 0.2380952388048172\n"
          ]
        },
        {
          "output_type": "stream",
          "name": "stderr",
          "text": [
            "[I 2024-06-02 06:11:05,908] Trial 582 finished with value: 0.9882352948188782 and parameters: {'output_features': 12, 'optimizer': 'Adam', 'percentile': 0.231, 'learning_rate': 0.1, 'loss': 'cross_entropy', 'activation': 'elu'}. Best is trial 47 with value: 0.9882352948188782.\n"
          ]
        },
        {
          "output_type": "stream",
          "name": "stdout",
          "text": [
            "Train Accuracy: 0.9882352948188782, Test Accuracy: 0.523809552192688\n"
          ]
        },
        {
          "output_type": "stream",
          "name": "stderr",
          "text": [
            "[I 2024-06-02 06:11:07,216] Trial 583 finished with value: 0.9764705896377563 and parameters: {'output_features': 16, 'optimizer': 'Adam', 'percentile': 0.231, 'learning_rate': 0.1, 'loss': 'cross_entropy', 'activation': 'leaky_relu'}. Best is trial 47 with value: 0.9882352948188782.\n"
          ]
        },
        {
          "output_type": "stream",
          "name": "stdout",
          "text": [
            "Train Accuracy: 0.9764705896377563, Test Accuracy: 0.4761904776096344\n"
          ]
        },
        {
          "output_type": "stream",
          "name": "stderr",
          "text": [
            "[I 2024-06-02 06:11:08,336] Trial 584 finished with value: 0.9764705896377563 and parameters: {'output_features': 14, 'optimizer': 'Adam', 'percentile': 0.231, 'learning_rate': 0.1, 'loss': 'cross_entropy', 'activation': 'elu'}. Best is trial 47 with value: 0.9882352948188782.\n"
          ]
        },
        {
          "output_type": "stream",
          "name": "stdout",
          "text": [
            "Train Accuracy: 0.9764705896377563, Test Accuracy: 0.5714285969734192\n"
          ]
        },
        {
          "output_type": "stream",
          "name": "stderr",
          "text": [
            "[I 2024-06-02 06:11:09,219] Trial 585 finished with value: 0.8235294222831726 and parameters: {'output_features': 10, 'optimizer': 'Adam', 'percentile': 0.231, 'learning_rate': 1, 'loss': 'cross_entropy', 'activation': 'elu'}. Best is trial 47 with value: 0.9882352948188782.\n"
          ]
        },
        {
          "output_type": "stream",
          "name": "stdout",
          "text": [
            "Train Accuracy: 0.8235294222831726, Test Accuracy: 0.7142857313156128\n"
          ]
        },
        {
          "output_type": "stream",
          "name": "stderr",
          "text": [
            "[I 2024-06-02 06:11:10,093] Trial 586 finished with value: 0.8352941274642944 and parameters: {'output_features': 18, 'optimizer': 'SGD', 'percentile': 0.231, 'learning_rate': 0.1, 'loss': 'cross_entropy', 'activation': 'selu'}. Best is trial 47 with value: 0.9882352948188782.\n"
          ]
        },
        {
          "output_type": "stream",
          "name": "stdout",
          "text": [
            "Train Accuracy: 0.8352941274642944, Test Accuracy: 0.7142857313156128\n"
          ]
        },
        {
          "output_type": "stream",
          "name": "stderr",
          "text": [
            "[I 2024-06-02 06:11:11,002] Trial 587 finished with value: 0.9647058844566345 and parameters: {'output_features': 16, 'optimizer': 'Adam', 'percentile': 0.231, 'learning_rate': 0.1, 'loss': 'cross_entropy', 'activation': 'elu'}. Best is trial 47 with value: 0.9882352948188782.\n"
          ]
        },
        {
          "output_type": "stream",
          "name": "stdout",
          "text": [
            "Train Accuracy: 0.9647058844566345, Test Accuracy: 0.5714285969734192\n"
          ]
        },
        {
          "output_type": "stream",
          "name": "stderr",
          "text": [
            "[I 2024-06-02 06:11:11,898] Trial 588 finished with value: 0.9882352948188782 and parameters: {'output_features': 16, 'optimizer': 'Adam', 'percentile': 0.231, 'learning_rate': 0.1, 'loss': 'cross_entropy', 'activation': 'elu'}. Best is trial 47 with value: 0.9882352948188782.\n"
          ]
        },
        {
          "output_type": "stream",
          "name": "stdout",
          "text": [
            "Train Accuracy: 0.9882352948188782, Test Accuracy: 0.6190476417541504\n"
          ]
        },
        {
          "output_type": "stream",
          "name": "stderr",
          "text": [
            "[I 2024-06-02 06:11:12,823] Trial 589 finished with value: 0.9882352948188782 and parameters: {'output_features': 16, 'optimizer': 'Adam', 'percentile': 0.231, 'learning_rate': 0.1, 'loss': 'cross_entropy', 'activation': 'elu'}. Best is trial 47 with value: 0.9882352948188782.\n"
          ]
        },
        {
          "output_type": "stream",
          "name": "stdout",
          "text": [
            "Train Accuracy: 0.9882352948188782, Test Accuracy: 0.3333333432674408\n"
          ]
        },
        {
          "output_type": "stream",
          "name": "stderr",
          "text": [
            "[I 2024-06-02 06:11:13,794] Trial 590 finished with value: 0.9647058844566345 and parameters: {'output_features': 22, 'optimizer': 'Adam', 'percentile': 0.231, 'learning_rate': 0.1, 'loss': 'cross_entropy', 'activation': 'selu'}. Best is trial 47 with value: 0.9882352948188782.\n"
          ]
        },
        {
          "output_type": "stream",
          "name": "stdout",
          "text": [
            "Train Accuracy: 0.9647058844566345, Test Accuracy: 0.4761904776096344\n"
          ]
        },
        {
          "output_type": "stream",
          "name": "stderr",
          "text": [
            "[I 2024-06-02 06:11:14,795] Trial 591 finished with value: 0.9882352948188782 and parameters: {'output_features': 20, 'optimizer': 'Adam', 'percentile': 0.231, 'learning_rate': 0.1, 'loss': 'cross_entropy', 'activation': 'elu'}. Best is trial 47 with value: 0.9882352948188782.\n"
          ]
        },
        {
          "output_type": "stream",
          "name": "stdout",
          "text": [
            "Train Accuracy: 0.9882352948188782, Test Accuracy: 0.380952388048172\n"
          ]
        },
        {
          "output_type": "stream",
          "name": "stderr",
          "text": [
            "[I 2024-06-02 06:11:15,763] Trial 592 finished with value: 0.9882352948188782 and parameters: {'output_features': 18, 'optimizer': 'Adam', 'percentile': 0.231, 'learning_rate': 0.1, 'loss': 'cross_entropy', 'activation': 'elu'}. Best is trial 47 with value: 0.9882352948188782.\n"
          ]
        },
        {
          "output_type": "stream",
          "name": "stdout",
          "text": [
            "Train Accuracy: 0.9882352948188782, Test Accuracy: 0.5714285969734192\n"
          ]
        },
        {
          "output_type": "stream",
          "name": "stderr",
          "text": [
            "[I 2024-06-02 06:11:16,689] Trial 593 finished with value: 0.9176470637321472 and parameters: {'output_features': 16, 'optimizer': 'Adam', 'percentile': 0.231, 'learning_rate': 0.01, 'loss': 'cross_entropy', 'activation': 'tanh'}. Best is trial 47 with value: 0.9882352948188782.\n"
          ]
        },
        {
          "output_type": "stream",
          "name": "stdout",
          "text": [
            "Train Accuracy: 0.9176470637321472, Test Accuracy: 0.523809552192688\n"
          ]
        },
        {
          "output_type": "stream",
          "name": "stderr",
          "text": [
            "[I 2024-06-02 06:11:17,723] Trial 594 finished with value: 0.800000011920929 and parameters: {'output_features': 16, 'optimizer': 'Adam', 'percentile': 0.231, 'learning_rate': 10, 'loss': 'cross_entropy', 'activation': 'elu'}. Best is trial 47 with value: 0.9882352948188782.\n"
          ]
        },
        {
          "output_type": "stream",
          "name": "stdout",
          "text": [
            "Train Accuracy: 0.800000011920929, Test Accuracy: 0.6190476417541504\n"
          ]
        },
        {
          "output_type": "stream",
          "name": "stderr",
          "text": [
            "[I 2024-06-02 06:11:18,853] Trial 595 finished with value: 0.9764705896377563 and parameters: {'output_features': 16, 'optimizer': 'Adam', 'percentile': 0.231, 'learning_rate': 0.1, 'loss': 'cross_entropy', 'activation': 'elu'}. Best is trial 47 with value: 0.9882352948188782.\n"
          ]
        },
        {
          "output_type": "stream",
          "name": "stdout",
          "text": [
            "Train Accuracy: 0.9764705896377563, Test Accuracy: 0.523809552192688\n"
          ]
        },
        {
          "output_type": "stream",
          "name": "stderr",
          "text": [
            "[I 2024-06-02 06:11:20,057] Trial 596 finished with value: 0.8705882430076599 and parameters: {'output_features': 18, 'optimizer': 'RMSprop', 'percentile': 0.231, 'learning_rate': 0.1, 'loss': 'cross_entropy', 'activation': 'selu'}. Best is trial 47 with value: 0.9882352948188782.\n"
          ]
        },
        {
          "output_type": "stream",
          "name": "stdout",
          "text": [
            "Train Accuracy: 0.8705882430076599, Test Accuracy: 0.4761904776096344\n"
          ]
        },
        {
          "output_type": "stream",
          "name": "stderr",
          "text": [
            "[I 2024-06-02 06:11:21,297] Trial 597 finished with value: 0.9411764740943909 and parameters: {'output_features': 12, 'optimizer': 'Adam', 'percentile': 0.231, 'learning_rate': 0.1, 'loss': 'cross_entropy', 'activation': 'leaky_relu'}. Best is trial 47 with value: 0.9882352948188782.\n"
          ]
        },
        {
          "output_type": "stream",
          "name": "stdout",
          "text": [
            "Train Accuracy: 0.9411764740943909, Test Accuracy: 0.6190476417541504\n"
          ]
        },
        {
          "output_type": "stream",
          "name": "stderr",
          "text": [
            "[I 2024-06-02 06:11:22,408] Trial 598 finished with value: 0.9882352948188782 and parameters: {'output_features': 16, 'optimizer': 'Adam', 'percentile': 0.231, 'learning_rate': 0.1, 'loss': 'cross_entropy', 'activation': 'elu'}. Best is trial 47 with value: 0.9882352948188782.\n"
          ]
        },
        {
          "output_type": "stream",
          "name": "stdout",
          "text": [
            "Train Accuracy: 0.9882352948188782, Test Accuracy: 0.6190476417541504\n"
          ]
        },
        {
          "output_type": "stream",
          "name": "stderr",
          "text": [
            "[I 2024-06-02 06:11:23,314] Trial 599 finished with value: 0.9764705896377563 and parameters: {'output_features': 22, 'optimizer': 'Adam', 'percentile': 0.231, 'learning_rate': 0.1, 'loss': 'cross_entropy', 'activation': 'elu'}. Best is trial 47 with value: 0.9882352948188782.\n"
          ]
        },
        {
          "output_type": "stream",
          "name": "stdout",
          "text": [
            "Train Accuracy: 0.9764705896377563, Test Accuracy: 0.4761904776096344\n"
          ]
        },
        {
          "output_type": "stream",
          "name": "stderr",
          "text": [
            "[I 2024-06-02 06:11:24,216] Trial 600 finished with value: 0.9411764740943909 and parameters: {'output_features': 16, 'optimizer': 'Adam', 'percentile': 0.231, 'learning_rate': 0.1, 'loss': 'cross_entropy', 'activation': 'relu'}. Best is trial 47 with value: 0.9882352948188782.\n"
          ]
        },
        {
          "output_type": "stream",
          "name": "stdout",
          "text": [
            "Train Accuracy: 0.9411764740943909, Test Accuracy: 0.523809552192688\n"
          ]
        },
        {
          "output_type": "stream",
          "name": "stderr",
          "text": [
            "[I 2024-06-02 06:11:25,100] Trial 601 finished with value: 0.9882352948188782 and parameters: {'output_features': 10, 'optimizer': 'Adam', 'percentile': 0.231, 'learning_rate': 0.1, 'loss': 'cross_entropy', 'activation': 'elu'}. Best is trial 47 with value: 0.9882352948188782.\n"
          ]
        },
        {
          "output_type": "stream",
          "name": "stdout",
          "text": [
            "Train Accuracy: 0.9882352948188782, Test Accuracy: 0.5714285969734192\n"
          ]
        },
        {
          "output_type": "stream",
          "name": "stderr",
          "text": [
            "[I 2024-06-02 06:11:25,987] Trial 602 finished with value: 0.9647058844566345 and parameters: {'output_features': 16, 'optimizer': 'Adam', 'percentile': 0.231, 'learning_rate': 0.1, 'loss': 'cross_entropy', 'activation': 'selu'}. Best is trial 47 with value: 0.9882352948188782.\n"
          ]
        },
        {
          "output_type": "stream",
          "name": "stdout",
          "text": [
            "Train Accuracy: 0.9647058844566345, Test Accuracy: 0.6190476417541504\n"
          ]
        },
        {
          "output_type": "stream",
          "name": "stderr",
          "text": [
            "[I 2024-06-02 06:11:26,906] Trial 603 finished with value: 0.8352941274642944 and parameters: {'output_features': 18, 'optimizer': 'Adam', 'percentile': 0.231, 'learning_rate': 200, 'loss': 'cross_entropy', 'activation': 'elu'}. Best is trial 47 with value: 0.9882352948188782.\n"
          ]
        },
        {
          "output_type": "stream",
          "name": "stdout",
          "text": [
            "Train Accuracy: 0.8352941274642944, Test Accuracy: 0.7142857313156128\n"
          ]
        },
        {
          "output_type": "stream",
          "name": "stderr",
          "text": [
            "[I 2024-06-02 06:11:27,793] Trial 604 finished with value: 0.9882352948188782 and parameters: {'output_features': 16, 'optimizer': 'Adam', 'percentile': 0.231, 'learning_rate': 0.1, 'loss': 'cross_entropy', 'activation': 'elu'}. Best is trial 47 with value: 0.9882352948188782.\n"
          ]
        },
        {
          "output_type": "stream",
          "name": "stdout",
          "text": [
            "Train Accuracy: 0.9882352948188782, Test Accuracy: 0.6190476417541504\n"
          ]
        },
        {
          "output_type": "stream",
          "name": "stderr",
          "text": [
            "[I 2024-06-02 06:11:28,685] Trial 605 finished with value: 0.9882352948188782 and parameters: {'output_features': 16, 'optimizer': 'Adam', 'percentile': 0.231, 'learning_rate': 0.1, 'loss': 'cross_entropy', 'activation': 'elu'}. Best is trial 47 with value: 0.9882352948188782.\n"
          ]
        },
        {
          "output_type": "stream",
          "name": "stdout",
          "text": [
            "Train Accuracy: 0.9882352948188782, Test Accuracy: 0.5714285969734192\n"
          ]
        },
        {
          "output_type": "stream",
          "name": "stderr",
          "text": [
            "[I 2024-06-02 06:11:29,585] Trial 606 finished with value: 0.9647058844566345 and parameters: {'output_features': 18, 'optimizer': 'Adam', 'percentile': 0.231, 'learning_rate': 0.1, 'loss': 'cross_entropy', 'activation': 'selu'}. Best is trial 47 with value: 0.9882352948188782.\n"
          ]
        },
        {
          "output_type": "stream",
          "name": "stdout",
          "text": [
            "Train Accuracy: 0.9647058844566345, Test Accuracy: 0.5714285969734192\n"
          ]
        },
        {
          "output_type": "stream",
          "name": "stderr",
          "text": [
            "[I 2024-06-02 06:11:30,494] Trial 607 finished with value: 0.9882352948188782 and parameters: {'output_features': 16, 'optimizer': 'Adam', 'percentile': 0.231, 'learning_rate': 0.1, 'loss': 'cross_entropy', 'activation': 'elu'}. Best is trial 47 with value: 0.9882352948188782.\n"
          ]
        },
        {
          "output_type": "stream",
          "name": "stdout",
          "text": [
            "Train Accuracy: 0.9882352948188782, Test Accuracy: 0.4285714328289032\n"
          ]
        },
        {
          "output_type": "stream",
          "name": "stderr",
          "text": [
            "[I 2024-06-02 06:11:31,319] Trial 608 finished with value: 0.7176470756530762 and parameters: {'output_features': 16, 'optimizer': 'SGD', 'percentile': 0.231, 'learning_rate': 100, 'loss': 'cross_entropy', 'activation': 'elu'}. Best is trial 47 with value: 0.9882352948188782.\n"
          ]
        },
        {
          "output_type": "stream",
          "name": "stdout",
          "text": [
            "Train Accuracy: 0.7176470756530762, Test Accuracy: 0.761904776096344\n"
          ]
        },
        {
          "output_type": "stream",
          "name": "stderr",
          "text": [
            "[I 2024-06-02 06:11:32,385] Trial 609 finished with value: 0.9882352948188782 and parameters: {'output_features': 22, 'optimizer': 'Adam', 'percentile': 0.231, 'learning_rate': 0.1, 'loss': 'cross_entropy', 'activation': 'elu'}. Best is trial 47 with value: 0.9882352948188782.\n"
          ]
        },
        {
          "output_type": "stream",
          "name": "stdout",
          "text": [
            "Train Accuracy: 0.9882352948188782, Test Accuracy: 0.6666666865348816\n"
          ]
        },
        {
          "output_type": "stream",
          "name": "stderr",
          "text": [
            "[I 2024-06-02 06:11:33,576] Trial 610 finished with value: 0.9529411792755127 and parameters: {'output_features': 16, 'optimizer': 'Adam', 'percentile': 0.231, 'learning_rate': 0.1, 'loss': 'cross_entropy', 'activation': 'leaky_relu'}. Best is trial 47 with value: 0.9882352948188782.\n"
          ]
        },
        {
          "output_type": "stream",
          "name": "stdout",
          "text": [
            "Train Accuracy: 0.9529411792755127, Test Accuracy: 0.6190476417541504\n"
          ]
        },
        {
          "output_type": "stream",
          "name": "stderr",
          "text": [
            "[I 2024-06-02 06:11:34,919] Trial 611 finished with value: 0.8235294222831726 and parameters: {'output_features': 12, 'optimizer': 'Adam', 'percentile': 0.231, 'learning_rate': 1, 'loss': 'cross_entropy', 'activation': 'selu'}. Best is trial 47 with value: 0.9882352948188782.\n"
          ]
        },
        {
          "output_type": "stream",
          "name": "stdout",
          "text": [
            "Train Accuracy: 0.8235294222831726, Test Accuracy: 0.761904776096344\n"
          ]
        },
        {
          "output_type": "stream",
          "name": "stderr",
          "text": [
            "[I 2024-06-02 06:11:36,136] Trial 612 finished with value: 0.9882352948188782 and parameters: {'output_features': 18, 'optimizer': 'Adam', 'percentile': 0.231, 'learning_rate': 0.1, 'loss': 'cross_entropy', 'activation': 'elu'}. Best is trial 47 with value: 0.9882352948188782.\n"
          ]
        },
        {
          "output_type": "stream",
          "name": "stdout",
          "text": [
            "Train Accuracy: 0.9882352948188782, Test Accuracy: 0.5714285969734192\n"
          ]
        },
        {
          "output_type": "stream",
          "name": "stderr",
          "text": [
            "[I 2024-06-02 06:11:37,060] Trial 613 finished with value: 0.9764705896377563 and parameters: {'output_features': 16, 'optimizer': 'Adam', 'percentile': 0.231, 'learning_rate': 0.1, 'loss': 'cross_entropy', 'activation': 'elu'}. Best is trial 47 with value: 0.9882352948188782.\n"
          ]
        },
        {
          "output_type": "stream",
          "name": "stdout",
          "text": [
            "Train Accuracy: 0.9764705896377563, Test Accuracy: 0.6666666865348816\n"
          ]
        },
        {
          "output_type": "stream",
          "name": "stderr",
          "text": [
            "[I 2024-06-02 06:11:37,968] Trial 614 finished with value: 0.9647058844566345 and parameters: {'output_features': 16, 'optimizer': 'Adam', 'percentile': 0.231, 'learning_rate': 0.1, 'loss': 'cross_entropy', 'activation': 'elu'}. Best is trial 47 with value: 0.9882352948188782.\n"
          ]
        },
        {
          "output_type": "stream",
          "name": "stdout",
          "text": [
            "Train Accuracy: 0.9647058844566345, Test Accuracy: 0.5714285969734192\n"
          ]
        },
        {
          "output_type": "stream",
          "name": "stderr",
          "text": [
            "[I 2024-06-02 06:11:38,860] Trial 615 finished with value: 0.9411764740943909 and parameters: {'output_features': 14, 'optimizer': 'Adam', 'percentile': 0.231, 'learning_rate': 0.1, 'loss': 'cross_entropy', 'activation': 'elu'}. Best is trial 47 with value: 0.9882352948188782.\n"
          ]
        },
        {
          "output_type": "stream",
          "name": "stdout",
          "text": [
            "Train Accuracy: 0.9411764740943909, Test Accuracy: 0.761904776096344\n"
          ]
        },
        {
          "output_type": "stream",
          "name": "stderr",
          "text": [
            "[I 2024-06-02 06:11:39,739] Trial 616 finished with value: 0.9882352948188782 and parameters: {'output_features': 16, 'optimizer': 'Adam', 'percentile': 0.231, 'learning_rate': 0.1, 'loss': 'cross_entropy', 'activation': 'selu'}. Best is trial 47 with value: 0.9882352948188782.\n"
          ]
        },
        {
          "output_type": "stream",
          "name": "stdout",
          "text": [
            "Train Accuracy: 0.9882352948188782, Test Accuracy: 0.4761904776096344\n"
          ]
        },
        {
          "output_type": "stream",
          "name": "stderr",
          "text": [
            "[I 2024-06-02 06:11:40,611] Trial 617 finished with value: 0.9764705896377563 and parameters: {'output_features': 10, 'optimizer': 'Adam', 'percentile': 0.231, 'learning_rate': 0.1, 'loss': 'cross_entropy', 'activation': 'elu'}. Best is trial 47 with value: 0.9882352948188782.\n"
          ]
        },
        {
          "output_type": "stream",
          "name": "stdout",
          "text": [
            "Train Accuracy: 0.9764705896377563, Test Accuracy: 0.523809552192688\n"
          ]
        },
        {
          "output_type": "stream",
          "name": "stderr",
          "text": [
            "[I 2024-06-02 06:11:41,492] Trial 618 finished with value: 0.9882352948188782 and parameters: {'output_features': 18, 'optimizer': 'Adam', 'percentile': 0.231, 'learning_rate': 0.1, 'loss': 'cross_entropy', 'activation': 'elu'}. Best is trial 47 with value: 0.9882352948188782.\n"
          ]
        },
        {
          "output_type": "stream",
          "name": "stdout",
          "text": [
            "Train Accuracy: 0.9882352948188782, Test Accuracy: 0.3333333432674408\n"
          ]
        },
        {
          "output_type": "stream",
          "name": "stderr",
          "text": [
            "[I 2024-06-02 06:11:42,345] Trial 619 finished with value: 0.9058823585510254 and parameters: {'output_features': 16, 'optimizer': 'RMSprop', 'percentile': 0.231, 'learning_rate': 0.1, 'loss': 'cross_entropy', 'activation': 'elu'}. Best is trial 47 with value: 0.9882352948188782.\n"
          ]
        },
        {
          "output_type": "stream",
          "name": "stdout",
          "text": [
            "Train Accuracy: 0.9058823585510254, Test Accuracy: 0.761904776096344\n"
          ]
        },
        {
          "output_type": "stream",
          "name": "stderr",
          "text": [
            "[I 2024-06-02 06:11:43,265] Trial 620 finished with value: 0.9529411792755127 and parameters: {'output_features': 20, 'optimizer': 'Adam', 'percentile': 0.231, 'learning_rate': 0.1, 'loss': 'cross_entropy', 'activation': 'selu'}. Best is trial 47 with value: 0.9882352948188782.\n"
          ]
        },
        {
          "output_type": "stream",
          "name": "stdout",
          "text": [
            "Train Accuracy: 0.9529411792755127, Test Accuracy: 0.6190476417541504\n"
          ]
        },
        {
          "output_type": "stream",
          "name": "stderr",
          "text": [
            "[I 2024-06-02 06:11:44,165] Trial 621 finished with value: 0.929411768913269 and parameters: {'output_features': 22, 'optimizer': 'Adam', 'percentile': 0.231, 'learning_rate': 0.01, 'loss': 'cross_entropy', 'activation': 'tanh'}. Best is trial 47 with value: 0.9882352948188782.\n"
          ]
        },
        {
          "output_type": "stream",
          "name": "stdout",
          "text": [
            "Train Accuracy: 0.929411768913269, Test Accuracy: 0.523809552192688\n"
          ]
        },
        {
          "output_type": "stream",
          "name": "stderr",
          "text": [
            "[I 2024-06-02 06:11:45,064] Trial 622 finished with value: 0.7764706015586853 and parameters: {'output_features': 16, 'optimizer': 'Adam', 'percentile': 0.231, 'learning_rate': 10, 'loss': 'cross_entropy', 'activation': 'elu'}. Best is trial 47 with value: 0.9882352948188782.\n"
          ]
        },
        {
          "output_type": "stream",
          "name": "stdout",
          "text": [
            "Train Accuracy: 0.7764706015586853, Test Accuracy: 0.8095238208770752\n"
          ]
        },
        {
          "output_type": "stream",
          "name": "stderr",
          "text": [
            "[I 2024-06-02 06:11:45,950] Trial 623 finished with value: 0.9764705896377563 and parameters: {'output_features': 16, 'optimizer': 'Adam', 'percentile': 0.231, 'learning_rate': 0.1, 'loss': 'cross_entropy', 'activation': 'elu'}. Best is trial 47 with value: 0.9882352948188782.\n"
          ]
        },
        {
          "output_type": "stream",
          "name": "stdout",
          "text": [
            "Train Accuracy: 0.9764705896377563, Test Accuracy: 0.5714285969734192\n"
          ]
        },
        {
          "output_type": "stream",
          "name": "stderr",
          "text": [
            "[I 2024-06-02 06:11:47,151] Trial 624 finished with value: 0.9882352948188782 and parameters: {'output_features': 18, 'optimizer': 'Adam', 'percentile': 0.231, 'learning_rate': 0.1, 'loss': 'cross_entropy', 'activation': 'leaky_relu'}. Best is trial 47 with value: 0.9882352948188782.\n"
          ]
        },
        {
          "output_type": "stream",
          "name": "stdout",
          "text": [
            "Train Accuracy: 0.9882352948188782, Test Accuracy: 0.4761904776096344\n"
          ]
        },
        {
          "output_type": "stream",
          "name": "stderr",
          "text": [
            "[I 2024-06-02 06:11:48,404] Trial 625 finished with value: 0.9647058844566345 and parameters: {'output_features': 16, 'optimizer': 'Adam', 'percentile': 0.231, 'learning_rate': 0.1, 'loss': 'cross_entropy', 'activation': 'elu'}. Best is trial 47 with value: 0.9882352948188782.\n"
          ]
        },
        {
          "output_type": "stream",
          "name": "stdout",
          "text": [
            "Train Accuracy: 0.9647058844566345, Test Accuracy: 0.7142857313156128\n"
          ]
        },
        {
          "output_type": "stream",
          "name": "stderr",
          "text": [
            "[I 2024-06-02 06:11:49,639] Trial 626 finished with value: 0.9764705896377563 and parameters: {'output_features': 16, 'optimizer': 'Adam', 'percentile': 0.231, 'learning_rate': 0.1, 'loss': 'cross_entropy', 'activation': 'selu'}. Best is trial 47 with value: 0.9882352948188782.\n"
          ]
        },
        {
          "output_type": "stream",
          "name": "stdout",
          "text": [
            "Train Accuracy: 0.9764705896377563, Test Accuracy: 0.4761904776096344\n"
          ]
        },
        {
          "output_type": "stream",
          "name": "stderr",
          "text": [
            "[I 2024-06-02 06:11:50,612] Trial 627 finished with value: 0.9764705896377563 and parameters: {'output_features': 12, 'optimizer': 'Adam', 'percentile': 0.231, 'learning_rate': 0.1, 'loss': 'cross_entropy', 'activation': 'relu'}. Best is trial 47 with value: 0.9882352948188782.\n"
          ]
        },
        {
          "output_type": "stream",
          "name": "stdout",
          "text": [
            "Train Accuracy: 0.9764705896377563, Test Accuracy: 0.6666666865348816\n"
          ]
        },
        {
          "output_type": "stream",
          "name": "stderr",
          "text": [
            "[I 2024-06-02 06:11:51,483] Trial 628 finished with value: 0.9882352948188782 and parameters: {'output_features': 16, 'optimizer': 'Adam', 'percentile': 0.231, 'learning_rate': 0.1, 'loss': 'cross_entropy', 'activation': 'elu'}. Best is trial 47 with value: 0.9882352948188782.\n"
          ]
        },
        {
          "output_type": "stream",
          "name": "stdout",
          "text": [
            "Train Accuracy: 0.9882352948188782, Test Accuracy: 0.523809552192688\n"
          ]
        },
        {
          "output_type": "stream",
          "name": "stderr",
          "text": [
            "[I 2024-06-02 06:11:52,368] Trial 629 finished with value: 0.9764705896377563 and parameters: {'output_features': 18, 'optimizer': 'Adam', 'percentile': 0.231, 'learning_rate': 0.1, 'loss': 'cross_entropy', 'activation': 'elu'}. Best is trial 47 with value: 0.9882352948188782.\n"
          ]
        },
        {
          "output_type": "stream",
          "name": "stdout",
          "text": [
            "Train Accuracy: 0.9764705896377563, Test Accuracy: 0.761904776096344\n"
          ]
        }
      ]
    },
    {
      "cell_type": "code",
      "source": [],
      "metadata": {
        "id": "_M3gBwZJxu6I"
      },
      "id": "_M3gBwZJxu6I",
      "execution_count": null,
      "outputs": []
    }
  ],
  "metadata": {
    "kernelspec": {
      "display_name": "Python 3 (ipykernel)",
      "language": "python",
      "name": "python3"
    },
    "language_info": {
      "codemirror_mode": {
        "name": "ipython",
        "version": 3
      },
      "file_extension": ".py",
      "mimetype": "text/x-python",
      "name": "python",
      "nbconvert_exporter": "python",
      "pygments_lexer": "ipython3",
      "version": "3.11.5"
    },
    "colab": {
      "provenance": []
    }
  },
  "nbformat": 4,
  "nbformat_minor": 5
}