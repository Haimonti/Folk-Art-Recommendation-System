{
 "cells": [
  {
   "cell_type": "code",
   "execution_count": 43,
   "id": "e6614a8c",
   "metadata": {},
   "outputs": [],
   "source": [
    "import os\n",
    "\n",
    "os.environ[\"DGLBACKEND\"] = \"pytorch\"\n",
    "import dgl\n",
    "import dgl.data\n",
    "import torch\n",
    "import torch.nn as nn\n",
    "import torch.nn.functional as F\n",
    "import torch_geometric\n",
    "import numpy as np"
   ]
  },
  {
   "cell_type": "code",
   "execution_count": 44,
   "id": "01ba2b54",
   "metadata": {},
   "outputs": [
    {
     "name": "stdout",
     "output_type": "stream",
     "text": [
      "  NumNodes: 2708\n",
      "  NumEdges: 10556\n",
      "  NumFeats: 1433\n",
      "  NumClasses: 7\n",
      "  NumTrainingSamples: 140\n",
      "  NumValidationSamples: 500\n",
      "  NumTestSamples: 1000\n",
      "Done loading data from cached files.\n",
      "Number of categories: 7\n"
     ]
    }
   ],
   "source": [
    "dataset = dgl.data.CoraGraphDataset()\n",
    "print(f\"Number of categories: {dataset.num_classes}\")"
   ]
  },
  {
   "cell_type": "code",
   "execution_count": 45,
   "id": "e6532c5c",
   "metadata": {},
   "outputs": [
    {
     "name": "stdout",
     "output_type": "stream",
     "text": [
      "Node features\n",
      "{'feat': tensor([[0., 0., 0.,  ..., 0., 0., 0.],\n",
      "        [0., 0., 0.,  ..., 0., 0., 0.],\n",
      "        [0., 0., 0.,  ..., 0., 0., 0.],\n",
      "        ...,\n",
      "        [0., 0., 0.,  ..., 0., 0., 0.],\n",
      "        [0., 0., 0.,  ..., 0., 0., 0.],\n",
      "        [0., 0., 0.,  ..., 0., 0., 0.]]), 'label': tensor([3, 4, 4,  ..., 3, 3, 3]), 'val_mask': tensor([False, False, False,  ..., False, False, False]), 'test_mask': tensor([False, False, False,  ...,  True,  True,  True]), 'train_mask': tensor([ True,  True,  True,  ..., False, False, False])}\n",
      "Edge features\n",
      "{}\n"
     ]
    }
   ],
   "source": [
    "g = dataset[0]\n",
    "print(\"Node features\")\n",
    "print(g.ndata)\n",
    "print(\"Edge features\")\n",
    "print(g.edata)"
   ]
  },
  {
   "cell_type": "code",
   "execution_count": 46,
   "id": "393b3b17",
   "metadata": {},
   "outputs": [],
   "source": [
    "#torch.manual_seed(42)\n",
    "#np.random.seed(42)\n",
    "#model = torch_geometric.nn.GraphSAGE(g.ndata[\"feat\"].shape[1], 16,dataset.num_classes,out_channels=7,jk='max')\n",
    "edge_index_tensor = torch.stack(g.edges(), dim=0)"
   ]
  },
  {
   "cell_type": "code",
   "execution_count": 47,
   "id": "a99b76b0",
   "metadata": {},
   "outputs": [],
   "source": [
    "def train(g, model):\n",
    "    optimizer = torch.optim.Adam(model.parameters(), lr=0.01)\n",
    "    best_val_acc = 0\n",
    "    best_test_acc = 0\n",
    "\n",
    "    features = g.ndata[\"feat\"]\n",
    "    labels = g.ndata[\"label\"]\n",
    "    train_mask = g.ndata[\"train_mask\"]\n",
    "    val_mask = g.ndata[\"val_mask\"]\n",
    "    test_mask = g.ndata[\"test_mask\"]\n",
    "    for e in range(100):\n",
    "        # Forward\n",
    "        logits = model(features,edge_index_tensor)\n",
    "\n",
    "        # Compute prediction\n",
    "        #pred = logits.argmax(1)\n",
    "        probabilities=F.softmax(logits,dim=1)\n",
    "        #print(probabilities.shape)\n",
    "        pred=probabilities.argmax(1)\n",
    "        # Compute loss\n",
    "        # Note that you should only compute the losses of the nodes in the training set.\n",
    "        loss = F.cross_entropy(logits[train_mask], labels[train_mask])\n",
    "\n",
    "        # Compute accuracy on training/validation/test\n",
    "        train_acc = (pred[train_mask] == labels[train_mask]).float().mean()\n",
    "        val_acc = (pred[val_mask] == labels[val_mask]).float().mean()\n",
    "        test_acc = (pred[test_mask] == labels[test_mask]).float().mean()\n",
    "\n",
    "        # Save the best validation accuracy and the corresponding test accuracy.\n",
    "        if best_val_acc < val_acc:\n",
    "            best_val_acc = val_acc\n",
    "            best_test_acc = test_acc\n",
    "\n",
    "        # Backward\n",
    "        optimizer.zero_grad()\n",
    "        loss.backward()\n",
    "        optimizer.step()\n",
    "\n",
    "        if e % 5 == 0:\n",
    "            print(\n",
    "                f\"In epoch {e}, loss: {loss:.3f}, val acc: {val_acc:.3f} (best {best_val_acc:.3f}), test acc: {test_acc:.3f} (best {best_test_acc:.3f})\"\n",
    "            )"
   ]
  },
  {
   "cell_type": "code",
   "execution_count": 54,
   "id": "e1954667",
   "metadata": {},
   "outputs": [
    {
     "name": "stdout",
     "output_type": "stream",
     "text": [
      "In epoch 0, loss: 2.756, val acc: 0.122 (best 0.122), test acc: 0.130 (best 0.130)\n",
      "In epoch 5, loss: 2.247, val acc: 0.202 (best 0.202), test acc: 0.194 (best 0.194)\n",
      "In epoch 10, loss: 1.847, val acc: 0.200 (best 0.202), test acc: 0.198 (best 0.194)\n",
      "In epoch 15, loss: 1.653, val acc: 0.170 (best 0.274), test acc: 0.201 (best 0.260)\n",
      "In epoch 20, loss: 1.227, val acc: 0.612 (best 0.612), test acc: 0.593 (best 0.593)\n",
      "In epoch 25, loss: 0.577, val acc: 0.602 (best 0.628), test acc: 0.598 (best 0.595)\n",
      "In epoch 30, loss: 0.166, val acc: 0.624 (best 0.656), test acc: 0.584 (best 0.618)\n",
      "In epoch 35, loss: 0.027, val acc: 0.608 (best 0.656), test acc: 0.609 (best 0.618)\n",
      "In epoch 40, loss: 0.005, val acc: 0.618 (best 0.656), test acc: 0.607 (best 0.618)\n",
      "In epoch 45, loss: 0.001, val acc: 0.604 (best 0.656), test acc: 0.606 (best 0.618)\n",
      "In epoch 50, loss: 0.000, val acc: 0.608 (best 0.656), test acc: 0.599 (best 0.618)\n",
      "In epoch 55, loss: 0.000, val acc: 0.622 (best 0.656), test acc: 0.626 (best 0.618)\n",
      "In epoch 60, loss: 0.000, val acc: 0.634 (best 0.656), test acc: 0.629 (best 0.618)\n",
      "In epoch 65, loss: 0.000, val acc: 0.638 (best 0.656), test acc: 0.632 (best 0.618)\n",
      "In epoch 70, loss: 0.000, val acc: 0.646 (best 0.656), test acc: 0.636 (best 0.618)\n",
      "In epoch 75, loss: 0.000, val acc: 0.640 (best 0.656), test acc: 0.635 (best 0.618)\n",
      "In epoch 80, loss: 0.000, val acc: 0.634 (best 0.656), test acc: 0.635 (best 0.618)\n",
      "In epoch 85, loss: 0.000, val acc: 0.634 (best 0.656), test acc: 0.631 (best 0.618)\n",
      "In epoch 90, loss: 0.000, val acc: 0.628 (best 0.656), test acc: 0.629 (best 0.618)\n",
      "In epoch 95, loss: 0.000, val acc: 0.630 (best 0.656), test acc: 0.627 (best 0.618)\n"
     ]
    }
   ],
   "source": [
    "np.random.seed(42)\n",
    "\n",
    "# Set seed for PyTorch\n",
    "torch.manual_seed(42)\n",
    "if torch.cuda.is_available():\n",
    "    torch.cuda.manual_seed(42)\n",
    "\n",
    "np.random.seed(42)\n",
    "model = torch_geometric.nn.GraphSAGE(g.ndata[\"feat\"].shape[1], 16, dataset.num_classes,jk='cat')\n",
    "train(g, model)"
   ]
  },
  {
   "cell_type": "code",
   "execution_count": null,
   "id": "c8af00e3",
   "metadata": {},
   "outputs": [],
   "source": [
    "import numpy as np\n",
    "torch.manual_seed(42)\n",
    "np.random.seed(42)\n",
    "model = torch_geometric.nn.GraphSAGE(g.ndata[\"feat\"].shape[1], 16, dataset.num_classes,jk=None,out_channels=7)\n",
    "edge_index_tensor = torch.stack(g.edges(), dim=0)\n",
    "train(g, model)"
   ]
  }
 ],
 "metadata": {
  "kernelspec": {
   "display_name": "Python 3 (ipykernel)",
   "language": "python",
   "name": "python3"
  },
  "language_info": {
   "codemirror_mode": {
    "name": "ipython",
    "version": 3
   },
   "file_extension": ".py",
   "mimetype": "text/x-python",
   "name": "python",
   "nbconvert_exporter": "python",
   "pygments_lexer": "ipython3",
   "version": "3.11.5"
  }
 },
 "nbformat": 4,
 "nbformat_minor": 5
}
